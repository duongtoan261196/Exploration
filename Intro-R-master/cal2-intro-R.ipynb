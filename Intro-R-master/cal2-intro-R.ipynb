{
 "cells": [
  {
   "cell_type": "markdown",
   "metadata": {},
   "source": [
    "<center>\n",
    "<a href=\"http://www.insa-toulouse.fr/\" ><img src=\"http://www.math.univ-toulouse.fr/~besse/Wikistat/Images/logo-insa.jpg\" style=\"float:left; max-width: 120px; display: inline\" alt=\"INSA\"/></a> \n",
    "\n",
    "<a href=\"http://wikistat.fr/\" ><img src=\"http://www.math.univ-toulouse.fr/~besse/Wikistat/Images/wikistat.jpg\" style=\"max-width: 250px; display: inline\"  alt=\"Wikistat\"/></a>\n",
    "\n",
    "<a href=\"http://www.math.univ-toulouse.fr/\" ><img src=\"http://www.math.univ-toulouse.fr/~besse/Wikistat/Images/logo_imt.jpg\" style=\"float:right; max-width: 250px; display: inline\" alt=\"IMT\"/> </a>\n",
    "</center>"
   ]
  },
  {
   "cell_type": "markdown",
   "metadata": {},
   "source": [
    "# <a href=\"https://cran.r-project.org/\"><img src=\"https://cran.r-project.org/Rlogo.svg\" style=\"max-width: 40px; display: inline\" alt=\"R\"/></a> [pour Statistique et Science des Données](https://github.com/wikistat/Intro-Python)"
   ]
  },
  {
   "cell_type": "markdown",
   "metadata": {},
   "source": [
    "# Introduction à <a href=\"https://cran.r-project.org/\"><img src=\"https://cran.r-project.org/Rlogo.svg\" style=\"max-width: 40px; display: inline\" alt=\"R\"/></a>"
   ]
  },
  {
   "cell_type": "markdown",
   "metadata": {},
   "source": [
    "**Résumé** Tutoriel d'initiation qui précise l'environnement de travail (packages, répertoire courant). Il propose de manipuler les différents types d'objets  existants dans R et décrit quelques outils d'importation/exportation de données. "
   ]
  },
  {
   "cell_type": "markdown",
   "metadata": {},
   "source": [
    "## 1 Environnement\n",
    "Quelques compléments pour une utilisation facile concernant le chargement de librairies complémentaires et le répertoire de travail.\n",
    "### 1.1 Librairies\n",
    "La liste complète des *packages* ou librairies disponibles est consultable sur le site du [CRAN](http://cran.cict.fr/web/packages/index.html).  L'installation d'un package supplémentaire peut se faire via le menu de Rstudio `Packages>Installer le(s) package(s)` et en choisissant un site miroir du CRAN ou directement avec la fonction `install.packages(\"nomPackage\")`. Celui-ci est installé dans un répertoire de l'utilisateur qui n'a donc pas besoin de dorits d'administration de la machine.\n",
    "### 1.2 Répertoire courant\n",
    "Pour pouvoir récupérer des données, il est utile de connaître le répertoire de travail, c'est-à-dire le répertoire sous lequel les divers résultats seront sauvegardés par défaut. Ce dernier s'obtient à l'aide la commande:"
   ]
  },
  {
   "cell_type": "code",
   "execution_count": 1,
   "metadata": {},
   "outputs": [
    {
     "data": {
      "text/html": [
       "'/home/ltduong/Bureau/4GMM/TP_exploration/Intro-R-master'"
      ],
      "text/latex": [
       "'/home/ltduong/Bureau/4GMM/TP\\_exploration/Intro-R-master'"
      ],
      "text/markdown": [
       "'/home/ltduong/Bureau/4GMM/TP_exploration/Intro-R-master'"
      ],
      "text/plain": [
       "[1] \"/home/ltduong/Bureau/4GMM/TP_exploration/Intro-R-master\""
      ]
     },
     "metadata": {},
     "output_type": "display_data"
    }
   ],
   "source": [
    "getwd()"
   ]
  },
  {
   "cell_type": "markdown",
   "metadata": {},
   "source": [
    "Tandis que la commande \n",
    "\n",
    "`setwd(\"C:/User/Mes documents/CoursR\")`\n",
    "\n",
    "change de répertoire courant. C'est également possible à partir du menu de RStudio (`Set Sorking Directory`).\n",
    "\n",
    "## 2 Structures de données\n",
    "Sous R, les éléments de base sont des objets : vecteurs, matrices, listes..., sur lesquels sont appliquées des fonctions qui fournissent des résultats numériques et graphiques. Ces objets se différencient par leur *mode* décrivant leur contenu, et leur *classe* décrivant leur structure. Les objets atomiques sont de mode *homogène* et les objets récursifs (listes) sont de mode *hétérogène*. \n",
    "\n",
    "Les différents modes sont `null` (objet vide), `logical, numeric, complex, character`. Les classes d'objets les plus courantes sont : `vector, matrix, array, factor, data.frame, list`. \n",
    "\n",
    "On peut avoir des vecteurs, matrices, tableaux, ... de mode `null` (objet vide), `logical` (`TRUE, FALSE, NA`), `numeric, complex`, character tandis que les listes et les *data frame* peuvent être composés d'éléments hétérogènes.\n",
    "\n",
    "**Attention** Une confusion entre classes d'objets dans l'appel d'une fonction est la source d'erreur largement la plus fréquente. \n",
    "### 2.1 Opérations sur les scalaires\n",
    "Entrer les commandes en identifiant  les différents types de données"
   ]
  },
  {
   "cell_type": "code",
   "execution_count": 3,
   "metadata": {},
   "outputs": [
    {
     "data": {
      "text/html": [
       "4"
      ],
      "text/latex": [
       "4"
      ],
      "text/markdown": [
       "4"
      ],
      "text/plain": [
       "[1] 4"
      ]
     },
     "metadata": {},
     "output_type": "display_data"
    }
   ],
   "source": [
    "2+2"
   ]
  },
  {
   "cell_type": "code",
   "execution_count": 4,
   "metadata": {},
   "outputs": [
    {
     "data": {
      "text/html": [
       "22026.4657948067"
      ],
      "text/latex": [
       "22026.4657948067"
      ],
      "text/markdown": [
       "22026.4657948067"
      ],
      "text/plain": [
       "[1] 22026.47"
      ]
     },
     "metadata": {},
     "output_type": "display_data"
    }
   ],
   "source": [
    "exp(10)"
   ]
  },
  {
   "cell_type": "code",
   "execution_count": 5,
   "metadata": {},
   "outputs": [
    {
     "data": {
      "text/html": [
       "-0.145924348516507"
      ],
      "text/latex": [
       "-0.145924348516507"
      ],
      "text/markdown": [
       "-0.145924348516507"
      ],
      "text/plain": [
       "[1] -0.1459243"
      ]
     },
     "metadata": {},
     "output_type": "display_data"
    }
   ],
   "source": [
    "a = log(2)\n",
    "b <- cos(10) #  \"<-\" est équivalent à \"=\"\n",
    "a+b"
   ]
  },
  {
   "cell_type": "code",
   "execution_count": 6,
   "metadata": {},
   "outputs": [
    {
     "data": {
      "text/html": [
       "0.693147180559945"
      ],
      "text/latex": [
       "0.693147180559945"
      ],
      "text/markdown": [
       "0.693147180559945"
      ],
      "text/plain": [
       "[1] 0.6931472"
      ]
     },
     "metadata": {},
     "output_type": "display_data"
    }
   ],
   "source": [
    "a"
   ]
  },
  {
   "cell_type": "code",
   "execution_count": 7,
   "metadata": {},
   "outputs": [
    {
     "data": {
      "text/html": [
       "-0.839071529076452"
      ],
      "text/latex": [
       "-0.839071529076452"
      ],
      "text/markdown": [
       "-0.839071529076452"
      ],
      "text/plain": [
       "[1] -0.8390715"
      ]
     },
     "metadata": {},
     "output_type": "display_data"
    }
   ],
   "source": [
    "b"
   ]
  },
  {
   "cell_type": "code",
   "execution_count": 8,
   "metadata": {},
   "outputs": [
    {
     "data": {
      "text/html": [
       "FALSE"
      ],
      "text/latex": [
       "FALSE"
      ],
      "text/markdown": [
       "FALSE"
      ],
      "text/plain": [
       "[1] FALSE"
      ]
     },
     "metadata": {},
     "output_type": "display_data"
    }
   ],
   "source": [
    "2==3"
   ]
  },
  {
   "cell_type": "code",
   "execution_count": 9,
   "metadata": {},
   "outputs": [
    {
     "data": {
      "text/html": [
       "TRUE"
      ],
      "text/latex": [
       "TRUE"
      ],
      "text/markdown": [
       "TRUE"
      ],
      "text/plain": [
       "[1] TRUE"
      ]
     },
     "metadata": {},
     "output_type": "display_data"
    }
   ],
   "source": [
    "b = 2<3 ; b"
   ]
  },
  {
   "cell_type": "code",
   "execution_count": 10,
   "metadata": {},
   "outputs": [
    {
     "data": {
      "text/html": [
       "<ol class=list-inline>\n",
       "\t<li>'a'</li>\n",
       "\t<li>'b'</li>\n",
       "</ol>\n"
      ],
      "text/latex": [
       "\\begin{enumerate*}\n",
       "\\item 'a'\n",
       "\\item 'b'\n",
       "\\end{enumerate*}\n"
      ],
      "text/markdown": [
       "1. 'a'\n",
       "2. 'b'\n",
       "\n",
       "\n"
      ],
      "text/plain": [
       "[1] \"a\" \"b\""
      ]
     },
     "metadata": {},
     "output_type": "display_data"
    }
   ],
   "source": [
    "ls()  # variables de l'environnement de travail"
   ]
  },
  {
   "cell_type": "code",
   "execution_count": 11,
   "metadata": {
    "collapsed": true
   },
   "outputs": [],
   "source": [
    "rm(a) # effacer une ou plusieurs variables"
   ]
  },
  {
   "cell_type": "code",
   "execution_count": 12,
   "metadata": {},
   "outputs": [
    {
     "ename": "ERROR",
     "evalue": "Error in eval(expr, envir, enclos): objet 'a' introuvable\n",
     "output_type": "error",
     "traceback": [
      "Error in eval(expr, envir, enclos): objet 'a' introuvable\nTraceback:\n"
     ]
    }
   ],
   "source": [
    "a"
   ]
  },
  {
   "cell_type": "code",
   "execution_count": 13,
   "metadata": {},
   "outputs": [
    {
     "data": {
      "text/html": [
       "'texte'"
      ],
      "text/latex": [
       "'texte'"
      ],
      "text/markdown": [
       "'texte'"
      ],
      "text/plain": [
       "[1] \"texte\""
      ]
     },
     "metadata": {},
     "output_type": "display_data"
    }
   ],
   "source": [
    "a=\"texte\"\n",
    "a"
   ]
  },
  {
   "cell_type": "markdown",
   "metadata": {},
   "source": [
    "### 2.2 Type caractère\n",
    "Manipulation de Chaînes de caractères."
   ]
  },
  {
   "cell_type": "code",
   "execution_count": 14,
   "metadata": {},
   "outputs": [
    {
     "data": {
      "text/html": [
       "6"
      ],
      "text/latex": [
       "6"
      ],
      "text/markdown": [
       "6"
      ],
      "text/plain": [
       "[1] 6"
      ]
     },
     "metadata": {},
     "output_type": "display_data"
    },
    {
     "data": {
      "text/html": [
       "'ABCdef'"
      ],
      "text/latex": [
       "'ABCdef'"
      ],
      "text/markdown": [
       "'ABCdef'"
      ],
      "text/plain": [
       "[1] \"ABCdef\""
      ]
     },
     "metadata": {},
     "output_type": "display_data"
    }
   ],
   "source": [
    "c=\"ABCdef\";nchar(c);c"
   ]
  },
  {
   "cell_type": "code",
   "execution_count": 15,
   "metadata": {},
   "outputs": [
    {
     "data": {
      "text/html": [
       "TRUE"
      ],
      "text/latex": [
       "TRUE"
      ],
      "text/markdown": [
       "TRUE"
      ],
      "text/plain": [
       "[1] TRUE"
      ]
     },
     "metadata": {},
     "output_type": "display_data"
    }
   ],
   "source": [
    "is.character(c)"
   ]
  },
  {
   "cell_type": "code",
   "execution_count": 16,
   "metadata": {},
   "outputs": [
    {
     "data": {
      "text/html": [
       "'ABC'"
      ],
      "text/latex": [
       "'ABC'"
      ],
      "text/markdown": [
       "'ABC'"
      ],
      "text/plain": [
       "[1] \"ABC\""
      ]
     },
     "metadata": {},
     "output_type": "display_data"
    }
   ],
   "source": [
    "substr(c,1,3)"
   ]
  },
  {
   "cell_type": "code",
   "execution_count": 17,
   "metadata": {},
   "outputs": [
    {
     "data": {
      "text/html": [
       "'abcdef'"
      ],
      "text/latex": [
       "'abcdef'"
      ],
      "text/markdown": [
       "'abcdef'"
      ],
      "text/plain": [
       "[1] \"abcdef\""
      ]
     },
     "metadata": {},
     "output_type": "display_data"
    }
   ],
   "source": [
    "# changer la casse\n",
    "tolower(c)"
   ]
  },
  {
   "cell_type": "code",
   "execution_count": 18,
   "metadata": {},
   "outputs": [
    {
     "data": {
      "text/html": [
       "'ABCDEF'"
      ],
      "text/latex": [
       "'ABCDEF'"
      ],
      "text/markdown": [
       "'ABCDEF'"
      ],
      "text/plain": [
       "[1] \"ABCDEF\""
      ]
     },
     "metadata": {},
     "output_type": "display_data"
    }
   ],
   "source": [
    "toupper(c)"
   ]
  },
  {
   "cell_type": "code",
   "execution_count": 19,
   "metadata": {},
   "outputs": [
    {
     "data": {
      "text/html": [
       "'alpha-ABCdef'"
      ],
      "text/latex": [
       "'alpha-ABCdef'"
      ],
      "text/markdown": [
       "'alpha-ABCdef'"
      ],
      "text/plain": [
       "[1] \"alpha-ABCdef\""
      ]
     },
     "metadata": {},
     "output_type": "display_data"
    }
   ],
   "source": [
    "# coller\n",
    "paste(\"alpha\",c,sep=\"-\")"
   ]
  },
  {
   "cell_type": "markdown",
   "metadata": {},
   "source": [
    "### 2.3 Type booléen et opérateurs logiques\n",
    "Les variables booléennes prennent les valeurs `TRUE` ou `FALSE` ; les opérateurs de comparaison  `<,> <=, >=, !=, ==` retournent ces valeurs tandis  que `&, |, !` sont les opérateurs logiques \"et\", \"ou\", \"non\". "
   ]
  },
  {
   "cell_type": "code",
   "execution_count": 20,
   "metadata": {},
   "outputs": [
    {
     "data": {
      "text/html": [
       "TRUE"
      ],
      "text/latex": [
       "TRUE"
      ],
      "text/markdown": [
       "TRUE"
      ],
      "text/plain": [
       "[1] TRUE"
      ]
     },
     "metadata": {},
     "output_type": "display_data"
    }
   ],
   "source": [
    "a = 3 ; b = 6\n",
    "a<=b"
   ]
  },
  {
   "cell_type": "code",
   "execution_count": 21,
   "metadata": {},
   "outputs": [
    {
     "data": {
      "text/html": [
       "TRUE"
      ],
      "text/latex": [
       "TRUE"
      ],
      "text/markdown": [
       "TRUE"
      ],
      "text/plain": [
       "[1] TRUE"
      ]
     },
     "metadata": {},
     "output_type": "display_data"
    }
   ],
   "source": [
    "a!=b"
   ]
  },
  {
   "cell_type": "code",
   "execution_count": 22,
   "metadata": {},
   "outputs": [
    {
     "data": {
      "text/html": [
       "TRUE"
      ],
      "text/latex": [
       "TRUE"
      ],
      "text/markdown": [
       "TRUE"
      ],
      "text/plain": [
       "[1] TRUE"
      ]
     },
     "metadata": {},
     "output_type": "display_data"
    }
   ],
   "source": [
    "(b - 3 == a) & ( b>= a)"
   ]
  },
  {
   "cell_type": "code",
   "execution_count": 23,
   "metadata": {},
   "outputs": [
    {
     "data": {
      "text/html": [
       "TRUE"
      ],
      "text/latex": [
       "TRUE"
      ],
      "text/markdown": [
       "TRUE"
      ],
      "text/plain": [
       "[1] TRUE"
      ]
     },
     "metadata": {},
     "output_type": "display_data"
    }
   ],
   "source": [
    "(b  == a) | (b>=a)"
   ]
  },
  {
   "cell_type": "markdown",
   "metadata": {},
   "source": [
    "### 3.4 Les vecteurs (`vector`)\n",
    "Un vecteur regroupe des éléments de même mode. La création d'un vecteur peut se faire par la commande `c(e1,e2,...)`. On peut également générer une séquence avec la commande `seq(a,b,t)` débutant par `a` inférieure ou égale à `b` et de pas `t` ; `rep(x,n)` est un vecteur répétant *n* fois l'élément `x`."
   ]
  },
  {
   "cell_type": "code",
   "execution_count": 43,
   "metadata": {},
   "outputs": [
    {
     "data": {
      "text/html": [
       "<ol class=list-inline>\n",
       "\t<li>2</li>\n",
       "\t<li>3</li>\n",
       "\t<li>5</li>\n",
       "\t<li>8</li>\n",
       "\t<li>4</li>\n",
       "\t<li>6</li>\n",
       "</ol>\n"
      ],
      "text/latex": [
       "\\begin{enumerate*}\n",
       "\\item 2\n",
       "\\item 3\n",
       "\\item 5\n",
       "\\item 8\n",
       "\\item 4\n",
       "\\item 6\n",
       "\\end{enumerate*}\n"
      ],
      "text/markdown": [
       "1. 2\n",
       "2. 3\n",
       "3. 5\n",
       "4. 8\n",
       "5. 4\n",
       "6. 6\n",
       "\n",
       "\n"
      ],
      "text/plain": [
       "[1] 2 3 5 8 4 6"
      ]
     },
     "metadata": {},
     "output_type": "display_data"
    },
    {
     "data": {
      "text/html": [
       "TRUE"
      ],
      "text/latex": [
       "TRUE"
      ],
      "text/markdown": [
       "TRUE"
      ],
      "text/plain": [
       "[1] TRUE"
      ]
     },
     "metadata": {},
     "output_type": "display_data"
    }
   ],
   "source": [
    "d = c(2,3,5,8,4,6); d\n",
    "is.vector(d)"
   ]
  },
  {
   "cell_type": "code",
   "execution_count": 44,
   "metadata": {},
   "outputs": [
    {
     "data": {
      "text/html": [
       "<ol class=list-inline>\n",
       "\t<li>'2'</li>\n",
       "\t<li>'5'</li>\n",
       "\t<li>'texte'</li>\n",
       "</ol>\n"
      ],
      "text/latex": [
       "\\begin{enumerate*}\n",
       "\\item '2'\n",
       "\\item '5'\n",
       "\\item 'texte'\n",
       "\\end{enumerate*}\n"
      ],
      "text/markdown": [
       "1. '2'\n",
       "2. '5'\n",
       "3. 'texte'\n",
       "\n",
       "\n"
      ],
      "text/plain": [
       "[1] \"2\"     \"5\"     \"texte\""
      ]
     },
     "metadata": {},
     "output_type": "display_data"
    }
   ],
   "source": [
    "c(2,5,\"texte\")"
   ]
  },
  {
   "cell_type": "markdown",
   "metadata": {},
   "source": [
    "Séquences et répétitions."
   ]
  },
  {
   "cell_type": "code",
   "execution_count": 45,
   "metadata": {},
   "outputs": [
    {
     "data": {
      "text/html": [
       "<ol class=list-inline>\n",
       "\t<li>1</li>\n",
       "\t<li>2</li>\n",
       "\t<li>3</li>\n",
       "\t<li>4</li>\n",
       "\t<li>5</li>\n",
       "\t<li>6</li>\n",
       "\t<li>7</li>\n",
       "\t<li>8</li>\n",
       "\t<li>9</li>\n",
       "\t<li>10</li>\n",
       "</ol>\n"
      ],
      "text/latex": [
       "\\begin{enumerate*}\n",
       "\\item 1\n",
       "\\item 2\n",
       "\\item 3\n",
       "\\item 4\n",
       "\\item 5\n",
       "\\item 6\n",
       "\\item 7\n",
       "\\item 8\n",
       "\\item 9\n",
       "\\item 10\n",
       "\\end{enumerate*}\n"
      ],
      "text/markdown": [
       "1. 1\n",
       "2. 2\n",
       "3. 3\n",
       "4. 4\n",
       "5. 5\n",
       "6. 6\n",
       "7. 7\n",
       "8. 8\n",
       "9. 9\n",
       "10. 10\n",
       "\n",
       "\n"
      ],
      "text/plain": [
       " [1]  1  2  3  4  5  6  7  8  9 10"
      ]
     },
     "metadata": {},
     "output_type": "display_data"
    }
   ],
   "source": [
    "1:10 "
   ]
  },
  {
   "cell_type": "code",
   "execution_count": 46,
   "metadata": {},
   "outputs": [
    {
     "data": {
      "text/html": [
       "<ol class=list-inline>\n",
       "\t<li>1</li>\n",
       "\t<li>3</li>\n",
       "\t<li>5</li>\n",
       "\t<li>7</li>\n",
       "\t<li>9</li>\n",
       "\t<li>11</li>\n",
       "\t<li>13</li>\n",
       "\t<li>15</li>\n",
       "\t<li>17</li>\n",
       "\t<li>19</li>\n",
       "</ol>\n"
      ],
      "text/latex": [
       "\\begin{enumerate*}\n",
       "\\item 1\n",
       "\\item 3\n",
       "\\item 5\n",
       "\\item 7\n",
       "\\item 9\n",
       "\\item 11\n",
       "\\item 13\n",
       "\\item 15\n",
       "\\item 17\n",
       "\\item 19\n",
       "\\end{enumerate*}\n"
      ],
      "text/markdown": [
       "1. 1\n",
       "2. 3\n",
       "3. 5\n",
       "4. 7\n",
       "5. 9\n",
       "6. 11\n",
       "7. 13\n",
       "8. 15\n",
       "9. 17\n",
       "10. 19\n",
       "\n",
       "\n"
      ],
      "text/plain": [
       " [1]  1  3  5  7  9 11 13 15 17 19"
      ]
     },
     "metadata": {},
     "output_type": "display_data"
    }
   ],
   "source": [
    "seq(from=1,to=20,by=2)"
   ]
  },
  {
   "cell_type": "code",
   "execution_count": 47,
   "metadata": {},
   "outputs": [
    {
     "data": {
      "text/html": [
       "<ol class=list-inline>\n",
       "\t<li>1</li>\n",
       "\t<li>6</li>\n",
       "\t<li>11</li>\n",
       "\t<li>16</li>\n",
       "</ol>\n"
      ],
      "text/latex": [
       "\\begin{enumerate*}\n",
       "\\item 1\n",
       "\\item 6\n",
       "\\item 11\n",
       "\\item 16\n",
       "\\end{enumerate*}\n"
      ],
      "text/markdown": [
       "1. 1\n",
       "2. 6\n",
       "3. 11\n",
       "4. 16\n",
       "\n",
       "\n"
      ],
      "text/plain": [
       "[1]  1  6 11 16"
      ]
     },
     "metadata": {},
     "output_type": "display_data"
    }
   ],
   "source": [
    "seq(1,20,by=5)"
   ]
  },
  {
   "cell_type": "code",
   "execution_count": 48,
   "metadata": {},
   "outputs": [
    {
     "data": {
      "text/html": [
       "<ol class=list-inline>\n",
       "\t<li>1</li>\n",
       "\t<li>5.75</li>\n",
       "\t<li>10.5</li>\n",
       "\t<li>15.25</li>\n",
       "\t<li>20</li>\n",
       "</ol>\n"
      ],
      "text/latex": [
       "\\begin{enumerate*}\n",
       "\\item 1\n",
       "\\item 5.75\n",
       "\\item 10.5\n",
       "\\item 15.25\n",
       "\\item 20\n",
       "\\end{enumerate*}\n"
      ],
      "text/markdown": [
       "1. 1\n",
       "2. 5.75\n",
       "3. 10.5\n",
       "4. 15.25\n",
       "5. 20\n",
       "\n",
       "\n"
      ],
      "text/plain": [
       "[1]  1.00  5.75 10.50 15.25 20.00"
      ]
     },
     "metadata": {},
     "output_type": "display_data"
    }
   ],
   "source": [
    "seq(1,20,length=5)"
   ]
  },
  {
   "cell_type": "code",
   "execution_count": 49,
   "metadata": {},
   "outputs": [
    {
     "data": {
      "text/html": [
       "<ol class=list-inline>\n",
       "\t<li>5</li>\n",
       "\t<li>5</li>\n",
       "\t<li>5</li>\n",
       "\t<li>5</li>\n",
       "\t<li>5</li>\n",
       "\t<li>5</li>\n",
       "\t<li>5</li>\n",
       "\t<li>5</li>\n",
       "\t<li>5</li>\n",
       "\t<li>5</li>\n",
       "</ol>\n"
      ],
      "text/latex": [
       "\\begin{enumerate*}\n",
       "\\item 5\n",
       "\\item 5\n",
       "\\item 5\n",
       "\\item 5\n",
       "\\item 5\n",
       "\\item 5\n",
       "\\item 5\n",
       "\\item 5\n",
       "\\item 5\n",
       "\\item 5\n",
       "\\end{enumerate*}\n"
      ],
      "text/markdown": [
       "1. 5\n",
       "2. 5\n",
       "3. 5\n",
       "4. 5\n",
       "5. 5\n",
       "6. 5\n",
       "7. 5\n",
       "8. 5\n",
       "9. 5\n",
       "10. 5\n",
       "\n",
       "\n"
      ],
      "text/plain": [
       " [1] 5 5 5 5 5 5 5 5 5 5"
      ]
     },
     "metadata": {},
     "output_type": "display_data"
    }
   ],
   "source": [
    "rep(5,times=10)"
   ]
  },
  {
   "cell_type": "code",
   "execution_count": 50,
   "metadata": {},
   "outputs": [
    {
     "data": {
      "text/html": [
       "<ol class=list-inline>\n",
       "\t<li>1</li>\n",
       "\t<li>2</li>\n",
       "\t<li>1</li>\n",
       "\t<li>2</li>\n",
       "\t<li>1</li>\n",
       "\t<li>2</li>\n",
       "</ol>\n"
      ],
      "text/latex": [
       "\\begin{enumerate*}\n",
       "\\item 1\n",
       "\\item 2\n",
       "\\item 1\n",
       "\\item 2\n",
       "\\item 1\n",
       "\\item 2\n",
       "\\end{enumerate*}\n"
      ],
      "text/markdown": [
       "1. 1\n",
       "2. 2\n",
       "3. 1\n",
       "4. 2\n",
       "5. 1\n",
       "6. 2\n",
       "\n",
       "\n"
      ],
      "text/plain": [
       "[1] 1 2 1 2 1 2"
      ]
     },
     "metadata": {},
     "output_type": "display_data"
    }
   ],
   "source": [
    "rep(c(1,2),3)"
   ]
  },
  {
   "cell_type": "code",
   "execution_count": 51,
   "metadata": {},
   "outputs": [
    {
     "data": {
      "text/html": [
       "<ol class=list-inline>\n",
       "\t<li>1</li>\n",
       "\t<li>1</li>\n",
       "\t<li>1</li>\n",
       "\t<li>2</li>\n",
       "\t<li>2</li>\n",
       "\t<li>2</li>\n",
       "</ol>\n"
      ],
      "text/latex": [
       "\\begin{enumerate*}\n",
       "\\item 1\n",
       "\\item 1\n",
       "\\item 1\n",
       "\\item 2\n",
       "\\item 2\n",
       "\\item 2\n",
       "\\end{enumerate*}\n"
      ],
      "text/markdown": [
       "1. 1\n",
       "2. 1\n",
       "3. 1\n",
       "4. 2\n",
       "5. 2\n",
       "6. 2\n",
       "\n",
       "\n"
      ],
      "text/plain": [
       "[1] 1 1 1 2 2 2"
      ]
     },
     "metadata": {},
     "output_type": "display_data"
    }
   ],
   "source": [
    "rep(c(1,2),each=3)"
   ]
  },
  {
   "cell_type": "code",
   "execution_count": 52,
   "metadata": {},
   "outputs": [
    {
     "data": {
      "text/html": [
       "<ol class=list-inline>\n",
       "\t<li>1</li>\n",
       "\t<li>1</li>\n",
       "\t<li>1</li>\n",
       "\t<li>1</li>\n",
       "\t<li>1</li>\n",
       "\t<li>1</li>\n",
       "\t<li>1</li>\n",
       "\t<li>1</li>\n",
       "\t<li>1</li>\n",
       "\t<li>1</li>\n",
       "</ol>\n"
      ],
      "text/latex": [
       "\\begin{enumerate*}\n",
       "\\item 1\n",
       "\\item 1\n",
       "\\item 1\n",
       "\\item 1\n",
       "\\item 1\n",
       "\\item 1\n",
       "\\item 1\n",
       "\\item 1\n",
       "\\item 1\n",
       "\\item 1\n",
       "\\end{enumerate*}\n"
      ],
      "text/markdown": [
       "1. 1\n",
       "2. 1\n",
       "3. 1\n",
       "4. 1\n",
       "5. 1\n",
       "6. 1\n",
       "7. 1\n",
       "8. 1\n",
       "9. 1\n",
       "10. 1\n",
       "\n",
       "\n"
      ],
      "text/plain": [
       " [1] 1 1 1 1 1 1 1 1 1 1"
      ]
     },
     "metadata": {},
     "output_type": "display_data"
    }
   ],
   "source": [
    "e = rep(1,10); e"
   ]
  },
  {
   "cell_type": "markdown",
   "metadata": {},
   "source": [
    "Extraction dans un vecteur par `[]` et valeurs manquantes."
   ]
  },
  {
   "cell_type": "code",
   "execution_count": 53,
   "metadata": {},
   "outputs": [
    {
     "data": {
      "text/html": [
       "3"
      ],
      "text/latex": [
       "3"
      ],
      "text/markdown": [
       "3"
      ],
      "text/plain": [
       "[1] 3"
      ]
     },
     "metadata": {},
     "output_type": "display_data"
    },
    {
     "data": {
      "text/html": [
       "<ol class=list-inline>\n",
       "\t<li>3</li>\n",
       "\t<li>5</li>\n",
       "</ol>\n"
      ],
      "text/latex": [
       "\\begin{enumerate*}\n",
       "\\item 3\n",
       "\\item 5\n",
       "\\end{enumerate*}\n"
      ],
      "text/markdown": [
       "1. 3\n",
       "2. 5\n",
       "\n",
       "\n"
      ],
      "text/plain": [
       "[1] 3 5"
      ]
     },
     "metadata": {},
     "output_type": "display_data"
    },
    {
     "data": {
      "text/html": [
       "<ol class=list-inline>\n",
       "\t<li>2</li>\n",
       "\t<li>3</li>\n",
       "\t<li>8</li>\n",
       "\t<li>4</li>\n",
       "\t<li>6</li>\n",
       "</ol>\n"
      ],
      "text/latex": [
       "\\begin{enumerate*}\n",
       "\\item 2\n",
       "\\item 3\n",
       "\\item 8\n",
       "\\item 4\n",
       "\\item 6\n",
       "\\end{enumerate*}\n"
      ],
      "text/markdown": [
       "1. 2\n",
       "2. 3\n",
       "3. 8\n",
       "4. 4\n",
       "5. 6\n",
       "\n",
       "\n"
      ],
      "text/plain": [
       "[1] 2 3 8 4 6"
      ]
     },
     "metadata": {},
     "output_type": "display_data"
    },
    {
     "data": {
      "text/html": [
       "<ol class=list-inline>\n",
       "\t<li>2</li>\n",
       "\t<li>3</li>\n",
       "\t<li>5</li>\n",
       "\t<li>4</li>\n",
       "\t<li>6</li>\n",
       "</ol>\n"
      ],
      "text/latex": [
       "\\begin{enumerate*}\n",
       "\\item 2\n",
       "\\item 3\n",
       "\\item 5\n",
       "\\item 4\n",
       "\\item 6\n",
       "\\end{enumerate*}\n"
      ],
      "text/markdown": [
       "1. 2\n",
       "2. 3\n",
       "3. 5\n",
       "4. 4\n",
       "5. 6\n",
       "\n",
       "\n"
      ],
      "text/plain": [
       "[1] 2 3 5 4 6"
      ]
     },
     "metadata": {},
     "output_type": "display_data"
    },
    {
     "data": {
      "text/html": [
       "<ol class=list-inline>\n",
       "\t<li>2</li>\n",
       "\t<li>3</li>\n",
       "\t<li>5</li>\n",
       "\t<li>8</li>\n",
       "\t<li>4</li>\n",
       "\t<li>6</li>\n",
       "</ol>\n"
      ],
      "text/latex": [
       "\\begin{enumerate*}\n",
       "\\item 2\n",
       "\\item 3\n",
       "\\item 5\n",
       "\\item 8\n",
       "\\item 4\n",
       "\\item 6\n",
       "\\end{enumerate*}\n"
      ],
      "text/markdown": [
       "1. 2\n",
       "2. 3\n",
       "3. 5\n",
       "4. 8\n",
       "5. 4\n",
       "6. 6\n",
       "\n",
       "\n"
      ],
      "text/plain": [
       "[1] 2 3 5 8 4 6"
      ]
     },
     "metadata": {},
     "output_type": "display_data"
    }
   ],
   "source": [
    "d[2];d[2:3];d[-3];d[-4];d"
   ]
  },
  {
   "cell_type": "code",
   "execution_count": 54,
   "metadata": {},
   "outputs": [
    {
     "ename": "ERROR",
     "evalue": "Error in d[-1:2]: les indices négatifs ne peuvent être mélangés qu'à des 0\n",
     "output_type": "error",
     "traceback": [
      "Error in d[-1:2]: les indices négatifs ne peuvent être mélangés qu'à des 0\nTraceback:\n"
     ]
    },
    {
     "data": {
      "text/html": [
       "<ol class=list-inline>\n",
       "\t<li>5</li>\n",
       "\t<li>8</li>\n",
       "\t<li>4</li>\n",
       "\t<li>6</li>\n",
       "</ol>\n"
      ],
      "text/latex": [
       "\\begin{enumerate*}\n",
       "\\item 5\n",
       "\\item 8\n",
       "\\item 4\n",
       "\\item 6\n",
       "\\end{enumerate*}\n"
      ],
      "text/markdown": [
       "1. 5\n",
       "2. 8\n",
       "3. 4\n",
       "4. 6\n",
       "\n",
       "\n"
      ],
      "text/plain": [
       "[1] 5 8 4 6"
      ]
     },
     "metadata": {},
     "output_type": "display_data"
    }
   ],
   "source": [
    "# attention aux indices :\n",
    "d[-1:2];d[-(1:2)] "
   ]
  },
  {
   "cell_type": "code",
   "execution_count": 56,
   "metadata": {},
   "outputs": [
    {
     "data": {
      "text/html": [
       "<ol class=list-inline>\n",
       "\t<li>2</li>\n",
       "\t<li>3</li>\n",
       "\t<li>5</li>\n",
       "\t<li>&lt;NA&gt;</li>\n",
       "\t<li>4</li>\n",
       "\t<li>6</li>\n",
       "</ol>\n"
      ],
      "text/latex": [
       "\\begin{enumerate*}\n",
       "\\item 2\n",
       "\\item 3\n",
       "\\item 5\n",
       "\\item <NA>\n",
       "\\item 4\n",
       "\\item 6\n",
       "\\end{enumerate*}\n"
      ],
      "text/markdown": [
       "1. 2\n",
       "2. 3\n",
       "3. 5\n",
       "4. &lt;NA&gt;\n",
       "5. 4\n",
       "6. 6\n",
       "\n",
       "\n"
      ],
      "text/plain": [
       "[1]  2  3  5 NA  4  6"
      ]
     },
     "metadata": {},
     "output_type": "display_data"
    },
    {
     "data": {
      "text/plain": [
       "   Min. 1st Qu.  Median    Mean 3rd Qu.    Max.    NA's \n",
       "      2       3       4       4       5       6       1 "
      ]
     },
     "metadata": {},
     "output_type": "display_data"
    }
   ],
   "source": [
    "# NA (Not Available) signale une donnée manquante\n",
    "d[4] = NA ;d;summary(d)"
   ]
  },
  {
   "cell_type": "code",
   "execution_count": 57,
   "metadata": {},
   "outputs": [
    {
     "data": {
      "text/html": [
       "<ol class=list-inline>\n",
       "\t<li>FALSE</li>\n",
       "\t<li>FALSE</li>\n",
       "\t<li>FALSE</li>\n",
       "\t<li>TRUE</li>\n",
       "\t<li>FALSE</li>\n",
       "\t<li>FALSE</li>\n",
       "</ol>\n"
      ],
      "text/latex": [
       "\\begin{enumerate*}\n",
       "\\item FALSE\n",
       "\\item FALSE\n",
       "\\item FALSE\n",
       "\\item TRUE\n",
       "\\item FALSE\n",
       "\\item FALSE\n",
       "\\end{enumerate*}\n"
      ],
      "text/markdown": [
       "1. FALSE\n",
       "2. FALSE\n",
       "3. FALSE\n",
       "4. TRUE\n",
       "5. FALSE\n",
       "6. FALSE\n",
       "\n",
       "\n"
      ],
      "text/plain": [
       "[1] FALSE FALSE FALSE  TRUE FALSE FALSE"
      ]
     },
     "metadata": {},
     "output_type": "display_data"
    }
   ],
   "source": [
    "is.na(d);help(NA)"
   ]
  },
  {
   "cell_type": "code",
   "execution_count": 58,
   "metadata": {},
   "outputs": [
    {
     "data": {
      "text/html": [
       "TRUE"
      ],
      "text/latex": [
       "TRUE"
      ],
      "text/markdown": [
       "TRUE"
      ],
      "text/plain": [
       "[1] TRUE"
      ]
     },
     "metadata": {},
     "output_type": "display_data"
    },
    {
     "data": {
      "text/html": [
       "FALSE"
      ],
      "text/latex": [
       "FALSE"
      ],
      "text/markdown": [
       "FALSE"
      ],
      "text/plain": [
       "[1] FALSE"
      ]
     },
     "metadata": {},
     "output_type": "display_data"
    }
   ],
   "source": [
    "# fonctions \"any = existence\" et \"all = tout\"\n",
    "any(is.na(d));all(is.na(d))"
   ]
  },
  {
   "cell_type": "markdown",
   "metadata": {},
   "source": [
    "Labels et opérations."
   ]
  },
  {
   "cell_type": "code",
   "execution_count": 59,
   "metadata": {},
   "outputs": [
    {
     "data": {
      "text/html": [
       "<dl class=dl-horizontal>\n",
       "\t<dt>a</dt>\n",
       "\t\t<dd>12</dd>\n",
       "\t<dt>b</dt>\n",
       "\t\t<dd>26</dd>\n",
       "\t<dt>c</dt>\n",
       "\t\t<dd>32</dd>\n",
       "\t<dt>d</dt>\n",
       "\t\t<dd>41</dd>\n",
       "</dl>\n"
      ],
      "text/latex": [
       "\\begin{description*}\n",
       "\\item[a] 12\n",
       "\\item[b] 26\n",
       "\\item[c] 32\n",
       "\\item[d] 41\n",
       "\\end{description*}\n"
      ],
      "text/markdown": [
       "a\n",
       ":   12b\n",
       ":   26c\n",
       ":   32d\n",
       ":   41\n",
       "\n"
      ],
      "text/plain": [
       " a  b  c  d \n",
       "12 26 32 41 "
      ]
     },
     "metadata": {},
     "output_type": "display_data"
    },
    {
     "data": {
      "text/html": [
       "<ol class=list-inline>\n",
       "\t<li>'a'</li>\n",
       "\t<li>'b'</li>\n",
       "\t<li>'c'</li>\n",
       "\t<li>'d'</li>\n",
       "</ol>\n"
      ],
      "text/latex": [
       "\\begin{enumerate*}\n",
       "\\item 'a'\n",
       "\\item 'b'\n",
       "\\item 'c'\n",
       "\\item 'd'\n",
       "\\end{enumerate*}\n"
      ],
      "text/markdown": [
       "1. 'a'\n",
       "2. 'b'\n",
       "3. 'c'\n",
       "4. 'd'\n",
       "\n",
       "\n"
      ],
      "text/plain": [
       "[1] \"a\" \"b\" \"c\" \"d\""
      ]
     },
     "metadata": {},
     "output_type": "display_data"
    },
    {
     "data": {
      "text/html": [
       "<strong>a:</strong> 12"
      ],
      "text/latex": [
       "\\textbf{a:} 12"
      ],
      "text/markdown": [
       "**a:** 12"
      ],
      "text/plain": [
       " a \n",
       "12 "
      ]
     },
     "metadata": {},
     "output_type": "display_data"
    }
   ],
   "source": [
    "f = c(a=12,b=26,c=32,d=41);f\n",
    "names(f);f[\"a\"]"
   ]
  },
  {
   "cell_type": "code",
   "execution_count": 60,
   "metadata": {},
   "outputs": [
    {
     "data": {
      "text/html": [
       "<dl class=dl-horizontal>\n",
       "\t<dt>a1</dt>\n",
       "\t\t<dd>FALSE</dd>\n",
       "\t<dt>a2</dt>\n",
       "\t\t<dd>FALSE</dd>\n",
       "\t<dt>a3</dt>\n",
       "\t\t<dd>TRUE</dd>\n",
       "\t<dt>a4</dt>\n",
       "\t\t<dd>TRUE</dd>\n",
       "</dl>\n"
      ],
      "text/latex": [
       "\\begin{description*}\n",
       "\\item[a1] FALSE\n",
       "\\item[a2] FALSE\n",
       "\\item[a3] TRUE\n",
       "\\item[a4] TRUE\n",
       "\\end{description*}\n"
      ],
      "text/markdown": [
       "a1\n",
       ":   FALSEa2\n",
       ":   FALSEa3\n",
       ":   TRUEa4\n",
       ":   TRUE\n",
       "\n"
      ],
      "text/plain": [
       "   a1    a2    a3    a4 \n",
       "FALSE FALSE  TRUE  TRUE "
      ]
     },
     "metadata": {},
     "output_type": "display_data"
    },
    {
     "data": {
      "text/html": [
       "<dl class=dl-horizontal>\n",
       "\t<dt>a3</dt>\n",
       "\t\t<dd>32</dd>\n",
       "\t<dt>a4</dt>\n",
       "\t\t<dd>41</dd>\n",
       "</dl>\n"
      ],
      "text/latex": [
       "\\begin{description*}\n",
       "\\item[a3] 32\n",
       "\\item[a4] 41\n",
       "\\end{description*}\n"
      ],
      "text/markdown": [
       "a3\n",
       ":   32a4\n",
       ":   41\n",
       "\n"
      ],
      "text/plain": [
       "a3 a4 \n",
       "32 41 "
      ]
     },
     "metadata": {},
     "output_type": "display_data"
    }
   ],
   "source": [
    "names(f)=c(\"a1\",\"a2\",\"a3\",\"a4\")\n",
    "f>30;f[f>30]  # noter les différences"
   ]
  },
  {
   "cell_type": "code",
   "execution_count": 62,
   "metadata": {},
   "outputs": [
    {
     "data": {
      "text/html": [
       "<dl class=dl-horizontal>\n",
       "\t<dt>a3</dt>\n",
       "\t\t<dd>3</dd>\n",
       "\t<dt>a4</dt>\n",
       "\t\t<dd>4</dd>\n",
       "</dl>\n"
      ],
      "text/latex": [
       "\\begin{description*}\n",
       "\\item[a3] 3\n",
       "\\item[a4] 4\n",
       "\\end{description*}\n"
      ],
      "text/markdown": [
       "a3\n",
       ":   3a4\n",
       ":   4\n",
       "\n"
      ],
      "text/plain": [
       "a3 a4 \n",
       " 3  4 "
      ]
     },
     "metadata": {},
     "output_type": "display_data"
    },
    {
     "data": {
      "text/html": [
       "<strong>a3:</strong> 32"
      ],
      "text/latex": [
       "\\textbf{a3:} 32"
      ],
      "text/markdown": [
       "**a3:** 32"
      ],
      "text/plain": [
       "a3 \n",
       "32 "
      ]
     },
     "metadata": {},
     "output_type": "display_data"
    }
   ],
   "source": [
    "which(f>30) #indices\n",
    "f[3]"
   ]
  },
  {
   "cell_type": "code",
   "execution_count": 63,
   "metadata": {},
   "outputs": [
    {
     "data": {
      "text/html": [
       "<dl class=dl-horizontal>\n",
       "\t<dt>a1</dt>\n",
       "\t\t<dd>112</dd>\n",
       "\t<dt>a2</dt>\n",
       "\t\t<dd>122</dd>\n",
       "\t<dt>a3</dt>\n",
       "\t\t<dd>132</dd>\n",
       "\t<dt>a4</dt>\n",
       "\t\t<dd>141</dd>\n",
       "</dl>\n"
      ],
      "text/latex": [
       "\\begin{description*}\n",
       "\\item[a1] 112\n",
       "\\item[a2] 122\n",
       "\\item[a3] 132\n",
       "\\item[a4] 141\n",
       "\\end{description*}\n"
      ],
      "text/markdown": [
       "a1\n",
       ":   112a2\n",
       ":   122a3\n",
       ":   132a4\n",
       ":   141\n",
       "\n"
      ],
      "text/plain": [
       " a1  a2  a3  a4 \n",
       "112 122 132 141 "
      ]
     },
     "metadata": {},
     "output_type": "display_data"
    },
    {
     "name": "stderr",
     "output_type": "stream",
     "text": [
      "Warning message in f + d:\n",
      "“la taille d'un objet plus long n'est pas multiple de la taille d'un objet plus court”"
     ]
    },
    {
     "data": {
      "text/html": [
       "<ol class=list-inline>\n",
       "\t<li>14</li>\n",
       "\t<li>25</li>\n",
       "\t<li>37</li>\n",
       "\t<li>&lt;NA&gt;</li>\n",
       "\t<li>16</li>\n",
       "\t<li>28</li>\n",
       "</ol>\n"
      ],
      "text/latex": [
       "\\begin{enumerate*}\n",
       "\\item 14\n",
       "\\item 25\n",
       "\\item 37\n",
       "\\item <NA>\n",
       "\\item 16\n",
       "\\item 28\n",
       "\\end{enumerate*}\n"
      ],
      "text/markdown": [
       "1. 14\n",
       "2. 25\n",
       "3. 37\n",
       "4. &lt;NA&gt;\n",
       "5. 16\n",
       "6. 28\n",
       "\n",
       "\n"
      ],
      "text/plain": [
       "[1] 14 25 37 NA 16 28"
      ]
     },
     "metadata": {},
     "output_type": "display_data"
    }
   ],
   "source": [
    "f[2] = 22;f+100;f+d  # un problème de dimension"
   ]
  },
  {
   "cell_type": "code",
   "execution_count": 64,
   "metadata": {},
   "outputs": [
    {
     "data": {
      "text/html": [
       "<dl class=dl-horizontal>\n",
       "\t<dt>a1</dt>\n",
       "\t\t<dd>0.843853958732492</dd>\n",
       "\t<dt>a2</dt>\n",
       "\t\t<dd>-0.999960826394637</dd>\n",
       "\t<dt>a3</dt>\n",
       "\t\t<dd>0.83422336050651</dd>\n",
       "\t<dt>a4</dt>\n",
       "\t\t<dd>-0.987339277523826</dd>\n",
       "</dl>\n"
      ],
      "text/latex": [
       "\\begin{description*}\n",
       "\\item[a1] 0.843853958732492\n",
       "\\item[a2] -0.999960826394637\n",
       "\\item[a3] 0.83422336050651\n",
       "\\item[a4] -0.987339277523826\n",
       "\\end{description*}\n"
      ],
      "text/markdown": [
       "a1\n",
       ":   0.843853958732492a2\n",
       ":   -0.999960826394637a3\n",
       ":   0.83422336050651a4\n",
       ":   -0.987339277523826\n",
       "\n"
      ],
      "text/plain": [
       "        a1         a2         a3         a4 \n",
       " 0.8438540 -0.9999608  0.8342234 -0.9873393 "
      ]
     },
     "metadata": {},
     "output_type": "display_data"
    },
    {
     "data": {
      "text/html": [
       "4"
      ],
      "text/latex": [
       "4"
      ],
      "text/markdown": [
       "4"
      ],
      "text/plain": [
       "[1] 4"
      ]
     },
     "metadata": {},
     "output_type": "display_data"
    },
    {
     "data": {
      "text/html": [
       "107"
      ],
      "text/latex": [
       "107"
      ],
      "text/markdown": [
       "107"
      ],
      "text/plain": [
       "[1] 107"
      ]
     },
     "metadata": {},
     "output_type": "display_data"
    }
   ],
   "source": [
    "cos(f);length(f);sum(f)"
   ]
  },
  {
   "cell_type": "code",
   "execution_count": 65,
   "metadata": {},
   "outputs": [
    {
     "data": {
      "text/html": [
       "<table>\n",
       "<thead><tr><th scope=col>a1</th><th scope=col>a2</th><th scope=col>a3</th><th scope=col>a4</th></tr></thead>\n",
       "<tbody>\n",
       "\t<tr><td>12</td><td>22</td><td>32</td><td>41</td></tr>\n",
       "</tbody>\n",
       "</table>\n"
      ],
      "text/latex": [
       "\\begin{tabular}{llll}\n",
       " a1 & a2 & a3 & a4\\\\\n",
       "\\hline\n",
       "\t 12 & 22 & 32 & 41\\\\\n",
       "\\end{tabular}\n"
      ],
      "text/markdown": [
       "\n",
       "a1 | a2 | a3 | a4 | \n",
       "|---|\n",
       "| 12 | 22 | 32 | 41 | \n",
       "\n",
       "\n"
      ],
      "text/plain": [
       "     a1 a2 a3 a4\n",
       "[1,] 12 22 32 41"
      ]
     },
     "metadata": {},
     "output_type": "display_data"
    }
   ],
   "source": [
    "t(f) # transposition"
   ]
  },
  {
   "cell_type": "code",
   "execution_count": 67,
   "metadata": {},
   "outputs": [
    {
     "data": {
      "text/html": [
       "<ol class=list-inline>\n",
       "\t<li>2</li>\n",
       "\t<li>2</li>\n",
       "\t<li>2</li>\n",
       "\t<li>2</li>\n",
       "</ol>\n"
      ],
      "text/latex": [
       "\\begin{enumerate*}\n",
       "\\item 2\n",
       "\\item 2\n",
       "\\item 2\n",
       "\\item 2\n",
       "\\end{enumerate*}\n"
      ],
      "text/markdown": [
       "1. 2\n",
       "2. 2\n",
       "3. 2\n",
       "4. 2\n",
       "\n",
       "\n"
      ],
      "text/plain": [
       "[1] 2 2 2 2"
      ]
     },
     "metadata": {},
     "output_type": "display_data"
    },
    {
     "data": {
      "text/html": [
       "<ol class=list-inline>\n",
       "\t<li>4</li>\n",
       "\t<li>4</li>\n",
       "\t<li>4</li>\n",
       "\t<li>4</li>\n",
       "</ol>\n"
      ],
      "text/latex": [
       "\\begin{enumerate*}\n",
       "\\item 4\n",
       "\\item 4\n",
       "\\item 4\n",
       "\\item 4\n",
       "\\end{enumerate*}\n"
      ],
      "text/markdown": [
       "1. 4\n",
       "2. 4\n",
       "3. 4\n",
       "4. 4\n",
       "\n",
       "\n"
      ],
      "text/plain": [
       "[1] 4 4 4 4"
      ]
     },
     "metadata": {},
     "output_type": "display_data"
    },
    {
     "data": {
      "text/html": [
       "<ol class=list-inline>\n",
       "\t<li>4</li>\n",
       "\t<li>4</li>\n",
       "\t<li>4</li>\n",
       "\t<li>4</li>\n",
       "</ol>\n"
      ],
      "text/latex": [
       "\\begin{enumerate*}\n",
       "\\item 4\n",
       "\\item 4\n",
       "\\item 4\n",
       "\\item 4\n",
       "\\end{enumerate*}\n"
      ],
      "text/markdown": [
       "1. 4\n",
       "2. 4\n",
       "3. 4\n",
       "4. 4\n",
       "\n",
       "\n"
      ],
      "text/plain": [
       "[1] 4 4 4 4"
      ]
     },
     "metadata": {},
     "output_type": "display_data"
    }
   ],
   "source": [
    "e=rep(2,4);e; 2*e; 2+e"
   ]
  },
  {
   "cell_type": "code",
   "execution_count": 68,
   "metadata": {},
   "outputs": [
    {
     "data": {
      "text/html": [
       "<dl class=dl-horizontal>\n",
       "\t<dt>a1</dt>\n",
       "\t\t<dd>14</dd>\n",
       "\t<dt>a2</dt>\n",
       "\t\t<dd>24</dd>\n",
       "\t<dt>a3</dt>\n",
       "\t\t<dd>34</dd>\n",
       "\t<dt>a4</dt>\n",
       "\t\t<dd>43</dd>\n",
       "</dl>\n"
      ],
      "text/latex": [
       "\\begin{description*}\n",
       "\\item[a1] 14\n",
       "\\item[a2] 24\n",
       "\\item[a3] 34\n",
       "\\item[a4] 43\n",
       "\\end{description*}\n"
      ],
      "text/markdown": [
       "a1\n",
       ":   14a2\n",
       ":   24a3\n",
       ":   34a4\n",
       ":   43\n",
       "\n"
      ],
      "text/plain": [
       "a1 a2 a3 a4 \n",
       "14 24 34 43 "
      ]
     },
     "metadata": {},
     "output_type": "display_data"
    },
    {
     "data": {
      "text/html": [
       "<dl class=dl-horizontal>\n",
       "\t<dt>a1</dt>\n",
       "\t\t<dd>24</dd>\n",
       "\t<dt>a2</dt>\n",
       "\t\t<dd>44</dd>\n",
       "\t<dt>a3</dt>\n",
       "\t\t<dd>64</dd>\n",
       "\t<dt>a4</dt>\n",
       "\t\t<dd>82</dd>\n",
       "</dl>\n"
      ],
      "text/latex": [
       "\\begin{description*}\n",
       "\\item[a1] 24\n",
       "\\item[a2] 44\n",
       "\\item[a3] 64\n",
       "\\item[a4] 82\n",
       "\\end{description*}\n"
      ],
      "text/markdown": [
       "a1\n",
       ":   24a2\n",
       ":   44a3\n",
       ":   64a4\n",
       ":   82\n",
       "\n"
      ],
      "text/plain": [
       "a1 a2 a3 a4 \n",
       "24 44 64 82 "
      ]
     },
     "metadata": {},
     "output_type": "display_data"
    }
   ],
   "source": [
    "e+f ; e*f # opérations terme à terme"
   ]
  },
  {
   "cell_type": "code",
   "execution_count": 70,
   "metadata": {},
   "outputs": [
    {
     "data": {
      "text/html": [
       "<table>\n",
       "<tbody>\n",
       "\t<tr><td>214</td></tr>\n",
       "</tbody>\n",
       "</table>\n"
      ],
      "text/latex": [
       "\\begin{tabular}{l}\n",
       "\t 214\\\\\n",
       "\\end{tabular}\n"
      ],
      "text/markdown": [
       "\n",
       "| 214 | \n",
       "\n",
       "\n"
      ],
      "text/plain": [
       "     [,1]\n",
       "[1,] 214 "
      ]
     },
     "metadata": {},
     "output_type": "display_data"
    },
    {
     "data": {
      "text/html": [
       "<table>\n",
       "<tbody>\n",
       "\t<tr><td>214</td></tr>\n",
       "</tbody>\n",
       "</table>\n"
      ],
      "text/latex": [
       "\\begin{tabular}{l}\n",
       "\t 214\\\\\n",
       "\\end{tabular}\n"
      ],
      "text/markdown": [
       "\n",
       "| 214 | \n",
       "\n",
       "\n"
      ],
      "text/plain": [
       "     [,1]\n",
       "[1,] 214 "
      ]
     },
     "metadata": {},
     "output_type": "display_data"
    }
   ],
   "source": [
    "t(f)%*%e # produit scalaire\n",
    "f%*%e"
   ]
  },
  {
   "cell_type": "code",
   "execution_count": 71,
   "metadata": {},
   "outputs": [
    {
     "data": {
      "text/html": [
       "<ol class=list-inline>\n",
       "\t<li>3</li>\n",
       "\t<li>1</li>\n",
       "\t<li>5</li>\n",
       "\t<li>2</li>\n",
       "\t<li>7</li>\n",
       "\t<li>3</li>\n",
       "\t<li>9</li>\n",
       "</ol>\n"
      ],
      "text/latex": [
       "\\begin{enumerate*}\n",
       "\\item 3\n",
       "\\item 1\n",
       "\\item 5\n",
       "\\item 2\n",
       "\\item 7\n",
       "\\item 3\n",
       "\\item 9\n",
       "\\end{enumerate*}\n"
      ],
      "text/markdown": [
       "1. 3\n",
       "2. 1\n",
       "3. 5\n",
       "4. 2\n",
       "5. 7\n",
       "6. 3\n",
       "7. 9\n",
       "\n",
       "\n"
      ],
      "text/plain": [
       "[1] 3 1 5 2 7 3 9"
      ]
     },
     "metadata": {},
     "output_type": "display_data"
    },
    {
     "data": {
      "text/html": [
       "<ol class=list-inline>\n",
       "\t<li>-7</li>\n",
       "\t<li>-1</li>\n",
       "\t<li>2</li>\n",
       "\t<li>3</li>\n",
       "\t<li>3</li>\n",
       "\t<li>5</li>\n",
       "\t<li>9</li>\n",
       "</ol>\n"
      ],
      "text/latex": [
       "\\begin{enumerate*}\n",
       "\\item -7\n",
       "\\item -1\n",
       "\\item 2\n",
       "\\item 3\n",
       "\\item 3\n",
       "\\item 5\n",
       "\\item 9\n",
       "\\end{enumerate*}\n"
      ],
      "text/markdown": [
       "1. -7\n",
       "2. -1\n",
       "3. 2\n",
       "4. 3\n",
       "5. 3\n",
       "6. 5\n",
       "7. 9\n",
       "\n",
       "\n"
      ],
      "text/plain": [
       "[1] -7 -1  2  3  3  5  9"
      ]
     },
     "metadata": {},
     "output_type": "display_data"
    },
    {
     "data": {
      "text/html": [
       "<ol class=list-inline>\n",
       "\t<li>5</li>\n",
       "\t<li>2</li>\n",
       "\t<li>4</li>\n",
       "\t<li>1</li>\n",
       "\t<li>6</li>\n",
       "\t<li>3</li>\n",
       "\t<li>7</li>\n",
       "</ol>\n"
      ],
      "text/latex": [
       "\\begin{enumerate*}\n",
       "\\item 5\n",
       "\\item 2\n",
       "\\item 4\n",
       "\\item 1\n",
       "\\item 6\n",
       "\\item 3\n",
       "\\item 7\n",
       "\\end{enumerate*}\n"
      ],
      "text/markdown": [
       "1. 5\n",
       "2. 2\n",
       "3. 4\n",
       "4. 1\n",
       "5. 6\n",
       "6. 3\n",
       "7. 7\n",
       "\n",
       "\n"
      ],
      "text/plain": [
       "[1] 5 2 4 1 6 3 7"
      ]
     },
     "metadata": {},
     "output_type": "display_data"
    }
   ],
   "source": [
    "a <- c(3,-1,5,2,-7,3,9)\n",
    "abs(a);sort(a);\n",
    "order(a) #indices "
   ]
  },
  {
   "cell_type": "markdown",
   "metadata": {},
   "source": [
    "3.5 Facteurs\n",
    "Un facteur est un vecteur avec une liste prédéfinie de valeurs, les niveaux (\\emph{levels}). Cela correspond typiquement à une variable qualitative nominale."
   ]
  },
  {
   "cell_type": "code",
   "execution_count": 72,
   "metadata": {},
   "outputs": [
    {
     "data": {
      "text/html": [
       "<ol class=list-inline>\n",
       "\t<li>'a'</li>\n",
       "\t<li>'b'</li>\n",
       "\t<li>'c'</li>\n",
       "\t<li>'b'</li>\n",
       "\t<li>'b'</li>\n",
       "\t<li>'a'</li>\n",
       "</ol>\n"
      ],
      "text/latex": [
       "\\begin{enumerate*}\n",
       "\\item 'a'\n",
       "\\item 'b'\n",
       "\\item 'c'\n",
       "\\item 'b'\n",
       "\\item 'b'\n",
       "\\item 'a'\n",
       "\\end{enumerate*}\n"
      ],
      "text/markdown": [
       "1. 'a'\n",
       "2. 'b'\n",
       "3. 'c'\n",
       "4. 'b'\n",
       "5. 'b'\n",
       "6. 'a'\n",
       "\n",
       "\n"
      ],
      "text/plain": [
       "[1] \"a\" \"b\" \"c\" \"b\" \"b\" \"a\""
      ]
     },
     "metadata": {},
     "output_type": "display_data"
    }
   ],
   "source": [
    "vect=c(\"a\",\"b\",\"c\",\"b\",\"b\",\"a\")\n",
    "vect"
   ]
  },
  {
   "cell_type": "code",
   "execution_count": 74,
   "metadata": {},
   "outputs": [
    {
     "data": {
      "text/html": [
       "<ol class=list-inline>\n",
       "\t<li>a</li>\n",
       "\t<li>b</li>\n",
       "\t<li>c</li>\n",
       "\t<li>b</li>\n",
       "\t<li>b</li>\n",
       "\t<li>a</li>\n",
       "</ol>\n"
      ],
      "text/latex": [
       "\\begin{enumerate*}\n",
       "\\item a\n",
       "\\item b\n",
       "\\item c\n",
       "\\item b\n",
       "\\item b\n",
       "\\item a\n",
       "\\end{enumerate*}\n"
      ],
      "text/markdown": [
       "1. a\n",
       "2. b\n",
       "3. c\n",
       "4. b\n",
       "5. b\n",
       "6. a\n",
       "\n",
       "\n"
      ],
      "text/plain": [
       "[1] a b c b b a\n",
       "Levels: a b c"
      ]
     },
     "metadata": {},
     "output_type": "display_data"
    }
   ],
   "source": [
    "vect.f=as.factor(vect)\n",
    "vect.f"
   ]
  },
  {
   "cell_type": "code",
   "execution_count": 75,
   "metadata": {},
   "outputs": [
    {
     "data": {
      "text/html": [
       "<ol class=list-inline>\n",
       "\t<li>1</li>\n",
       "\t<li>2</li>\n",
       "\t<li>3</li>\n",
       "\t<li>2</li>\n",
       "\t<li>2</li>\n",
       "\t<li>1</li>\n",
       "</ol>\n"
      ],
      "text/latex": [
       "\\begin{enumerate*}\n",
       "\\item 1\n",
       "\\item 2\n",
       "\\item 3\n",
       "\\item 2\n",
       "\\item 2\n",
       "\\item 1\n",
       "\\end{enumerate*}\n"
      ],
      "text/markdown": [
       "1. 1\n",
       "2. 2\n",
       "3. 3\n",
       "4. 2\n",
       "5. 2\n",
       "6. 1\n",
       "\n",
       "\n"
      ],
      "text/plain": [
       "[1] 1 2 3 2 2 1"
      ]
     },
     "metadata": {},
     "output_type": "display_data"
    }
   ],
   "source": [
    "as.integer(vect.f)"
   ]
  },
  {
   "cell_type": "code",
   "execution_count": 76,
   "metadata": {},
   "outputs": [
    {
     "data": {
      "text/html": [
       "<ol class=list-inline>\n",
       "\t<li>'a'</li>\n",
       "\t<li>'b'</li>\n",
       "\t<li>'c'</li>\n",
       "\t<li>'b'</li>\n",
       "\t<li>'b'</li>\n",
       "\t<li>'a'</li>\n",
       "</ol>\n"
      ],
      "text/latex": [
       "\\begin{enumerate*}\n",
       "\\item 'a'\n",
       "\\item 'b'\n",
       "\\item 'c'\n",
       "\\item 'b'\n",
       "\\item 'b'\n",
       "\\item 'a'\n",
       "\\end{enumerate*}\n"
      ],
      "text/markdown": [
       "1. 'a'\n",
       "2. 'b'\n",
       "3. 'c'\n",
       "4. 'b'\n",
       "5. 'b'\n",
       "6. 'a'\n",
       "\n",
       "\n"
      ],
      "text/plain": [
       "[1] \"a\" \"b\" \"c\" \"b\" \"b\" \"a\""
      ]
     },
     "metadata": {},
     "output_type": "display_data"
    }
   ],
   "source": [
    "as.character(vect.f)"
   ]
  },
  {
   "cell_type": "markdown",
   "metadata": {},
   "source": [
    "### 3.6 Les matrices (`matrix`)\n",
    "Comme les vecteurs, les matrices sont de mode quelconque mais ne\n",
    "contiennent que des éléments de même nature. Pour créer une matrice, on utilise\n",
    "la commande `matrix(vec,nrow=n,ncol=p)` où `vec` est le vecteur\n",
    "contenant les éléments de la matrice de taille *n* par *p*, qui seront rangés en\n",
    "colonne sauf si l'option `byrow=T` est utilisée."
   ]
  },
  {
   "cell_type": "code",
   "execution_count": 77,
   "metadata": {},
   "outputs": [
    {
     "data": {
      "text/html": [
       "<table>\n",
       "<tbody>\n",
       "\t<tr><td>1 </td><td>4 </td><td>7 </td><td>10</td><td>13</td></tr>\n",
       "\t<tr><td>2 </td><td>5 </td><td>8 </td><td>11</td><td>14</td></tr>\n",
       "\t<tr><td>3 </td><td>6 </td><td>9 </td><td>12</td><td>15</td></tr>\n",
       "</tbody>\n",
       "</table>\n"
      ],
      "text/latex": [
       "\\begin{tabular}{lllll}\n",
       "\t 1  & 4  & 7  & 10 & 13\\\\\n",
       "\t 2  & 5  & 8  & 11 & 14\\\\\n",
       "\t 3  & 6  & 9  & 12 & 15\\\\\n",
       "\\end{tabular}\n"
      ],
      "text/markdown": [
       "\n",
       "| 1  | 4  | 7  | 10 | 13 | \n",
       "| 2  | 5  | 8  | 11 | 14 | \n",
       "| 3  | 6  | 9  | 12 | 15 | \n",
       "\n",
       "\n"
      ],
      "text/plain": [
       "     [,1] [,2] [,3] [,4] [,5]\n",
       "[1,] 1    4    7    10   13  \n",
       "[2,] 2    5    8    11   14  \n",
       "[3,] 3    6    9    12   15  "
      ]
     },
     "metadata": {},
     "output_type": "display_data"
    },
    {
     "data": {
      "text/html": [
       "<table>\n",
       "<tbody>\n",
       "\t<tr><td>toto</td><td>2   </td><td>3   </td><td>4   </td><td>5   </td></tr>\n",
       "\t<tr><td>6   </td><td>7   </td><td>8   </td><td>9   </td><td>10  </td></tr>\n",
       "\t<tr><td>11  </td><td>12  </td><td>13  </td><td>14  </td><td>15  </td></tr>\n",
       "</tbody>\n",
       "</table>\n"
      ],
      "text/latex": [
       "\\begin{tabular}{lllll}\n",
       "\t toto & 2    & 3    & 4    & 5   \\\\\n",
       "\t 6    & 7    & 8    & 9    & 10  \\\\\n",
       "\t 11   & 12   & 13   & 14   & 15  \\\\\n",
       "\\end{tabular}\n"
      ],
      "text/markdown": [
       "\n",
       "| toto | 2    | 3    | 4    | 5    | \n",
       "| 6    | 7    | 8    | 9    | 10   | \n",
       "| 11   | 12   | 13   | 14   | 15   | \n",
       "\n",
       "\n"
      ],
      "text/plain": [
       "     [,1] [,2] [,3] [,4] [,5]\n",
       "[1,] toto 2    3    4    5   \n",
       "[2,] 6    7    8    9    10  \n",
       "[3,] 11   12   13   14   15  "
      ]
     },
     "metadata": {},
     "output_type": "display_data"
    }
   ],
   "source": [
    "A = matrix(1:15,ncol=5);A\n",
    "B = matrix(1:15,nc=5,byrow=T)\n",
    "B2=B;B2[1,1]=\"toto\";B2"
   ]
  },
  {
   "cell_type": "code",
   "execution_count": 78,
   "metadata": {},
   "outputs": [
    {
     "data": {
      "text/html": [
       "<table>\n",
       "<tbody>\n",
       "\t<tr><td>1 </td><td>4 </td><td>7 </td><td>10</td><td>13</td><td> 1</td><td> 2</td><td> 3</td><td> 4</td><td> 5</td></tr>\n",
       "\t<tr><td>2 </td><td>5 </td><td>8 </td><td>11</td><td>14</td><td> 6</td><td> 7</td><td> 8</td><td> 9</td><td>10</td></tr>\n",
       "\t<tr><td>3 </td><td>6 </td><td>9 </td><td>12</td><td>15</td><td>11</td><td>12</td><td>13</td><td>14</td><td>15</td></tr>\n",
       "</tbody>\n",
       "</table>\n"
      ],
      "text/latex": [
       "\\begin{tabular}{llllllllll}\n",
       "\t 1  & 4  & 7  & 10 & 13 &  1 &  2 &  3 &  4 &  5\\\\\n",
       "\t 2  & 5  & 8  & 11 & 14 &  6 &  7 &  8 &  9 & 10\\\\\n",
       "\t 3  & 6  & 9  & 12 & 15 & 11 & 12 & 13 & 14 & 15\\\\\n",
       "\\end{tabular}\n"
      ],
      "text/markdown": [
       "\n",
       "| 1  | 4  | 7  | 10 | 13 |  1 |  2 |  3 |  4 |  5 | \n",
       "| 2  | 5  | 8  | 11 | 14 |  6 |  7 |  8 |  9 | 10 | \n",
       "| 3  | 6  | 9  | 12 | 15 | 11 | 12 | 13 | 14 | 15 | \n",
       "\n",
       "\n"
      ],
      "text/plain": [
       "     [,1] [,2] [,3] [,4] [,5] [,6] [,7] [,8] [,9] [,10]\n",
       "[1,] 1    4    7    10   13    1    2    3    4    5   \n",
       "[2,] 2    5    8    11   14    6    7    8    9   10   \n",
       "[3,] 3    6    9    12   15   11   12   13   14   15   "
      ]
     },
     "metadata": {},
     "output_type": "display_data"
    },
    {
     "data": {
      "text/html": [
       "<table>\n",
       "<tbody>\n",
       "\t<tr><td> 1</td><td> 4</td><td> 7</td><td>10</td><td>13</td></tr>\n",
       "\t<tr><td> 2</td><td> 5</td><td> 8</td><td>11</td><td>14</td></tr>\n",
       "\t<tr><td> 3</td><td> 6</td><td> 9</td><td>12</td><td>15</td></tr>\n",
       "\t<tr><td> 1</td><td> 2</td><td> 3</td><td> 4</td><td> 5</td></tr>\n",
       "\t<tr><td> 6</td><td> 7</td><td> 8</td><td> 9</td><td>10</td></tr>\n",
       "\t<tr><td>11</td><td>12</td><td>13</td><td>14</td><td>15</td></tr>\n",
       "</tbody>\n",
       "</table>\n"
      ],
      "text/latex": [
       "\\begin{tabular}{lllll}\n",
       "\t  1 &  4 &  7 & 10 & 13\\\\\n",
       "\t  2 &  5 &  8 & 11 & 14\\\\\n",
       "\t  3 &  6 &  9 & 12 & 15\\\\\n",
       "\t  1 &  2 &  3 &  4 &  5\\\\\n",
       "\t  6 &  7 &  8 &  9 & 10\\\\\n",
       "\t 11 & 12 & 13 & 14 & 15\\\\\n",
       "\\end{tabular}\n"
      ],
      "text/markdown": [
       "\n",
       "|  1 |  4 |  7 | 10 | 13 | \n",
       "|  2 |  5 |  8 | 11 | 14 | \n",
       "|  3 |  6 |  9 | 12 | 15 | \n",
       "|  1 |  2 |  3 |  4 |  5 | \n",
       "|  6 |  7 |  8 |  9 | 10 | \n",
       "| 11 | 12 | 13 | 14 | 15 | \n",
       "\n",
       "\n"
      ],
      "text/plain": [
       "     [,1] [,2] [,3] [,4] [,5]\n",
       "[1,]  1    4    7   10   13  \n",
       "[2,]  2    5    8   11   14  \n",
       "[3,]  3    6    9   12   15  \n",
       "[4,]  1    2    3    4    5  \n",
       "[5,]  6    7    8    9   10  \n",
       "[6,] 11   12   13   14   15  "
      ]
     },
     "metadata": {},
     "output_type": "display_data"
    }
   ],
   "source": [
    "cbind(A,B);rbind(A,B) # concaténations"
   ]
  },
  {
   "cell_type": "code",
   "execution_count": 79,
   "metadata": {},
   "outputs": [
    {
     "data": {
      "text/html": [
       "7"
      ],
      "text/latex": [
       "7"
      ],
      "text/markdown": [
       "7"
      ],
      "text/plain": [
       "[1] 7"
      ]
     },
     "metadata": {},
     "output_type": "display_data"
    },
    {
     "data": {
      "text/html": [
       "<ol class=list-inline>\n",
       "\t<li>4</li>\n",
       "\t<li>5</li>\n",
       "\t<li>6</li>\n",
       "</ol>\n"
      ],
      "text/latex": [
       "\\begin{enumerate*}\n",
       "\\item 4\n",
       "\\item 5\n",
       "\\item 6\n",
       "\\end{enumerate*}\n"
      ],
      "text/markdown": [
       "1. 4\n",
       "2. 5\n",
       "3. 6\n",
       "\n",
       "\n"
      ],
      "text/plain": [
       "[1] 4 5 6"
      ]
     },
     "metadata": {},
     "output_type": "display_data"
    },
    {
     "data": {
      "text/html": [
       "<ol class=list-inline>\n",
       "\t<li>6</li>\n",
       "\t<li>7</li>\n",
       "\t<li>8</li>\n",
       "\t<li>9</li>\n",
       "\t<li>10</li>\n",
       "</ol>\n"
      ],
      "text/latex": [
       "\\begin{enumerate*}\n",
       "\\item 6\n",
       "\\item 7\n",
       "\\item 8\n",
       "\\item 9\n",
       "\\item 10\n",
       "\\end{enumerate*}\n"
      ],
      "text/markdown": [
       "1. 6\n",
       "2. 7\n",
       "3. 8\n",
       "4. 9\n",
       "5. 10\n",
       "\n",
       "\n"
      ],
      "text/plain": [
       "[1]  6  7  8  9 10"
      ]
     },
     "metadata": {},
     "output_type": "display_data"
    }
   ],
   "source": [
    "A[1,3];A[,2];B[2,] # composants"
   ]
  },
  {
   "cell_type": "code",
   "execution_count": 80,
   "metadata": {},
   "outputs": [
    {
     "data": {
      "text/html": [
       "<table>\n",
       "<tbody>\n",
       "\t<tr><td>4 </td><td>7 </td><td>10</td></tr>\n",
       "\t<tr><td>5 </td><td>8 </td><td>11</td></tr>\n",
       "\t<tr><td>6 </td><td>9 </td><td>12</td></tr>\n",
       "</tbody>\n",
       "</table>\n"
      ],
      "text/latex": [
       "\\begin{tabular}{lll}\n",
       "\t 4  & 7  & 10\\\\\n",
       "\t 5  & 8  & 11\\\\\n",
       "\t 6  & 9  & 12\\\\\n",
       "\\end{tabular}\n"
      ],
      "text/markdown": [
       "\n",
       "| 4  | 7  | 10 | \n",
       "| 5  | 8  | 11 | \n",
       "| 6  | 9  | 12 | \n",
       "\n",
       "\n"
      ],
      "text/plain": [
       "     [,1] [,2] [,3]\n",
       "[1,] 4    7    10  \n",
       "[2,] 5    8    11  \n",
       "[3,] 6    9    12  "
      ]
     },
     "metadata": {},
     "output_type": "display_data"
    }
   ],
   "source": [
    "A[1:3,2:4]"
   ]
  },
  {
   "cell_type": "markdown",
   "metadata": {},
   "source": [
    "Opérations sur les matrices"
   ]
  },
  {
   "cell_type": "code",
   "execution_count": 83,
   "metadata": {},
   "outputs": [
    {
     "data": {
      "text/html": [
       "<ol class=list-inline>\n",
       "\t<li>4</li>\n",
       "\t<li>5</li>\n",
       "</ol>\n"
      ],
      "text/latex": [
       "\\begin{enumerate*}\n",
       "\\item 4\n",
       "\\item 5\n",
       "\\end{enumerate*}\n"
      ],
      "text/markdown": [
       "1. 4\n",
       "2. 5\n",
       "\n",
       "\n"
      ],
      "text/plain": [
       "[1] 4 5"
      ]
     },
     "metadata": {},
     "output_type": "display_data"
    }
   ],
   "source": [
    "g = seq(0,1,length=20)\n",
    "C = matrix(g,nrow=4)\n",
    "dim(C)"
   ]
  },
  {
   "cell_type": "code",
   "execution_count": 85,
   "metadata": {},
   "outputs": [
    {
     "data": {
      "text/html": [
       "<table>\n",
       "<tbody>\n",
       "\t<tr><td>0.00000000</td><td>0.2105263 </td><td>0.4210526 </td><td>0.6315789 </td><td>0.8421053 </td></tr>\n",
       "\t<tr><td>0.05263158</td><td>0.2631579 </td><td>0.4736842 </td><td>0.6842105 </td><td>0.8947368 </td></tr>\n",
       "\t<tr><td>0.10526316</td><td>0.3157895 </td><td>0.5263158 </td><td>0.7368421 </td><td>0.9473684 </td></tr>\n",
       "\t<tr><td>0.15789474</td><td>0.3684211 </td><td>0.5789474 </td><td>0.7894737 </td><td>1.0000000 </td></tr>\n",
       "</tbody>\n",
       "</table>\n"
      ],
      "text/latex": [
       "\\begin{tabular}{lllll}\n",
       "\t 0.00000000 & 0.2105263  & 0.4210526  & 0.6315789  & 0.8421053 \\\\\n",
       "\t 0.05263158 & 0.2631579  & 0.4736842  & 0.6842105  & 0.8947368 \\\\\n",
       "\t 0.10526316 & 0.3157895  & 0.5263158  & 0.7368421  & 0.9473684 \\\\\n",
       "\t 0.15789474 & 0.3684211  & 0.5789474  & 0.7894737  & 1.0000000 \\\\\n",
       "\\end{tabular}\n"
      ],
      "text/markdown": [
       "\n",
       "| 0.00000000 | 0.2105263  | 0.4210526  | 0.6315789  | 0.8421053  | \n",
       "| 0.05263158 | 0.2631579  | 0.4736842  | 0.6842105  | 0.8947368  | \n",
       "| 0.10526316 | 0.3157895  | 0.5263158  | 0.7368421  | 0.9473684  | \n",
       "| 0.15789474 | 0.3684211  | 0.5789474  | 0.7894737  | 1.0000000  | \n",
       "\n",
       "\n"
      ],
      "text/plain": [
       "     [,1]       [,2]      [,3]      [,4]      [,5]     \n",
       "[1,] 0.00000000 0.2105263 0.4210526 0.6315789 0.8421053\n",
       "[2,] 0.05263158 0.2631579 0.4736842 0.6842105 0.8947368\n",
       "[3,] 0.10526316 0.3157895 0.5263158 0.7368421 0.9473684\n",
       "[4,] 0.15789474 0.3684211 0.5789474 0.7894737 1.0000000"
      ]
     },
     "metadata": {},
     "output_type": "display_data"
    },
    {
     "data": {
      "text/html": [
       "<table>\n",
       "<tbody>\n",
       "\t<tr><td>0.1052632</td><td>0.3157895</td><td>0.5263158</td><td>0.7368421</td><td>0.9473684</td></tr>\n",
       "\t<tr><td>0.1578947</td><td>0.3684211</td><td>0.5789474</td><td>0.7894737</td><td>1.0000000</td></tr>\n",
       "</tbody>\n",
       "</table>\n"
      ],
      "text/latex": [
       "\\begin{tabular}{lllll}\n",
       "\t 0.1052632 & 0.3157895 & 0.5263158 & 0.7368421 & 0.9473684\\\\\n",
       "\t 0.1578947 & 0.3684211 & 0.5789474 & 0.7894737 & 1.0000000\\\\\n",
       "\\end{tabular}\n"
      ],
      "text/markdown": [
       "\n",
       "| 0.1052632 | 0.3157895 | 0.5263158 | 0.7368421 | 0.9473684 | \n",
       "| 0.1578947 | 0.3684211 | 0.5789474 | 0.7894737 | 1.0000000 | \n",
       "\n",
       "\n"
      ],
      "text/plain": [
       "     [,1]      [,2]      [,3]      [,4]      [,5]     \n",
       "[1,] 0.1052632 0.3157895 0.5263158 0.7368421 0.9473684\n",
       "[2,] 0.1578947 0.3684211 0.5789474 0.7894737 1.0000000"
      ]
     },
     "metadata": {},
     "output_type": "display_data"
    }
   ],
   "source": [
    "C;\n",
    "C[C[,1]>0.1,]  # * voir question ci-dessous"
   ]
  },
  {
   "cell_type": "code",
   "execution_count": 86,
   "metadata": {},
   "outputs": [
    {
     "data": {
      "text/html": [
       "<table>\n",
       "<tbody>\n",
       "\t<tr><td> TRUE</td><td>FALSE</td><td> TRUE</td><td>FALSE</td></tr>\n",
       "\t<tr><td> TRUE</td><td>FALSE</td><td> TRUE</td><td> TRUE</td></tr>\n",
       "\t<tr><td>FALSE</td><td>FALSE</td><td>FALSE</td><td> TRUE</td></tr>\n",
       "\t<tr><td>FALSE</td><td> TRUE</td><td> TRUE</td><td> TRUE</td></tr>\n",
       "</tbody>\n",
       "</table>\n"
      ],
      "text/latex": [
       "\\begin{tabular}{llll}\n",
       "\t  TRUE & FALSE &  TRUE & FALSE\\\\\n",
       "\t  TRUE & FALSE &  TRUE &  TRUE\\\\\n",
       "\t FALSE & FALSE & FALSE &  TRUE\\\\\n",
       "\t FALSE &  TRUE &  TRUE &  TRUE\\\\\n",
       "\\end{tabular}\n"
      ],
      "text/markdown": [
       "\n",
       "|  TRUE | FALSE |  TRUE | FALSE | \n",
       "|  TRUE | FALSE |  TRUE |  TRUE | \n",
       "| FALSE | FALSE | FALSE |  TRUE | \n",
       "| FALSE |  TRUE |  TRUE |  TRUE | \n",
       "\n",
       "\n"
      ],
      "text/plain": [
       "     [,1]  [,2]  [,3]  [,4] \n",
       "[1,]  TRUE FALSE  TRUE FALSE\n",
       "[2,]  TRUE FALSE  TRUE  TRUE\n",
       "[3,] FALSE FALSE FALSE  TRUE\n",
       "[4,] FALSE  TRUE  TRUE  TRUE"
      ]
     },
     "metadata": {},
     "output_type": "display_data"
    }
   ],
   "source": [
    "# ranunif : tirage aléatoire uniforme\n",
    "D = matrix(runif(16),ncol=4)\n",
    "D>0.5"
   ]
  },
  {
   "cell_type": "code",
   "execution_count": 91,
   "metadata": {},
   "outputs": [
    {
     "data": {
      "text/html": [
       "<table>\n",
       "<tbody>\n",
       "\t<tr><td>0.6813693 </td><td>0.0000000 </td><td>0.8195119 </td><td>0.06763874</td></tr>\n",
       "\t<tr><td>0.9588778 </td><td>0.0000000 </td><td>0.9187148 </td><td>0.89429445</td></tr>\n",
       "\t<tr><td>0.2420340 </td><td>0.4552378 </td><td>0.1439101 </td><td>0.76774210</td></tr>\n",
       "\t<tr><td>0.2488665 </td><td>0.6102864 </td><td>0.6704543 </td><td>0.50245170</td></tr>\n",
       "</tbody>\n",
       "</table>\n"
      ],
      "text/latex": [
       "\\begin{tabular}{llll}\n",
       "\t 0.6813693  & 0.0000000  & 0.8195119  & 0.06763874\\\\\n",
       "\t 0.9588778  & 0.0000000  & 0.9187148  & 0.89429445\\\\\n",
       "\t 0.2420340  & 0.4552378  & 0.1439101  & 0.76774210\\\\\n",
       "\t 0.2488665  & 0.6102864  & 0.6704543  & 0.50245170\\\\\n",
       "\\end{tabular}\n"
      ],
      "text/markdown": [
       "\n",
       "| 0.6813693  | 0.0000000  | 0.8195119  | 0.06763874 | \n",
       "| 0.9588778  | 0.0000000  | 0.9187148  | 0.89429445 | \n",
       "| 0.2420340  | 0.4552378  | 0.1439101  | 0.76774210 | \n",
       "| 0.2488665  | 0.6102864  | 0.6704543  | 0.50245170 | \n",
       "\n",
       "\n"
      ],
      "text/plain": [
       "     [,1]      [,2]      [,3]      [,4]      \n",
       "[1,] 0.6813693 0.0000000 0.8195119 0.06763874\n",
       "[2,] 0.9588778 0.0000000 0.9187148 0.89429445\n",
       "[3,] 0.2420340 0.4552378 0.1439101 0.76774210\n",
       "[4,] 0.2488665 0.6102864 0.6704543 0.50245170"
      ]
     },
     "metadata": {},
     "output_type": "display_data"
    }
   ],
   "source": [
    "D[D[,1]>0.5,2]=0 \n",
    "D# ** voir question ci-dessous"
   ]
  },
  {
   "cell_type": "code",
   "execution_count": 92,
   "metadata": {},
   "outputs": [
    {
     "data": {
      "text/html": [
       "<table>\n",
       "<tbody>\n",
       "\t<tr><td> 2</td><td> 6</td><td>10</td><td>14</td><td>18</td></tr>\n",
       "\t<tr><td> 8</td><td>12</td><td>16</td><td>20</td><td>24</td></tr>\n",
       "\t<tr><td>14</td><td>18</td><td>22</td><td>26</td><td>30</td></tr>\n",
       "</tbody>\n",
       "</table>\n"
      ],
      "text/latex": [
       "\\begin{tabular}{lllll}\n",
       "\t  2 &  6 & 10 & 14 & 18\\\\\n",
       "\t  8 & 12 & 16 & 20 & 24\\\\\n",
       "\t 14 & 18 & 22 & 26 & 30\\\\\n",
       "\\end{tabular}\n"
      ],
      "text/markdown": [
       "\n",
       "|  2 |  6 | 10 | 14 | 18 | \n",
       "|  8 | 12 | 16 | 20 | 24 | \n",
       "| 14 | 18 | 22 | 26 | 30 | \n",
       "\n",
       "\n"
      ],
      "text/plain": [
       "     [,1] [,2] [,3] [,4] [,5]\n",
       "[1,]  2    6   10   14   18  \n",
       "[2,]  8   12   16   20   24  \n",
       "[3,] 14   18   22   26   30  "
      ]
     },
     "metadata": {},
     "output_type": "display_data"
    },
    {
     "data": {
      "text/html": [
       "<table>\n",
       "<tbody>\n",
       "\t<tr><td> 1 </td><td> 8 </td><td> 21</td><td> 40</td><td> 65</td></tr>\n",
       "\t<tr><td>12 </td><td>35 </td><td> 64</td><td> 99</td><td>140</td></tr>\n",
       "\t<tr><td>33 </td><td>72 </td><td>117</td><td>168</td><td>225</td></tr>\n",
       "</tbody>\n",
       "</table>\n"
      ],
      "text/latex": [
       "\\begin{tabular}{lllll}\n",
       "\t  1  &  8  &  21 &  40 &  65\\\\\n",
       "\t 12  & 35  &  64 &  99 & 140\\\\\n",
       "\t 33  & 72  & 117 & 168 & 225\\\\\n",
       "\\end{tabular}\n"
      ],
      "text/markdown": [
       "\n",
       "|  1  |  8  |  21 |  40 |  65 | \n",
       "| 12  | 35  |  64 |  99 | 140 | \n",
       "| 33  | 72  | 117 | 168 | 225 | \n",
       "\n",
       "\n"
      ],
      "text/plain": [
       "     [,1] [,2] [,3] [,4] [,5]\n",
       "[1,]  1    8    21   40   65 \n",
       "[2,] 12   35    64   99  140 \n",
       "[3,] 33   72   117  168  225 "
      ]
     },
     "metadata": {},
     "output_type": "display_data"
    }
   ],
   "source": [
    "A+B;A*B  #  opérations terme à terme"
   ]
  },
  {
   "cell_type": "code",
   "execution_count": 93,
   "metadata": {},
   "outputs": [
    {
     "data": {
      "text/html": [
       "<table>\n",
       "<tbody>\n",
       "\t<tr><td> 0.5403023  </td><td>-0.6536436  </td><td> 0.7539023  </td><td>-0.839071529</td><td> 0.9074468  </td></tr>\n",
       "\t<tr><td>-0.4161468  </td><td> 0.2836622  </td><td>-0.1455000  </td><td> 0.004425698</td><td> 0.1367372  </td></tr>\n",
       "\t<tr><td>-0.9899925  </td><td> 0.9601703  </td><td>-0.9111303  </td><td> 0.843853959</td><td>-0.7596879  </td></tr>\n",
       "</tbody>\n",
       "</table>\n"
      ],
      "text/latex": [
       "\\begin{tabular}{lllll}\n",
       "\t  0.5403023   & -0.6536436   &  0.7539023   & -0.839071529 &  0.9074468  \\\\\n",
       "\t -0.4161468   &  0.2836622   & -0.1455000   &  0.004425698 &  0.1367372  \\\\\n",
       "\t -0.9899925   &  0.9601703   & -0.9111303   &  0.843853959 & -0.7596879  \\\\\n",
       "\\end{tabular}\n"
      ],
      "text/markdown": [
       "\n",
       "|  0.5403023   | -0.6536436   |  0.7539023   | -0.839071529 |  0.9074468   | \n",
       "| -0.4161468   |  0.2836622   | -0.1455000   |  0.004425698 |  0.1367372   | \n",
       "| -0.9899925   |  0.9601703   | -0.9111303   |  0.843853959 | -0.7596879   | \n",
       "\n",
       "\n"
      ],
      "text/plain": [
       "     [,1]       [,2]       [,3]       [,4]         [,5]      \n",
       "[1,]  0.5403023 -0.6536436  0.7539023 -0.839071529  0.9074468\n",
       "[2,] -0.4161468  0.2836622 -0.1455000  0.004425698  0.1367372\n",
       "[3,] -0.9899925  0.9601703 -0.9111303  0.843853959 -0.7596879"
      ]
     },
     "metadata": {},
     "output_type": "display_data"
    },
    {
     "data": {
      "text/html": [
       "<table>\n",
       "<tbody>\n",
       "\t<tr><td> 0.5403023</td><td>-0.6536436</td></tr>\n",
       "\t<tr><td>-0.4161468</td><td> 0.2836622</td></tr>\n",
       "</tbody>\n",
       "</table>\n"
      ],
      "text/latex": [
       "\\begin{tabular}{ll}\n",
       "\t  0.5403023 & -0.6536436\\\\\n",
       "\t -0.4161468 &  0.2836622\\\\\n",
       "\\end{tabular}\n"
      ],
      "text/markdown": [
       "\n",
       "|  0.5403023 | -0.6536436 | \n",
       "| -0.4161468 |  0.2836622 | \n",
       "\n",
       "\n"
      ],
      "text/plain": [
       "     [,1]       [,2]      \n",
       "[1,]  0.5403023 -0.6536436\n",
       "[2,] -0.4161468  0.2836622"
      ]
     },
     "metadata": {},
     "output_type": "display_data"
    }
   ],
   "source": [
    "cos(A); cos(A[1:2,1:2])"
   ]
  },
  {
   "cell_type": "code",
   "execution_count": 94,
   "metadata": {},
   "outputs": [
    {
     "ename": "ERROR",
     "evalue": "Error in solve.default(A): 'a' (3 x 5) doit être carrée\n",
     "output_type": "error",
     "traceback": [
      "Error in solve.default(A): 'a' (3 x 5) doit être carrée\nTraceback:\n",
      "1. solve(A)",
      "2. solve.default(A)"
     ]
    },
    {
     "data": {
      "text/html": [
       "<table>\n",
       "<tbody>\n",
       "\t<tr><td>-1.6666667</td><td> 1.3333333</td></tr>\n",
       "\t<tr><td> 0.6666667</td><td>-0.3333333</td></tr>\n",
       "</tbody>\n",
       "</table>\n"
      ],
      "text/latex": [
       "\\begin{tabular}{ll}\n",
       "\t -1.6666667 &  1.3333333\\\\\n",
       "\t  0.6666667 & -0.3333333\\\\\n",
       "\\end{tabular}\n"
      ],
      "text/markdown": [
       "\n",
       "| -1.6666667 |  1.3333333 | \n",
       "|  0.6666667 | -0.3333333 | \n",
       "\n",
       "\n"
      ],
      "text/plain": [
       "     [,1]       [,2]      \n",
       "[1,] -1.6666667  1.3333333\n",
       "[2,]  0.6666667 -0.3333333"
      ]
     },
     "metadata": {},
     "output_type": "display_data"
    }
   ],
   "source": [
    "# inversion\n",
    "solve(A);solve(A[1:2,1:2])"
   ]
  },
  {
   "cell_type": "code",
   "execution_count": 97,
   "metadata": {},
   "outputs": [
    {
     "data": {
      "text/html": [
       "<table>\n",
       "<tbody>\n",
       "\t<tr><td> 46</td><td> 52</td><td> 58</td><td> 64</td><td> 70</td></tr>\n",
       "\t<tr><td>100</td><td>115</td><td>130</td><td>145</td><td>160</td></tr>\n",
       "\t<tr><td>154</td><td>178</td><td>202</td><td>226</td><td>250</td></tr>\n",
       "\t<tr><td>208</td><td>241</td><td>274</td><td>307</td><td>340</td></tr>\n",
       "\t<tr><td>262</td><td>304</td><td>346</td><td>388</td><td>430</td></tr>\n",
       "</tbody>\n",
       "</table>\n"
      ],
      "text/latex": [
       "\\begin{tabular}{lllll}\n",
       "\t  46 &  52 &  58 &  64 &  70\\\\\n",
       "\t 100 & 115 & 130 & 145 & 160\\\\\n",
       "\t 154 & 178 & 202 & 226 & 250\\\\\n",
       "\t 208 & 241 & 274 & 307 & 340\\\\\n",
       "\t 262 & 304 & 346 & 388 & 430\\\\\n",
       "\\end{tabular}\n"
      ],
      "text/markdown": [
       "\n",
       "|  46 |  52 |  58 |  64 |  70 | \n",
       "| 100 | 115 | 130 | 145 | 160 | \n",
       "| 154 | 178 | 202 | 226 | 250 | \n",
       "| 208 | 241 | 274 | 307 | 340 | \n",
       "| 262 | 304 | 346 | 388 | 430 | \n",
       "\n",
       "\n"
      ],
      "text/plain": [
       "     [,1] [,2] [,3] [,4] [,5]\n",
       "[1,]  46   52   58   64   70 \n",
       "[2,] 100  115  130  145  160 \n",
       "[3,] 154  178  202  226  250 \n",
       "[4,] 208  241  274  307  340 \n",
       "[5,] 262  304  346  388  430 "
      ]
     },
     "metadata": {},
     "output_type": "display_data"
    }
   ],
   "source": [
    "# produit matriciel\n",
    "t(A) %*% B"
   ]
  },
  {
   "cell_type": "code",
   "execution_count": 98,
   "metadata": {},
   "outputs": [
    {
     "data": {
      "text/html": [
       "<table>\n",
       "<tbody>\n",
       "\t<tr><td>25</td><td>30</td><td>35</td></tr>\n",
       "\t<tr><td>32</td><td>39</td><td>46</td></tr>\n",
       "</tbody>\n",
       "</table>\n"
      ],
      "text/latex": [
       "\\begin{tabular}{lll}\n",
       "\t 25 & 30 & 35\\\\\n",
       "\t 32 & 39 & 46\\\\\n",
       "\\end{tabular}\n"
      ],
      "text/markdown": [
       "\n",
       "| 25 | 30 | 35 | \n",
       "| 32 | 39 | 46 | \n",
       "\n",
       "\n"
      ],
      "text/plain": [
       "     [,1] [,2] [,3]\n",
       "[1,] 25   30   35  \n",
       "[2,] 32   39   46  "
      ]
     },
     "metadata": {},
     "output_type": "display_data"
    }
   ],
   "source": [
    "A[1:2,1:2] %*% B[1:2,1:3]"
   ]
  },
  {
   "cell_type": "code",
   "execution_count": 99,
   "metadata": {},
   "outputs": [
    {
     "data": {
      "text/html": [
       "<table>\n",
       "<tbody>\n",
       "\t<tr><td>1 </td><td> 6</td><td>11</td></tr>\n",
       "\t<tr><td>2 </td><td> 7</td><td>12</td></tr>\n",
       "\t<tr><td>3 </td><td> 8</td><td>13</td></tr>\n",
       "\t<tr><td>4 </td><td> 9</td><td>14</td></tr>\n",
       "\t<tr><td>5 </td><td>10</td><td>15</td></tr>\n",
       "</tbody>\n",
       "</table>\n"
      ],
      "text/latex": [
       "\\begin{tabular}{lll}\n",
       "\t 1  &  6 & 11\\\\\n",
       "\t 2  &  7 & 12\\\\\n",
       "\t 3  &  8 & 13\\\\\n",
       "\t 4  &  9 & 14\\\\\n",
       "\t 5  & 10 & 15\\\\\n",
       "\\end{tabular}\n"
      ],
      "text/markdown": [
       "\n",
       "| 1  |  6 | 11 | \n",
       "| 2  |  7 | 12 | \n",
       "| 3  |  8 | 13 | \n",
       "| 4  |  9 | 14 | \n",
       "| 5  | 10 | 15 | \n",
       "\n",
       "\n"
      ],
      "text/plain": [
       "     [,1] [,2] [,3]\n",
       "[1,] 1     6   11  \n",
       "[2,] 2     7   12  \n",
       "[3,] 3     8   13  \n",
       "[4,] 4     9   14  \n",
       "[5,] 5    10   15  "
      ]
     },
     "metadata": {},
     "output_type": "display_data"
    },
    {
     "data": {
      "text/html": [
       "<ol class=list-inline>\n",
       "\t<li>1</li>\n",
       "\t<li>5</li>\n",
       "\t<li>9</li>\n",
       "</ol>\n"
      ],
      "text/latex": [
       "\\begin{enumerate*}\n",
       "\\item 1\n",
       "\\item 5\n",
       "\\item 9\n",
       "\\end{enumerate*}\n"
      ],
      "text/markdown": [
       "1. 1\n",
       "2. 5\n",
       "3. 9\n",
       "\n",
       "\n"
      ],
      "text/plain": [
       "[1] 1 5 9"
      ]
     },
     "metadata": {},
     "output_type": "display_data"
    }
   ],
   "source": [
    "t(B); \n",
    "diag(A) #vecteur contenant les termes diag"
   ]
  },
  {
   "cell_type": "code",
   "execution_count": 100,
   "metadata": {},
   "outputs": [
    {
     "data": {
      "text/html": [
       "<ol class=list-inline>\n",
       "\t<li>6</li>\n",
       "\t<li>15</li>\n",
       "\t<li>24</li>\n",
       "\t<li>33</li>\n",
       "\t<li>42</li>\n",
       "</ol>\n"
      ],
      "text/latex": [
       "\\begin{enumerate*}\n",
       "\\item 6\n",
       "\\item 15\n",
       "\\item 24\n",
       "\\item 33\n",
       "\\item 42\n",
       "\\end{enumerate*}\n"
      ],
      "text/markdown": [
       "1. 6\n",
       "2. 15\n",
       "3. 24\n",
       "4. 33\n",
       "5. 42\n",
       "\n",
       "\n"
      ],
      "text/plain": [
       "[1]  6 15 24 33 42"
      ]
     },
     "metadata": {},
     "output_type": "display_data"
    }
   ],
   "source": [
    "apply(A,2,sum)   # *** voir question ci-dessous"
   ]
  },
  {
   "cell_type": "code",
   "execution_count": 101,
   "metadata": {},
   "outputs": [
    {
     "data": {
      "text/html": [
       "<ol class=list-inline>\n",
       "\t<li>0.819511905545369</li>\n",
       "\t<li>0.958877823781222</li>\n",
       "\t<li>0.767742103664204</li>\n",
       "\t<li>0.670454318169504</li>\n",
       "</ol>\n"
      ],
      "text/latex": [
       "\\begin{enumerate*}\n",
       "\\item 0.819511905545369\n",
       "\\item 0.958877823781222\n",
       "\\item 0.767742103664204\n",
       "\\item 0.670454318169504\n",
       "\\end{enumerate*}\n"
      ],
      "text/markdown": [
       "1. 0.819511905545369\n",
       "2. 0.958877823781222\n",
       "3. 0.767742103664204\n",
       "4. 0.670454318169504\n",
       "\n",
       "\n"
      ],
      "text/plain": [
       "[1] 0.8195119 0.9588778 0.7677421 0.6704543"
      ]
     },
     "metadata": {},
     "output_type": "display_data"
    }
   ],
   "source": [
    "apply(D,1,max)"
   ]
  },
  {
   "cell_type": "code",
   "execution_count": 103,
   "metadata": {},
   "outputs": [
    {
     "data": {
      "text/plain": [
       "eigen() decomposition\n",
       "$values\n",
       "[1] 12.244998 -0.244998\n",
       "\n",
       "$vectors\n",
       "           [,1]       [,2]\n",
       "[1,] -0.6472056 -0.8550584\n",
       "[2,] -0.7623155  0.5185316\n"
      ]
     },
     "metadata": {},
     "output_type": "display_data"
    },
    {
     "data": {
      "text/html": [
       "<ol class=list-inline>\n",
       "\t<li>12.2449979983984</li>\n",
       "\t<li>-0.244997998398398</li>\n",
       "</ol>\n"
      ],
      "text/latex": [
       "\\begin{enumerate*}\n",
       "\\item 12.2449979983984\n",
       "\\item -0.244997998398398\n",
       "\\end{enumerate*}\n"
      ],
      "text/markdown": [
       "1. 12.2449979983984\n",
       "2. -0.244997998398398\n",
       "\n",
       "\n"
      ],
      "text/plain": [
       "[1] 12.244998 -0.244998"
      ]
     },
     "metadata": {},
     "output_type": "display_data"
    }
   ],
   "source": [
    "# Eléments propres\n",
    "s=eigen(A[1:2,2:3])\n",
    "s\n",
    "s$values"
   ]
  },
  {
   "cell_type": "code",
   "execution_count": 104,
   "metadata": {},
   "outputs": [
    {
     "data": {
      "text/html": [
       "<table>\n",
       "<tbody>\n",
       "\t<tr><td>-0.6472056</td><td>-0.8550584</td></tr>\n",
       "\t<tr><td>-0.7623155</td><td> 0.5185316</td></tr>\n",
       "</tbody>\n",
       "</table>\n"
      ],
      "text/latex": [
       "\\begin{tabular}{ll}\n",
       "\t -0.6472056 & -0.8550584\\\\\n",
       "\t -0.7623155 &  0.5185316\\\\\n",
       "\\end{tabular}\n"
      ],
      "text/markdown": [
       "\n",
       "| -0.6472056 | -0.8550584 | \n",
       "| -0.7623155 |  0.5185316 | \n",
       "\n",
       "\n"
      ],
      "text/plain": [
       "     [,1]       [,2]      \n",
       "[1,] -0.6472056 -0.8550584\n",
       "[2,] -0.7623155  0.5185316"
      ]
     },
     "metadata": {},
     "output_type": "display_data"
    }
   ],
   "source": [
    "s$vectors #deja normalise et orth"
   ]
  },
  {
   "cell_type": "markdown",
   "metadata": {},
   "source": [
    "**Questions**\n",
    "\n",
    "- Que font {`rbind`} et {`cbind`}?\n",
    "- Décortiquer la ligne ci-dessus marquée `*` et décrire ce qu'elle fait.\n",
    "- Même chose avec `**`. \n",
    "- Que renvoie la ligne `***`? \n",
    "\n",
    "\n",
    "**Réponses**\n",
    "\n",
    "- `rbind` et `cbind` collent deux vecteurs ou matrices respectivement en ligne ou en colonne.\n",
    "- `C[C[,1]>0.1,]` peut se décomposer ainsi:\n",
    "\t- `C[,1]` extrait la première colonne de la matrice `C`\n",
    "\t- `C[,1]>0.1` renvoie un vecteur logique de longueur le nombre de lignes de C contenant `TRUE` si la valeur est supérieure à 0.1 et `FALSE` sinon.\n",
    "\t- `C[C[,1]>0.1,]` extrait de la matrice `C` les lignes où les éléments sur la première colonne sont supérieurs à 0.1 et toutes les colonnes si rien après la virgule.\n",
    "- `**` extrait de la colonne 2 de la matrice `D`, les lignes où l'élément sur la première colonne est supérieur à 0.5 et met à 0 ces éléments.\n",
    "- `***` renvoie un vecteur de longueur 5 (le nombre de colonnes de `A`) dont chaque élément est la somme des éléments d'une colonne de A.\n",
    "\n",
    "**Noter** l'importance de ces différentes \"astuces\" pour éviter des boucles `for` dont l'*usage est fortement déconseillé* avec un langage interprété sous peine de plomber les temps d'exécution.\n",
    "\n",
    "### 3.6 Les tableaux (`array`)\n",
    "Les tableaux sont des matrices de dimensions supérieures à 2. On peut les générer à partir de la commande `array(vec,c(n,p,q,...))` où `vec` est le vecteur contenant les éléments du tableau et l'argument `c(n,p,q,...)` désigne les dimensions du tableau : *n* lignes, *p* colonnes, *q* matrices, ..."
   ]
  },
  {
   "cell_type": "code",
   "execution_count": 105,
   "metadata": {},
   "outputs": [
    {
     "data": {
      "text/html": [
       "<ol class=list-inline>\n",
       "\t<li>1</li>\n",
       "\t<li>2</li>\n",
       "\t<li>3</li>\n",
       "\t<li>4</li>\n",
       "\t<li>5</li>\n",
       "\t<li>6</li>\n",
       "\t<li>7</li>\n",
       "\t<li>8</li>\n",
       "\t<li>1</li>\n",
       "\t<li>1</li>\n",
       "\t<li>1</li>\n",
       "\t<li>1</li>\n",
       "\t<li>1</li>\n",
       "\t<li>1</li>\n",
       "\t<li>1</li>\n",
       "\t<li>1</li>\n",
       "\t<li>0</li>\n",
       "\t<li>0.142857142857143</li>\n",
       "\t<li>0.285714285714286</li>\n",
       "\t<li>0.428571428571429</li>\n",
       "\t<li>0.571428571428571</li>\n",
       "\t<li>0.714285714285714</li>\n",
       "\t<li>0.857142857142857</li>\n",
       "\t<li>1</li>\n",
       "</ol>\n"
      ],
      "text/latex": [
       "\\begin{enumerate*}\n",
       "\\item 1\n",
       "\\item 2\n",
       "\\item 3\n",
       "\\item 4\n",
       "\\item 5\n",
       "\\item 6\n",
       "\\item 7\n",
       "\\item 8\n",
       "\\item 1\n",
       "\\item 1\n",
       "\\item 1\n",
       "\\item 1\n",
       "\\item 1\n",
       "\\item 1\n",
       "\\item 1\n",
       "\\item 1\n",
       "\\item 0\n",
       "\\item 0.142857142857143\n",
       "\\item 0.285714285714286\n",
       "\\item 0.428571428571429\n",
       "\\item 0.571428571428571\n",
       "\\item 0.714285714285714\n",
       "\\item 0.857142857142857\n",
       "\\item 1\n",
       "\\end{enumerate*}\n"
      ],
      "text/markdown": [
       "1. 1\n",
       "2. 2\n",
       "3. 3\n",
       "4. 4\n",
       "5. 5\n",
       "6. 6\n",
       "7. 7\n",
       "8. 8\n",
       "9. 1\n",
       "10. 1\n",
       "11. 1\n",
       "12. 1\n",
       "13. 1\n",
       "14. 1\n",
       "15. 1\n",
       "16. 1\n",
       "17. 0\n",
       "18. 0.142857142857143\n",
       "19. 0.285714285714286\n",
       "20. 0.428571428571429\n",
       "21. 0.571428571428571\n",
       "22. 0.714285714285714\n",
       "23. 0.857142857142857\n",
       "24. 1\n",
       "\n",
       "\n"
      ],
      "text/plain": [
       ", , 1\n",
       "\n",
       "     [,1] [,2] [,3] [,4]\n",
       "[1,]    1    3    5    7\n",
       "[2,]    2    4    6    8\n",
       "\n",
       ", , 2\n",
       "\n",
       "     [,1] [,2] [,3] [,4]\n",
       "[1,]    1    1    1    1\n",
       "[2,]    1    1    1    1\n",
       "\n",
       ", , 3\n",
       "\n",
       "          [,1]      [,2]      [,3]      [,4]\n",
       "[1,] 0.0000000 0.2857143 0.5714286 0.8571429\n",
       "[2,] 0.1428571 0.4285714 0.7142857 1.0000000\n"
      ]
     },
     "metadata": {},
     "output_type": "display_data"
    },
    {
     "data": {
      "text/html": [
       "<table>\n",
       "<tbody>\n",
       "\t<tr><td>1</td><td>3</td><td>5</td><td>7</td></tr>\n",
       "\t<tr><td>2</td><td>4</td><td>6</td><td>8</td></tr>\n",
       "</tbody>\n",
       "</table>\n"
      ],
      "text/latex": [
       "\\begin{tabular}{llll}\n",
       "\t 1 & 3 & 5 & 7\\\\\n",
       "\t 2 & 4 & 6 & 8\\\\\n",
       "\\end{tabular}\n"
      ],
      "text/markdown": [
       "\n",
       "| 1 | 3 | 5 | 7 | \n",
       "| 2 | 4 | 6 | 8 | \n",
       "\n",
       "\n"
      ],
      "text/plain": [
       "     [,1] [,2] [,3] [,4]\n",
       "[1,] 1    3    5    7   \n",
       "[2,] 2    4    6    8   "
      ]
     },
     "metadata": {},
     "output_type": "display_data"
    }
   ],
   "source": [
    "array(c(1:8, rep(1,8),seq(0,1,len=8)), dim = c(2,4,3))\n",
    "E = .Last.value\n",
    "E[, , 1]"
   ]
  },
  {
   "cell_type": "code",
   "execution_count": 106,
   "metadata": {},
   "outputs": [
    {
     "data": {
      "text/html": [
       "<ol class=list-inline>\n",
       "\t<li>2</li>\n",
       "\t<li>4</li>\n",
       "\t<li>3</li>\n",
       "</ol>\n"
      ],
      "text/latex": [
       "\\begin{enumerate*}\n",
       "\\item 2\n",
       "\\item 4\n",
       "\\item 3\n",
       "\\end{enumerate*}\n"
      ],
      "text/markdown": [
       "1. 2\n",
       "2. 4\n",
       "3. 3\n",
       "\n",
       "\n"
      ],
      "text/plain": [
       "[1] 2 4 3"
      ]
     },
     "metadata": {},
     "output_type": "display_data"
    },
    {
     "data": {
      "text/html": [
       "24"
      ],
      "text/latex": [
       "24"
      ],
      "text/markdown": [
       "24"
      ],
      "text/plain": [
       "[1] 24"
      ]
     },
     "metadata": {},
     "output_type": "display_data"
    },
    {
     "data": {
      "text/html": [
       "2"
      ],
      "text/latex": [
       "2"
      ],
      "text/markdown": [
       "2"
      ],
      "text/plain": [
       "[1] 2"
      ]
     },
     "metadata": {},
     "output_type": "display_data"
    },
    {
     "data": {
      "text/html": [
       "4"
      ],
      "text/latex": [
       "4"
      ],
      "text/markdown": [
       "4"
      ],
      "text/plain": [
       "[1] 4"
      ]
     },
     "metadata": {},
     "output_type": "display_data"
    }
   ],
   "source": [
    "dim(E);length(E);nrow(E);ncol(E)"
   ]
  },
  {
   "cell_type": "code",
   "execution_count": 107,
   "metadata": {},
   "outputs": [
    {
     "data": {
      "text/html": [
       "<ol class=list-inline>\n",
       "\t<li>11</li>\n",
       "\t<li>12</li>\n",
       "\t<li>13</li>\n",
       "\t<li>14</li>\n",
       "\t<li>15</li>\n",
       "\t<li>16</li>\n",
       "\t<li>17</li>\n",
       "\t<li>18</li>\n",
       "\t<li>11</li>\n",
       "\t<li>11</li>\n",
       "\t<li>11</li>\n",
       "\t<li>11</li>\n",
       "\t<li>11</li>\n",
       "\t<li>11</li>\n",
       "\t<li>11</li>\n",
       "\t<li>11</li>\n",
       "\t<li>10</li>\n",
       "\t<li>10.1428571428571</li>\n",
       "\t<li>10.2857142857143</li>\n",
       "\t<li>10.4285714285714</li>\n",
       "\t<li>10.5714285714286</li>\n",
       "\t<li>10.7142857142857</li>\n",
       "\t<li>10.8571428571429</li>\n",
       "\t<li>11</li>\n",
       "</ol>\n"
      ],
      "text/latex": [
       "\\begin{enumerate*}\n",
       "\\item 11\n",
       "\\item 12\n",
       "\\item 13\n",
       "\\item 14\n",
       "\\item 15\n",
       "\\item 16\n",
       "\\item 17\n",
       "\\item 18\n",
       "\\item 11\n",
       "\\item 11\n",
       "\\item 11\n",
       "\\item 11\n",
       "\\item 11\n",
       "\\item 11\n",
       "\\item 11\n",
       "\\item 11\n",
       "\\item 10\n",
       "\\item 10.1428571428571\n",
       "\\item 10.2857142857143\n",
       "\\item 10.4285714285714\n",
       "\\item 10.5714285714286\n",
       "\\item 10.7142857142857\n",
       "\\item 10.8571428571429\n",
       "\\item 11\n",
       "\\end{enumerate*}\n"
      ],
      "text/markdown": [
       "1. 11\n",
       "2. 12\n",
       "3. 13\n",
       "4. 14\n",
       "5. 15\n",
       "6. 16\n",
       "7. 17\n",
       "8. 18\n",
       "9. 11\n",
       "10. 11\n",
       "11. 11\n",
       "12. 11\n",
       "13. 11\n",
       "14. 11\n",
       "15. 11\n",
       "16. 11\n",
       "17. 10\n",
       "18. 10.1428571428571\n",
       "19. 10.2857142857143\n",
       "20. 10.4285714285714\n",
       "21. 10.5714285714286\n",
       "22. 10.7142857142857\n",
       "23. 10.8571428571429\n",
       "24. 11\n",
       "\n",
       "\n"
      ],
      "text/plain": [
       ", , 1\n",
       "\n",
       "     [,1] [,2] [,3] [,4]\n",
       "[1,]   11   13   15   17\n",
       "[2,]   12   14   16   18\n",
       "\n",
       ", , 2\n",
       "\n",
       "     [,1] [,2] [,3] [,4]\n",
       "[1,]   11   11   11   11\n",
       "[2,]   11   11   11   11\n",
       "\n",
       ", , 3\n",
       "\n",
       "         [,1]     [,2]     [,3]     [,4]\n",
       "[1,] 10.00000 10.28571 10.57143 10.85714\n",
       "[2,] 10.14286 10.42857 10.71429 11.00000\n"
      ]
     },
     "metadata": {},
     "output_type": "display_data"
    }
   ],
   "source": [
    "E+10"
   ]
  },
  {
   "cell_type": "code",
   "execution_count": 116,
   "metadata": {},
   "outputs": [
    {
     "data": {
      "text/html": [
       "<ol class=list-inline>\n",
       "\t<li>2</li>\n",
       "\t<li>3</li>\n",
       "\t<li>2</li>\n",
       "</ol>\n"
      ],
      "text/latex": [
       "\\begin{enumerate*}\n",
       "\\item 2\n",
       "\\item 3\n",
       "\\item 2\n",
       "\\end{enumerate*}\n"
      ],
      "text/markdown": [
       "1. 2\n",
       "2. 3\n",
       "3. 2\n",
       "\n",
       "\n"
      ],
      "text/plain": [
       "[1] 2 3 2"
      ]
     },
     "metadata": {},
     "output_type": "display_data"
    },
    {
     "data": {
      "text/html": [
       "<ol class=list-inline>\n",
       "\t<li>1</li>\n",
       "\t<li>2</li>\n",
       "\t<li>3</li>\n",
       "\t<li>4</li>\n",
       "\t<li>5</li>\n",
       "\t<li>6</li>\n",
       "\t<li>7</li>\n",
       "\t<li>8</li>\n",
       "\t<li>9</li>\n",
       "\t<li>10</li>\n",
       "\t<li>11</li>\n",
       "\t<li>12</li>\n",
       "</ol>\n"
      ],
      "text/latex": [
       "\\begin{enumerate*}\n",
       "\\item 1\n",
       "\\item 2\n",
       "\\item 3\n",
       "\\item 4\n",
       "\\item 5\n",
       "\\item 6\n",
       "\\item 7\n",
       "\\item 8\n",
       "\\item 9\n",
       "\\item 10\n",
       "\\item 11\n",
       "\\item 12\n",
       "\\end{enumerate*}\n"
      ],
      "text/markdown": [
       "1. 1\n",
       "2. 2\n",
       "3. 3\n",
       "4. 4\n",
       "5. 5\n",
       "6. 6\n",
       "7. 7\n",
       "8. 8\n",
       "9. 9\n",
       "10. 10\n",
       "11. 11\n",
       "12. 12\n",
       "\n",
       "\n"
      ],
      "text/plain": [
       ", , 1\n",
       "\n",
       "     [,1] [,2] [,3]\n",
       "[1,]    1    3    5\n",
       "[2,]    2    4    6\n",
       "\n",
       ", , 2\n",
       "\n",
       "     [,1] [,2] [,3]\n",
       "[1,]    7    9   11\n",
       "[2,]    8   10   12\n"
      ]
     },
     "metadata": {},
     "output_type": "display_data"
    },
    {
     "data": {
      "text/html": [
       "<ol class=list-inline>\n",
       "\t<li>6</li>\n",
       "\t<li>7</li>\n",
       "</ol>\n"
      ],
      "text/latex": [
       "\\begin{enumerate*}\n",
       "\\item 6\n",
       "\\item 7\n",
       "\\end{enumerate*}\n"
      ],
      "text/markdown": [
       "1. 6\n",
       "2. 7\n",
       "\n",
       "\n"
      ],
      "text/plain": [
       "[1] 6 7"
      ]
     },
     "metadata": {},
     "output_type": "display_data"
    }
   ],
   "source": [
    "H=array(1:12,c(2,3,2))\n",
    "dim(H)\n",
    "H\n",
    "apply(H,1,mean)\n",
    "?apply"
   ]
  },
  {
   "cell_type": "code",
   "execution_count": 112,
   "metadata": {},
   "outputs": [
    {
     "data": {
      "text/html": [
       "<ol class=list-inline>\n",
       "\t<li>4.5</li>\n",
       "\t<li>6.5</li>\n",
       "\t<li>8.5</li>\n",
       "</ol>\n"
      ],
      "text/latex": [
       "\\begin{enumerate*}\n",
       "\\item 4.5\n",
       "\\item 6.5\n",
       "\\item 8.5\n",
       "\\end{enumerate*}\n"
      ],
      "text/markdown": [
       "1. 4.5\n",
       "2. 6.5\n",
       "3. 8.5\n",
       "\n",
       "\n"
      ],
      "text/plain": [
       "[1] 4.5 6.5 8.5"
      ]
     },
     "metadata": {},
     "output_type": "display_data"
    }
   ],
   "source": [
    "apply(H,2,mean)"
   ]
  },
  {
   "cell_type": "code",
   "execution_count": 113,
   "metadata": {},
   "outputs": [
    {
     "data": {
      "text/html": [
       "<ol class=list-inline>\n",
       "\t<li>3.5</li>\n",
       "\t<li>9.5</li>\n",
       "</ol>\n"
      ],
      "text/latex": [
       "\\begin{enumerate*}\n",
       "\\item 3.5\n",
       "\\item 9.5\n",
       "\\end{enumerate*}\n"
      ],
      "text/markdown": [
       "1. 3.5\n",
       "2. 9.5\n",
       "\n",
       "\n"
      ],
      "text/plain": [
       "[1] 3.5 9.5"
      ]
     },
     "metadata": {},
     "output_type": "display_data"
    }
   ],
   "source": [
    "apply(H,3,mean)"
   ]
  },
  {
   "cell_type": "markdown",
   "metadata": {},
   "source": [
    "**Questions**\n",
    "\n",
    "- Expliquer les résulats des 3 appels à la fonction `apply()`.\n",
    "- Créer un `array` à 4 dimensions et calculer la somme des éléments dans toutes les dimensions.\n",
    "\n",
    "\n",
    "**Réponses**\n",
    "\n",
    "- Dans le premier cas, on calcule la moyenne de tous les éléments ligne par ligne. Les éléments de la ligne 1 sont tous les élements de la tranche supérieure horizontale du parallélépipède `H` (1,3,5,7,9,11) ; de la tranche inférieure pour la ligne 2 (2,4,6,8,10,12). Dans le deuxième cas, le calcul est effectué colonne par colonne, le vecteur résultat est donc de longueur 3 ; il contient la moyenne des éléments des 3 tranches verticales (gauche - [1,2,7,8], centre - [3,4,9,10] et droite - [5,6,11,12]). Dans le troisième cas, le calcul de moyenne est fait sur les 2 tranches verticales \"avant\" (1,2,3,4,5,6) et \"arrière\" (7,8,9,10,11,12).\n",
    "- Code:"
   ]
  },
  {
   "cell_type": "code",
   "execution_count": null,
   "metadata": {},
   "outputs": [],
   "source": [
    "H2=array(1:24,c(2,3,2,2)) # crée un array à 4 dimensions équivalent dans cet exemple à 2 tableaux H \n",
    "apply(H,1,sum)\n",
    "apply(H,2,sum)\n",
    "apply(H,3,sum)\n",
    "apply(H,4,sum)"
   ]
  },
  {
   "cell_type": "markdown",
   "metadata": {},
   "source": [
    "### 3.7 Les listes (`list`)\n",
    "Une liste est une collection ordonnée d'objets qui peuvent être de classes différentes. Les listes sont en particulier utilisées par certaines fonctions (cf. tutoriel \"Programmation\") pour renvoyer des résultats complexes sous forme\n",
    "d'un seul objet. On utilise la fonction `list(nom1=el1,nom2=el2,...)` pour générer une liste. On peut accéder à chaque élément de la liste à l'aide de son index entre double crochets `[[...]]`, ou par son nom précédé du signe `$`."
   ]
  },
  {
   "cell_type": "code",
   "execution_count": 117,
   "metadata": {},
   "outputs": [
    {
     "data": {
      "text/html": [
       "<ol>\n",
       "\t<li>'toto'</li>\n",
       "\t<li><ol class=list-inline>\n",
       "\t<li>1</li>\n",
       "\t<li>2</li>\n",
       "\t<li>3</li>\n",
       "\t<li>4</li>\n",
       "\t<li>5</li>\n",
       "\t<li>6</li>\n",
       "\t<li>7</li>\n",
       "\t<li>8</li>\n",
       "</ol>\n",
       "</li>\n",
       "</ol>\n"
      ],
      "text/latex": [
       "\\begin{enumerate}\n",
       "\\item 'toto'\n",
       "\\item \\begin{enumerate*}\n",
       "\\item 1\n",
       "\\item 2\n",
       "\\item 3\n",
       "\\item 4\n",
       "\\item 5\n",
       "\\item 6\n",
       "\\item 7\n",
       "\\item 8\n",
       "\\end{enumerate*}\n",
       "\n",
       "\\end{enumerate}\n"
      ],
      "text/markdown": [
       "1. 'toto'\n",
       "2. 1. 1\n",
       "2. 2\n",
       "3. 3\n",
       "4. 4\n",
       "5. 5\n",
       "6. 6\n",
       "7. 7\n",
       "8. 8\n",
       "\n",
       "\n",
       "\n",
       "\n",
       "\n"
      ],
      "text/plain": [
       "[[1]]\n",
       "[1] \"toto\"\n",
       "\n",
       "[[2]]\n",
       "[1] 1 2 3 4 5 6 7 8\n"
      ]
     },
     "metadata": {},
     "output_type": "display_data"
    },
    {
     "data": {
      "text/html": [
       "'toto'"
      ],
      "text/latex": [
       "'toto'"
      ],
      "text/markdown": [
       "'toto'"
      ],
      "text/plain": [
       "[1] \"toto\""
      ]
     },
     "metadata": {},
     "output_type": "display_data"
    },
    {
     "ename": "ERROR",
     "evalue": "Error in x[[1]] + 1: argument non numérique pour un opérateur binaire\n",
     "output_type": "error",
     "traceback": [
      "Error in x[[1]] + 1: argument non numérique pour un opérateur binaire\nTraceback:\n"
     ]
    },
    {
     "data": {
      "text/html": [
       "'toto'"
      ],
      "text/latex": [
       "'toto'"
      ],
      "text/markdown": [
       "'toto'"
      ],
      "text/plain": [
       "[1] \"toto\""
      ]
     },
     "metadata": {},
     "output_type": "display_data"
    },
    {
     "data": {
      "text/html": [
       "<ol class=list-inline>\n",
       "\t<li>11</li>\n",
       "\t<li>12</li>\n",
       "\t<li>13</li>\n",
       "\t<li>14</li>\n",
       "\t<li>15</li>\n",
       "\t<li>16</li>\n",
       "\t<li>17</li>\n",
       "\t<li>18</li>\n",
       "</ol>\n"
      ],
      "text/latex": [
       "\\begin{enumerate*}\n",
       "\\item 11\n",
       "\\item 12\n",
       "\\item 13\n",
       "\\item 14\n",
       "\\item 15\n",
       "\\item 16\n",
       "\\item 17\n",
       "\\item 18\n",
       "\\end{enumerate*}\n"
      ],
      "text/markdown": [
       "1. 11\n",
       "2. 12\n",
       "3. 13\n",
       "4. 14\n",
       "5. 15\n",
       "6. 16\n",
       "7. 17\n",
       "8. 18\n",
       "\n",
       "\n"
      ],
      "text/plain": [
       "[1] 11 12 13 14 15 16 17 18"
      ]
     },
     "metadata": {},
     "output_type": "display_data"
    }
   ],
   "source": [
    "x = list(\"toto\",1:8);x\n",
    "x[[1]];x[[1]]+1;x[[2]]+10 # *"
   ]
  },
  {
   "cell_type": "code",
   "execution_count": 118,
   "metadata": {},
   "outputs": [
    {
     "data": {
      "text/html": [
       "<ol class=list-inline>\n",
       "\t<li>'matrice'</li>\n",
       "\t<li>'vecteur'</li>\n",
       "\t<li>'texte'</li>\n",
       "\t<li>'scalaire'</li>\n",
       "</ol>\n"
      ],
      "text/latex": [
       "\\begin{enumerate*}\n",
       "\\item 'matrice'\n",
       "\\item 'vecteur'\n",
       "\\item 'texte'\n",
       "\\item 'scalaire'\n",
       "\\end{enumerate*}\n"
      ],
      "text/markdown": [
       "1. 'matrice'\n",
       "2. 'vecteur'\n",
       "3. 'texte'\n",
       "4. 'scalaire'\n",
       "\n",
       "\n"
      ],
      "text/plain": [
       "[1] \"matrice\"  \"vecteur\"  \"texte\"    \"scalaire\""
      ]
     },
     "metadata": {},
     "output_type": "display_data"
    },
    {
     "data": {
      "text/html": [
       "<table>\n",
       "<tbody>\n",
       "\t<tr><td>0.6813693 </td><td>0.0000000 </td><td>0.8195119 </td><td>0.06763874</td></tr>\n",
       "\t<tr><td>0.9588778 </td><td>0.0000000 </td><td>0.9187148 </td><td>0.89429445</td></tr>\n",
       "\t<tr><td>0.2420340 </td><td>0.4552378 </td><td>0.1439101 </td><td>0.76774210</td></tr>\n",
       "\t<tr><td>0.2488665 </td><td>0.6102864 </td><td>0.6704543 </td><td>0.50245170</td></tr>\n",
       "</tbody>\n",
       "</table>\n"
      ],
      "text/latex": [
       "\\begin{tabular}{llll}\n",
       "\t 0.6813693  & 0.0000000  & 0.8195119  & 0.06763874\\\\\n",
       "\t 0.9588778  & 0.0000000  & 0.9187148  & 0.89429445\\\\\n",
       "\t 0.2420340  & 0.4552378  & 0.1439101  & 0.76774210\\\\\n",
       "\t 0.2488665  & 0.6102864  & 0.6704543  & 0.50245170\\\\\n",
       "\\end{tabular}\n"
      ],
      "text/markdown": [
       "\n",
       "| 0.6813693  | 0.0000000  | 0.8195119  | 0.06763874 | \n",
       "| 0.9588778  | 0.0000000  | 0.9187148  | 0.89429445 | \n",
       "| 0.2420340  | 0.4552378  | 0.1439101  | 0.76774210 | \n",
       "| 0.2488665  | 0.6102864  | 0.6704543  | 0.50245170 | \n",
       "\n",
       "\n"
      ],
      "text/plain": [
       "     [,1]      [,2]      [,3]      [,4]      \n",
       "[1,] 0.6813693 0.0000000 0.8195119 0.06763874\n",
       "[2,] 0.9588778 0.0000000 0.9187148 0.89429445\n",
       "[3,] 0.2420340 0.4552378 0.1439101 0.76774210\n",
       "[4,] 0.2488665 0.6102864 0.6704543 0.50245170"
      ]
     },
     "metadata": {},
     "output_type": "display_data"
    }
   ],
   "source": [
    "y = list(matrice=D,vecteur=f,texte=\"toto\",scalaire=8)\n",
    "names(y);y[[1]]"
   ]
  },
  {
   "cell_type": "code",
   "execution_count": 119,
   "metadata": {},
   "outputs": [
    {
     "data": {
      "text/html": [
       "<table>\n",
       "<tbody>\n",
       "\t<tr><td>0.6813693 </td><td>0.0000000 </td><td>0.8195119 </td><td>0.06763874</td></tr>\n",
       "\t<tr><td>0.9588778 </td><td>0.0000000 </td><td>0.9187148 </td><td>0.89429445</td></tr>\n",
       "\t<tr><td>0.2420340 </td><td>0.4552378 </td><td>0.1439101 </td><td>0.76774210</td></tr>\n",
       "\t<tr><td>0.2488665 </td><td>0.6102864 </td><td>0.6704543 </td><td>0.50245170</td></tr>\n",
       "</tbody>\n",
       "</table>\n"
      ],
      "text/latex": [
       "\\begin{tabular}{llll}\n",
       "\t 0.6813693  & 0.0000000  & 0.8195119  & 0.06763874\\\\\n",
       "\t 0.9588778  & 0.0000000  & 0.9187148  & 0.89429445\\\\\n",
       "\t 0.2420340  & 0.4552378  & 0.1439101  & 0.76774210\\\\\n",
       "\t 0.2488665  & 0.6102864  & 0.6704543  & 0.50245170\\\\\n",
       "\\end{tabular}\n"
      ],
      "text/markdown": [
       "\n",
       "| 0.6813693  | 0.0000000  | 0.8195119  | 0.06763874 | \n",
       "| 0.9588778  | 0.0000000  | 0.9187148  | 0.89429445 | \n",
       "| 0.2420340  | 0.4552378  | 0.1439101  | 0.76774210 | \n",
       "| 0.2488665  | 0.6102864  | 0.6704543  | 0.50245170 | \n",
       "\n",
       "\n"
      ],
      "text/plain": [
       "     [,1]      [,2]      [,3]      [,4]      \n",
       "[1,] 0.6813693 0.0000000 0.8195119 0.06763874\n",
       "[2,] 0.9588778 0.0000000 0.9187148 0.89429445\n",
       "[3,] 0.2420340 0.4552378 0.1439101 0.76774210\n",
       "[4,] 0.2488665 0.6102864 0.6704543 0.50245170"
      ]
     },
     "metadata": {},
     "output_type": "display_data"
    },
    {
     "data": {
      "text/html": [
       "<dl class=dl-horizontal>\n",
       "\t<dt>a1</dt>\n",
       "\t\t<dd>12</dd>\n",
       "\t<dt>a2</dt>\n",
       "\t\t<dd>22</dd>\n",
       "\t<dt>a3</dt>\n",
       "\t\t<dd>32</dd>\n",
       "\t<dt>a4</dt>\n",
       "\t\t<dd>41</dd>\n",
       "</dl>\n"
      ],
      "text/latex": [
       "\\begin{description*}\n",
       "\\item[a1] 12\n",
       "\\item[a2] 22\n",
       "\\item[a3] 32\n",
       "\\item[a4] 41\n",
       "\\end{description*}\n"
      ],
      "text/markdown": [
       "a1\n",
       ":   12a2\n",
       ":   22a3\n",
       ":   32a4\n",
       ":   41\n",
       "\n"
      ],
      "text/plain": [
       "a1 a2 a3 a4 \n",
       "12 22 32 41 "
      ]
     },
     "metadata": {},
     "output_type": "display_data"
    }
   ],
   "source": [
    "y$matrice;y$vec"
   ]
  },
  {
   "cell_type": "code",
   "execution_count": 120,
   "metadata": {},
   "outputs": [
    {
     "name": "stderr",
     "output_type": "stream",
     "text": [
      "ERROR while rich displaying an object: Error in vapply(seq_along(mapped), function(i) {: les valeurs doivent être d'une longueur 1,\n",
      " mais FUN(X[[2]]) a une longueur 0\n",
      "\n",
      "Traceback:\n",
      "1. FUN(X[[i]], ...)\n",
      "2. tryCatch(withCallingHandlers({\n",
      " .     rpr <- mime2repr[[mime]](obj)\n",
      " .     if (is.null(rpr)) \n",
      " .         return(NULL)\n",
      " .     prepare_content(is.raw(rpr), rpr)\n",
      " . }, error = error_handler), error = outer_handler)\n",
      "3. tryCatchList(expr, classes, parentenv, handlers)\n",
      "4. tryCatchOne(expr, names, parentenv, handlers[[1L]])\n",
      "5. doTryCatch(return(expr), name, parentenv, handler)\n",
      "6. withCallingHandlers({\n",
      " .     rpr <- mime2repr[[mime]](obj)\n",
      " .     if (is.null(rpr)) \n",
      " .         return(NULL)\n",
      " .     prepare_content(is.raw(rpr), rpr)\n",
      " . }, error = error_handler)\n",
      "7. mime2repr[[mime]](obj)\n",
      "8. repr_html.list(obj)\n",
      "9. repr_list_generic(obj, \"html\", \"\\t<li>%s</li>\\n\", \"\\t<dt>$%s</dt>\\n\\t\\t<dd>%s</dd>\\n\", \n",
      " .     \"<strong>$%s</strong> = %s\", \"<ol>\\n%s</ol>\\n\", \"<dl>\\n%s</dl>\\n\", \n",
      " .     numeric_item = \"\\t<dt>[[%s]]</dt>\\n\\t\\t<dd>%s</dd>\\n\", escape_fun = html_escape)\n",
      "10. vapply(seq_along(mapped), function(i) {\n",
      "  .     nm <- nms[[i]]\n",
      "  .     if (is.na(nm) || nchar(nm) == 0) {\n",
      "  .         sprintf(numeric_item, i, mapped[[i]])\n",
      "  .     }\n",
      "  .     else {\n",
      "  .         sprintf(named_item, nms[[i]], mapped[[i]])\n",
      "  .     }\n",
      "  . }, character(1))\n",
      "ERROR while rich displaying an object: Error in vapply(seq_along(mapped), function(i) {: les valeurs doivent être d'une longueur 1,\n",
      " mais FUN(X[[2]]) a une longueur 0\n",
      "\n",
      "Traceback:\n",
      "1. FUN(X[[i]], ...)\n",
      "2. tryCatch(withCallingHandlers({\n",
      " .     rpr <- mime2repr[[mime]](obj)\n",
      " .     if (is.null(rpr)) \n",
      " .         return(NULL)\n",
      " .     prepare_content(is.raw(rpr), rpr)\n",
      " . }, error = error_handler), error = outer_handler)\n",
      "3. tryCatchList(expr, classes, parentenv, handlers)\n",
      "4. tryCatchOne(expr, names, parentenv, handlers[[1L]])\n",
      "5. doTryCatch(return(expr), name, parentenv, handler)\n",
      "6. withCallingHandlers({\n",
      " .     rpr <- mime2repr[[mime]](obj)\n",
      " .     if (is.null(rpr)) \n",
      " .         return(NULL)\n",
      " .     prepare_content(is.raw(rpr), rpr)\n",
      " . }, error = error_handler)\n",
      "7. mime2repr[[mime]](obj)\n",
      "8. repr_markdown.list(obj)\n",
      "9. repr_list_generic(obj, \"markdown\", \"%s. %s\\n\", \"$%s\\n:   %s\\n\", \n",
      " .     \"**$%s** = %s\", \"%s\\n\\n\", numeric_item = \"[[%s]]\\n:   %s\\n\", \n",
      " .     item_uses_numbers = TRUE, escape_fun = html_escape)\n",
      "10. vapply(seq_along(mapped), function(i) {\n",
      "  .     nm <- nms[[i]]\n",
      "  .     if (is.na(nm) || nchar(nm) == 0) {\n",
      "  .         sprintf(numeric_item, i, mapped[[i]])\n",
      "  .     }\n",
      "  .     else {\n",
      "  .         sprintf(named_item, nms[[i]], mapped[[i]])\n",
      "  .     }\n",
      "  . }, character(1))\n",
      "ERROR while rich displaying an object: Error in vapply(seq_along(mapped), function(i) {: les valeurs doivent être d'une longueur 1,\n",
      " mais FUN(X[[2]]) a une longueur 0\n",
      "\n",
      "Traceback:\n",
      "1. FUN(X[[i]], ...)\n",
      "2. tryCatch(withCallingHandlers({\n",
      " .     rpr <- mime2repr[[mime]](obj)\n",
      " .     if (is.null(rpr)) \n",
      " .         return(NULL)\n",
      " .     prepare_content(is.raw(rpr), rpr)\n",
      " . }, error = error_handler), error = outer_handler)\n",
      "3. tryCatchList(expr, classes, parentenv, handlers)\n",
      "4. tryCatchOne(expr, names, parentenv, handlers[[1L]])\n",
      "5. doTryCatch(return(expr), name, parentenv, handler)\n",
      "6. withCallingHandlers({\n",
      " .     rpr <- mime2repr[[mime]](obj)\n",
      " .     if (is.null(rpr)) \n",
      " .         return(NULL)\n",
      " .     prepare_content(is.raw(rpr), rpr)\n",
      " . }, error = error_handler)\n",
      "7. mime2repr[[mime]](obj)\n",
      "8. repr_latex.list(obj)\n",
      "9. repr_list_generic(obj, \"latex\", \"\\\\item %s\\n\", \"\\\\item[\\\\$%s] %s\\n\", \n",
      " .     \"\\\\textbf{\\\\$%s} = %s\", enum_wrap = \"\\\\begin{enumerate}\\n%s\\\\end{enumerate}\\n\", \n",
      " .     named_wrap = \"\\\\begin{description}\\n%s\\\\end{description}\\n\", \n",
      " .     numeric_item = \"\\\\item[{[[%s]]}] %s\\n\", escape_fun = latex_escape)\n",
      "10. vapply(seq_along(mapped), function(i) {\n",
      "  .     nm <- nms[[i]]\n",
      "  .     if (is.na(nm) || nchar(nm) == 0) {\n",
      "  .         sprintf(numeric_item, i, mapped[[i]])\n",
      "  .     }\n",
      "  .     else {\n",
      "  .         sprintf(named_item, nms[[i]], mapped[[i]])\n",
      "  .     }\n",
      "  . }, character(1))\n"
     ]
    },
    {
     "data": {
      "text/plain": [
       "$texte\n",
       "[1] \"toto\"\n",
       "\n",
       "$<NA>\n",
       "NULL\n"
      ]
     },
     "metadata": {},
     "output_type": "display_data"
    }
   ],
   "source": [
    "y[c(\"texte\",\"scal\")] # **"
   ]
  },
  {
   "cell_type": "code",
   "execution_count": 121,
   "metadata": {},
   "outputs": [
    {
     "data": {
      "text/html": [
       "<dl>\n",
       "\t<dt>$texte</dt>\n",
       "\t\t<dd>'toto'</dd>\n",
       "\t<dt>$scalaire</dt>\n",
       "\t\t<dd>8</dd>\n",
       "</dl>\n"
      ],
      "text/latex": [
       "\\begin{description}\n",
       "\\item[\\$texte] 'toto'\n",
       "\\item[\\$scalaire] 8\n",
       "\\end{description}\n"
      ],
      "text/markdown": [
       "$texte\n",
       ":   'toto'\n",
       "$scalaire\n",
       ":   8\n",
       "\n",
       "\n"
      ],
      "text/plain": [
       "$texte\n",
       "[1] \"toto\"\n",
       "\n",
       "$scalaire\n",
       "[1] 8\n"
      ]
     },
     "metadata": {},
     "output_type": "display_data"
    }
   ],
   "source": [
    "y[c(\"texte\",\"scalaire\")]"
   ]
  },
  {
   "cell_type": "code",
   "execution_count": 122,
   "metadata": {},
   "outputs": [
    {
     "data": {
      "text/html": [
       "4"
      ],
      "text/latex": [
       "4"
      ],
      "text/markdown": [
       "4"
      ],
      "text/plain": [
       "[1] 4"
      ]
     },
     "metadata": {},
     "output_type": "display_data"
    },
    {
     "data": {
      "text/html": [
       "4"
      ],
      "text/latex": [
       "4"
      ],
      "text/markdown": [
       "4"
      ],
      "text/plain": [
       "[1] 4"
      ]
     },
     "metadata": {},
     "output_type": "display_data"
    }
   ],
   "source": [
    "length(y);length(y$vecteur)"
   ]
  },
  {
   "cell_type": "code",
   "execution_count": 123,
   "metadata": {},
   "outputs": [
    {
     "data": {
      "text/html": [
       "<strong>a1:</strong> 11.8544999661914"
      ],
      "text/latex": [
       "\\textbf{a1:} 11.8544999661914"
      ],
      "text/markdown": [
       "**a1:** 11.8544999661914"
      ],
      "text/plain": [
       "     a1 \n",
       "11.8545 "
      ]
     },
     "metadata": {},
     "output_type": "display_data"
    }
   ],
   "source": [
    "cos(y$scalaire)+y[[2]][1]"
   ]
  },
  {
   "cell_type": "code",
   "execution_count": 124,
   "metadata": {},
   "outputs": [
    {
     "data": {
      "text/plain": [
       "         Length Class  Mode     \n",
       "matrice  16     -none- numeric  \n",
       "vecteur   4     -none- numeric  \n",
       "texte     1     -none- character\n",
       "scalaire  1     -none- numeric  "
      ]
     },
     "metadata": {},
     "output_type": "display_data"
    }
   ],
   "source": [
    "summary(y)"
   ]
  },
  {
   "cell_type": "markdown",
   "metadata": {},
   "source": [
    "**Questions**\n",
    "\n",
    "- Quel est le problème avec la ligne * ?\n",
    "- Et avec la ligne ** ?\n",
    "\n",
    "\n",
    "**Réponses**\n",
    "\n",
    "- C'est la 2ème commande de la ligne qui renvoie une erreur. On cherche à ajouter 1 à un élément qui n'est pas numérique.\n",
    "- Aucun composant de la liste ne s'appelle `scal` (\"lettre à lettre\"). \n",
    "\n",
    "\n",
    "### 3.8 Tableau de données (`data.frame`)\n",
    "Un *data frame* est analogue à une matrice dont les colonnes peuvent être *hétérogènes*. Un *tableau de données* est un ensemble de vecteurs, une *liste*, rangés colonne par colonne, chaque colonne correspondant à une variable, chaque ligne à un individu. Le type *data frame* est très important, c'est **la façon** de gérer les données à étudier sous R lors d'une étude statistique.\n",
    "\n",
    "Un tableau de données, est créé en regroupant des variables (vecteurs) de même longueur à l'aide de la commande  `data.frame(nom1=var1,nom2=var2,...)`. Une matrice est transformée en un tableau de données en utilisant la commande `as.data.frame(mat)`. "
   ]
  },
  {
   "cell_type": "code",
   "execution_count": 125,
   "metadata": {},
   "outputs": [
    {
     "data": {
      "text/html": [
       "<table>\n",
       "<thead><tr><th scope=col>taille</th><th scope=col>masse</th><th scope=col>sexe</th></tr></thead>\n",
       "<tbody>\n",
       "\t<tr><td>172.3511</td><td>69.23876</td><td>M       </td></tr>\n",
       "\t<tr><td>162.5740</td><td>69.55682</td><td>F       </td></tr>\n",
       "\t<tr><td>172.2135</td><td>87.82627</td><td>F       </td></tr>\n",
       "\t<tr><td>152.5294</td><td>78.33130</td><td>M       </td></tr>\n",
       "\t<tr><td>158.1337</td><td>61.83931</td><td>M       </td></tr>\n",
       "\t<tr><td>160.8500</td><td>57.96665</td><td>F       </td></tr>\n",
       "\t<tr><td>160.1103</td><td>60.18595</td><td>F       </td></tr>\n",
       "\t<tr><td>177.6136</td><td>80.45405</td><td>M       </td></tr>\n",
       "\t<tr><td>160.0898</td><td>73.27136</td><td>M       </td></tr>\n",
       "\t<tr><td>176.0607</td><td>75.55829</td><td>F       </td></tr>\n",
       "\t<tr><td>156.1821</td><td>85.64441</td><td>F       </td></tr>\n",
       "\t<tr><td>178.4701</td><td>80.21109</td><td>M       </td></tr>\n",
       "</tbody>\n",
       "</table>\n"
      ],
      "text/latex": [
       "\\begin{tabular}{r|lll}\n",
       " taille & masse & sexe\\\\\n",
       "\\hline\n",
       "\t 172.3511 & 69.23876 & M       \\\\\n",
       "\t 162.5740 & 69.55682 & F       \\\\\n",
       "\t 172.2135 & 87.82627 & F       \\\\\n",
       "\t 152.5294 & 78.33130 & M       \\\\\n",
       "\t 158.1337 & 61.83931 & M       \\\\\n",
       "\t 160.8500 & 57.96665 & F       \\\\\n",
       "\t 160.1103 & 60.18595 & F       \\\\\n",
       "\t 177.6136 & 80.45405 & M       \\\\\n",
       "\t 160.0898 & 73.27136 & M       \\\\\n",
       "\t 176.0607 & 75.55829 & F       \\\\\n",
       "\t 156.1821 & 85.64441 & F       \\\\\n",
       "\t 178.4701 & 80.21109 & M       \\\\\n",
       "\\end{tabular}\n"
      ],
      "text/markdown": [
       "\n",
       "taille | masse | sexe | \n",
       "|---|---|---|---|---|---|---|---|---|---|---|---|\n",
       "| 172.3511 | 69.23876 | M        | \n",
       "| 162.5740 | 69.55682 | F        | \n",
       "| 172.2135 | 87.82627 | F        | \n",
       "| 152.5294 | 78.33130 | M        | \n",
       "| 158.1337 | 61.83931 | M        | \n",
       "| 160.8500 | 57.96665 | F        | \n",
       "| 160.1103 | 60.18595 | F        | \n",
       "| 177.6136 | 80.45405 | M        | \n",
       "| 160.0898 | 73.27136 | M        | \n",
       "| 176.0607 | 75.55829 | F        | \n",
       "| 156.1821 | 85.64441 | F        | \n",
       "| 178.4701 | 80.21109 | M        | \n",
       "\n",
       "\n"
      ],
      "text/plain": [
       "   taille   masse    sexe\n",
       "1  172.3511 69.23876 M   \n",
       "2  162.5740 69.55682 F   \n",
       "3  172.2135 87.82627 F   \n",
       "4  152.5294 78.33130 M   \n",
       "5  158.1337 61.83931 M   \n",
       "6  160.8500 57.96665 F   \n",
       "7  160.1103 60.18595 F   \n",
       "8  177.6136 80.45405 M   \n",
       "9  160.0898 73.27136 M   \n",
       "10 176.0607 75.55829 F   \n",
       "11 156.1821 85.64441 F   \n",
       "12 178.4701 80.21109 M   "
      ]
     },
     "metadata": {},
     "output_type": "display_data"
    }
   ],
   "source": [
    "taille = runif(12,150,180)\n",
    "masse = runif(12,50,90)\n",
    "sexe = rep(c(\"M\",\"F\",\"F\",\"M\"),3)\n",
    "\n",
    "H = data.frame(taille,masse,sexe)\n",
    "H"
   ]
  },
  {
   "cell_type": "code",
   "execution_count": 126,
   "metadata": {},
   "outputs": [
    {
     "data": {
      "text/plain": [
       "     taille          masse       sexe \n",
       " Min.   :152.5   Min.   :57.97   F:6  \n",
       " 1st Qu.:159.6   1st Qu.:67.39   M:6  \n",
       " Median :161.7   Median :74.41        \n",
       " Mean   :165.6   Mean   :73.34        \n",
       " 3rd Qu.:173.3   3rd Qu.:80.27        \n",
       " Max.   :178.5   Max.   :87.83        "
      ]
     },
     "metadata": {},
     "output_type": "display_data"
    }
   ],
   "source": [
    "summary(H)"
   ]
  },
  {
   "cell_type": "code",
   "execution_count": 127,
   "metadata": {},
   "outputs": [
    {
     "data": {
      "text/html": [
       "<table>\n",
       "<thead><tr><th scope=col>taille</th><th scope=col>masse</th><th scope=col>sexe</th></tr></thead>\n",
       "<tbody>\n",
       "\t<tr><td>172.3511</td><td>69.23876</td><td>M       </td></tr>\n",
       "</tbody>\n",
       "</table>\n"
      ],
      "text/latex": [
       "\\begin{tabular}{r|lll}\n",
       " taille & masse & sexe\\\\\n",
       "\\hline\n",
       "\t 172.3511 & 69.23876 & M       \\\\\n",
       "\\end{tabular}\n"
      ],
      "text/markdown": [
       "\n",
       "taille | masse | sexe | \n",
       "|---|\n",
       "| 172.3511 | 69.23876 | M        | \n",
       "\n",
       "\n"
      ],
      "text/plain": [
       "  taille   masse    sexe\n",
       "1 172.3511 69.23876 M   "
      ]
     },
     "metadata": {},
     "output_type": "display_data"
    },
    {
     "data": {
      "text/html": [
       "<ol class=list-inline>\n",
       "\t<li>172.351052595768</li>\n",
       "\t<li>162.574018221349</li>\n",
       "\t<li>172.213514763862</li>\n",
       "\t<li>152.529368230607</li>\n",
       "\t<li>158.133670259267</li>\n",
       "\t<li>160.849976108875</li>\n",
       "\t<li>160.110335228965</li>\n",
       "\t<li>177.61361961253</li>\n",
       "\t<li>160.08976488607</li>\n",
       "\t<li>176.060650565196</li>\n",
       "\t<li>156.182149713859</li>\n",
       "\t<li>178.470053903293</li>\n",
       "</ol>\n"
      ],
      "text/latex": [
       "\\begin{enumerate*}\n",
       "\\item 172.351052595768\n",
       "\\item 162.574018221349\n",
       "\\item 172.213514763862\n",
       "\\item 152.529368230607\n",
       "\\item 158.133670259267\n",
       "\\item 160.849976108875\n",
       "\\item 160.110335228965\n",
       "\\item 177.61361961253\n",
       "\\item 160.08976488607\n",
       "\\item 176.060650565196\n",
       "\\item 156.182149713859\n",
       "\\item 178.470053903293\n",
       "\\end{enumerate*}\n"
      ],
      "text/markdown": [
       "1. 172.351052595768\n",
       "2. 162.574018221349\n",
       "3. 172.213514763862\n",
       "4. 152.529368230607\n",
       "5. 158.133670259267\n",
       "6. 160.849976108875\n",
       "7. 160.110335228965\n",
       "8. 177.61361961253\n",
       "9. 160.08976488607\n",
       "10. 176.060650565196\n",
       "11. 156.182149713859\n",
       "12. 178.470053903293\n",
       "\n",
       "\n"
      ],
      "text/plain": [
       " [1] 172.3511 162.5740 172.2135 152.5294 158.1337 160.8500 160.1103 177.6136\n",
       " [9] 160.0898 176.0607 156.1821 178.4701"
      ]
     },
     "metadata": {},
     "output_type": "display_data"
    },
    {
     "data": {
      "text/html": [
       "<ol class=list-inline>\n",
       "\t<li>M</li>\n",
       "\t<li>F</li>\n",
       "\t<li>F</li>\n",
       "\t<li>M</li>\n",
       "\t<li>M</li>\n",
       "\t<li>F</li>\n",
       "\t<li>F</li>\n",
       "\t<li>M</li>\n",
       "\t<li>M</li>\n",
       "\t<li>F</li>\n",
       "\t<li>F</li>\n",
       "\t<li>M</li>\n",
       "</ol>\n"
      ],
      "text/latex": [
       "\\begin{enumerate*}\n",
       "\\item M\n",
       "\\item F\n",
       "\\item F\n",
       "\\item M\n",
       "\\item M\n",
       "\\item F\n",
       "\\item F\n",
       "\\item M\n",
       "\\item M\n",
       "\\item F\n",
       "\\item F\n",
       "\\item M\n",
       "\\end{enumerate*}\n"
      ],
      "text/markdown": [
       "1. M\n",
       "2. F\n",
       "3. F\n",
       "4. M\n",
       "5. M\n",
       "6. F\n",
       "7. F\n",
       "8. M\n",
       "9. M\n",
       "10. F\n",
       "11. F\n",
       "12. M\n",
       "\n",
       "\n"
      ],
      "text/plain": [
       " [1] M F F M M F F M M F F M\n",
       "Levels: F M"
      ]
     },
     "metadata": {},
     "output_type": "display_data"
    }
   ],
   "source": [
    "# analogies entre data.frame, list et matrix\n",
    "H[1,];H$taille;H$sexe"
   ]
  },
  {
   "cell_type": "code",
   "execution_count": 128,
   "metadata": {},
   "outputs": [
    {
     "data": {
      "text/html": [
       "TRUE"
      ],
      "text/latex": [
       "TRUE"
      ],
      "text/markdown": [
       "TRUE"
      ],
      "text/plain": [
       "[1] TRUE"
      ]
     },
     "metadata": {},
     "output_type": "display_data"
    },
    {
     "data": {
      "text/html": [
       "FALSE"
      ],
      "text/latex": [
       "FALSE"
      ],
      "text/markdown": [
       "FALSE"
      ],
      "text/plain": [
       "[1] FALSE"
      ]
     },
     "metadata": {},
     "output_type": "display_data"
    }
   ],
   "source": [
    "is.data.frame(H); is.matrix(H)"
   ]
  },
  {
   "cell_type": "code",
   "execution_count": 129,
   "metadata": {},
   "outputs": [
    {
     "data": {
      "text/plain": [
       "      taille       masse   sexe \n",
       " 152.5294:1   57.96665:1   F:6  \n",
       " 156.1821:1   60.18595:1   M:6  \n",
       " 158.1337:1   61.83931:1        \n",
       " 160.0898:1   69.23876:1        \n",
       " 160.1103:1   69.55682:1        \n",
       " 160.8500:1   73.27136:1        \n",
       " (Other) :6   (Other) :6        "
      ]
     },
     "metadata": {},
     "output_type": "display_data"
    }
   ],
   "source": [
    "MH = as.matrix(H)\n",
    "summary(MH)"
   ]
  },
  {
   "cell_type": "code",
   "execution_count": 130,
   "metadata": {},
   "outputs": [
    {
     "data": {
      "text/html": [
       "<dl>\n",
       "\t<dt>$taille</dt>\n",
       "\t\t<dd><ol class=list-inline>\n",
       "\t<li>172.351052595768</li>\n",
       "\t<li>162.574018221349</li>\n",
       "\t<li>172.213514763862</li>\n",
       "\t<li>152.529368230607</li>\n",
       "\t<li>158.133670259267</li>\n",
       "\t<li>160.849976108875</li>\n",
       "\t<li>160.110335228965</li>\n",
       "\t<li>177.61361961253</li>\n",
       "\t<li>160.08976488607</li>\n",
       "\t<li>176.060650565196</li>\n",
       "\t<li>156.182149713859</li>\n",
       "\t<li>178.470053903293</li>\n",
       "</ol>\n",
       "</dd>\n",
       "\t<dt>$masse</dt>\n",
       "\t\t<dd><ol class=list-inline>\n",
       "\t<li>69.2387552931905</li>\n",
       "\t<li>69.5568185951561</li>\n",
       "\t<li>87.8262651804835</li>\n",
       "\t<li>78.3313039597124</li>\n",
       "\t<li>61.839308058843</li>\n",
       "\t<li>57.9666456300765</li>\n",
       "\t<li>60.1859455555677</li>\n",
       "\t<li>80.4540496412665</li>\n",
       "\t<li>73.2713614404202</li>\n",
       "\t<li>75.5582931637764</li>\n",
       "\t<li>85.6444148253649</li>\n",
       "\t<li>80.2110948972404</li>\n",
       "</ol>\n",
       "</dd>\n",
       "\t<dt>$sexe</dt>\n",
       "\t\t<dd><ol class=list-inline>\n",
       "\t<li>M</li>\n",
       "\t<li>F</li>\n",
       "\t<li>F</li>\n",
       "\t<li>M</li>\n",
       "\t<li>M</li>\n",
       "\t<li>F</li>\n",
       "\t<li>F</li>\n",
       "\t<li>M</li>\n",
       "\t<li>M</li>\n",
       "\t<li>F</li>\n",
       "\t<li>F</li>\n",
       "\t<li>M</li>\n",
       "</ol>\n",
       "</dd>\n",
       "</dl>\n"
      ],
      "text/latex": [
       "\\begin{description}\n",
       "\\item[\\$taille] \\begin{enumerate*}\n",
       "\\item 172.351052595768\n",
       "\\item 162.574018221349\n",
       "\\item 172.213514763862\n",
       "\\item 152.529368230607\n",
       "\\item 158.133670259267\n",
       "\\item 160.849976108875\n",
       "\\item 160.110335228965\n",
       "\\item 177.61361961253\n",
       "\\item 160.08976488607\n",
       "\\item 176.060650565196\n",
       "\\item 156.182149713859\n",
       "\\item 178.470053903293\n",
       "\\end{enumerate*}\n",
       "\n",
       "\\item[\\$masse] \\begin{enumerate*}\n",
       "\\item 69.2387552931905\n",
       "\\item 69.5568185951561\n",
       "\\item 87.8262651804835\n",
       "\\item 78.3313039597124\n",
       "\\item 61.839308058843\n",
       "\\item 57.9666456300765\n",
       "\\item 60.1859455555677\n",
       "\\item 80.4540496412665\n",
       "\\item 73.2713614404202\n",
       "\\item 75.5582931637764\n",
       "\\item 85.6444148253649\n",
       "\\item 80.2110948972404\n",
       "\\end{enumerate*}\n",
       "\n",
       "\\item[\\$sexe] \\begin{enumerate*}\n",
       "\\item M\n",
       "\\item F\n",
       "\\item F\n",
       "\\item M\n",
       "\\item M\n",
       "\\item F\n",
       "\\item F\n",
       "\\item M\n",
       "\\item M\n",
       "\\item F\n",
       "\\item F\n",
       "\\item M\n",
       "\\end{enumerate*}\n",
       "\n",
       "\\end{description}\n"
      ],
      "text/markdown": [
       "$taille\n",
       ":   1. 172.351052595768\n",
       "2. 162.574018221349\n",
       "3. 172.213514763862\n",
       "4. 152.529368230607\n",
       "5. 158.133670259267\n",
       "6. 160.849976108875\n",
       "7. 160.110335228965\n",
       "8. 177.61361961253\n",
       "9. 160.08976488607\n",
       "10. 176.060650565196\n",
       "11. 156.182149713859\n",
       "12. 178.470053903293\n",
       "\n",
       "\n",
       "\n",
       "$masse\n",
       ":   1. 69.2387552931905\n",
       "2. 69.5568185951561\n",
       "3. 87.8262651804835\n",
       "4. 78.3313039597124\n",
       "5. 61.839308058843\n",
       "6. 57.9666456300765\n",
       "7. 60.1859455555677\n",
       "8. 80.4540496412665\n",
       "9. 73.2713614404202\n",
       "10. 75.5582931637764\n",
       "11. 85.6444148253649\n",
       "12. 80.2110948972404\n",
       "\n",
       "\n",
       "\n",
       "$sexe\n",
       ":   1. M\n",
       "2. F\n",
       "3. F\n",
       "4. M\n",
       "5. M\n",
       "6. F\n",
       "7. F\n",
       "8. M\n",
       "9. M\n",
       "10. F\n",
       "11. F\n",
       "12. M\n",
       "\n",
       "\n",
       "\n",
       "\n",
       "\n"
      ],
      "text/plain": [
       "$taille\n",
       " [1] 172.3511 162.5740 172.2135 152.5294 158.1337 160.8500 160.1103 177.6136\n",
       " [9] 160.0898 176.0607 156.1821 178.4701\n",
       "\n",
       "$masse\n",
       " [1] 69.23876 69.55682 87.82627 78.33130 61.83931 57.96665 60.18595 80.45405\n",
       " [9] 73.27136 75.55829 85.64441 80.21109\n",
       "\n",
       "$sexe\n",
       " [1] M F F M M F F M M F F M\n",
       "Levels: F M\n"
      ]
     },
     "metadata": {},
     "output_type": "display_data"
    }
   ],
   "source": [
    "as.list(H)"
   ]
  },
  {
   "cell_type": "code",
   "execution_count": 131,
   "metadata": {},
   "outputs": [
    {
     "ename": "ERROR",
     "evalue": "Error in eval(expr, envir, enclos): objet 'taille' introuvable\n",
     "output_type": "error",
     "traceback": [
      "Error in eval(expr, envir, enclos): objet 'taille' introuvable\nTraceback:\n"
     ]
    }
   ],
   "source": [
    "rm(taille);taille # (1)"
   ]
  },
  {
   "cell_type": "code",
   "execution_count": 132,
   "metadata": {},
   "outputs": [
    {
     "data": {
      "text/html": [
       "<ol class=list-inline>\n",
       "\t<li>172.351052595768</li>\n",
       "\t<li>162.574018221349</li>\n",
       "\t<li>172.213514763862</li>\n",
       "\t<li>152.529368230607</li>\n",
       "\t<li>158.133670259267</li>\n",
       "\t<li>160.849976108875</li>\n",
       "\t<li>160.110335228965</li>\n",
       "\t<li>177.61361961253</li>\n",
       "\t<li>160.08976488607</li>\n",
       "\t<li>176.060650565196</li>\n",
       "\t<li>156.182149713859</li>\n",
       "\t<li>178.470053903293</li>\n",
       "</ol>\n"
      ],
      "text/latex": [
       "\\begin{enumerate*}\n",
       "\\item 172.351052595768\n",
       "\\item 162.574018221349\n",
       "\\item 172.213514763862\n",
       "\\item 152.529368230607\n",
       "\\item 158.133670259267\n",
       "\\item 160.849976108875\n",
       "\\item 160.110335228965\n",
       "\\item 177.61361961253\n",
       "\\item 160.08976488607\n",
       "\\item 176.060650565196\n",
       "\\item 156.182149713859\n",
       "\\item 178.470053903293\n",
       "\\end{enumerate*}\n"
      ],
      "text/markdown": [
       "1. 172.351052595768\n",
       "2. 162.574018221349\n",
       "3. 172.213514763862\n",
       "4. 152.529368230607\n",
       "5. 158.133670259267\n",
       "6. 160.849976108875\n",
       "7. 160.110335228965\n",
       "8. 177.61361961253\n",
       "9. 160.08976488607\n",
       "10. 176.060650565196\n",
       "11. 156.182149713859\n",
       "12. 178.470053903293\n",
       "\n",
       "\n"
      ],
      "text/plain": [
       " [1] 172.3511 162.5740 172.2135 152.5294 158.1337 160.8500 160.1103 177.6136\n",
       " [9] 160.0898 176.0607 156.1821 178.4701"
      ]
     },
     "metadata": {},
     "output_type": "display_data"
    }
   ],
   "source": [
    "H$taille"
   ]
  },
  {
   "cell_type": "code",
   "execution_count": 133,
   "metadata": {},
   "outputs": [
    {
     "name": "stderr",
     "output_type": "stream",
     "text": [
      "The following objects are masked _by_ .GlobalEnv:\n",
      "\n",
      "    masse, sexe\n",
      "\n"
     ]
    },
    {
     "data": {
      "text/html": [
       "<ol class=list-inline>\n",
       "\t<li>172.351052595768</li>\n",
       "\t<li>162.574018221349</li>\n",
       "\t<li>172.213514763862</li>\n",
       "\t<li>152.529368230607</li>\n",
       "\t<li>158.133670259267</li>\n",
       "\t<li>160.849976108875</li>\n",
       "\t<li>160.110335228965</li>\n",
       "\t<li>177.61361961253</li>\n",
       "\t<li>160.08976488607</li>\n",
       "\t<li>176.060650565196</li>\n",
       "\t<li>156.182149713859</li>\n",
       "\t<li>178.470053903293</li>\n",
       "</ol>\n"
      ],
      "text/latex": [
       "\\begin{enumerate*}\n",
       "\\item 172.351052595768\n",
       "\\item 162.574018221349\n",
       "\\item 172.213514763862\n",
       "\\item 152.529368230607\n",
       "\\item 158.133670259267\n",
       "\\item 160.849976108875\n",
       "\\item 160.110335228965\n",
       "\\item 177.61361961253\n",
       "\\item 160.08976488607\n",
       "\\item 176.060650565196\n",
       "\\item 156.182149713859\n",
       "\\item 178.470053903293\n",
       "\\end{enumerate*}\n"
      ],
      "text/markdown": [
       "1. 172.351052595768\n",
       "2. 162.574018221349\n",
       "3. 172.213514763862\n",
       "4. 152.529368230607\n",
       "5. 158.133670259267\n",
       "6. 160.849976108875\n",
       "7. 160.110335228965\n",
       "8. 177.61361961253\n",
       "9. 160.08976488607\n",
       "10. 176.060650565196\n",
       "11. 156.182149713859\n",
       "12. 178.470053903293\n",
       "\n",
       "\n"
      ],
      "text/plain": [
       " [1] 172.3511 162.5740 172.2135 152.5294 158.1337 160.8500 160.1103 177.6136\n",
       " [9] 160.0898 176.0607 156.1821 178.4701"
      ]
     },
     "metadata": {},
     "output_type": "display_data"
    }
   ],
   "source": [
    "attach(H);taille  # (2)"
   ]
  },
  {
   "cell_type": "code",
   "execution_count": 134,
   "metadata": {},
   "outputs": [
    {
     "data": {
      "text/html": [
       "<ol class=list-inline>\n",
       "\t<li>'.GlobalEnv'</li>\n",
       "\t<li>'H'</li>\n",
       "\t<li>'jupyter:irkernel'</li>\n",
       "\t<li>'package:stats'</li>\n",
       "\t<li>'package:graphics'</li>\n",
       "\t<li>'package:grDevices'</li>\n",
       "\t<li>'package:utils'</li>\n",
       "\t<li>'package:datasets'</li>\n",
       "\t<li>'package:methods'</li>\n",
       "\t<li>'Autoloads'</li>\n",
       "\t<li>'package:base'</li>\n",
       "</ol>\n"
      ],
      "text/latex": [
       "\\begin{enumerate*}\n",
       "\\item '.GlobalEnv'\n",
       "\\item 'H'\n",
       "\\item 'jupyter:irkernel'\n",
       "\\item 'package:stats'\n",
       "\\item 'package:graphics'\n",
       "\\item 'package:grDevices'\n",
       "\\item 'package:utils'\n",
       "\\item 'package:datasets'\n",
       "\\item 'package:methods'\n",
       "\\item 'Autoloads'\n",
       "\\item 'package:base'\n",
       "\\end{enumerate*}\n"
      ],
      "text/markdown": [
       "1. '.GlobalEnv'\n",
       "2. 'H'\n",
       "3. 'jupyter:irkernel'\n",
       "4. 'package:stats'\n",
       "5. 'package:graphics'\n",
       "6. 'package:grDevices'\n",
       "7. 'package:utils'\n",
       "8. 'package:datasets'\n",
       "9. 'package:methods'\n",
       "10. 'Autoloads'\n",
       "11. 'package:base'\n",
       "\n",
       "\n"
      ],
      "text/plain": [
       " [1] \".GlobalEnv\"        \"H\"                 \"jupyter:irkernel\" \n",
       " [4] \"package:stats\"     \"package:graphics\"  \"package:grDevices\"\n",
       " [7] \"package:utils\"     \"package:datasets\"  \"package:methods\"  \n",
       "[10] \"Autoloads\"         \"package:base\"     "
      ]
     },
     "metadata": {},
     "output_type": "display_data"
    }
   ],
   "source": [
    "search()          # (3)"
   ]
  },
  {
   "cell_type": "code",
   "execution_count": 135,
   "metadata": {},
   "outputs": [
    {
     "ename": "ERROR",
     "evalue": "Error in eval(expr, envir, enclos): objet 'taille' introuvable\n",
     "output_type": "error",
     "traceback": [
      "Error in eval(expr, envir, enclos): objet 'taille' introuvable\nTraceback:\n"
     ]
    }
   ],
   "source": [
    "detach();taille   # (4)"
   ]
  },
  {
   "cell_type": "markdown",
   "metadata": {},
   "source": [
    "**Questions**\n",
    "\n",
    "- Tester la fonction `summary` sur d'autres types d'objets.\n",
    "- Quel est l'effet de la conversion \"forcée\" du `data.frame` en matrice opérée par la fonction `as.matrix()`?\n",
    "- Commenter l'enchaînement des lignes 1 à 4. Quel est l'effet de la fonction `attach`? De la fonction `search`? De la fonction `detach`?\n",
    "- Extraire la masse des individus dont la taille est supérieure à 160. \n",
    "- Extraire la masse et le sexe de ces mêmes individus.\n",
    "- Extraire la taille des individus de sexe masculin dont la masse est inférieure à 70. C'est possible en une seule ligne (voir l'opérateur `&`, `help(\"&\")`).\n",
    "\n",
    "\n",
    "**Réponses**"
   ]
  },
  {
   "cell_type": "code",
   "execution_count": 136,
   "metadata": {},
   "outputs": [
    {
     "data": {
      "text/plain": [
       "   Min. 1st Qu.  Median    Mean 3rd Qu.    Max. \n",
       "   1.00    2.75    4.50    4.25    5.25    8.00 "
      ]
     },
     "metadata": {},
     "output_type": "display_data"
    },
    {
     "data": {
      "text/plain": [
       "       V1          V2           V3           V4    \n",
       " Min.   :1   Min.   : 6   Min.   :11   Min.   :16  \n",
       " 1st Qu.:2   1st Qu.: 7   1st Qu.:12   1st Qu.:17  \n",
       " Median :3   Median : 8   Median :13   Median :18  \n",
       " Mean   :3   Mean   : 8   Mean   :13   Mean   :18  \n",
       " 3rd Qu.:4   3rd Qu.: 9   3rd Qu.:14   3rd Qu.:19  \n",
       " Max.   :5   Max.   :10   Max.   :15   Max.   :20  "
      ]
     },
     "metadata": {},
     "output_type": "display_data"
    },
    {
     "data": {
      "text/plain": [
       "   Min. 1st Qu.  Median    Mean 3rd Qu.    Max. \n",
       "   1.00    5.75   10.50   10.50   15.25   20.00 "
      ]
     },
     "metadata": {},
     "output_type": "display_data"
    }
   ],
   "source": [
    "# 1. Fonction summary\n",
    "vec=c(2,5,3,6,5,4,1,8);summary(vec)\n",
    "mat=matrix(1:20,nc=4,nr=5)\n",
    "summary(mat);summary(c(mat))"
   ]
  },
  {
   "cell_type": "markdown",
   "metadata": {},
   "source": [
    "2. La conversion en matrice implique que tous les éléments sont désormais du mode `character`. La fonction `summary()` ne calcule plus des indicateurs numériques pour les colonnes `taille` et `masse`.\n",
    "3. Enchaînement des lignes\n",
    "\t- (1) Supprime l'objet `taille` dans l'espace de travail courant ; l'objet `taille` n'est plus reconnu.\n",
    "\t- (2) Attache le data.frame `H` ; les composants de `H` deviennent accessibles directement.\n",
    "\t- (3) `search()` permet de lister les environnements liés à l'espace de travail courant.\n",
    "\t- (4) Détache l'environnement en position 2 dans la liste de `search()`."
   ]
  },
  {
   "cell_type": "code",
   "execution_count": 137,
   "metadata": {},
   "outputs": [
    {
     "data": {
      "text/html": [
       "<ol class=list-inline>\n",
       "\t<li>69.2387552931905</li>\n",
       "\t<li>69.5568185951561</li>\n",
       "\t<li>87.8262651804835</li>\n",
       "\t<li>57.9666456300765</li>\n",
       "\t<li>60.1859455555677</li>\n",
       "\t<li>80.4540496412665</li>\n",
       "\t<li>73.2713614404202</li>\n",
       "\t<li>75.5582931637764</li>\n",
       "\t<li>80.2110948972404</li>\n",
       "</ol>\n"
      ],
      "text/latex": [
       "\\begin{enumerate*}\n",
       "\\item 69.2387552931905\n",
       "\\item 69.5568185951561\n",
       "\\item 87.8262651804835\n",
       "\\item 57.9666456300765\n",
       "\\item 60.1859455555677\n",
       "\\item 80.4540496412665\n",
       "\\item 73.2713614404202\n",
       "\\item 75.5582931637764\n",
       "\\item 80.2110948972404\n",
       "\\end{enumerate*}\n"
      ],
      "text/markdown": [
       "1. 69.2387552931905\n",
       "2. 69.5568185951561\n",
       "3. 87.8262651804835\n",
       "4. 57.9666456300765\n",
       "5. 60.1859455555677\n",
       "6. 80.4540496412665\n",
       "7. 73.2713614404202\n",
       "8. 75.5582931637764\n",
       "9. 80.2110948972404\n",
       "\n",
       "\n"
      ],
      "text/plain": [
       "[1] 69.23876 69.55682 87.82627 57.96665 60.18595 80.45405 73.27136 75.55829\n",
       "[9] 80.21109"
      ]
     },
     "metadata": {},
     "output_type": "display_data"
    }
   ],
   "source": [
    "# 4.\n",
    "H[H$taille>160,2]  "
   ]
  },
  {
   "cell_type": "code",
   "execution_count": 138,
   "metadata": {},
   "outputs": [
    {
     "data": {
      "text/html": [
       "<table>\n",
       "<thead><tr><th></th><th scope=col>masse</th><th scope=col>sexe</th></tr></thead>\n",
       "<tbody>\n",
       "\t<tr><th scope=row>1</th><td>69.23876</td><td>M       </td></tr>\n",
       "\t<tr><th scope=row>2</th><td>69.55682</td><td>F       </td></tr>\n",
       "\t<tr><th scope=row>3</th><td>87.82627</td><td>F       </td></tr>\n",
       "\t<tr><th scope=row>6</th><td>57.96665</td><td>F       </td></tr>\n",
       "\t<tr><th scope=row>7</th><td>60.18595</td><td>F       </td></tr>\n",
       "\t<tr><th scope=row>8</th><td>80.45405</td><td>M       </td></tr>\n",
       "\t<tr><th scope=row>9</th><td>73.27136</td><td>M       </td></tr>\n",
       "\t<tr><th scope=row>10</th><td>75.55829</td><td>F       </td></tr>\n",
       "\t<tr><th scope=row>12</th><td>80.21109</td><td>M       </td></tr>\n",
       "</tbody>\n",
       "</table>\n"
      ],
      "text/latex": [
       "\\begin{tabular}{r|ll}\n",
       "  & masse & sexe\\\\\n",
       "\\hline\n",
       "\t1 & 69.23876 & M       \\\\\n",
       "\t2 & 69.55682 & F       \\\\\n",
       "\t3 & 87.82627 & F       \\\\\n",
       "\t6 & 57.96665 & F       \\\\\n",
       "\t7 & 60.18595 & F       \\\\\n",
       "\t8 & 80.45405 & M       \\\\\n",
       "\t9 & 73.27136 & M       \\\\\n",
       "\t10 & 75.55829 & F       \\\\\n",
       "\t12 & 80.21109 & M       \\\\\n",
       "\\end{tabular}\n"
      ],
      "text/markdown": [
       "\n",
       "| <!--/--> | masse | sexe | \n",
       "|---|---|---|---|---|---|---|---|---|\n",
       "| 1 | 69.23876 | M        | \n",
       "| 2 | 69.55682 | F        | \n",
       "| 3 | 87.82627 | F        | \n",
       "| 6 | 57.96665 | F        | \n",
       "| 7 | 60.18595 | F        | \n",
       "| 8 | 80.45405 | M        | \n",
       "| 9 | 73.27136 | M        | \n",
       "| 10 | 75.55829 | F        | \n",
       "| 12 | 80.21109 | M        | \n",
       "\n",
       "\n"
      ],
      "text/plain": [
       "   masse    sexe\n",
       "1  69.23876 M   \n",
       "2  69.55682 F   \n",
       "3  87.82627 F   \n",
       "6  57.96665 F   \n",
       "7  60.18595 F   \n",
       "8  80.45405 M   \n",
       "9  73.27136 M   \n",
       "10 75.55829 F   \n",
       "12 80.21109 M   "
      ]
     },
     "metadata": {},
     "output_type": "display_data"
    }
   ],
   "source": [
    "# 5.\n",
    "H[H$taille>160,2:3]  "
   ]
  },
  {
   "cell_type": "code",
   "execution_count": 139,
   "metadata": {},
   "outputs": [
    {
     "data": {
      "text/html": [
       "<ol class=list-inline>\n",
       "\t<li>172.351052595768</li>\n",
       "\t<li>158.133670259267</li>\n",
       "</ol>\n"
      ],
      "text/latex": [
       "\\begin{enumerate*}\n",
       "\\item 172.351052595768\n",
       "\\item 158.133670259267\n",
       "\\end{enumerate*}\n"
      ],
      "text/markdown": [
       "1. 172.351052595768\n",
       "2. 158.133670259267\n",
       "\n",
       "\n"
      ],
      "text/plain": [
       "[1] 172.3511 158.1337"
      ]
     },
     "metadata": {},
     "output_type": "display_data"
    }
   ],
   "source": [
    "# 6.\n",
    "H[H$masse<70 & H$sexe==\"M\",1]"
   ]
  },
  {
   "cell_type": "markdown",
   "metadata": {},
   "source": [
    "## 4 Entrée / Sortie\n",
    "\n",
    "### 4.1 Importation d'un jeu de données\n",
    "\n",
    "`Tab1 = read.table(\"Tableau.dat\")` lit le fichier nommé `Tableau.dat` pour créer le *data frame* `Tab1` en supposant que le fichier est bien dans le répertoire courant. Sinon il faut préciser le chemin. \n",
    "\n",
    "`help(read.table)` fournit la liste des nombreuses options de cette fonction très utile. Les fonctions `read.csv` et `read.csv2` en sont des cas particuliers, c'est-à-dire avec des options spécifiques (caractère séparateur, marque décimale) adaptées aux fichiers lus / écrits par des tableurs en format `.csv`.\n",
    "\n",
    "\n",
    "Utiliser un éditeur de texte pour créer les quatre fichiers `fic1.txt` à `fic4.txt` ci-dessous  en respectant scrupuleusement la ponctuation.\n",
    "\n",
    "\t\t\t5,2.5,3.8 \n",
    "\t\t\t8,3.2,3.4 \n",
    "\t\t\t12,4.6,5 \n",
    "\n",
    "N.B. séparateur par caractère de tabulation pour le fichier `fic2.txt`\n",
    "\n",
    "\t\t\t5       2.5     3.8  \n",
    "\t\t\t8       3.2     3.4  \n",
    "\t\t\t12      4.6     5  \n",
    "\n",
    "\t\t\tX1;X2;X3  \n",
    "\t\t\t5;2.5;3.8  \n",
    "\t\t\t8;3.2;3.4  \n",
    "\t\t\t12;4.6;5\t\n",
    "            \n",
    "\t\t\t5;2,5;3,8  \n",
    "\t\t\t8;3,2;3,4  \n",
    "\t\t\t12;4,6;5 \n",
    "\n",
    "Comparer les modes de lecture de fichiers en fonction du type, des séparateurs et de la présence de la première ligne de noms des variables."
   ]
  },
  {
   "cell_type": "code",
   "execution_count": 148,
   "metadata": {},
   "outputs": [
    {
     "data": {
      "text/html": [
       "<table>\n",
       "<thead><tr><th scope=col>V1</th><th scope=col>V2</th><th scope=col>V3</th></tr></thead>\n",
       "<tbody>\n",
       "\t<tr><td> 5 </td><td>2.5</td><td>3.8</td></tr>\n",
       "\t<tr><td> 8 </td><td>3.2</td><td>3.4</td></tr>\n",
       "\t<tr><td>12 </td><td>4.6</td><td>5.0</td></tr>\n",
       "</tbody>\n",
       "</table>\n"
      ],
      "text/latex": [
       "\\begin{tabular}{r|lll}\n",
       " V1 & V2 & V3\\\\\n",
       "\\hline\n",
       "\t  5  & 2.5 & 3.8\\\\\n",
       "\t  8  & 3.2 & 3.4\\\\\n",
       "\t 12  & 4.6 & 5.0\\\\\n",
       "\\end{tabular}\n"
      ],
      "text/markdown": [
       "\n",
       "V1 | V2 | V3 | \n",
       "|---|---|---|\n",
       "|  5  | 2.5 | 3.8 | \n",
       "|  8  | 3.2 | 3.4 | \n",
       "| 12  | 4.6 | 5.0 | \n",
       "\n",
       "\n"
      ],
      "text/plain": [
       "  V1 V2  V3 \n",
       "1  5 2.5 3.8\n",
       "2  8 3.2 3.4\n",
       "3 12 4.6 5.0"
      ]
     },
     "metadata": {},
     "output_type": "display_data"
    }
   ],
   "source": [
    "fic1=read.table(\"fic1.csv\",sep=\",\")\n",
    "fic1"
   ]
  },
  {
   "cell_type": "code",
   "execution_count": 149,
   "metadata": {},
   "outputs": [
    {
     "data": {
      "text/html": [
       "<table>\n",
       "<thead><tr><th scope=col>X5</th><th scope=col>X2.5</th><th scope=col>X3.8</th></tr></thead>\n",
       "<tbody>\n",
       "\t<tr><td> 8 </td><td>3.2</td><td>3.4</td></tr>\n",
       "\t<tr><td>12 </td><td>4.6</td><td>5.0</td></tr>\n",
       "</tbody>\n",
       "</table>\n"
      ],
      "text/latex": [
       "\\begin{tabular}{r|lll}\n",
       " X5 & X2.5 & X3.8\\\\\n",
       "\\hline\n",
       "\t  8  & 3.2 & 3.4\\\\\n",
       "\t 12  & 4.6 & 5.0\\\\\n",
       "\\end{tabular}\n"
      ],
      "text/markdown": [
       "\n",
       "X5 | X2.5 | X3.8 | \n",
       "|---|---|\n",
       "|  8  | 3.2 | 3.4 | \n",
       "| 12  | 4.6 | 5.0 | \n",
       "\n",
       "\n"
      ],
      "text/plain": [
       "  X5 X2.5 X3.8\n",
       "1  8 3.2  3.4 \n",
       "2 12 4.6  5.0 "
      ]
     },
     "metadata": {},
     "output_type": "display_data"
    }
   ],
   "source": [
    "fic1b=read.csv(\"fic1.csv\")\n",
    "fic1b"
   ]
  },
  {
   "cell_type": "code",
   "execution_count": 150,
   "metadata": {},
   "outputs": [
    {
     "data": {
      "text/html": [
       "<table>\n",
       "<thead><tr><th scope=col>V1</th><th scope=col>V2</th><th scope=col>V3</th></tr></thead>\n",
       "<tbody>\n",
       "\t<tr><td> 5 </td><td>2.5</td><td>3.8</td></tr>\n",
       "\t<tr><td> 8 </td><td>3.2</td><td>3.4</td></tr>\n",
       "\t<tr><td>12 </td><td>4.6</td><td>5.0</td></tr>\n",
       "</tbody>\n",
       "</table>\n"
      ],
      "text/latex": [
       "\\begin{tabular}{r|lll}\n",
       " V1 & V2 & V3\\\\\n",
       "\\hline\n",
       "\t  5  & 2.5 & 3.8\\\\\n",
       "\t  8  & 3.2 & 3.4\\\\\n",
       "\t 12  & 4.6 & 5.0\\\\\n",
       "\\end{tabular}\n"
      ],
      "text/markdown": [
       "\n",
       "V1 | V2 | V3 | \n",
       "|---|---|---|\n",
       "|  5  | 2.5 | 3.8 | \n",
       "|  8  | 3.2 | 3.4 | \n",
       "| 12  | 4.6 | 5.0 | \n",
       "\n",
       "\n"
      ],
      "text/plain": [
       "  V1 V2  V3 \n",
       "1  5 2.5 3.8\n",
       "2  8 3.2 3.4\n",
       "3 12 4.6 5.0"
      ]
     },
     "metadata": {},
     "output_type": "display_data"
    }
   ],
   "source": [
    "fic1b=read.csv(\"fic1.csv\",header=FALSE)\n",
    "fic1b"
   ]
  },
  {
   "cell_type": "markdown",
   "metadata": {},
   "source": [
    "**Questions**\n",
    "\n",
    "Importer les fichiers {\\tt fic2.txt}, {\\tt fic3.txt} et {\\tt fic4.txt}.\n",
    "\n",
    "**Réponses**"
   ]
  },
  {
   "cell_type": "code",
   "execution_count": 156,
   "metadata": {},
   "outputs": [],
   "source": [
    "fic2 = read.table(\"fic2.csv\")\n",
    "fic3 = read.table(\"fic3.csv\",header=T,sep=\";\")\n",
    "fic4 = read.table(\"fic4.csv\",sep=\";\",dec=\",\")"
   ]
  },
  {
   "cell_type": "markdown",
   "metadata": {},
   "source": [
    "### 4.2 Exportation d'objets R\n",
    "Ecriture dans un fichier et traces des exécutions. "
   ]
  },
  {
   "cell_type": "code",
   "execution_count": 157,
   "metadata": {
    "collapsed": true
   },
   "outputs": [],
   "source": [
    "A=seq(1,10,l=50)\n",
    "write.table(A,\"A.txt\")\n",
    "sink(\"A2.txt\")  # Début, ouverture du fichier"
   ]
  },
  {
   "cell_type": "code",
   "execution_count": 158,
   "metadata": {},
   "outputs": [
    {
     "data": {
      "text/html": [
       "<ol class=list-inline>\n",
       "\t<li>1</li>\n",
       "\t<li>1.18367346938776</li>\n",
       "\t<li>1.36734693877551</li>\n",
       "\t<li>1.55102040816327</li>\n",
       "\t<li>1.73469387755102</li>\n",
       "\t<li>1.91836734693878</li>\n",
       "\t<li>2.10204081632653</li>\n",
       "\t<li>2.28571428571429</li>\n",
       "\t<li>2.46938775510204</li>\n",
       "\t<li>2.6530612244898</li>\n",
       "\t<li>2.83673469387755</li>\n",
       "\t<li>3.02040816326531</li>\n",
       "\t<li>3.20408163265306</li>\n",
       "\t<li>3.38775510204082</li>\n",
       "\t<li>3.57142857142857</li>\n",
       "\t<li>3.75510204081633</li>\n",
       "\t<li>3.93877551020408</li>\n",
       "\t<li>4.12244897959184</li>\n",
       "\t<li>4.30612244897959</li>\n",
       "\t<li>4.48979591836735</li>\n",
       "\t<li>4.6734693877551</li>\n",
       "\t<li>4.85714285714286</li>\n",
       "\t<li>5.04081632653061</li>\n",
       "\t<li>5.22448979591837</li>\n",
       "\t<li>5.40816326530612</li>\n",
       "\t<li>5.59183673469388</li>\n",
       "\t<li>5.77551020408163</li>\n",
       "\t<li>5.95918367346939</li>\n",
       "\t<li>6.14285714285714</li>\n",
       "\t<li>6.3265306122449</li>\n",
       "\t<li>6.51020408163265</li>\n",
       "\t<li>6.69387755102041</li>\n",
       "\t<li>6.87755102040816</li>\n",
       "\t<li>7.06122448979592</li>\n",
       "\t<li>7.24489795918367</li>\n",
       "\t<li>7.42857142857143</li>\n",
       "\t<li>7.61224489795918</li>\n",
       "\t<li>7.79591836734694</li>\n",
       "\t<li>7.97959183673469</li>\n",
       "\t<li>8.16326530612245</li>\n",
       "\t<li>8.3469387755102</li>\n",
       "\t<li>8.53061224489796</li>\n",
       "\t<li>8.71428571428572</li>\n",
       "\t<li>8.89795918367347</li>\n",
       "\t<li>9.08163265306123</li>\n",
       "\t<li>9.26530612244898</li>\n",
       "\t<li>9.44897959183674</li>\n",
       "\t<li>9.63265306122449</li>\n",
       "\t<li>9.81632653061225</li>\n",
       "\t<li>10</li>\n",
       "</ol>\n"
      ],
      "text/latex": [
       "\\begin{enumerate*}\n",
       "\\item 1\n",
       "\\item 1.18367346938776\n",
       "\\item 1.36734693877551\n",
       "\\item 1.55102040816327\n",
       "\\item 1.73469387755102\n",
       "\\item 1.91836734693878\n",
       "\\item 2.10204081632653\n",
       "\\item 2.28571428571429\n",
       "\\item 2.46938775510204\n",
       "\\item 2.6530612244898\n",
       "\\item 2.83673469387755\n",
       "\\item 3.02040816326531\n",
       "\\item 3.20408163265306\n",
       "\\item 3.38775510204082\n",
       "\\item 3.57142857142857\n",
       "\\item 3.75510204081633\n",
       "\\item 3.93877551020408\n",
       "\\item 4.12244897959184\n",
       "\\item 4.30612244897959\n",
       "\\item 4.48979591836735\n",
       "\\item 4.6734693877551\n",
       "\\item 4.85714285714286\n",
       "\\item 5.04081632653061\n",
       "\\item 5.22448979591837\n",
       "\\item 5.40816326530612\n",
       "\\item 5.59183673469388\n",
       "\\item 5.77551020408163\n",
       "\\item 5.95918367346939\n",
       "\\item 6.14285714285714\n",
       "\\item 6.3265306122449\n",
       "\\item 6.51020408163265\n",
       "\\item 6.69387755102041\n",
       "\\item 6.87755102040816\n",
       "\\item 7.06122448979592\n",
       "\\item 7.24489795918367\n",
       "\\item 7.42857142857143\n",
       "\\item 7.61224489795918\n",
       "\\item 7.79591836734694\n",
       "\\item 7.97959183673469\n",
       "\\item 8.16326530612245\n",
       "\\item 8.3469387755102\n",
       "\\item 8.53061224489796\n",
       "\\item 8.71428571428572\n",
       "\\item 8.89795918367347\n",
       "\\item 9.08163265306123\n",
       "\\item 9.26530612244898\n",
       "\\item 9.44897959183674\n",
       "\\item 9.63265306122449\n",
       "\\item 9.81632653061225\n",
       "\\item 10\n",
       "\\end{enumerate*}\n"
      ],
      "text/markdown": [
       "1. 1\n",
       "2. 1.18367346938776\n",
       "3. 1.36734693877551\n",
       "4. 1.55102040816327\n",
       "5. 1.73469387755102\n",
       "6. 1.91836734693878\n",
       "7. 2.10204081632653\n",
       "8. 2.28571428571429\n",
       "9. 2.46938775510204\n",
       "10. 2.6530612244898\n",
       "11. 2.83673469387755\n",
       "12. 3.02040816326531\n",
       "13. 3.20408163265306\n",
       "14. 3.38775510204082\n",
       "15. 3.57142857142857\n",
       "16. 3.75510204081633\n",
       "17. 3.93877551020408\n",
       "18. 4.12244897959184\n",
       "19. 4.30612244897959\n",
       "20. 4.48979591836735\n",
       "21. 4.6734693877551\n",
       "22. 4.85714285714286\n",
       "23. 5.04081632653061\n",
       "24. 5.22448979591837\n",
       "25. 5.40816326530612\n",
       "26. 5.59183673469388\n",
       "27. 5.77551020408163\n",
       "28. 5.95918367346939\n",
       "29. 6.14285714285714\n",
       "30. 6.3265306122449\n",
       "31. 6.51020408163265\n",
       "32. 6.69387755102041\n",
       "33. 6.87755102040816\n",
       "34. 7.06122448979592\n",
       "35. 7.24489795918367\n",
       "36. 7.42857142857143\n",
       "37. 7.61224489795918\n",
       "38. 7.79591836734694\n",
       "39. 7.97959183673469\n",
       "40. 8.16326530612245\n",
       "41. 8.3469387755102\n",
       "42. 8.53061224489796\n",
       "43. 8.71428571428572\n",
       "44. 8.89795918367347\n",
       "45. 9.08163265306123\n",
       "46. 9.26530612244898\n",
       "47. 9.44897959183674\n",
       "48. 9.63265306122449\n",
       "49. 9.81632653061225\n",
       "50. 10\n",
       "\n",
       "\n"
      ],
      "text/plain": [
       " [1]  1.000000  1.183673  1.367347  1.551020  1.734694  1.918367  2.102041\n",
       " [8]  2.285714  2.469388  2.653061  2.836735  3.020408  3.204082  3.387755\n",
       "[15]  3.571429  3.755102  3.938776  4.122449  4.306122  4.489796  4.673469\n",
       "[22]  4.857143  5.040816  5.224490  5.408163  5.591837  5.775510  5.959184\n",
       "[29]  6.142857  6.326531  6.510204  6.693878  6.877551  7.061224  7.244898\n",
       "[36]  7.428571  7.612245  7.795918  7.979592  8.163265  8.346939  8.530612\n",
       "[43]  8.714286  8.897959  9.081633  9.265306  9.448980  9.632653  9.816327\n",
       "[50] 10.000000"
      ]
     },
     "metadata": {},
     "output_type": "display_data"
    },
    {
     "data": {
      "text/plain": [
       "   Min. 1st Qu.  Median    Mean 3rd Qu.    Max. \n",
       "   1.00    3.25    5.50    5.50    7.75   10.00 "
      ]
     },
     "metadata": {},
     "output_type": "display_data"
    }
   ],
   "source": [
    "A;summary(A)"
   ]
  },
  {
   "cell_type": "code",
   "execution_count": 159,
   "metadata": {},
   "outputs": [
    {
     "data": {
      "text/plain": [
       "   Min. 1st Qu.  Median    Mean 3rd Qu.    Max. \n",
       "   1.00    3.25    5.50    5.50    7.75   10.00 "
      ]
     },
     "metadata": {},
     "output_type": "display_data"
    }
   ],
   "source": [
    "sink()  # arrêt et fermeture du fichier\n",
    "summary(A)"
   ]
  },
  {
   "cell_type": "markdown",
   "metadata": {
    "collapsed": true
   },
   "source": [
    "### 4.3 Liens avec un tableur\n",
    "L'échange de fichiers avec un tableur se fait simplement à travers le format `.csv` comme précédemment en faisant attention aux versions américaines dans lesquelles les séparateurs de deux valeurs sont des \",\" et les marques décimales des \".\" tandis que dans les version françaises, les séparateurs de valeurs sont des \";\" et les marques décimales des \",\".\n",
    "\n",
    "#### Passer d'un tableur à R\n",
    "- Dans Excel (ou *open office*) :\n",
    "\t 1. Ouvrir le fichier de données,\n",
    "\t 2. Enregistrer le fichier au format `csv` (*Comma Separated Value*) en le spécifiant dans la liste déroulante (Type de fichier). \n",
    "     3. Quitter Excel. \n",
    "\n",
    "- Dans R: L'importation du fichier de données s'effectue avec la fonction `read.table()`. L'aide en ligne fournit tous les détails sur l'utilisation de cette fonction. On peut en général assurer l'importation avec les 4 arguments: `file, header, sep, dec`:\n",
    "   - `file`  nom du fichier qui contient les données avec le chemin pour y accéder,\n",
    "   - `header` (`TRUE` ou `FALSE`): précise si la première ligne contient le titre des colonnes, \n",
    "   - `sep`  permet de préciser le caractère qui délimite les colonnes,\n",
    "   - `dec`  permet de préciser le séparateur décimal.\n",
    "- N.B. Le chemin pour accéder au fichier est indiqué par des \"/\" et non par des \"\\\".\n",
    "\n",
    "#### Retour dans le tableur de données traitées avec R\n",
    "\n",
    "La fonction `write.table` permet d'envoyer un jeu de données R dans un fichier texte. \n",
    "\n",
    "Exemple : exporter le jeu de données `resul.dat` dans un fichier afin de poursuivre son analyse avec Excel. Il suffit de préciser que le séparateur décimal est la virgule et le séparateur le point-virgule.\n",
    "\n",
    "      write.table(resul.dat,\"resul.csv\",sep=\";\",dec=\",\")\n",
    "\n",
    "Il existe des packages R permettant d'assurer plus directement ces transferts mais la procédure décrite ici est en général recommandée. Pour plus de détails,  se référer au document **R Data Import/Export** disponible sur le CRAN."
   ]
  },
  {
   "cell_type": "code",
   "execution_count": null,
   "metadata": {
    "collapsed": true
   },
   "outputs": [],
   "source": []
  }
 ],
 "metadata": {
  "kernelspec": {
   "display_name": "R",
   "language": "R",
   "name": "ir"
  },
  "language_info": {
   "codemirror_mode": "r",
   "file_extension": ".r",
   "mimetype": "text/x-r-source",
   "name": "R",
   "pygments_lexer": "r",
   "version": "3.4.1"
  }
 },
 "nbformat": 4,
 "nbformat_minor": 1
}
