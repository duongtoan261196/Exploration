{
 "cells": [
  {
   "cell_type": "markdown",
   "metadata": {},
   "source": [
    "<center>\n",
    "<a href=\"http://www.insa-toulouse.fr/\" ><img src=\"http://www.math.univ-toulouse.fr/~besse/Wikistat/Images/logo-insa.jpg\" style=\"float:left; max-width: 120px; display: inline\" alt=\"INSA\"/></a> \n",
    "\n",
    "<a href=\"http://wikistat.fr/\" ><img src=\"http://www.math.univ-toulouse.fr/~besse/Wikistat/Images/wikistat.jpg\" style=\"max-width: 250px; display: inline\"  alt=\"Wikistat\"/></a>\n",
    "\n",
    "<a href=\"http://www.math.univ-toulouse.fr/\" ><img src=\"http://www.math.univ-toulouse.fr/~besse/Wikistat/Images/logo_imt.jpg\" style=\"float:right; max-width: 250px; display: inline\" alt=\"IMT\"/> </a>\n",
    "</center>"
   ]
  },
  {
   "cell_type": "markdown",
   "metadata": {},
   "source": [
    "# <a href=\"https://cran.r-project.org/\"><img src=\"https://cran.r-project.org/Rlogo.svg\" style=\"max-width: 40px; display: inline\" alt=\"R\"/></a> [pour Statistique et Science des Données](https://github.com/wikistat/Intro-Python)"
   ]
  },
  {
   "cell_type": "markdown",
   "metadata": {},
   "source": [
    "# Start <a href=\"https://cran.r-project.org/\"><img src=\"https://cran.r-project.org/Rlogo.svg\" style=\"max-width: 40px; display: inline\" alt=\"R\"/></a> pour statisticien novice"
   ]
  },
  {
   "cell_type": "markdown",
   "metadata": {},
   "source": [
    "**Résumé** Ce tutoriel introduit le logiciel libre R, son environnement et décrit les premières commandes nécessaires au démarrage d'une utilisation de méthodes statistiques avec ce logiciel. Les notions d'estimation, de variabilité et de loi d'un estimateur sont illustrées par des simulations. Les autres tutoriels abordent des fonctionnalités plus complexes.\n",
    "## Premières commandes\n",
    "Entrer les lignes ci-dessous dans la fenêtre de RStudio ou cliquer pour exécuter la cellule."
   ]
  },
  {
   "cell_type": "code",
   "execution_count": 1,
   "metadata": {},
   "outputs": [
    {
     "data": {
      "text/html": [
       "4"
      ],
      "text/latex": [
       "4"
      ],
      "text/markdown": [
       "4"
      ],
      "text/plain": [
       "[1] 4"
      ]
     },
     "metadata": {},
     "output_type": "display_data"
    }
   ],
   "source": [
    "# Ceci est un commentaire\n",
    "2+2"
   ]
  },
  {
   "cell_type": "code",
   "execution_count": 2,
   "metadata": {},
   "outputs": [
    {
     "data": {
      "text/html": [
       "1.4142135623731"
      ],
      "text/latex": [
       "1.4142135623731"
      ],
      "text/markdown": [
       "1.4142135623731"
      ],
      "text/plain": [
       "[1] 1.414214"
      ]
     },
     "metadata": {},
     "output_type": "display_data"
    }
   ],
   "source": [
    "sqrt(2)"
   ]
  },
  {
   "cell_type": "code",
   "execution_count": 3,
   "metadata": {},
   "outputs": [
    {
     "data": {
      "text/html": [
       "10.5306487525204"
      ],
      "text/latex": [
       "10.5306487525204"
      ],
      "text/markdown": [
       "10.5306487525204"
      ],
      "text/plain": [
       "[1] 10.53065"
      ]
     },
     "metadata": {},
     "output_type": "display_data"
    }
   ],
   "source": [
    "a = exp(2)  # création d'une variable scalaire\n",
    "b = a + pi \n",
    "b           # affichage de la valeur"
   ]
  },
  {
   "cell_type": "code",
   "execution_count": 6,
   "metadata": {},
   "outputs": [
    {
     "data": {
      "text/html": [
       "<ol class=list-inline>\n",
       "\t<li>'a'</li>\n",
       "\t<li>'b'</li>\n",
       "</ol>\n"
      ],
      "text/latex": [
       "\\begin{enumerate*}\n",
       "\\item 'a'\n",
       "\\item 'b'\n",
       "\\end{enumerate*}\n"
      ],
      "text/markdown": [
       "1. 'a'\n",
       "2. 'b'\n",
       "\n",
       "\n"
      ],
      "text/plain": [
       "[1] \"a\" \"b\""
      ]
     },
     "metadata": {},
     "output_type": "display_data"
    }
   ],
   "source": [
    "# liste des variables\n",
    "ls()"
   ]
  },
  {
   "cell_type": "markdown",
   "metadata": {},
   "source": [
    "## Types de variables\n",
    "La *principale difficulté* dans l'utilisation de R réside dans l'identification des types d'objets manipulés."
   ]
  },
  {
   "cell_type": "code",
   "execution_count": 7,
   "metadata": {},
   "outputs": [
    {
     "data": {
      "text/html": [
       "<ol class=list-inline>\n",
       "\t<li>1</li>\n",
       "\t<li>2</li>\n",
       "\t<li>3</li>\n",
       "\t<li>4</li>\n",
       "\t<li>5</li>\n",
       "\t<li>6</li>\n",
       "\t<li>7</li>\n",
       "\t<li>8</li>\n",
       "\t<li>9</li>\n",
       "\t<li>10</li>\n",
       "</ol>\n"
      ],
      "text/latex": [
       "\\begin{enumerate*}\n",
       "\\item 1\n",
       "\\item 2\n",
       "\\item 3\n",
       "\\item 4\n",
       "\\item 5\n",
       "\\item 6\n",
       "\\item 7\n",
       "\\item 8\n",
       "\\item 9\n",
       "\\item 10\n",
       "\\end{enumerate*}\n"
      ],
      "text/markdown": [
       "1. 1\n",
       "2. 2\n",
       "3. 3\n",
       "4. 4\n",
       "5. 5\n",
       "6. 6\n",
       "7. 7\n",
       "8. 8\n",
       "9. 9\n",
       "10. 10\n",
       "\n",
       "\n"
      ],
      "text/plain": [
       " [1]  1  2  3  4  5  6  7  8  9 10"
      ]
     },
     "metadata": {},
     "output_type": "display_data"
    }
   ],
   "source": [
    "# Vecteur\n",
    "x = 1:10  # définition d'une séquence\n",
    "x"
   ]
  },
  {
   "cell_type": "code",
   "execution_count": 27,
   "metadata": {},
   "outputs": [
    {
     "data": {
      "text/html": [
       "13"
      ],
      "text/latex": [
       "13"
      ],
      "text/markdown": [
       "13"
      ],
      "text/plain": [
       "[1] 13"
      ]
     },
     "metadata": {},
     "output_type": "display_data"
    },
    {
     "data": {
      "text/html": [
       "<ol class=list-inline>\n",
       "\t<li>5</li>\n",
       "\t<li>7</li>\n",
       "\t<li>9</li>\n",
       "</ol>\n"
      ],
      "text/latex": [
       "\\begin{enumerate*}\n",
       "\\item 5\n",
       "\\item 7\n",
       "\\item 9\n",
       "\\end{enumerate*}\n"
      ],
      "text/markdown": [
       "1. 5\n",
       "2. 7\n",
       "3. 9\n",
       "\n",
       "\n"
      ],
      "text/plain": [
       "[1] 5 7 9"
      ]
     },
     "metadata": {},
     "output_type": "display_data"
    },
    {
     "data": {
      "text/html": [
       "<ol class=list-inline>\n",
       "\t<li>5</li>\n",
       "\t<li>7</li>\n",
       "\t<li>9</li>\n",
       "\t<li>13</li>\n",
       "\t<li>15</li>\n",
       "\t<li>17</li>\n",
       "\t<li>19</li>\n",
       "\t<li>21</li>\n",
       "\t<li>23</li>\n",
       "</ol>\n"
      ],
      "text/latex": [
       "\\begin{enumerate*}\n",
       "\\item 5\n",
       "\\item 7\n",
       "\\item 9\n",
       "\\item 13\n",
       "\\item 15\n",
       "\\item 17\n",
       "\\item 19\n",
       "\\item 21\n",
       "\\item 23\n",
       "\\end{enumerate*}\n"
      ],
      "text/markdown": [
       "1. 5\n",
       "2. 7\n",
       "3. 9\n",
       "4. 13\n",
       "5. 15\n",
       "6. 17\n",
       "7. 19\n",
       "8. 21\n",
       "9. 23\n",
       "\n",
       "\n"
      ],
      "text/plain": [
       "[1]  5  7  9 13 15 17 19 21 23"
      ]
     },
     "metadata": {},
     "output_type": "display_data"
    },
    {
     "data": {
      "text/html": [
       "<ol class=list-inline>\n",
       "\t<li>5</li>\n",
       "\t<li>7</li>\n",
       "\t<li>11</li>\n",
       "\t<li>13</li>\n",
       "\t<li>15</li>\n",
       "\t<li>17</li>\n",
       "\t<li>19</li>\n",
       "\t<li>21</li>\n",
       "\t<li>23</li>\n",
       "</ol>\n"
      ],
      "text/latex": [
       "\\begin{enumerate*}\n",
       "\\item 5\n",
       "\\item 7\n",
       "\\item 11\n",
       "\\item 13\n",
       "\\item 15\n",
       "\\item 17\n",
       "\\item 19\n",
       "\\item 21\n",
       "\\item 23\n",
       "\\end{enumerate*}\n"
      ],
      "text/markdown": [
       "1. 5\n",
       "2. 7\n",
       "3. 11\n",
       "4. 13\n",
       "5. 15\n",
       "6. 17\n",
       "7. 19\n",
       "8. 21\n",
       "9. 23\n",
       "\n",
       "\n"
      ],
      "text/plain": [
       "[1]  5  7 11 13 15 17 19 21 23"
      ]
     },
     "metadata": {},
     "output_type": "display_data"
    },
    {
     "data": {
      "text/html": [
       "<ol class=list-inline>\n",
       "\t<li>5</li>\n",
       "\t<li>9</li>\n",
       "\t<li>11</li>\n",
       "\t<li>13</li>\n",
       "\t<li>15</li>\n",
       "\t<li>17</li>\n",
       "\t<li>19</li>\n",
       "\t<li>21</li>\n",
       "\t<li>23</li>\n",
       "</ol>\n"
      ],
      "text/latex": [
       "\\begin{enumerate*}\n",
       "\\item 5\n",
       "\\item 9\n",
       "\\item 11\n",
       "\\item 13\n",
       "\\item 15\n",
       "\\item 17\n",
       "\\item 19\n",
       "\\item 21\n",
       "\\item 23\n",
       "\\end{enumerate*}\n"
      ],
      "text/markdown": [
       "1. 5\n",
       "2. 9\n",
       "3. 11\n",
       "4. 13\n",
       "5. 15\n",
       "6. 17\n",
       "7. 19\n",
       "8. 21\n",
       "9. 23\n",
       "\n",
       "\n"
      ],
      "text/plain": [
       "[1]  5  9 11 13 15 17 19 21 23"
      ]
     },
     "metadata": {},
     "output_type": "display_data"
    },
    {
     "data": {
      "text/html": [
       "<ol class=list-inline>\n",
       "\t<li>7</li>\n",
       "\t<li>9</li>\n",
       "\t<li>11</li>\n",
       "\t<li>13</li>\n",
       "\t<li>15</li>\n",
       "\t<li>17</li>\n",
       "\t<li>19</li>\n",
       "\t<li>21</li>\n",
       "</ol>\n"
      ],
      "text/latex": [
       "\\begin{enumerate*}\n",
       "\\item 7\n",
       "\\item 9\n",
       "\\item 11\n",
       "\\item 13\n",
       "\\item 15\n",
       "\\item 17\n",
       "\\item 19\n",
       "\\item 21\n",
       "\\end{enumerate*}\n"
      ],
      "text/markdown": [
       "1. 7\n",
       "2. 9\n",
       "3. 11\n",
       "4. 13\n",
       "5. 15\n",
       "6. 17\n",
       "7. 19\n",
       "8. 21\n",
       "\n",
       "\n"
      ],
      "text/plain": [
       "[1]  7  9 11 13 15 17 19 21"
      ]
     },
     "metadata": {},
     "output_type": "display_data"
    },
    {
     "data": {
      "text/html": [
       "<ol class=list-inline>\n",
       "\t<li>9</li>\n",
       "\t<li>11</li>\n",
       "\t<li>13</li>\n",
       "\t<li>15</li>\n",
       "\t<li>17</li>\n",
       "\t<li>19</li>\n",
       "\t<li>21</li>\n",
       "</ol>\n"
      ],
      "text/latex": [
       "\\begin{enumerate*}\n",
       "\\item 9\n",
       "\\item 11\n",
       "\\item 13\n",
       "\\item 15\n",
       "\\item 17\n",
       "\\item 19\n",
       "\\item 21\n",
       "\\end{enumerate*}\n"
      ],
      "text/markdown": [
       "1. 9\n",
       "2. 11\n",
       "3. 13\n",
       "4. 15\n",
       "5. 17\n",
       "6. 19\n",
       "7. 21\n",
       "\n",
       "\n"
      ],
      "text/plain": [
       "[1]  9 11 13 15 17 19 21"
      ]
     },
     "metadata": {},
     "output_type": "display_data"
    },
    {
     "data": {
      "text/html": [
       "<ol class=list-inline>\n",
       "\t<li>5</li>\n",
       "\t<li>7</li>\n",
       "\t<li>9</li>\n",
       "\t<li>11</li>\n",
       "\t<li>13</li>\n",
       "\t<li>15</li>\n",
       "\t<li>17</li>\n",
       "\t<li>19</li>\n",
       "\t<li>21</li>\n",
       "\t<li>23</li>\n",
       "</ol>\n"
      ],
      "text/latex": [
       "\\begin{enumerate*}\n",
       "\\item 5\n",
       "\\item 7\n",
       "\\item 9\n",
       "\\item 11\n",
       "\\item 13\n",
       "\\item 15\n",
       "\\item 17\n",
       "\\item 19\n",
       "\\item 21\n",
       "\\item 23\n",
       "\\end{enumerate*}\n"
      ],
      "text/markdown": [
       "1. 5\n",
       "2. 7\n",
       "3. 9\n",
       "4. 11\n",
       "5. 13\n",
       "6. 15\n",
       "7. 17\n",
       "8. 19\n",
       "9. 21\n",
       "10. 23\n",
       "\n",
       "\n"
      ],
      "text/plain": [
       " [1]  5  7  9 11 13 15 17 19 21 23"
      ]
     },
     "metadata": {},
     "output_type": "display_data"
    }
   ],
   "source": [
    "y = 2*x + 3\n",
    "y[5] ; y[1:3] ; y[-4];y[-3]; \n",
    "y[-2];                 # suprimer le 2eme element\n",
    "y[c(-1,-2,-10)];y    # composants d'un vecteur"
   ]
  },
  {
   "cell_type": "code",
   "execution_count": 32,
   "metadata": {},
   "outputs": [
    {
     "data": {
      "text/html": [
       "<table>\n",
       "<tbody>\n",
       "\t<tr><td>1 </td><td> 6</td><td>11</td></tr>\n",
       "\t<tr><td>2 </td><td> 7</td><td>12</td></tr>\n",
       "\t<tr><td>3 </td><td> 8</td><td>13</td></tr>\n",
       "\t<tr><td>4 </td><td> 9</td><td>14</td></tr>\n",
       "\t<tr><td>5 </td><td>10</td><td>15</td></tr>\n",
       "</tbody>\n",
       "</table>\n"
      ],
      "text/latex": [
       "\\begin{tabular}{lll}\n",
       "\t 1  &  6 & 11\\\\\n",
       "\t 2  &  7 & 12\\\\\n",
       "\t 3  &  8 & 13\\\\\n",
       "\t 4  &  9 & 14\\\\\n",
       "\t 5  & 10 & 15\\\\\n",
       "\\end{tabular}\n"
      ],
      "text/markdown": [
       "\n",
       "| 1  |  6 | 11 | \n",
       "| 2  |  7 | 12 | \n",
       "| 3  |  8 | 13 | \n",
       "| 4  |  9 | 14 | \n",
       "| 5  | 10 | 15 | \n",
       "\n",
       "\n"
      ],
      "text/plain": [
       "     [,1] [,2] [,3]\n",
       "[1,] 1     6   11  \n",
       "[2,] 2     7   12  \n",
       "[3,] 3     8   13  \n",
       "[4,] 4     9   14  \n",
       "[5,] 5    10   15  "
      ]
     },
     "metadata": {},
     "output_type": "display_data"
    },
    {
     "data": {
      "text/html": [
       "<table>\n",
       "<tbody>\n",
       "\t<tr><td> 1</td><td> 2</td><td> 3</td><td> 4</td><td> 5</td></tr>\n",
       "\t<tr><td> 6</td><td> 7</td><td> 8</td><td> 9</td><td>10</td></tr>\n",
       "\t<tr><td>11</td><td>12</td><td>13</td><td>14</td><td>15</td></tr>\n",
       "</tbody>\n",
       "</table>\n"
      ],
      "text/latex": [
       "\\begin{tabular}{lllll}\n",
       "\t  1 &  2 &  3 &  4 &  5\\\\\n",
       "\t  6 &  7 &  8 &  9 & 10\\\\\n",
       "\t 11 & 12 & 13 & 14 & 15\\\\\n",
       "\\end{tabular}\n"
      ],
      "text/markdown": [
       "\n",
       "|  1 |  2 |  3 |  4 |  5 | \n",
       "|  6 |  7 |  8 |  9 | 10 | \n",
       "| 11 | 12 | 13 | 14 | 15 | \n",
       "\n",
       "\n"
      ],
      "text/plain": [
       "     [,1] [,2] [,3] [,4] [,5]\n",
       "[1,]  1    2    3    4    5  \n",
       "[2,]  6    7    8    9   10  \n",
       "[3,] 11   12   13   14   15  "
      ]
     },
     "metadata": {},
     "output_type": "display_data"
    },
    {
     "data": {
      "text/html": [
       "11"
      ],
      "text/latex": [
       "11"
      ],
      "text/markdown": [
       "11"
      ],
      "text/plain": [
       "[1] 11"
      ]
     },
     "metadata": {},
     "output_type": "display_data"
    },
    {
     "data": {
      "text/html": [
       "<ol class=list-inline>\n",
       "\t<li>6</li>\n",
       "\t<li>7</li>\n",
       "\t<li>8</li>\n",
       "\t<li>9</li>\n",
       "\t<li>10</li>\n",
       "</ol>\n"
      ],
      "text/latex": [
       "\\begin{enumerate*}\n",
       "\\item 6\n",
       "\\item 7\n",
       "\\item 8\n",
       "\\item 9\n",
       "\\item 10\n",
       "\\end{enumerate*}\n"
      ],
      "text/markdown": [
       "1. 6\n",
       "2. 7\n",
       "3. 8\n",
       "4. 9\n",
       "5. 10\n",
       "\n",
       "\n"
      ],
      "text/plain": [
       "[1]  6  7  8  9 10"
      ]
     },
     "metadata": {},
     "output_type": "display_data"
    },
    {
     "data": {
      "text/html": [
       "<ol class=list-inline>\n",
       "\t<li>2</li>\n",
       "\t<li>7</li>\n",
       "\t<li>12</li>\n",
       "</ol>\n"
      ],
      "text/latex": [
       "\\begin{enumerate*}\n",
       "\\item 2\n",
       "\\item 7\n",
       "\\item 12\n",
       "\\end{enumerate*}\n"
      ],
      "text/markdown": [
       "1. 2\n",
       "2. 7\n",
       "3. 12\n",
       "\n",
       "\n"
      ],
      "text/plain": [
       "[1]  2  7 12"
      ]
     },
     "metadata": {},
     "output_type": "display_data"
    },
    {
     "data": {
      "text/html": [
       "<table>\n",
       "<tbody>\n",
       "\t<tr><td>1 </td><td>6 </td><td>11</td></tr>\n",
       "\t<tr><td>2 </td><td>7 </td><td>12</td></tr>\n",
       "\t<tr><td>3 </td><td>8 </td><td>13</td></tr>\n",
       "</tbody>\n",
       "</table>\n"
      ],
      "text/latex": [
       "\\begin{tabular}{lll}\n",
       "\t 1  & 6  & 11\\\\\n",
       "\t 2  & 7  & 12\\\\\n",
       "\t 3  & 8  & 13\\\\\n",
       "\\end{tabular}\n"
      ],
      "text/markdown": [
       "\n",
       "| 1  | 6  | 11 | \n",
       "| 2  | 7  | 12 | \n",
       "| 3  | 8  | 13 | \n",
       "\n",
       "\n"
      ],
      "text/plain": [
       "     [,1] [,2] [,3]\n",
       "[1,] 1    6    11  \n",
       "[2,] 2    7    12  \n",
       "[3,] 3    8    13  "
      ]
     },
     "metadata": {},
     "output_type": "display_data"
    }
   ],
   "source": [
    "# Matrice \n",
    "A = matrix(1:15,ncol=5); A  #nrow = nr par defaut : classer par colonne\n",
    "B = matrix(1:15,nc=5,byrow=TRUE) ; B \n",
    "A[1,3] ; A[,2] ; A[2,] ; A[1:3,1:3] # composants"
   ]
  },
  {
   "cell_type": "code",
   "execution_count": 39,
   "metadata": {},
   "outputs": [
    {
     "data": {
      "text/html": [
       "<dl>\n",
       "\t<dt>$mat</dt>\n",
       "\t\t<dd><table>\n",
       "<tbody>\n",
       "\t<tr><td>1 </td><td> 6</td><td>11</td></tr>\n",
       "\t<tr><td>2 </td><td> 7</td><td>12</td></tr>\n",
       "\t<tr><td>3 </td><td> 8</td><td>13</td></tr>\n",
       "\t<tr><td>4 </td><td> 9</td><td>14</td></tr>\n",
       "\t<tr><td>5 </td><td>10</td><td>15</td></tr>\n",
       "</tbody>\n",
       "</table>\n",
       "</dd>\n",
       "\t<dt>$texte</dt>\n",
       "\t\t<dd>'testliste'</dd>\n",
       "\t<dt>$vect</dt>\n",
       "\t\t<dd><ol class=list-inline>\n",
       "\t<li>5</li>\n",
       "\t<li>7</li>\n",
       "\t<li>9</li>\n",
       "\t<li>11</li>\n",
       "\t<li>13</li>\n",
       "\t<li>15</li>\n",
       "\t<li>17</li>\n",
       "\t<li>19</li>\n",
       "\t<li>21</li>\n",
       "\t<li>23</li>\n",
       "</ol>\n",
       "</dd>\n",
       "</dl>\n"
      ],
      "text/latex": [
       "\\begin{description}\n",
       "\\item[\\$mat] \\begin{tabular}{lll}\n",
       "\t 1  &  6 & 11\\\\\n",
       "\t 2  &  7 & 12\\\\\n",
       "\t 3  &  8 & 13\\\\\n",
       "\t 4  &  9 & 14\\\\\n",
       "\t 5  & 10 & 15\\\\\n",
       "\\end{tabular}\n",
       "\n",
       "\\item[\\$texte] 'testliste'\n",
       "\\item[\\$vect] \\begin{enumerate*}\n",
       "\\item 5\n",
       "\\item 7\n",
       "\\item 9\n",
       "\\item 11\n",
       "\\item 13\n",
       "\\item 15\n",
       "\\item 17\n",
       "\\item 19\n",
       "\\item 21\n",
       "\\item 23\n",
       "\\end{enumerate*}\n",
       "\n",
       "\\end{description}\n"
      ],
      "text/markdown": [
       "$mat\n",
       ":   \n",
       "| 1  |  6 | 11 | \n",
       "| 2  |  7 | 12 | \n",
       "| 3  |  8 | 13 | \n",
       "| 4  |  9 | 14 | \n",
       "| 5  | 10 | 15 | \n",
       "\n",
       "\n",
       "\n",
       "$texte\n",
       ":   'testliste'\n",
       "$vect\n",
       ":   1. 5\n",
       "2. 7\n",
       "3. 9\n",
       "4. 11\n",
       "5. 13\n",
       "6. 15\n",
       "7. 17\n",
       "8. 19\n",
       "9. 21\n",
       "10. 23\n",
       "\n",
       "\n",
       "\n",
       "\n",
       "\n"
      ],
      "text/plain": [
       "$mat\n",
       "     [,1] [,2] [,3]\n",
       "[1,]    1    6   11\n",
       "[2,]    2    7   12\n",
       "[3,]    3    8   13\n",
       "[4,]    4    9   14\n",
       "[5,]    5   10   15\n",
       "\n",
       "$texte\n",
       "[1] \"testliste\"\n",
       "\n",
       "$vect\n",
       " [1]  5  7  9 11 13 15 17 19 21 23\n"
      ]
     },
     "metadata": {},
     "output_type": "display_data"
    },
    {
     "data": {
      "text/html": [
       "'testliste'"
      ],
      "text/latex": [
       "'testliste'"
      ],
      "text/markdown": [
       "'testliste'"
      ],
      "text/plain": [
       "[1] \"testliste\""
      ]
     },
     "metadata": {},
     "output_type": "display_data"
    },
    {
     "data": {
      "text/html": [
       "<strong>$vect</strong> = <ol class=list-inline>\n",
       "\t<li>5</li>\n",
       "\t<li>7</li>\n",
       "\t<li>9</li>\n",
       "\t<li>11</li>\n",
       "\t<li>13</li>\n",
       "\t<li>15</li>\n",
       "\t<li>17</li>\n",
       "\t<li>19</li>\n",
       "\t<li>21</li>\n",
       "\t<li>23</li>\n",
       "</ol>\n"
      ],
      "text/latex": [
       "\\textbf{\\$vect} = \\begin{enumerate*}\n",
       "\\item 5\n",
       "\\item 7\n",
       "\\item 9\n",
       "\\item 11\n",
       "\\item 13\n",
       "\\item 15\n",
       "\\item 17\n",
       "\\item 19\n",
       "\\item 21\n",
       "\\item 23\n",
       "\\end{enumerate*}\n"
      ],
      "text/markdown": [
       "**$vect** = 1. 5\n",
       "2. 7\n",
       "3. 9\n",
       "4. 11\n",
       "5. 13\n",
       "6. 15\n",
       "7. 17\n",
       "8. 19\n",
       "9. 21\n",
       "10. 23\n",
       "\n",
       "\n"
      ],
      "text/plain": [
       "$vect\n",
       " [1]  5  7  9 11 13 15 17 19 21 23\n"
      ]
     },
     "metadata": {},
     "output_type": "display_data"
    },
    {
     "data": {
      "text/html": [
       "<ol class=list-inline>\n",
       "\t<li>5</li>\n",
       "\t<li>7</li>\n",
       "\t<li>9</li>\n",
       "\t<li>11</li>\n",
       "\t<li>13</li>\n",
       "\t<li>15</li>\n",
       "\t<li>17</li>\n",
       "\t<li>19</li>\n",
       "\t<li>21</li>\n",
       "\t<li>23</li>\n",
       "</ol>\n"
      ],
      "text/latex": [
       "\\begin{enumerate*}\n",
       "\\item 5\n",
       "\\item 7\n",
       "\\item 9\n",
       "\\item 11\n",
       "\\item 13\n",
       "\\item 15\n",
       "\\item 17\n",
       "\\item 19\n",
       "\\item 21\n",
       "\\item 23\n",
       "\\end{enumerate*}\n"
      ],
      "text/markdown": [
       "1. 5\n",
       "2. 7\n",
       "3. 9\n",
       "4. 11\n",
       "5. 13\n",
       "6. 15\n",
       "7. 17\n",
       "8. 19\n",
       "9. 21\n",
       "10. 23\n",
       "\n",
       "\n"
      ],
      "text/plain": [
       " [1]  5  7  9 11 13 15 17 19 21 23"
      ]
     },
     "metadata": {},
     "output_type": "display_data"
    }
   ],
   "source": [
    "# Liste \n",
    "x=list(mat=A, texte=\"testliste\",vect=y)\n",
    "x\n",
    "x[[2]] ; x[3]; x$vec # composants"
   ]
  },
  {
   "cell_type": "code",
   "execution_count": 43,
   "metadata": {},
   "outputs": [
    {
     "data": {
      "text/html": [
       "<table>\n",
       "<thead><tr><th scope=col>taille</th><th scope=col>poids</th><th scope=col>sexe</th></tr></thead>\n",
       "<tbody>\n",
       "\t<tr><td>147</td><td>50 </td><td>M  </td></tr>\n",
       "\t<tr><td>132</td><td>46 </td><td>F  </td></tr>\n",
       "\t<tr><td>156</td><td>47 </td><td>F  </td></tr>\n",
       "\t<tr><td>167</td><td>62 </td><td>M  </td></tr>\n",
       "\t<tr><td>156</td><td>58 </td><td>M  </td></tr>\n",
       "\t<tr><td>140</td><td>45 </td><td>F  </td></tr>\n",
       "</tbody>\n",
       "</table>\n"
      ],
      "text/latex": [
       "\\begin{tabular}{r|lll}\n",
       " taille & poids & sexe\\\\\n",
       "\\hline\n",
       "\t 147 & 50  & M  \\\\\n",
       "\t 132 & 46  & F  \\\\\n",
       "\t 156 & 47  & F  \\\\\n",
       "\t 167 & 62  & M  \\\\\n",
       "\t 156 & 58  & M  \\\\\n",
       "\t 140 & 45  & F  \\\\\n",
       "\\end{tabular}\n"
      ],
      "text/markdown": [
       "\n",
       "taille | poids | sexe | \n",
       "|---|---|---|---|---|---|\n",
       "| 147 | 50  | M   | \n",
       "| 132 | 46  | F   | \n",
       "| 156 | 47  | F   | \n",
       "| 167 | 62  | M   | \n",
       "| 156 | 58  | M   | \n",
       "| 140 | 45  | F   | \n",
       "\n",
       "\n"
      ],
      "text/plain": [
       "  taille poids sexe\n",
       "1 147    50    M   \n",
       "2 132    46    F   \n",
       "3 156    47    F   \n",
       "4 167    62    M   \n",
       "5 156    58    M   \n",
       "6 140    45    F   "
      ]
     },
     "metadata": {},
     "output_type": "display_data"
    }
   ],
   "source": [
    "# Base de donnée ou data frame\n",
    "# Tableau contenant des vecteurs de types \n",
    "# éventuellement différents\n",
    "taille = c(147, 132, 156, 167, 156, 140) \n",
    "poids = c( 50, 46, 47, 62, 58, 45)\n",
    "sexe = c(\"M\",\"F\",\"F\",\"M\",\"M\",\"F\")\n",
    "H = data.frame(taille,poids,sexe)\n",
    "H\n",
    "#?data.frame\n"
   ]
  },
  {
   "cell_type": "code",
   "execution_count": 44,
   "metadata": {},
   "outputs": [
    {
     "data": {
      "text/plain": [
       "     taille          poids       sexe \n",
       " Min.   :132.0   Min.   :45.00   F:3  \n",
       " 1st Qu.:141.8   1st Qu.:46.25   M:3  \n",
       " Median :151.5   Median :48.50        \n",
       " Mean   :149.7   Mean   :51.33        \n",
       " 3rd Qu.:156.0   3rd Qu.:56.00        \n",
       " Max.   :167.0   Max.   :62.00        "
      ]
     },
     "metadata": {},
     "output_type": "display_data"
    }
   ],
   "source": [
    "summary(H)"
   ]
  },
  {
   "cell_type": "code",
   "execution_count": 49,
   "metadata": {},
   "outputs": [
    {
     "data": {
      "image/png": "[encoded data removed]",
      "text/plain": [
       "plot without title"
      ]
     },
     "metadata": {},
     "output_type": "display_data"
    }
   ],
   "source": [
    "plot(H$poids,H$taille)\n",
    "?plot\n"
   ]
  },
  {
   "cell_type": "markdown",
   "metadata": {},
   "source": [
    "D'autres fonctionnalités de R sont vues dans les différents scénarios proposées sur le site [Wikistat](http://wikistat.fr/).\n",
    "\n",
    "## Variables et nombres aléatoires\n",
    "Tout en complétant la connaissance de R, cette section propose d'illustrer, par des simulations, les propriétés des estimateurs élémentaires (moyenne, écart-type, histogramme. \n",
    "###Estimation\n",
    "Générer *n* valeurs aléatoires d'une variable *Y* selon une loi normale de moyenne 80 et d'écart-type 5. Décrire sommairement cette série de valeurs. Associer les quantités calculées avec leur traduction en anglais *mean*, *median*, *standard error*, *standard déviation*, s*tandard error mean*."
   ]
  },
  {
   "cell_type": "code",
   "execution_count": 63,
   "metadata": {},
   "outputs": [
    {
     "data": {
      "text/html": [
       "78.782217312223"
      ],
      "text/latex": [
       "78.782217312223"
      ],
      "text/markdown": [
       "78.782217312223"
      ],
      "text/plain": [
       "[1] 78.78222"
      ]
     },
     "metadata": {},
     "output_type": "display_data"
    },
    {
     "data": {
      "text/html": [
       "3.84936356055523"
      ],
      "text/latex": [
       "3.84936356055523"
      ],
      "text/markdown": [
       "3.84936356055523"
      ],
      "text/plain": [
       "[1] 3.849364"
      ]
     },
     "metadata": {},
     "output_type": "display_data"
    },
    {
     "data": {
      "image/png": "[encoded data removed]",
      "text/plain": [
       "plot without title"
      ]
     },
     "metadata": {},
     "output_type": "display_data"
    }
   ],
   "source": [
    "n = 10;\n",
    "Y = rnorm(n,80,5);\n",
    "n1=1000\n",
    "Y1=rnorm(n,0,0.5)\n",
    "Z = rnorm(n,0,.5)\n",
    "#Y# génération\n",
    "\n",
    "Z1 = cumsum(Y1)\n",
    "Z2 = cumsum(Z)\n",
    "plot(Z1,Z2)\n",
    "\n",
    "mean(Y)     # moyenne\n",
    "sd(Y)       # écart-type"
   ]
  },
  {
   "cell_type": "code",
   "execution_count": 67,
   "metadata": {},
   "outputs": [
    {
     "data": {
      "text/html": [
       "1.217275639341"
      ],
      "text/latex": [
       "1.217275639341"
      ],
      "text/markdown": [
       "1.217275639341"
      ],
      "text/plain": [
       "[1] 1.217276"
      ]
     },
     "metadata": {},
     "output_type": "display_data"
    },
    {
     "data": {
      "text/html": [
       "3.84936356055523"
      ],
      "text/latex": [
       "3.84936356055523"
      ],
      "text/markdown": [
       "3.84936356055523"
      ],
      "text/plain": [
       "[1] 3.849364"
      ]
     },
     "metadata": {},
     "output_type": "display_data"
    }
   ],
   "source": [
    "sd(Y)/sqrt(length(Y)) # écart-type de la moyenne\n",
    "sd(Y)"
   ]
  },
  {
   "cell_type": "code",
   "execution_count": 68,
   "metadata": {},
   "outputs": [
    {
     "data": {
      "text/plain": [
       "   Min. 1st Qu.  Median    Mean 3rd Qu.    Max. \n",
       "  73.49   75.38   78.55   78.78   82.52   83.45 "
      ]
     },
     "metadata": {},
     "output_type": "display_data"
    }
   ],
   "source": [
    "summary(Y)  # quartiles et moyenne"
   ]
  },
  {
   "cell_type": "code",
   "execution_count": 69,
   "metadata": {},
   "outputs": [
    {
     "data": {
      "image/png": "[encoded data removed]",
      "text/plain": [
       "plot without title"
      ]
     },
     "metadata": {},
     "output_type": "display_data"
    }
   ],
   "source": [
    "boxplot(Y)  # diagramme boîte"
   ]
  },
  {
   "cell_type": "code",
   "execution_count": 70,
   "metadata": {},
   "outputs": [
    {
     "data": {
      "image/png": "[encoded data removed]",
      "text/plain": [
       "Plot with title “Histogram of Y”"
      ]
     },
     "metadata": {},
     "output_type": "display_data"
    }
   ],
   "source": [
    "# histogramme de la densité\n",
    "hist(Y, probability=T, col=\"blue\")"
   ]
  },
  {
   "cell_type": "code",
   "execution_count": 72,
   "metadata": {},
   "outputs": [
    {
     "data": {
      "image/png": "[encoded data removed]",
      "text/plain": [
       "Plot with title “Histogram of Y”"
      ]
     },
     "metadata": {},
     "output_type": "display_data"
    }
   ],
   "source": [
    "# estimation par la méthode du noyau\n",
    "hist(Y, probability=T, col=\"blue\")\n",
    "lines(density(Y), col=\"red\", lwd=2)\n",
    "?lines\n"
   ]
  },
  {
   "cell_type": "code",
   "execution_count": 73,
   "metadata": {},
   "outputs": [
    {
     "data": {
      "image/png": "[encoded data removed]",
      "text/plain": [
       "Plot with title “Histogram of Y”"
      ]
     },
     "metadata": {},
     "output_type": "display_data"
    }
   ],
   "source": [
    "# tracer la loi théorique\n",
    "x=1:100\n",
    "# Graphes\n",
    "hist(Y, probability=T, col=\"blue\")\n",
    "lines(density(Y), col=\"red\", lwd=2)\n",
    "curve(dnorm(x,mean=80,sd=5),add=TRUE,col=\"green\",lwd=2)"
   ]
  },
  {
   "cell_type": "markdown",
   "metadata": {},
   "source": [
    "### Loi des grands nombres\n",
    "Une moyenne et un écart-type sont la réalisation d'une variable aléatoire appelée *estimateur* ; ce sont des estimations.  \n",
    "Refaire les calculs et graphiques en posant $n=10, n=1000, n=10000$ ; comparer les résultats obtenus, notamment les estimations des indicateurs par rapport aux valeurs théoriques. Etudier leur comportement en fonction de la  taille $n$ de l'échantillon."
   ]
  },
  {
   "cell_type": "code",
   "execution_count": 77,
   "metadata": {},
   "outputs": [
    {
     "data": {
      "text/html": [
       "<ol class=list-inline>\n",
       "\t<li>79.8577916609804</li>\n",
       "\t<li>80.2314091113822</li>\n",
       "\t<li>78.951626648624</li>\n",
       "\t<li>80.2449233194266</li>\n",
       "\t<li>79.4577415754806</li>\n",
       "\t<li>80.2982254711739</li>\n",
       "\t<li>79.8246445268956</li>\n",
       "\t<li>79.9410120845385</li>\n",
       "\t<li>79.8614685891382</li>\n",
       "\t<li>79.6263001718834</li>\n",
       "</ol>\n"
      ],
      "text/latex": [
       "\\begin{enumerate*}\n",
       "\\item 79.8577916609804\n",
       "\\item 80.2314091113822\n",
       "\\item 78.951626648624\n",
       "\\item 80.2449233194266\n",
       "\\item 79.4577415754806\n",
       "\\item 80.2982254711739\n",
       "\\item 79.8246445268956\n",
       "\\item 79.9410120845385\n",
       "\\item 79.8614685891382\n",
       "\\item 79.6263001718834\n",
       "\\end{enumerate*}\n"
      ],
      "text/markdown": [
       "1. 79.8577916609804\n",
       "2. 80.2314091113822\n",
       "3. 78.951626648624\n",
       "4. 80.2449233194266\n",
       "5. 79.4577415754806\n",
       "6. 80.2982254711739\n",
       "7. 79.8246445268956\n",
       "8. 79.9410120845385\n",
       "9. 79.8614685891382\n",
       "10. 79.6263001718834\n",
       "\n",
       "\n"
      ],
      "text/plain": [
       " [1] 79.85779 80.23141 78.95163 80.24492 79.45774 80.29823 79.82464 79.94101\n",
       " [9] 79.86147 79.62630"
      ]
     },
     "metadata": {},
     "output_type": "display_data"
    }
   ],
   "source": [
    "n=100\n",
    "# matrice de nombres aléatoires de \n",
    "# 10 colonnes et n lignes\n",
    "Y=matrix(rnorm(n*10,80,5),n,10)\n",
    "# moyenne de chaque colonne\n",
    "apply(Y,2,mean) # 2 pour colonne, 1 pour ligne "
   ]
  },
  {
   "cell_type": "code",
   "execution_count": 78,
   "metadata": {},
   "outputs": [
    {
     "data": {
      "text/html": [
       "79.8295143159523"
      ],
      "text/latex": [
       "79.8295143159523"
      ],
      "text/markdown": [
       "79.8295143159523"
      ],
      "text/plain": [
       "[1] 79.82951"
      ]
     },
     "metadata": {},
     "output_type": "display_data"
    }
   ],
   "source": [
    "mean(apply(Y,2,mean)) # moyenne des moyennes"
   ]
  },
  {
   "cell_type": "code",
   "execution_count": 79,
   "metadata": {},
   "outputs": [
    {
     "data": {
      "text/html": [
       "<ol class=list-inline>\n",
       "\t<li>4.8363545568071</li>\n",
       "\t<li>5.17116157286974</li>\n",
       "\t<li>5.17607634701826</li>\n",
       "\t<li>5.19364231840829</li>\n",
       "\t<li>5.12198038792617</li>\n",
       "\t<li>4.63163001311648</li>\n",
       "\t<li>5.30572162384057</li>\n",
       "\t<li>4.61398356254455</li>\n",
       "\t<li>4.86138746946633</li>\n",
       "\t<li>4.3735778946451</li>\n",
       "</ol>\n"
      ],
      "text/latex": [
       "\\begin{enumerate*}\n",
       "\\item 4.8363545568071\n",
       "\\item 5.17116157286974\n",
       "\\item 5.17607634701826\n",
       "\\item 5.19364231840829\n",
       "\\item 5.12198038792617\n",
       "\\item 4.63163001311648\n",
       "\\item 5.30572162384057\n",
       "\\item 4.61398356254455\n",
       "\\item 4.86138746946633\n",
       "\\item 4.3735778946451\n",
       "\\end{enumerate*}\n"
      ],
      "text/markdown": [
       "1. 4.8363545568071\n",
       "2. 5.17116157286974\n",
       "3. 5.17607634701826\n",
       "4. 5.19364231840829\n",
       "5. 5.12198038792617\n",
       "6. 4.63163001311648\n",
       "7. 5.30572162384057\n",
       "8. 4.61398356254455\n",
       "9. 4.86138746946633\n",
       "10. 4.3735778946451\n",
       "\n",
       "\n"
      ],
      "text/plain": [
       " [1] 4.836355 5.171162 5.176076 5.193642 5.121980 4.631630 5.305722 4.613984\n",
       " [9] 4.861387 4.373578"
      ]
     },
     "metadata": {},
     "output_type": "display_data"
    },
    {
     "data": {
      "text/html": [
       "4.92855157466426"
      ],
      "text/latex": [
       "4.92855157466426"
      ],
      "text/markdown": [
       "4.92855157466426"
      ],
      "text/plain": [
       "[1] 4.928552"
      ]
     },
     "metadata": {},
     "output_type": "display_data"
    }
   ],
   "source": [
    "# écart-type de chaque colonne\n",
    "apply(Y,2,sd)\n",
    "mean(apply(Y,2,sd))   # moyenne des écarts-types"
   ]
  },
  {
   "cell_type": "markdown",
   "metadata": {},
   "source": [
    "Faire varier *n=10, 100, 1000* et comparer les résultats obtenus.\n",
    "\n",
    "### Théorème de la limite centrale\n",
    "La simulation proposée illustre le résultat fondamental du théorème de la limite centrale : une somme de variables aléatoires indépendantes et de même loi converge vers une variable aléatoire de loi gaussienne.\n",
    "Le programme ci-dessous exécute les opérations suivantes :\n",
    "\n",
    "- initialisation par des *0* d'un vecteur de taille *n=1000µ,\n",
    "- chaque valeur de ce vecteur est une variable aléatoire *X* obtenue par la somme de *N* variables suivant une loi uniforme sur l'intervalle *[0, 1]*, \n",
    "- estimation de la densité de *X*\n",
    "- comparaison avec la loi théorique limite qui est la loi gaussienne de moyenne *N/2* et de variance *N/12*. \n"
   ]
  },
  {
   "cell_type": "code",
   "execution_count": 80,
   "metadata": {},
   "outputs": [
    {
     "data": {
      "image/png": "[encoded data removed]",
      "text/plain": [
       "Plot with title “Histogram of X”"
      ]
     },
     "metadata": {},
     "output_type": "display_data"
    }
   ],
   "source": [
    "n=1000\n",
    "N=12\n",
    "X=rep(0,n)  \n",
    "# n itérations\n",
    "for (i in 1 : n) X[i]=sum(runif(N))\n",
    "# histogramme\n",
    "hist(X, col=\"blue\", probability=T) \n",
    "# estimation par méthode su noyau\n",
    "lines(density(X), col=\"red\", lwd=2) \n",
    "x=X\n",
    "sigma2=N/12\n",
    "curve(dnorm(x,mean=N/2,sd=sqrt(sigma2)),add=T, col=\"green\", lwd=2) "
   ]
  },
  {
   "cell_type": "markdown",
   "metadata": {},
   "source": [
    "Faire varier *N=4, 8, 12, 20$. Remarquer que la convergence est très rapide. Ceci \"justifie\" la pratique qui revient à considérer que la loi d'un estimateur est gaussienne lorsque *n* est \"suffisamment\" grand avec *n>30*."
   ]
  }
 ],
 "metadata": {
  "kernelspec": {
   "display_name": "R",
   "language": "R",
   "name": "ir"
  },
  "language_info": {
   "codemirror_mode": "r",
   "file_extension": ".r",
   "mimetype": "text/x-r-source",
   "name": "R",
   "pygments_lexer": "r",
   "version": "3.4.1"
  }
 },
 "nbformat": 4,
 "nbformat_minor": 1
}
