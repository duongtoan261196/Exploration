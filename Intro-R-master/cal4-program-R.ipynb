{
 "cells": [
  {
   "cell_type": "markdown",
   "metadata": {},
   "source": [
    "<center>\n",
    "<a href=\"http://www.insa-toulouse.fr/\" ><img src=\"http://www.math.univ-toulouse.fr/~besse/Wikistat/Images/logo-insa.jpg\" style=\"float:left; max-width: 120px; display: inline\" alt=\"INSA\"/></a> \n",
    "\n",
    "<a href=\"http://wikistat.fr/\" ><img src=\"http://www.math.univ-toulouse.fr/~besse/Wikistat/Images/wikistat.jpg\" style=\"max-width: 250px; display: inline\"  alt=\"Wikistat\"/></a>\n",
    "\n",
    "<a href=\"http://www.math.univ-toulouse.fr/\" ><img src=\"http://www.math.univ-toulouse.fr/~besse/Wikistat/Images/logo_imt.jpg\" style=\"float:right; max-width: 250px; display: inline\" alt=\"IMT\"/> </a>\n",
    "</center>"
   ]
  },
  {
   "cell_type": "markdown",
   "metadata": {},
   "source": [
    "# <a href=\"https://cran.r-project.org/\"><img src=\"https://cran.r-project.org/Rlogo.svg\" style=\"max-width: 40px; display: inline\" alt=\"R\"/></a> [pour Statistique et Science des Données](https://github.com/wikistat/Intro-Python)"
   ]
  },
  {
   "cell_type": "markdown",
   "metadata": {},
   "source": [
    "# Programmer en <a href=\"https://cran.r-project.org/\"><img src=\"https://cran.r-project.org/Rlogo.svg\" style=\"max-width: 40px; display: inline\" alt=\"R\"/></a>"
   ]
  },
  {
   "cell_type": "markdown",
   "metadata": {},
   "source": [
    "**Résumé** Un bref aperçu de la syntaxe du langage S mis en \\oe uvre  dans R : fonctions, instructions de\n",
    "contrôle et d'itérations, fonction {\\tt apply}."
   ]
  },
  {
   "cell_type": "markdown",
   "metadata": {},
   "source": [
    "## introduction\n",
    "R est la version *GNU* du langage S conçu initialement aux *Bell labs* par John Chambers à partir de 1975 dans une syntaxe très proche du langage C. En mars 2017, l'index \\href{http://www.tiobe.com/index.php/content/paperinfo/tpci/index.html}{TIOBE} le classe en 14ème position derrière Java (1er) ou Python (5ème) mais devant MATLAB (18) ou SAS (21). \n",
    "\n",
    "## Structure de contrôle\n",
    "Il est important d'intégrer que R, comme Matlab, est un langage interprété donc lent, voire très lent, losqu'il s'agit d'exécuter des boucles. Celles-ci doivent être impérativement évitées dès qu'une syntaxe, impliquant des calculs matriciels ou les commandes de type `apply`, peut se substituer.  \n",
    "\n",
    "### Structures conditionnelles\n",
    "\n",
    "    if(condition) {instructions} \n",
    "\n",
    "est la syntaxe  permettant de calculer les instructions uniquement si la condition est vraie.\n",
    "\n",
    "    if(condition) { A } else { B } \n",
    "    \n",
    "calcule les instructions A si la condition est vraie et les instructions B sinon. Dans l'exemple suivant, les\n",
    "deux commandes sont équivalentes :\n",
    "   \n",
    "      if (x>0) y=x*log(x) else y=0\n",
    "      y=ifelse(x>0,x*log(x),0)"
   ]
  },
  {
   "cell_type": "markdown",
   "metadata": {},
   "source": [
    "### Structures itératives\n",
    "Ces commandes définissent des boucles pour exécuter plusieurs fois une instruction ou un bloc d'instructions. Les trois types de boucle sont :\n",
    "    \n",
    "    for (var in seq) { commandes }\n",
    "    while (condition) { commandes }\n",
    "    repeat { commandes ; if (condition) break }\n",
    "\n",
    "Dans une boucle `for`, le nombre d'itérations est fixe alors qu'il peut être infini pour les boucles `while` et `repeat`! \n",
    "\n",
    "La condition est évaluée avant toute exécution dans `while` alors que `repeat` exécute au moins une fois les commandes."
   ]
  },
  {
   "cell_type": "code",
   "execution_count": 1,
   "metadata": {},
   "outputs": [
    {
     "name": "stdout",
     "output_type": "stream",
     "text": [
      "[1] 1\n",
      "[1] 2\n",
      "[1] 3\n",
      "[1] 4\n",
      "[1] 5\n",
      "[1] 6\n",
      "[1] 7\n",
      "[1] 8\n",
      "[1] 9\n",
      "[1] 10\n"
     ]
    },
    {
     "data": {
      "text/html": [
       "7"
      ],
      "text/latex": [
       "7"
      ],
      "text/markdown": [
       "7"
      ],
      "text/plain": [
       "[1] 7"
      ]
     },
     "metadata": {},
     "output_type": "display_data"
    },
    {
     "data": {
      "text/html": [
       "3"
      ],
      "text/latex": [
       "3"
      ],
      "text/markdown": [
       "3"
      ],
      "text/plain": [
       "[1] 3"
      ]
     },
     "metadata": {},
     "output_type": "display_data"
    }
   ],
   "source": [
    "for (i in 1:10) print(i)\n",
    "y=z=0;\n",
    "for (i in 1:10) {\n",
    "   x=runif(1)\n",
    "   if (x>0.5) y=y+1\n",
    "   else z=z+1 }\n",
    "y;z"
   ]
  },
  {
   "cell_type": "code",
   "execution_count": 2,
   "metadata": {},
   "outputs": [
    {
     "name": "stdout",
     "output_type": "stream",
     "text": [
      "[1] 2\n",
      "[1] 4\n",
      "[1] 5\n",
      "[1] 8\n"
     ]
    }
   ],
   "source": [
    "for (i in c(2,4,5,8)) print(i)"
   ]
  },
  {
   "cell_type": "code",
   "execution_count": 3,
   "metadata": {},
   "outputs": [
    {
     "data": {
      "text/html": [
       "<ol class=list-inline>\n",
       "\t<li>1</li>\n",
       "\t<li>-1</li>\n",
       "\t<li>-1</li>\n",
       "\t<li>1</li>\n",
       "\t<li>-1</li>\n",
       "\t<li>1</li>\n",
       "\t<li>1</li>\n",
       "\t<li>-1</li>\n",
       "\t<li>-1</li>\n",
       "\t<li>-1</li>\n",
       "\t<li>-1</li>\n",
       "\t<li>1</li>\n",
       "\t<li>-1</li>\n",
       "\t<li>1</li>\n",
       "\t<li>1</li>\n",
       "\t<li>1</li>\n",
       "\t<li>-1</li>\n",
       "\t<li>-1</li>\n",
       "\t<li>-1</li>\n",
       "\t<li>-1</li>\n",
       "\t<li>-1</li>\n",
       "\t<li>1</li>\n",
       "\t<li>-1</li>\n",
       "\t<li>-1</li>\n",
       "\t<li>1</li>\n",
       "\t<li>1</li>\n",
       "\t<li>1</li>\n",
       "\t<li>-1</li>\n",
       "\t<li>1</li>\n",
       "\t<li>1</li>\n",
       "\t<li>-1</li>\n",
       "\t<li>1</li>\n",
       "\t<li>1</li>\n",
       "\t<li>-1</li>\n",
       "\t<li>-1</li>\n",
       "\t<li>1</li>\n",
       "\t<li>-1</li>\n",
       "\t<li>-1</li>\n",
       "\t<li>-1</li>\n",
       "\t<li>1</li>\n",
       "\t<li>1</li>\n",
       "\t<li>1</li>\n",
       "\t<li>-1</li>\n",
       "\t<li>-1</li>\n",
       "\t<li>1</li>\n",
       "\t<li>-1</li>\n",
       "\t<li>1</li>\n",
       "\t<li>1</li>\n",
       "\t<li>1</li>\n",
       "\t<li>-1</li>\n",
       "\t<li>1</li>\n",
       "\t<li>1</li>\n",
       "\t<li>-1</li>\n",
       "\t<li>-1</li>\n",
       "\t<li>1</li>\n",
       "\t<li>-1</li>\n",
       "\t<li>-1</li>\n",
       "\t<li>1</li>\n",
       "\t<li>1</li>\n",
       "\t<li>1</li>\n",
       "\t<li>1</li>\n",
       "\t<li>1</li>\n",
       "\t<li>1</li>\n",
       "\t<li>-1</li>\n",
       "\t<li>1</li>\n",
       "\t<li>1</li>\n",
       "\t<li>-1</li>\n",
       "\t<li>-1</li>\n",
       "\t<li>-1</li>\n",
       "\t<li>1</li>\n",
       "\t<li>-1</li>\n",
       "\t<li>-1</li>\n",
       "\t<li>1</li>\n",
       "\t<li>-1</li>\n",
       "\t<li>1</li>\n",
       "\t<li>-1</li>\n",
       "\t<li>-1</li>\n",
       "\t<li>-1</li>\n",
       "\t<li>-1</li>\n",
       "\t<li>1</li>\n",
       "\t<li>-1</li>\n",
       "\t<li>1</li>\n",
       "\t<li>1</li>\n",
       "\t<li>1</li>\n",
       "\t<li>-1</li>\n",
       "\t<li>-1</li>\n",
       "\t<li>-1</li>\n",
       "\t<li>1</li>\n",
       "\t<li>1</li>\n",
       "\t<li>-1</li>\n",
       "\t<li>1</li>\n",
       "\t<li>-1</li>\n",
       "\t<li>-1</li>\n",
       "\t<li>1</li>\n",
       "\t<li>1</li>\n",
       "\t<li>1</li>\n",
       "\t<li>1</li>\n",
       "\t<li>-1</li>\n",
       "\t<li>-1</li>\n",
       "\t<li>1</li>\n",
       "</ol>\n"
      ],
      "text/latex": [
       "\\begin{enumerate*}\n",
       "\\item 1\n",
       "\\item -1\n",
       "\\item -1\n",
       "\\item 1\n",
       "\\item -1\n",
       "\\item 1\n",
       "\\item 1\n",
       "\\item -1\n",
       "\\item -1\n",
       "\\item -1\n",
       "\\item -1\n",
       "\\item 1\n",
       "\\item -1\n",
       "\\item 1\n",
       "\\item 1\n",
       "\\item 1\n",
       "\\item -1\n",
       "\\item -1\n",
       "\\item -1\n",
       "\\item -1\n",
       "\\item -1\n",
       "\\item 1\n",
       "\\item -1\n",
       "\\item -1\n",
       "\\item 1\n",
       "\\item 1\n",
       "\\item 1\n",
       "\\item -1\n",
       "\\item 1\n",
       "\\item 1\n",
       "\\item -1\n",
       "\\item 1\n",
       "\\item 1\n",
       "\\item -1\n",
       "\\item -1\n",
       "\\item 1\n",
       "\\item -1\n",
       "\\item -1\n",
       "\\item -1\n",
       "\\item 1\n",
       "\\item 1\n",
       "\\item 1\n",
       "\\item -1\n",
       "\\item -1\n",
       "\\item 1\n",
       "\\item -1\n",
       "\\item 1\n",
       "\\item 1\n",
       "\\item 1\n",
       "\\item -1\n",
       "\\item 1\n",
       "\\item 1\n",
       "\\item -1\n",
       "\\item -1\n",
       "\\item 1\n",
       "\\item -1\n",
       "\\item -1\n",
       "\\item 1\n",
       "\\item 1\n",
       "\\item 1\n",
       "\\item 1\n",
       "\\item 1\n",
       "\\item 1\n",
       "\\item -1\n",
       "\\item 1\n",
       "\\item 1\n",
       "\\item -1\n",
       "\\item -1\n",
       "\\item -1\n",
       "\\item 1\n",
       "\\item -1\n",
       "\\item -1\n",
       "\\item 1\n",
       "\\item -1\n",
       "\\item 1\n",
       "\\item -1\n",
       "\\item -1\n",
       "\\item -1\n",
       "\\item -1\n",
       "\\item 1\n",
       "\\item -1\n",
       "\\item 1\n",
       "\\item 1\n",
       "\\item 1\n",
       "\\item -1\n",
       "\\item -1\n",
       "\\item -1\n",
       "\\item 1\n",
       "\\item 1\n",
       "\\item -1\n",
       "\\item 1\n",
       "\\item -1\n",
       "\\item -1\n",
       "\\item 1\n",
       "\\item 1\n",
       "\\item 1\n",
       "\\item 1\n",
       "\\item -1\n",
       "\\item -1\n",
       "\\item 1\n",
       "\\end{enumerate*}\n"
      ],
      "text/markdown": [
       "1. 1\n",
       "2. -1\n",
       "3. -1\n",
       "4. 1\n",
       "5. -1\n",
       "6. 1\n",
       "7. 1\n",
       "8. -1\n",
       "9. -1\n",
       "10. -1\n",
       "11. -1\n",
       "12. 1\n",
       "13. -1\n",
       "14. 1\n",
       "15. 1\n",
       "16. 1\n",
       "17. -1\n",
       "18. -1\n",
       "19. -1\n",
       "20. -1\n",
       "21. -1\n",
       "22. 1\n",
       "23. -1\n",
       "24. -1\n",
       "25. 1\n",
       "26. 1\n",
       "27. 1\n",
       "28. -1\n",
       "29. 1\n",
       "30. 1\n",
       "31. -1\n",
       "32. 1\n",
       "33. 1\n",
       "34. -1\n",
       "35. -1\n",
       "36. 1\n",
       "37. -1\n",
       "38. -1\n",
       "39. -1\n",
       "40. 1\n",
       "41. 1\n",
       "42. 1\n",
       "43. -1\n",
       "44. -1\n",
       "45. 1\n",
       "46. -1\n",
       "47. 1\n",
       "48. 1\n",
       "49. 1\n",
       "50. -1\n",
       "51. 1\n",
       "52. 1\n",
       "53. -1\n",
       "54. -1\n",
       "55. 1\n",
       "56. -1\n",
       "57. -1\n",
       "58. 1\n",
       "59. 1\n",
       "60. 1\n",
       "61. 1\n",
       "62. 1\n",
       "63. 1\n",
       "64. -1\n",
       "65. 1\n",
       "66. 1\n",
       "67. -1\n",
       "68. -1\n",
       "69. -1\n",
       "70. 1\n",
       "71. -1\n",
       "72. -1\n",
       "73. 1\n",
       "74. -1\n",
       "75. 1\n",
       "76. -1\n",
       "77. -1\n",
       "78. -1\n",
       "79. -1\n",
       "80. 1\n",
       "81. -1\n",
       "82. 1\n",
       "83. 1\n",
       "84. 1\n",
       "85. -1\n",
       "86. -1\n",
       "87. -1\n",
       "88. 1\n",
       "89. 1\n",
       "90. -1\n",
       "91. 1\n",
       "92. -1\n",
       "93. -1\n",
       "94. 1\n",
       "95. 1\n",
       "96. 1\n",
       "97. 1\n",
       "98. -1\n",
       "99. -1\n",
       "100. 1\n",
       "\n",
       "\n"
      ],
      "text/plain": [
       "  [1]  1 -1 -1  1 -1  1  1 -1 -1 -1 -1  1 -1  1  1  1 -1 -1 -1 -1 -1  1 -1 -1  1\n",
       " [26]  1  1 -1  1  1 -1  1  1 -1 -1  1 -1 -1 -1  1  1  1 -1 -1  1 -1  1  1  1 -1\n",
       " [51]  1  1 -1 -1  1 -1 -1  1  1  1  1  1  1 -1  1  1 -1 -1 -1  1 -1 -1  1 -1  1\n",
       " [76] -1 -1 -1 -1  1 -1  1  1  1 -1 -1 -1  1  1 -1  1 -1 -1  1  1  1  1 -1 -1  1"
      ]
     },
     "metadata": {},
     "output_type": "display_data"
    }
   ],
   "source": [
    "x = rnorm(100)\n",
    "y = ifelse(x>0, 1, -1) # condition\n",
    "y;i=0"
   ]
  },
  {
   "cell_type": "code",
   "execution_count": 4,
   "metadata": {},
   "outputs": [
    {
     "name": "stdout",
     "output_type": "stream",
     "text": [
      "[1] 0\n",
      "[1] 1\n",
      "[1] 2\n",
      "[1] 3\n",
      "[1] 4\n",
      "[1] 5\n",
      "[1] 6\n",
      "[1] 7\n",
      "[1] 8\n",
      "[1] 9\n"
     ]
    }
   ],
   "source": [
    "while (i<10){\n",
    "   print(i)\n",
    "   i=i+1}"
   ]
  },
  {
   "cell_type": "markdown",
   "metadata": {},
   "source": [
    "**Questions**\n",
    "\n",
    "1.  Que pensez-vous de : \n",
    "        for (i in 1:length(b)) a[i]=cos(b[i])\n",
    "2.  Obtenir l'équivalent de y et z dans la deuxième boucle `for` ci-dessus mais sans  boucle.\n",
    "3.  Dans l'enchaînement de commandes ci-dessous, supprimer d'abord la boucle `for` sur `j` puis les 2 boucles."
   ]
  },
  {
   "cell_type": "code",
   "execution_count": 5,
   "metadata": {},
   "outputs": [
    {
     "data": {
      "text/html": [
       "<ol class=list-inline>\n",
       "\t<li>34</li>\n",
       "\t<li>38</li>\n",
       "\t<li>42</li>\n",
       "\t<li>46</li>\n",
       "\t<li>50</li>\n",
       "</ol>\n"
      ],
      "text/latex": [
       "\\begin{enumerate*}\n",
       "\\item 34\n",
       "\\item 38\n",
       "\\item 42\n",
       "\\item 46\n",
       "\\item 50\n",
       "\\end{enumerate*}\n"
      ],
      "text/markdown": [
       "1. 34\n",
       "2. 38\n",
       "3. 42\n",
       "4. 46\n",
       "5. 50\n",
       "\n",
       "\n"
      ],
      "text/plain": [
       "[1] 34 38 42 46 50"
      ]
     },
     "metadata": {},
     "output_type": "display_data"
    }
   ],
   "source": [
    "M=matrix(1:20,nr=5,nc=4)\n",
    "res=rep(0,5)\n",
    "for (i in 1:5){\n",
    "   tmp=0\n",
    "   for (j in 1:4) {tmp = tmp + M[i,j]}\n",
    "res[i]=tmp}\n",
    "res"
   ]
  },
  {
   "cell_type": "markdown",
   "metadata": {},
   "source": [
    "**Réponses**\n",
    "\n",
    "1. Cette boucle est inutile. Il suffit de saisir \\code{a=cos(b)}. L'élément de base de R est la matrice dont le vecteur est un cas particulier.\n",
    "2. Une solution consiste à sommer les éléments `TRUE` d'un vecteur logique "
   ]
  },
  {
   "cell_type": "code",
   "execution_count": 6,
   "metadata": {},
   "outputs": [
    {
     "data": {
      "text/html": [
       "6"
      ],
      "text/latex": [
       "6"
      ],
      "text/markdown": [
       "6"
      ],
      "text/plain": [
       "[1] 6"
      ]
     },
     "metadata": {},
     "output_type": "display_data"
    },
    {
     "data": {
      "text/html": [
       "4"
      ],
      "text/latex": [
       "4"
      ],
      "text/markdown": [
       "4"
      ],
      "text/plain": [
       "[1] 4"
      ]
     },
     "metadata": {},
     "output_type": "display_data"
    }
   ],
   "source": [
    "x=runif(10);y=sum(x>0.5)\n",
    "z=10-y\n",
    "y;z"
   ]
  },
  {
   "cell_type": "markdown",
   "metadata": {},
   "source": [
    "3.Suppression de boucles\n",
    "\n",
    "   - Boucle `for` sur `j`"
   ]
  },
  {
   "cell_type": "code",
   "execution_count": 7,
   "metadata": {},
   "outputs": [
    {
     "data": {
      "text/html": [
       "<ol class=list-inline>\n",
       "\t<li>34</li>\n",
       "\t<li>38</li>\n",
       "\t<li>42</li>\n",
       "\t<li>46</li>\n",
       "\t<li>50</li>\n",
       "</ol>\n"
      ],
      "text/latex": [
       "\\begin{enumerate*}\n",
       "\\item 34\n",
       "\\item 38\n",
       "\\item 42\n",
       "\\item 46\n",
       "\\item 50\n",
       "\\end{enumerate*}\n"
      ],
      "text/markdown": [
       "1. 34\n",
       "2. 38\n",
       "3. 42\n",
       "4. 46\n",
       "5. 50\n",
       "\n",
       "\n"
      ],
      "text/plain": [
       "[1] 34 38 42 46 50"
      ]
     },
     "metadata": {},
     "output_type": "display_data"
    }
   ],
   "source": [
    "for (i in 1:5) res[i]=sum(M[i,])\n",
    "res"
   ]
  },
  {
   "cell_type": "markdown",
   "metadata": {},
   "source": [
    "   - Deux boucles"
   ]
  },
  {
   "cell_type": "code",
   "execution_count": 8,
   "metadata": {},
   "outputs": [
    {
     "data": {
      "text/html": [
       "<ol class=list-inline>\n",
       "\t<li>34</li>\n",
       "\t<li>38</li>\n",
       "\t<li>42</li>\n",
       "\t<li>46</li>\n",
       "\t<li>50</li>\n",
       "</ol>\n"
      ],
      "text/latex": [
       "\\begin{enumerate*}\n",
       "\\item 34\n",
       "\\item 38\n",
       "\\item 42\n",
       "\\item 46\n",
       "\\item 50\n",
       "\\end{enumerate*}\n"
      ],
      "text/markdown": [
       "1. 34\n",
       "2. 38\n",
       "3. 42\n",
       "4. 46\n",
       "5. 50\n",
       "\n",
       "\n"
      ],
      "text/plain": [
       "[1] 34 38 42 46 50"
      ]
     },
     "metadata": {},
     "output_type": "display_data"
    }
   ],
   "source": [
    "res=apply(M,1,sum)\n",
    "res"
   ]
  },
  {
   "cell_type": "markdown",
   "metadata": {},
   "source": [
    "## Fonctions\n",
    "### Principes\n",
    "Il est possible sous R de construire ses propres fonctions. Il est conseillé d'écrire sa fonction dans un fichier `nomfonction.R`.  \n",
    "\n",
    "    source(\"nomfonction.R\")\n",
    "    \n",
    "a pour effet de charger la fonction dans l'environnempent de travail.  Il est aussi possible de définir directement la fonction par la syntaxe suivante :\n",
    "\n",
    "    nomfonction=function(arg1[=exp1],arg2[=exp2],...)\n",
    "        {\n",
    "        bloc d'instructions\n",
    "        sortie = ...\n",
    "        return(sortie)\n",
    "        }\n",
    "\n",
    "Les accolades signalent le début et la fin du code source de la fonction, les crochets indiquent le caractère facultatif des valeurs par défaut des arguments. L'objet sortie contient le ou les résultats retournés par la fonction, on peut en particulier utiliser une liste pour retourner plusieurs résultats.\n",
    "\n",
    "### Exemples\n",
    "Création d'une fonction élémentaire."
   ]
  },
  {
   "cell_type": "code",
   "execution_count": 36,
   "metadata": {},
   "outputs": [
    {
     "data": {
      "text/html": [
       "<ol class=list-inline>\n",
       "\t<li>'Calcule'</li>\n",
       "\t<li>'fibo'</li>\n",
       "\t<li>'filtre.NA'</li>\n",
       "\t<li>'Fonction2'</li>\n",
       "\t<li>'i'</li>\n",
       "\t<li>'iris'</li>\n",
       "\t<li>'j'</li>\n",
       "\t<li>'ligne.NA'</li>\n",
       "\t<li>'M'</li>\n",
       "\t<li>'MaFonction'</li>\n",
       "\t<li>'matrice.test'</li>\n",
       "\t<li>'ratio'</li>\n",
       "\t<li>'rectangle'</li>\n",
       "\t<li>'res'</li>\n",
       "\t<li>'resultat'</li>\n",
       "\t<li>'tmp'</li>\n",
       "\t<li>'x'</li>\n",
       "\t<li>'y'</li>\n",
       "\t<li>'z'</li>\n",
       "</ol>\n"
      ],
      "text/latex": [
       "\\begin{enumerate*}\n",
       "\\item 'Calcule'\n",
       "\\item 'fibo'\n",
       "\\item 'filtre.NA'\n",
       "\\item 'Fonction2'\n",
       "\\item 'i'\n",
       "\\item 'iris'\n",
       "\\item 'j'\n",
       "\\item 'ligne.NA'\n",
       "\\item 'M'\n",
       "\\item 'MaFonction'\n",
       "\\item 'matrice.test'\n",
       "\\item 'ratio'\n",
       "\\item 'rectangle'\n",
       "\\item 'res'\n",
       "\\item 'resultat'\n",
       "\\item 'tmp'\n",
       "\\item 'x'\n",
       "\\item 'y'\n",
       "\\item 'z'\n",
       "\\end{enumerate*}\n"
      ],
      "text/markdown": [
       "1. 'Calcule'\n",
       "2. 'fibo'\n",
       "3. 'filtre.NA'\n",
       "4. 'Fonction2'\n",
       "5. 'i'\n",
       "6. 'iris'\n",
       "7. 'j'\n",
       "8. 'ligne.NA'\n",
       "9. 'M'\n",
       "10. 'MaFonction'\n",
       "11. 'matrice.test'\n",
       "12. 'ratio'\n",
       "13. 'rectangle'\n",
       "14. 'res'\n",
       "15. 'resultat'\n",
       "16. 'tmp'\n",
       "17. 'x'\n",
       "18. 'y'\n",
       "19. 'z'\n",
       "\n",
       "\n"
      ],
      "text/plain": [
       " [1] \"Calcule\"      \"fibo\"         \"filtre.NA\"    \"Fonction2\"    \"i\"           \n",
       " [6] \"iris\"         \"j\"            \"ligne.NA\"     \"M\"            \"MaFonction\"  \n",
       "[11] \"matrice.test\" \"ratio\"        \"rectangle\"    \"res\"          \"resultat\"    \n",
       "[16] \"tmp\"          \"x\"            \"y\"            \"z\"           "
      ]
     },
     "metadata": {},
     "output_type": "display_data"
    }
   ],
   "source": [
    "MaFonction=function(x){x+ 2; x -2; return (x) }\n",
    "ls()"
   ]
  },
  {
   "cell_type": "code",
   "execution_count": 37,
   "metadata": {},
   "outputs": [
    {
     "data": {
      "text/html": [
       "<pre class=language-r><code>function (x) \n",
       "{\n",
       "<span style=white-space:pre-wrap>    x + 2</span>\n",
       "<span style=white-space:pre-wrap>    x - 2</span>\n",
       "<span style=white-space:pre-wrap>    return(x)</span>\n",
       "}</code></pre>"
      ],
      "text/latex": [
       "\\begin{minted}{r}\n",
       "function (x) \n",
       "\\{\n",
       "    x + 2\n",
       "    x - 2\n",
       "    return(x)\n",
       "\\}\n",
       "\\end{minted}"
      ],
      "text/markdown": [
       "```r\n",
       "function (x) \n",
       "{\n",
       "    x + 2\n",
       "    x - 2\n",
       "    return(x)\n",
       "}\n",
       "```"
      ],
      "text/plain": [
       "function(x){x+ 2; x -2; return (x) }"
      ]
     },
     "metadata": {},
     "output_type": "display_data"
    },
    {
     "data": {
      "text/html": [
       "<pre class=language-r><code>.Primitive(\"exp\")</code></pre>"
      ],
      "text/latex": [
       "\\begin{minted}{r}\n",
       ".Primitive(\"exp\")\n",
       "\\end{minted}"
      ],
      "text/markdown": [
       "```r\n",
       ".Primitive(\"exp\")\n",
       "```"
      ],
      "text/plain": [
       "function (x)  .Primitive(\"exp\")"
      ]
     },
     "metadata": {},
     "output_type": "display_data"
    }
   ],
   "source": [
    "MaFonction\n",
    "exp"
   ]
  },
  {
   "cell_type": "code",
   "execution_count": 38,
   "metadata": {},
   "outputs": [
    {
     "data": {
      "text/html": [
       "3"
      ],
      "text/latex": [
       "3"
      ],
      "text/markdown": [
       "3"
      ],
      "text/plain": [
       "[1] 3"
      ]
     },
     "metadata": {},
     "output_type": "display_data"
    }
   ],
   "source": [
    "MaFonction(3)"
   ]
  },
  {
   "cell_type": "code",
   "execution_count": 39,
   "metadata": {},
   "outputs": [
    {
     "data": {
      "text/html": [
       "4"
      ],
      "text/latex": [
       "4"
      ],
      "text/markdown": [
       "4"
      ],
      "text/plain": [
       "[1] 4"
      ]
     },
     "metadata": {},
     "output_type": "display_data"
    }
   ],
   "source": [
    "x = MaFonction(4);x"
   ]
  },
  {
   "cell_type": "markdown",
   "metadata": {},
   "source": [
    "Gestion des paramètres avec une valeur par défaut."
   ]
  },
  {
   "cell_type": "code",
   "execution_count": 41,
   "metadata": {},
   "outputs": [
    {
     "data": {
      "text/html": [
       "5"
      ],
      "text/latex": [
       "5"
      ],
      "text/markdown": [
       "5"
      ],
      "text/plain": [
       "[1] 5"
      ]
     },
     "metadata": {},
     "output_type": "display_data"
    }
   ],
   "source": [
    "Fonction2=function(a,b=7){a+b}\n",
    "\n",
    "Fonction2(2,b=3)"
   ]
  },
  {
   "cell_type": "code",
   "execution_count": 42,
   "metadata": {},
   "outputs": [
    {
     "data": {
      "text/html": [
       "12"
      ],
      "text/latex": [
       "12"
      ],
      "text/markdown": [
       "12"
      ],
      "text/plain": [
       "[1] 12"
      ]
     },
     "metadata": {},
     "output_type": "display_data"
    }
   ],
   "source": [
    "Fonction2(5)"
   ]
  },
  {
   "cell_type": "markdown",
   "metadata": {},
   "source": [
    "Résultats multiples dans un objet de type liste. "
   ]
  },
  {
   "cell_type": "code",
   "execution_count": 43,
   "metadata": {},
   "outputs": [
    {
     "data": {
      "text/html": [
       "3"
      ],
      "text/latex": [
       "3"
      ],
      "text/markdown": [
       "3"
      ],
      "text/plain": [
       "[1] 3"
      ]
     },
     "metadata": {},
     "output_type": "display_data"
    }
   ],
   "source": [
    "Calcule=function(r){\n",
    "    p=2*pi*r;s=pi*r*r;\n",
    "    list(rayon=r,perimetre=p,\n",
    "    surface=s)}\n",
    "resultat=Calcule(3)\n",
    "resultat$ray"
   ]
  },
  {
   "cell_type": "code",
   "execution_count": 16,
   "metadata": {},
   "outputs": [
    {
     "data": {
      "text/html": [
       "TRUE"
      ],
      "text/latex": [
       "TRUE"
      ],
      "text/markdown": [
       "TRUE"
      ],
      "text/plain": [
       "[1] TRUE"
      ]
     },
     "metadata": {},
     "output_type": "display_data"
    },
    {
     "data": {
      "text/html": [
       "28.2743338823081"
      ],
      "text/latex": [
       "28.2743338823081"
      ],
      "text/markdown": [
       "28.2743338823081"
      ],
      "text/plain": [
       "[1] 28.27433"
      ]
     },
     "metadata": {},
     "output_type": "display_data"
    }
   ],
   "source": [
    "2*pi*resultat$r==resultat$perim\n",
    "resultat$surface"
   ]
  },
  {
   "cell_type": "markdown",
   "metadata": {},
   "source": [
    "**Questions**\n",
    "1. le recours à un objet de type `list` est-il indispensable pour la fonction `Calcule()` ?\n",
    "2. Ecrire une fonction qui calcule le périmètre et la surface d'un rectangle à partir des longueurs l1 et l2 des deux côtés. La fonction renvoie également la longueur et la largeur du rectangle.\n",
    "3. Ecrire une fonction qui calcule les *n* premiers termes de la suite de Fibonacci:\n",
    "*u_1=0, u_2=1*, pour tout *n>2,  u_n=u_{n-1}+u_{n-2}*\n",
    "4. Utiliser cette fonction pour calculer le rapport entre 2 termes consécutifs. Représenter ce rapport en fonction du nombre de termes pour *n=20*. Que constatez-vous ? Avez-vous lu *Da Vinci Code* ?\n",
    "5. Ecrire une fonction qui supprime les lignes d'un `data.frame` ou d'une matrice présentant au moins une valeur manquante.\n",
    "\n",
    "**Réponses**\n",
    "\n",
    "1. Les 3 éléments à renvoyer étant de type numérique, un vecteur peut suffire.\n",
    "2. Fonction `rectangle()` (la fonction `rect()` existe déjà):"
   ]
  },
  {
   "cell_type": "code",
   "execution_count": 17,
   "metadata": {},
   "outputs": [
    {
     "data": {
      "text/html": [
       "<dl>\n",
       "\t<dt>$largeur</dt>\n",
       "\t\t<dd>4</dd>\n",
       "\t<dt>$longueur</dt>\n",
       "\t\t<dd>6</dd>\n",
       "\t<dt>$perimetre</dt>\n",
       "\t\t<dd>20</dd>\n",
       "\t<dt>$surface</dt>\n",
       "\t\t<dd>24</dd>\n",
       "</dl>\n"
      ],
      "text/latex": [
       "\\begin{description}\n",
       "\\item[\\$largeur] 4\n",
       "\\item[\\$longueur] 6\n",
       "\\item[\\$perimetre] 20\n",
       "\\item[\\$surface] 24\n",
       "\\end{description}\n"
      ],
      "text/markdown": [
       "$largeur\n",
       ":   4\n",
       "$longueur\n",
       ":   6\n",
       "$perimetre\n",
       ":   20\n",
       "$surface\n",
       ":   24\n",
       "\n",
       "\n"
      ],
      "text/plain": [
       "$largeur\n",
       "[1] 4\n",
       "\n",
       "$longueur\n",
       "[1] 6\n",
       "\n",
       "$perimetre\n",
       "[1] 20\n",
       "\n",
       "$surface\n",
       "[1] 24\n"
      ]
     },
     "metadata": {},
     "output_type": "display_data"
    }
   ],
   "source": [
    "rectangle=function(l1,l2){\n",
    "    p=(l1+l2)*2\n",
    "    s=l1*l2\n",
    "    list(largeur=min(l1,l2),longueur=max(l1,l2),\n",
    "    perimetre=p,surface=s)}\n",
    "rectangle(4,6)"
   ]
  },
  {
   "cell_type": "markdown",
   "metadata": {},
   "source": [
    "3.Utilisation de la fonction pour calculer les n premiers termes de la suite de Fibonacci:"
   ]
  },
  {
   "cell_type": "code",
   "execution_count": 18,
   "metadata": {},
   "outputs": [
    {
     "data": {
      "image/png": "[encoded data removed]",
      "text/plain": [
       "plot without title"
      ]
     },
     "metadata": {},
     "output_type": "display_data"
    }
   ],
   "source": [
    "fibo=function(n){\n",
    "    res=rep(0,n);res[1]=0;res[2]=1\n",
    "    for (i in 3:n) res[i]=res[i-1]+res[i-2]\n",
    "    res}\n",
    "# Calcul du rapport de 2 termes consécutifs\n",
    "res=fibo(20)\n",
    "ratio=res[2:20]/res[1:19]\n",
    "plot(1:19,ratio,type=\"b\")"
   ]
  },
  {
   "cell_type": "markdown",
   "metadata": {},
   "source": [
    "Le rapport tend vers le nombre d'or $\\frac{1+\\sqrt{5}}{2} \\approx 1.618034$.\n",
    "\n",
    "4.Une façon, parmi beaucoup d'autres, de répondre à la question consiste à créer une fonction `ligne.NA` qui repère s'il y a au moins une valeur manquante dans un vecteur. Cette fonction filtre les lignes en question."
   ]
  },
  {
   "cell_type": "code",
   "execution_count": 50,
   "metadata": {},
   "outputs": [
    {
     "data": {
      "text/html": [
       "<table>\n",
       "<tbody>\n",
       "\t<tr><td> 1</td><td> 9</td><td>17</td><td>25</td><td>33</td></tr>\n",
       "\t<tr><td> 2</td><td>10</td><td>18</td><td>26</td><td>NA</td></tr>\n",
       "\t<tr><td> 3</td><td>11</td><td>19</td><td>27</td><td>35</td></tr>\n",
       "\t<tr><td> 4</td><td>NA</td><td>20</td><td>28</td><td>36</td></tr>\n",
       "\t<tr><td> 5</td><td>13</td><td>21</td><td>29</td><td>37</td></tr>\n",
       "\t<tr><td> 6</td><td>14</td><td>22</td><td>30</td><td>38</td></tr>\n",
       "\t<tr><td>NA</td><td>15</td><td>23</td><td>31</td><td>39</td></tr>\n",
       "\t<tr><td> 8</td><td>16</td><td>24</td><td>32</td><td>NA</td></tr>\n",
       "</tbody>\n",
       "</table>\n"
      ],
      "text/latex": [
       "\\begin{tabular}{lllll}\n",
       "\t  1 &  9 & 17 & 25 & 33\\\\\n",
       "\t  2 & 10 & 18 & 26 & NA\\\\\n",
       "\t  3 & 11 & 19 & 27 & 35\\\\\n",
       "\t  4 & NA & 20 & 28 & 36\\\\\n",
       "\t  5 & 13 & 21 & 29 & 37\\\\\n",
       "\t  6 & 14 & 22 & 30 & 38\\\\\n",
       "\t NA & 15 & 23 & 31 & 39\\\\\n",
       "\t  8 & 16 & 24 & 32 & NA\\\\\n",
       "\\end{tabular}\n"
      ],
      "text/markdown": [
       "\n",
       "|  1 |  9 | 17 | 25 | 33 | \n",
       "|  2 | 10 | 18 | 26 | NA | \n",
       "|  3 | 11 | 19 | 27 | 35 | \n",
       "|  4 | NA | 20 | 28 | 36 | \n",
       "|  5 | 13 | 21 | 29 | 37 | \n",
       "|  6 | 14 | 22 | 30 | 38 | \n",
       "| NA | 15 | 23 | 31 | 39 | \n",
       "|  8 | 16 | 24 | 32 | NA | \n",
       "\n",
       "\n"
      ],
      "text/plain": [
       "     [,1] [,2] [,3] [,4] [,5]\n",
       "[1,]  1    9   17   25   33  \n",
       "[2,]  2   10   18   26   NA  \n",
       "[3,]  3   11   19   27   35  \n",
       "[4,]  4   NA   20   28   36  \n",
       "[5,]  5   13   21   29   37  \n",
       "[6,]  6   14   22   30   38  \n",
       "[7,] NA   15   23   31   39  \n",
       "[8,]  8   16   24   32   NA  "
      ]
     },
     "metadata": {},
     "output_type": "display_data"
    }
   ],
   "source": [
    "ligne.NA=function(vec){any(is.na(vec))}\n",
    "filtre.NA=function(mat){ \n",
    "    tmp = apply(mat,1,ligne.NA)\n",
    "    mat[!tmp,]}\n",
    "# Application sur une matrice de test\n",
    "matrice.test = matrix(1:40,nc=5)\n",
    "matrice.test[2,5]=NA;matrice.test[4,2]=NA\n",
    "matrice.test[7,1]=NA; matrice.test[7,5]=NA\n",
    "matrice.test"
   ]
  },
  {
   "cell_type": "code",
   "execution_count": 56,
   "metadata": {},
   "outputs": [
    {
     "data": {
      "text/html": [
       "<table>\n",
       "<tbody>\n",
       "\t<tr><td>1 </td><td> 9</td><td>17</td><td>25</td><td>33</td></tr>\n",
       "\t<tr><td>3 </td><td>11</td><td>19</td><td>27</td><td>35</td></tr>\n",
       "\t<tr><td>5 </td><td>13</td><td>21</td><td>29</td><td>37</td></tr>\n",
       "\t<tr><td>6 </td><td>14</td><td>22</td><td>30</td><td>38</td></tr>\n",
       "</tbody>\n",
       "</table>\n"
      ],
      "text/latex": [
       "\\begin{tabular}{lllll}\n",
       "\t 1  &  9 & 17 & 25 & 33\\\\\n",
       "\t 3  & 11 & 19 & 27 & 35\\\\\n",
       "\t 5  & 13 & 21 & 29 & 37\\\\\n",
       "\t 6  & 14 & 22 & 30 & 38\\\\\n",
       "\\end{tabular}\n"
      ],
      "text/markdown": [
       "\n",
       "| 1  |  9 | 17 | 25 | 33 | \n",
       "| 3  | 11 | 19 | 27 | 35 | \n",
       "| 5  | 13 | 21 | 29 | 37 | \n",
       "| 6  | 14 | 22 | 30 | 38 | \n",
       "\n",
       "\n"
      ],
      "text/plain": [
       "     [,1] [,2] [,3] [,4] [,5]\n",
       "[1,] 1     9   17   25   33  \n",
       "[2,] 3    11   19   27   35  \n",
       "[3,] 5    13   21   29   37  \n",
       "[4,] 6    14   22   30   38  "
      ]
     },
     "metadata": {},
     "output_type": "display_data"
    }
   ],
   "source": [
    "filtre.NA(matrice.test)\n"
   ]
  },
  {
   "cell_type": "markdown",
   "metadata": {},
   "source": [
    "## Commandes de type `apply`\n",
    "Comme déjà expliqué, il est vivement recommandé d'éviter les boucles très chronophages. La fonction `apply` et ses variantes sur des vecteurs, matrices ou listes permettent d'appliquer une même fonction `FUN` sur toutes les lignes `(MARGIN=1)` ou les colonnes `(MARGIN=2)` d'une matrice `MAT`:\n",
    "\n",
    "    apply(MAT , MARGIN, FUN)}\n",
    "\n",
    "Les fonctions `lapply` et `sapply` calculent la même fonction sur tous les éléments d'un vecteur ou d'une liste.\n",
    "\n",
    "    lapply(X,FUN, ARG.COMMUN)} \n",
    "\n",
    "permet d'appliquer la fonction `FUN` à tous les éléments du vecteur ou de la liste X. Les valeurs de X sont affectées au premier argument de la fonction `FUN`. Si la fonction FUN a plusieurs paramètres d'entrée, ils sont spécifiés dans `ARG.COMMUN`. Cette fonction retourne le résultat sous la forme de listes. \n",
    "\n",
    "La fonction `sapply` est similaire à `lapply` mais le résultat est retourné si possible sous forme de vecteurs.\n",
    "\n",
    "    tapply(X,GRP,FUN,...)\n",
    "     \n",
    "applique une fonction `FUN` sur les sous-groupes d'un vecteur `X` définis par une variable  `GRP` de type `factor`. \n",
    "\n",
    "Exemples :"
   ]
  },
  {
   "cell_type": "code",
   "execution_count": 21,
   "metadata": {},
   "outputs": [
    {
     "data": {
      "text/html": [
       "<dl class=dl-horizontal>\n",
       "\t<dt>Sepal.Length</dt>\n",
       "\t\t<dd>876.5</dd>\n",
       "\t<dt>Sepal.Width</dt>\n",
       "\t\t<dd>458.6</dd>\n",
       "\t<dt>Petal.Length</dt>\n",
       "\t\t<dd>563.7</dd>\n",
       "\t<dt>Petal.Width</dt>\n",
       "\t\t<dd>179.9</dd>\n",
       "</dl>\n"
      ],
      "text/latex": [
       "\\begin{description*}\n",
       "\\item[Sepal.Length] 876.5\n",
       "\\item[Sepal.Width] 458.6\n",
       "\\item[Petal.Length] 563.7\n",
       "\\item[Petal.Width] 179.9\n",
       "\\end{description*}\n"
      ],
      "text/markdown": [
       "Sepal.Length\n",
       ":   876.5Sepal.Width\n",
       ":   458.6Petal.Length\n",
       ":   563.7Petal.Width\n",
       ":   179.9\n",
       "\n"
      ],
      "text/plain": [
       "Sepal.Length  Sepal.Width Petal.Length  Petal.Width \n",
       "       876.5        458.6        563.7        179.9 "
      ]
     },
     "metadata": {},
     "output_type": "display_data"
    }
   ],
   "source": [
    "data(iris)\n",
    "apply(iris[,1:4],2,sum)"
   ]
  },
  {
   "cell_type": "code",
   "execution_count": 22,
   "metadata": {},
   "outputs": [
    {
     "data": {
      "text/html": [
       "<dl>\n",
       "\t<dt>$Sepal.Length</dt>\n",
       "\t\t<dd>876.5</dd>\n",
       "\t<dt>$Sepal.Width</dt>\n",
       "\t\t<dd>458.6</dd>\n",
       "\t<dt>$Petal.Length</dt>\n",
       "\t\t<dd>563.7</dd>\n",
       "\t<dt>$Petal.Width</dt>\n",
       "\t\t<dd>179.9</dd>\n",
       "</dl>\n"
      ],
      "text/latex": [
       "\\begin{description}\n",
       "\\item[\\$Sepal.Length] 876.5\n",
       "\\item[\\$Sepal.Width] 458.6\n",
       "\\item[\\$Petal.Length] 563.7\n",
       "\\item[\\$Petal.Width] 179.9\n",
       "\\end{description}\n"
      ],
      "text/markdown": [
       "$Sepal.Length\n",
       ":   876.5\n",
       "$Sepal.Width\n",
       ":   458.6\n",
       "$Petal.Length\n",
       ":   563.7\n",
       "$Petal.Width\n",
       ":   179.9\n",
       "\n",
       "\n"
      ],
      "text/plain": [
       "$Sepal.Length\n",
       "[1] 876.5\n",
       "\n",
       "$Sepal.Width\n",
       "[1] 458.6\n",
       "\n",
       "$Petal.Length\n",
       "[1] 563.7\n",
       "\n",
       "$Petal.Width\n",
       "[1] 179.9\n"
      ]
     },
     "metadata": {},
     "output_type": "display_data"
    }
   ],
   "source": [
    "lapply(iris[,1:4],sum)"
   ]
  },
  {
   "cell_type": "code",
   "execution_count": 23,
   "metadata": {},
   "outputs": [
    {
     "data": {
      "text/html": [
       "<dl class=dl-horizontal>\n",
       "\t<dt>Sepal.Length</dt>\n",
       "\t\t<dd>876.5</dd>\n",
       "\t<dt>Sepal.Width</dt>\n",
       "\t\t<dd>458.6</dd>\n",
       "\t<dt>Petal.Length</dt>\n",
       "\t\t<dd>563.7</dd>\n",
       "\t<dt>Petal.Width</dt>\n",
       "\t\t<dd>179.9</dd>\n",
       "</dl>\n"
      ],
      "text/latex": [
       "\\begin{description*}\n",
       "\\item[Sepal.Length] 876.5\n",
       "\\item[Sepal.Width] 458.6\n",
       "\\item[Petal.Length] 563.7\n",
       "\\item[Petal.Width] 179.9\n",
       "\\end{description*}\n"
      ],
      "text/markdown": [
       "Sepal.Length\n",
       ":   876.5Sepal.Width\n",
       ":   458.6Petal.Length\n",
       ":   563.7Petal.Width\n",
       ":   179.9\n",
       "\n"
      ],
      "text/plain": [
       "Sepal.Length  Sepal.Width Petal.Length  Petal.Width \n",
       "       876.5        458.6        563.7        179.9 "
      ]
     },
     "metadata": {},
     "output_type": "display_data"
    }
   ],
   "source": [
    "sapply(iris[,1:4],sum)"
   ]
  },
  {
   "cell_type": "code",
   "execution_count": 24,
   "metadata": {},
   "outputs": [
    {
     "name": "stderr",
     "output_type": "stream",
     "text": [
      "ERROR while rich displaying an object: Error in dn[[2L]]: indice hors limites\n",
      "\n",
      "Traceback:\n",
      "1. FUN(X[[i]], ...)\n",
      "2. tryCatch(withCallingHandlers({\n",
      " .     rpr <- mime2repr[[mime]](obj)\n",
      " .     if (is.null(rpr)) \n",
      " .         return(NULL)\n",
      " .     prepare_content(is.raw(rpr), rpr)\n",
      " . }, error = error_handler), error = outer_handler)\n",
      "3. tryCatchList(expr, classes, parentenv, handlers)\n",
      "4. tryCatchOne(expr, names, parentenv, handlers[[1L]])\n",
      "5. doTryCatch(return(expr), name, parentenv, handler)\n",
      "6. withCallingHandlers({\n",
      " .     rpr <- mime2repr[[mime]](obj)\n",
      " .     if (is.null(rpr)) \n",
      " .         return(NULL)\n",
      " .     prepare_content(is.raw(rpr), rpr)\n",
      " . }, error = error_handler)\n",
      "7. mime2repr[[mime]](obj)\n",
      "8. repr_markdown.numeric(obj)\n",
      "9. repr_vector_generic(html_escape_names(obj), \"%s. %s\\n\", \"%s\\n:   %s\", \n",
      " .     \"**%s:** %s\", \"%s\\n\\n\", item_uses_numbers = TRUE, escape_fun = html_escape)\n",
      "10. html_escape_names(obj)\n",
      "11. .escape_names(obj, \"html\")\n",
      "12. colnames(obj)\n",
      "ERROR while rich displaying an object: Error in dn[[2L]]: indice hors limites\n",
      "\n",
      "Traceback:\n",
      "1. FUN(X[[i]], ...)\n",
      "2. tryCatch(withCallingHandlers({\n",
      " .     rpr <- mime2repr[[mime]](obj)\n",
      " .     if (is.null(rpr)) \n",
      " .         return(NULL)\n",
      " .     prepare_content(is.raw(rpr), rpr)\n",
      " . }, error = error_handler), error = outer_handler)\n",
      "3. tryCatchList(expr, classes, parentenv, handlers)\n",
      "4. tryCatchOne(expr, names, parentenv, handlers[[1L]])\n",
      "5. doTryCatch(return(expr), name, parentenv, handler)\n",
      "6. withCallingHandlers({\n",
      " .     rpr <- mime2repr[[mime]](obj)\n",
      " .     if (is.null(rpr)) \n",
      " .         return(NULL)\n",
      " .     prepare_content(is.raw(rpr), rpr)\n",
      " . }, error = error_handler)\n",
      "7. mime2repr[[mime]](obj)\n",
      "8. repr_latex.numeric(obj)\n",
      "9. repr_vector_generic(latex_escape_names(obj), \"\\\\item %s\\n\", \"\\\\item[%s] %s\\n\", \n",
      " .     \"\\\\textbf{%s:} %s\", enum_wrap = \"\\\\begin{enumerate*}\\n%s\\\\end{enumerate*}\\n\", \n",
      " .     named_wrap = \"\\\\begin{description*}\\n%s\\\\end{description*}\\n\", \n",
      " .     only_named_item = \"\\\\textbf{%s:} %s\", escape_fun = latex_escape)\n",
      "10. latex_escape_names(obj)\n",
      "11. .escape_names(obj, \"latex\")\n",
      "12. colnames(obj)\n"
     ]
    },
    {
     "data": {
      "text/html": [
       "<dl class=dl-horizontal>\n",
       "\t<dt>setosa</dt>\n",
       "\t\t<dd>250.3</dd>\n",
       "\t<dt>versicolor</dt>\n",
       "\t\t<dd>296.8</dd>\n",
       "\t<dt>virginica</dt>\n",
       "\t\t<dd>329.4</dd>\n",
       "</dl>\n"
      ],
      "text/plain": [
       "    setosa versicolor  virginica \n",
       "     250.3      296.8      329.4 "
      ]
     },
     "metadata": {},
     "output_type": "display_data"
    }
   ],
   "source": [
    "tapply(iris[,1],iris[,5],sum)"
   ]
  },
  {
   "cell_type": "markdown",
   "metadata": {
    "collapsed": true
   },
   "source": []
  }
 ],
 "metadata": {
  "kernelspec": {
   "display_name": "R",
   "language": "R",
   "name": "ir"
  },
  "language_info": {
   "codemirror_mode": "r",
   "file_extension": ".r",
   "mimetype": "text/x-r-source",
   "name": "R",
   "pygments_lexer": "r",
   "version": "3.4.1"
  }
 },
 "nbformat": 4,
 "nbformat_minor": 1
}
