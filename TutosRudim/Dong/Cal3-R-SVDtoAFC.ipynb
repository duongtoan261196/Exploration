{
 "cells": [
  {
   "cell_type": "markdown",
   "metadata": {},
   "source": [
    "<center>\n",
    "<a href=\"http://www.insa-toulouse.fr/\" ><img src=\"http://www.math.univ-toulouse.fr/~besse/Wikistat/Images/Logo_INSAvilletoulouse-RVB.png\" style=\"float:left; max-width: 120px; display: inline\" alt=\"INSA\"/></a> \n",
    "\n",
    "<a href=\"http://wikistat.fr/\" ><img src=\"http://www.math.univ-toulouse.fr/~besse/Wikistat/Images/wikistat.jpg\" style=\"max-width: 250px; display: inline\"  alt=\"Wikistat\"/></a>\n",
    "\n",
    "<a href=\"http://www.math.univ-toulouse.fr/\" ><img src=\"http://www.math.univ-toulouse.fr/~besse/Wikistat/Images/logo_imt.jpg\" style=\"float:right; max-width: 250px; display: inline\" alt=\"IMT\"/> </a>\n",
    "</center>"
   ]
  },
  {
   "cell_type": "markdown",
   "metadata": {},
   "source": [
    "# [Scénarios d'Exploration Statistique](https://github.com/wikistat/Exploration)"
   ]
  },
  {
   "cell_type": "markdown",
   "metadata": {},
   "source": [
    "# Initiation à l'AFC avec <a href=\"https://cran.r-project.org/\"><img src=\"https://cran.r-project.org/Rlogo.svg\" style=\"max-width: 40px; display: inline\" alt=\"R\"/></a>\n",
    "# de la SVD à l'AFC - exemple élémentaire\n",
    "#### Résumé \n",
    "Décomposition en valeurs singulières [SVD](http://wikistat.fr/pdf/st-m-explo-alglin.pdf) d'une matrice rectangulaire comme introduction à l'[Analyse Factorielle des Correspondances](http://wikistat.fr/pdf/st-m-explo-afc.pdf) (AFC); illustration sur des données élémentaires avec R puis avec le package [`FactoMineR`](http://factominer.free.fr/)."
   ]
  },
  {
   "cell_type": "markdown",
   "metadata": {},
   "source": [
    "#### Avertissement\n",
    "Les différents travaux et analyses proposés tout au long de ces documents sont largement explicités. Les commandes en R ou Python toutes fournies. L'important n'est pas de trouver la bonne syntaxe des commandes ni de finir au plus vite mais de réfléchir sur les méthodes, leurs conditions d'applications, les résultats obtenus. L'apprentissage de ces logiciels et de leur programmation est dispensés dans d'autres tutoriels.\n",
    "\n",
    "Répondre aux questions **Q** tout au long de la réalisation."
   ]
  },
  {
   "cell_type": "markdown",
   "metadata": {},
   "source": [
    "## 1 Données\n",
    "Les données sont une table de contingence croisant une variable de catégorie socioprofessionnelle avec un type d'hébergement en vacances mais sous une forme particulière car archivée en trois colonnes. La première contient l'effectif conjoint des modalités contenus dans les colonnes suivantes. La deuxième colonne est le code de catégorie socioprofessionnelle et la 3ème  le code correspondant à un type d'hébergement.\n",
    "\n",
    "### Lecture, description des données\n",
    "Les donnéees sont dans le fichier `vaccsp.dat`. Attention , les données ne sont pas sous une forme adaptée à la fonction `table`; il faut utiliser la fonction `xtab` pour définir la table de contingence associée."
   ]
  },
  {
   "cell_type": "code",
   "execution_count": null,
   "metadata": {},
   "outputs": [],
   "source": [
    "vaccsp=read.table(\"Data/vaccsp.dat\",col.names=c(\"effectif\",\"CSP\",\"heber\"))\n",
    "summary(vaccsp)"
   ]
  },
  {
   "cell_type": "code",
   "execution_count": null,
   "metadata": {
    "collapsed": true
   },
   "outputs": [],
   "source": [
    "# construire la table de contingence\n",
    "T=xtabs(effectif~CSP+heber,vaccsp)"
   ]
  },
  {
   "cell_type": "code",
   "execution_count": null,
   "metadata": {},
   "outputs": [],
   "source": [
    "# graphe associé\n",
    "mosaicplot(T)"
   ]
  },
  {
   "cell_type": "markdown",
   "metadata": {},
   "source": [
    "**Q** Quel est ce graphique? Est-il facile à interpréter?"
   ]
  },
  {
   "cell_type": "code",
   "execution_count": null,
   "metadata": {},
   "outputs": [],
   "source": [
    "# test du chi2\n",
    "chisq.test(T)"
   ]
  },
  {
   "cell_type": "markdown",
   "metadata": {},
   "source": [
    "**Q** Conclusion sur la description de ces variables, de leur liaison."
   ]
  },
  {
   "cell_type": "markdown",
   "metadata": {},
   "source": [
    "## 2 AFC pas à pas\n",
    "### 2.1 Calcul des marges, métriques et profils."
   ]
  },
  {
   "cell_type": "code",
   "execution_count": null,
   "metadata": {
    "collapsed": true
   },
   "outputs": [],
   "source": [
    "# Fréquences marginales ou barycentres\n",
    "n=sum(T); gc=apply(T,2,sum)/n; gr=apply(T,1,sum)/n"
   ]
  },
  {
   "cell_type": "code",
   "execution_count": null,
   "metadata": {
    "collapsed": true
   },
   "outputs": [],
   "source": [
    "# Métriques\n",
    "Dr=diag(gr); Dc=diag(gc)\n",
    "Dr1=diag(1/gr); Dc1=diag(1/gc)"
   ]
  },
  {
   "cell_type": "code",
   "execution_count": null,
   "metadata": {
    "collapsed": true
   },
   "outputs": [],
   "source": [
    "# Profils lignes et colonnes\n",
    "A=t(T)%*%Dr1/n; B= T%*%Dc1/n"
   ]
  },
  {
   "cell_type": "markdown",
   "metadata": {},
   "source": [
    "**Q** COmmenter les résultats ci-dessous. Quel vecteur propre associé à quelle valeur propre?"
   ]
  },
  {
   "cell_type": "code",
   "execution_count": null,
   "metadata": {},
   "outputs": [],
   "source": [
    "A%*%B%*%gc-gc"
   ]
  },
  {
   "cell_type": "code",
   "execution_count": null,
   "metadata": {},
   "outputs": [],
   "source": [
    "B%*%A%*%gr-gr"
   ]
  },
  {
   "cell_type": "markdown",
   "metadata": {},
   "source": [
    "### 2.2 AFC et double ACP\n",
    "\n",
    "**Q** Quelles sont les ACPs qui définissent l'AFC?\n",
    "\n",
    "**Q** De quelles matrices faut-il alors calculer la SVD et par rapport à quelles métriques? \n",
    "\n",
    "**Attention**, la SVD est dite *généralisée* car calculée par rapport à des métriques spécifiques différentes de celle usuelle (matrice identité). Se reporter au [scénario précédent]() pour plus d'explications. Il n'est pas possible d'utiliser directement une fonction comme par exemple `prcomp` ou `princomp` pour calculer les ACPs conduisnat à l'AFC à cause de ce changement de métrique. Attention dans la construction des matrices, la matrice `T` est dans cet exemple carrée (autant de modalités lignes que colonnes) mais il ne faut pas confondre le rôle des métriques. "
   ]
  },
  {
   "cell_type": "code",
   "execution_count": null,
   "metadata": {},
   "outputs": [],
   "source": [
    "# SVD de 1/nT relative à Dr-1 et Dc-1\n",
    "Drm12=diag(1/sqrt(gr));Dcm12=diag(1/sqrt(gc))\n",
    "res=svd(Drm12%*%T%*%Dcm12/n)\n",
    "res$d  "
   ]
  },
  {
   "cell_type": "markdown",
   "metadata": {},
   "source": [
    "**Q** Pourquoi en AFC, centrer les matrices revient à éliminer la valeur propre 1 et le vecteur propre associé?"
   ]
  },
  {
   "cell_type": "code",
   "execution_count": null,
   "metadata": {
    "collapsed": true
   },
   "outputs": [],
   "source": [
    "L=res$d[-1]"
   ]
  },
  {
   "cell_type": "code",
   "execution_count": null,
   "metadata": {
    "collapsed": true
   },
   "outputs": [],
   "source": [
    "# Rechangement de métrique\n",
    "U=diag(sqrt(gr))%*%res$u[,-1]\n",
    "V=diag(sqrt(gc))%*%res$v[,-1]"
   ]
  },
  {
   "cell_type": "code",
   "execution_count": null,
   "metadata": {},
   "outputs": [],
   "source": [
    "# Vérifications de la chi2-orthonormalité\n",
    "t(U)%*%Dr1%*%U"
   ]
  },
  {
   "cell_type": "code",
   "execution_count": null,
   "metadata": {},
   "outputs": [],
   "source": [
    "t(V)%*%Dc1%*%V"
   ]
  },
  {
   "cell_type": "markdown",
   "metadata": {},
   "source": [
    "### 2.3 Calcul des composantes et graphiques\n",
    "\n",
    "**Q** Quelles sont les composantes calculées ci-dessous?"
   ]
  },
  {
   "cell_type": "code",
   "execution_count": null,
   "metadata": {
    "collapsed": true
   },
   "outputs": [],
   "source": [
    "Cr=Dr1%*%U%*%diag(L)\n",
    "Cc=Dc1%*%V%*%diag(L)"
   ]
  },
  {
   "cell_type": "code",
   "execution_count": null,
   "metadata": {},
   "outputs": [],
   "source": [
    "# représentations graphiques\n",
    "plot(Cc, type=\"n\")\n",
    "text(Cc, colnames(T))\n",
    "abline(h=0,v=0)"
   ]
  },
  {
   "cell_type": "markdown",
   "metadata": {},
   "source": [
    "**Q** Comment interpréter le graphique ci-dessus?"
   ]
  },
  {
   "cell_type": "code",
   "execution_count": null,
   "metadata": {},
   "outputs": [],
   "source": [
    "plot(Cr, type=\"n\")\n",
    "text(Cr, rownames(T))\n",
    "abline(h=0,v=0)"
   ]
  },
  {
   "cell_type": "markdown",
   "metadata": {},
   "source": [
    "**Q** Comment interpréter le graphique ci-dessus?\n",
    "\n",
    "## 3 Avec `FactoMineR`\n",
    "Rien de bien compliqué dans ces instructions mais autant utiliser une librairie qui propose directement des graphiques de meilleure qualité avec une offre détaillée d'options."
   ]
  },
  {
   "cell_type": "code",
   "execution_count": null,
   "metadata": {},
   "outputs": [],
   "source": [
    "# Charger la librairie\n",
    "library(FactoMineR)\n",
    "# Analyse des correspondances\n",
    "afc=CA(T, graph=F)\n",
    "summary(afc)"
   ]
  },
  {
   "cell_type": "markdown",
   "metadata": {},
   "source": [
    "Comparer les résultats avec ceux précédemment obtenus."
   ]
  },
  {
   "cell_type": "code",
   "execution_count": null,
   "metadata": {},
   "outputs": [],
   "source": [
    "plot(afc)"
   ]
  },
  {
   "cell_type": "markdown",
   "metadata": {},
   "source": [
    "**Q** Comment se justifie la double représentation des modalités lignes et colonnes sur le même graphique?\n",
    "\n",
    "**Q** Quelle interprétation en faire?"
   ]
  }
 ],
 "metadata": {
  "kernelspec": {
   "display_name": "R",
   "language": "R",
   "name": "ir"
  },
  "language_info": {
   "codemirror_mode": "r",
   "file_extension": ".r",
   "mimetype": "text/x-r-source",
   "name": "R",
   "pygments_lexer": "r",
   "version": "3.4.1"
  }
 },
 "nbformat": 4,
 "nbformat_minor": 1
}
