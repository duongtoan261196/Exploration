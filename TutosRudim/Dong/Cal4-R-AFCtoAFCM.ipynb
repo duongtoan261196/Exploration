{
 "cells": [
  {
   "cell_type": "markdown",
   "metadata": {},
   "source": [
    "<center>\n",
    "<a href=\"http://www.insa-toulouse.fr/\" ><img src=\"http://www.math.univ-toulouse.fr/~besse/Wikistat/Images/Logo_INSAvilletoulouse-RVB.png\" style=\"float:left; max-width: 120px; display: inline\" alt=\"INSA\"/></a> \n",
    "\n",
    "<a href=\"http://wikistat.fr/\" ><img src=\"http://www.math.univ-toulouse.fr/~besse/Wikistat/Images/wikistat.jpg\" style=\"max-width: 250px; display: inline\"  alt=\"Wikistat\"/></a>\n",
    "\n",
    "<a href=\"http://www.math.univ-toulouse.fr/\" ><img src=\"http://www.math.univ-toulouse.fr/~besse/Wikistat/Images/logo_imt.jpg\" style=\"float:right; max-width: 250px; display: inline\" alt=\"IMT\"/> </a>\n",
    "</center>"
   ]
  },
  {
   "cell_type": "markdown",
   "metadata": {},
   "source": [
    "# [Scénarios d'Exploration Statistique](https://github.com/wikistat/Exploration)"
   ]
  },
  {
   "cell_type": "markdown",
   "metadata": {},
   "source": [
    "# Initiation à l'AFCM avec <a href=\"https://cran.r-project.org/\"><img src=\"https://cran.r-project.org/Rlogo.svg\" style=\"max-width: 40px; display: inline\" alt=\"R\"/></a>\n",
    "# Généralisation de l'AFC et exemples élémentaires\n",
    "#### Résumé \n",
    "Comparaison entre des analyses des correspondances appliquées à une table de contingence, un tableau disjonctif complet et un tableau de Burt comme généralisation de l'[Analyse Factorielle des Correspondances](http://wikistat.fr/pdf/st-m-explo-afc.pdf) (AFC) pour définir  l'[Analyse Factorielle Multiple des Correspondances](http://wikistat.fr/pdf/st-m-explo-afcm.pdf). Exemple d'AFCM élémentaire et AFCM de variables avec interactions.\n",
    "Utilisation du package [`FactoMineR`](http://factominer.free.fr/).\n",
    "## 1 [AFCM](http://wikistat.fr/pdf/st-m-explo-afcm.pdf) et  [AFC](http://wikistat.fr/pdf/st-m-explo-afc.pdf) de données fictives\n",
    "### 1.1 Les données\n",
    "Six invividus identifiés de `un` à `six`sont questionnés. Ils indiquent leur `CSP` (1 à 4) et leur sport préféré: `R`ou `T`."
   ]
  },
  {
   "cell_type": "code",
   "execution_count": null,
   "metadata": {},
   "outputs": [],
   "source": [
    "matFic=read.table(\"Data/afcfic.dat\",header=TRUE, row.names=1)\n",
    "matFic"
   ]
  },
  {
   "cell_type": "markdown",
   "metadata": {},
   "source": [
    "### 1.2 Les tableaux\n",
    "**Q** Quel est le tableau ci-dessous?"
   ]
  },
  {
   "cell_type": "code",
   "execution_count": null,
   "metadata": {},
   "outputs": [],
   "source": [
    "T=table(matFic$csp,matFic$sport)\n",
    "T"
   ]
  },
  {
   "cell_type": "markdown",
   "metadata": {},
   "source": [
    "**Q** Quel est le tableau ci-dessous?"
   ]
  },
  {
   "cell_type": "code",
   "execution_count": null,
   "metadata": {},
   "outputs": [],
   "source": [
    "library(FactoMineR)\n",
    "D=tab.disjonctif(matFic)\n",
    "D"
   ]
  },
  {
   "cell_type": "markdown",
   "metadata": {},
   "source": [
    "**Q** Quel est le tableau ci-dessous? De quels blocs est-il constitué?"
   ]
  },
  {
   "cell_type": "code",
   "execution_count": null,
   "metadata": {},
   "outputs": [],
   "source": [
    "B=t(D)%*%D\n",
    "B"
   ]
  },
  {
   "cell_type": "markdown",
   "metadata": {},
   "source": [
    "### 1.3 Analyses des correspondances\n",
    "Analyse multuple des correspondances définie par généralisation de l'analyse factorielle des correspondances.\n",
    "#### AFC de T\n",
    "**Q** Quelles sont les ACPs définissant l'AFC de `T`?"
   ]
  },
  {
   "cell_type": "code",
   "execution_count": null,
   "metadata": {},
   "outputs": [],
   "source": [
    "options(repr.plot.width=4, repr.plot.height=4)\n",
    "CA(T)$eig"
   ]
  },
  {
   "cell_type": "markdown",
   "metadata": {},
   "source": [
    "**Q** Que sont plus précisément les % exprimés sur les axes? Noter les valeurs propres.\n",
    "#### AFC de B"
   ]
  },
  {
   "cell_type": "code",
   "execution_count": null,
   "metadata": {},
   "outputs": [],
   "source": [
    "CA(B)$eig"
   ]
  },
  {
   "cell_type": "markdown",
   "metadata": {},
   "source": [
    "**Q** Pourquoi les modalités sont doublées dans la représentation?\n",
    "\n",
    "**Q** Quelle significaiton des pourcentages sur les axes?\n",
    "\n",
    "**Q** Retrouver les valeurs propres  de AFC(B) à partir de celles de AFC(T).\n",
    "#### AFC de D"
   ]
  },
  {
   "cell_type": "code",
   "execution_count": null,
   "metadata": {},
   "outputs": [],
   "source": [
    "CA(D)$eig"
   ]
  },
  {
   "cell_type": "markdown",
   "metadata": {},
   "source": [
    "**Q** Qu'apporte en plus l'AFC(D)?\n",
    "\n",
    "**Q** Quelle signification des pourcentages sur les axes?\n",
    "\n",
    "**Q** Retrouver les valeurs propres  de AFC(D) à partir de celles de AFC(T).\n",
    "\n",
    "**Q** Question subsidiaire: pourquoi les points sont projetés sur une parabole nommée dans la littérature: *horseshoe* ou effet Guttman?"
   ]
  },
  {
   "cell_type": "markdown",
   "metadata": {},
   "source": [
    "## 2 Races de chiens\n",
    "Nous nous proposons de représenter à l'aide d'une AFCM les proprités de races de chiens afin d'évaluer leur compatibles avec la fonction de ces chiens considérée comme variable supplémentaire.\n",
    "### 2.1 Les données\n",
    "Les données sont extraites de Bréfort (1982). Elles contiennent le descriptif des qualités de 27 races de chien: tailles (`T`), poids (`P`), vélocité (`V`), intelligence (`I`), codées sur trois modalités (`-` faible, `+` moyen, `++` fort), affection (`Af`) et agressivité (`Ag`) sur deux modalités (`-` faible, `+` forte), enfin la fonction sur trois modalités: `Com` (compagnie), `Cha` (chasse), `Uti` (utilité). Les modalités étaient initialement codées par des entiers mais l'obtention de graphes des modalités explicites nécessite un recodage explicite des modalités avec des libellés facilement identifiables. Ce recodage a été opéré dans SAS.\n",
    "\n",
    "La première colonne identifie la *race* du chien donc chaque individu."
   ]
  },
  {
   "cell_type": "code",
   "execution_count": null,
   "metadata": {},
   "outputs": [],
   "source": [
    "chiens=read.csv(\"Data/chiens.csv\", row.names=1)\n",
    "chiens\n",
    "summary(chiens)"
   ]
  },
  {
   "cell_type": "markdown",
   "metadata": {},
   "source": [
    "### 2.2 AFCM avec `FactoMineR`\n",
    "La librairie `FactoMineR` est particulièrement conçue pour exécuter et représenter des analyses factorielles des correspondances."
   ]
  },
  {
   "cell_type": "code",
   "execution_count": null,
   "metadata": {},
   "outputs": [],
   "source": [
    "library(FactoMineR)\n",
    "#afcm avec la fonction des chiens en supplémentaire\n",
    "afcm=MCA(chiens,quali.sup=7,graph=F)\n",
    "options(repr.plot.width=5, repr.plot.height=5)\n",
    "plot(afcm,habillage=\"quali\",invisible=\"ind\")"
   ]
  },
  {
   "cell_type": "markdown",
   "metadata": {},
   "source": [
    "**Q** Quelle AFC a été calculée pour produire le graphe ci-dessus?\n",
    "\n",
    "**Q** Quelle signification des pourcentages sur les axes?\n",
    "\n",
    "**Q** Quelle interprétation possible?"
   ]
  },
  {
   "cell_type": "code",
   "execution_count": null,
   "metadata": {},
   "outputs": [],
   "source": [
    "plot(afcm, choix=\"ind\",habillage=\"quali\")"
   ]
  },
  {
   "cell_type": "markdown",
   "metadata": {},
   "source": [
    "**Q** Quelle AFC a été exécutée pour obtenir le graphe ci-dessus?"
   ]
  },
  {
   "cell_type": "markdown",
   "metadata": {},
   "source": [
    "## 3 Diagnostic du cancer du sein\n",
    "L'objet de cet exemple est de mettre en évidence les limitations de l'AFCM ou les précautions à prendre pour traiter des données complexes. L'AFCM analyse le seul tableau de Burt croisant (tables de contingence) les variables deux à deux. Par construction, cette méthode ne prend donc pas en compte la présence possible d'interactions d'ordre supérieur à deux entre les variables. Ce peut être trompeur.\n",
    "### 3.1 Les données\n",
    "Les données relatives à plusieurs variables qualitatives sont représentées habituellement sous la forme d'une table de contingence *complète*. L'exemple ci-dessous est extrait de Bishop et al. (1976). Il décrit les résultats partiels d'une enquête ancienne réalisée dans trois centres hospitaliers (Boston, Glamorgan, Tokio) sur des patientes atteintes d'un cancer du sein. On se propose d'étudier la survie de ces patientes trois ans après le diagnostic.\n",
    "En plus de cette information, quatre autres variables sont\n",
    "documentées pour chacune des patientes:\n",
    "- le centre de diagnostic, \n",
    "- la tranche d'âge, \n",
    "- le degré d'inflammation chronique petite ou grande,\n",
    "- l'apparence relative (bénigne ou maligne) de la tumeur.\n",
    "\n",
    "Le croisement de toutes les variables permet de construire la *table de contingence complète* ci-dessous. \n",
    "\n",
    "  \n",
    "Centre | Age | Survie | Petite | Inflammation | Grande | Inflammation\n",
    "-------| -   |  -     |   -     |   -     |  -      |  \n",
    "   |     |        |   **Ap  Maligne**  |  ** App Benine**    |    **App Maligne**   | **App Benine**\n",
    "Tokio\t|  <50\t| non |9|7|4|3 \n",
    "\t|\t\t| oui |26|68|25|9\n",
    "\t| 50-69\t| non |9|9|11|2\n",
    "\t|\t\t| oui |20|46|18|5\n",
    "\t| >70\t\t| non |2|3|1|0\n",
    "\t|\t\t| oui |1|6|5|1\n",
    "Boston\t|  <50\t| non |6|7|6|0\n",
    "\t|\t\t| oui |11|24|4|0\n",
    "\t| 50-69\t| non |8|20|3|2\n",
    "\t|\t\t| oui |18|58|10|3\n",
    "\t| >70\t\t| non |9|18|3|0\n",
    "\t|\t\t| oui |15|26|1|1\n",
    "Glamorgan|  <50\t| non |16|7|3|0\n",
    "\t|\t\t| oui |16|20|8|1\n",
    "\t| 50-69\t| non |14|12|3|0\n",
    "\t|\t\t| oui |27|39|10|4\n",
    "\t| >70\t\t| non |3|7|3|0\n",
    "\t|\t\t| oui |12|11|4|1\n",
    "\n",
    "\n",
    "**Q** Que signifie chaque entier dans cette table?\n",
    "\n",
    "L'objectif de cette étude est une analyse descriptive (AFCM) \n",
    "de cette table en recherchant à mettre en évidence les facteurs \n",
    "de décès. "
   ]
  },
  {
   "cell_type": "code",
   "execution_count": null,
   "metadata": {},
   "outputs": [],
   "source": [
    "diagnos=read.csv(\"Data/diagnos.csv\")\n",
    "summary(diagnos[,1:6])"
   ]
  },
  {
   "cell_type": "markdown",
   "metadata": {},
   "source": [
    "**Q** Quel est le graphique ci-dessous? Aide-t-il à la compréhension?"
   ]
  },
  {
   "cell_type": "code",
   "execution_count": null,
   "metadata": {},
   "outputs": [],
   "source": [
    "T=xtabs(eff~centre+age+survie+inflam+appar,diagnos)\n",
    "mosaicplot(T)"
   ]
  },
  {
   "cell_type": "markdown",
   "metadata": {},
   "source": [
    "### 3.2 AFCM des variables simples\n",
    "Même si la table de contingence complète permet de reconstruire toute l'information à tous le sniveaux d'interaction entre les variables, l'AFCM, obtenue par AFC du tableau de Burt, ne prend nécessairement en compte que le croisement des variables 2 à 2."
   ]
  },
  {
   "cell_type": "code",
   "execution_count": null,
   "metadata": {},
   "outputs": [],
   "source": [
    "library(FactoMineR)\n",
    "# fréquences \"biaisées\" car le programme\n",
    "# ne supporte pas des fréquences nulles\n",
    "freq=diagnos[,1]+.0001\n",
    "afcm=MCA(diagnos[,2:6],row.w=freq,graph=F)\n",
    "plot(afcm, choix=\"ind\",invisible=\"ind\",habillage=\"quali\",title=\"\")"
   ]
  },
  {
   "cell_type": "markdown",
   "metadata": {},
   "source": [
    "**Q** Interpréter le deuxième axe. A la lumière de ce graphique, quels sont les facteurs de décès? \n",
    "\n",
    "**Q** Quelle est influence de l'âge? Et surtout celle du centre? \n",
    "\n",
    "**Q** Influence du centre ou déséquilibre des distributions des âges entre les centres? Commnent répondre à cette question?"
   ]
  },
  {
   "cell_type": "markdown",
   "metadata": {},
   "source": [
    "### 3.3 AFCM des variables croisées\n",
    "Le graphique de l'analyse précédente suggère l'influence \n",
    "de l'âge mais aussi celle du centre de diagnostic dans les risques de \n",
    "décès avant trois ans. Pour expliciter ces liaisons, les données \n",
    "sont reconsidérées de la façon suivante:\n",
    "- les variables `centre` et `age` sont croisées pour construire une variable `agecent` à 9 modalités,\n",
    "- les variables `inflam` et `appar` sont croisées également pour définir la variable `histo` à 4 modalités.\n"
   ]
  },
  {
   "cell_type": "code",
   "execution_count": null,
   "metadata": {},
   "outputs": [],
   "source": [
    "summary(diagnos)"
   ]
  },
  {
   "cell_type": "markdown",
   "metadata": {},
   "source": [
    "Ce qui conduit au mosaicplot guère plus explicite:"
   ]
  },
  {
   "cell_type": "code",
   "execution_count": null,
   "metadata": {},
   "outputs": [],
   "source": [
    "T=xtabs(eff~agecent+survie+histo,diagnos)\n",
    "mosaicplot(T)"
   ]
  },
  {
   "cell_type": "code",
   "execution_count": null,
   "metadata": {},
   "outputs": [],
   "source": [
    "afcm=MCA(diagnos[,2:8],quali.sup=c(1,2,4,5),row.w=freq,graph=F)\n",
    "options(repr.plot.width=6, repr.plot.height=6)\n",
    "plot(afcm, choix=\"ind\",invisible=\"ind\",habillage=\"quali\",title=\"\")"
   ]
  },
  {
   "cell_type": "markdown",
   "metadata": {},
   "source": [
    "**Q** Reprérer les modalités de la variable `agecent`. Comment celles-si sont -elles positionnées par rapport à celles de la variable supplémentaire `centre`; puis de celles de la variable `age`?\n",
    "\n",
    "**Q** Même chose pour les variables `histo`, `imflam`, `appar`.\n",
    "\n",
    "**Q** Quels sont, pour ce graphique, les principaux facteurs de risque?\n",
    "\n",
    "**Q** Est-ce compatible avec le graphique de l'AFCM précédente?"
   ]
  }
 ],
 "metadata": {
  "kernelspec": {
   "display_name": "R",
   "language": "R",
   "name": "ir"
  },
  "language_info": {
   "codemirror_mode": "r",
   "file_extension": ".r",
   "mimetype": "text/x-r-source",
   "name": "R",
   "pygments_lexer": "r",
   "version": "3.4.1"
  }
 },
 "nbformat": 4,
 "nbformat_minor": 1
}
