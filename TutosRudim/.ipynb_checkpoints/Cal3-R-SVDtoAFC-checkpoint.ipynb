{
 "cells": [
  {
   "cell_type": "markdown",
   "metadata": {},
   "source": [
    "<center>\n",
    "<a href=\"http://www.insa-toulouse.fr/\" ><img src=\"http://www.math.univ-toulouse.fr/~besse/Wikistat/Images/Logo_INSAvilletoulouse-RVB.png\" style=\"float:left; max-width: 120px; display: inline\" alt=\"INSA\"/></a> \n",
    "\n",
    "<a href=\"http://wikistat.fr/\" ><img src=\"http://www.math.univ-toulouse.fr/~besse/Wikistat/Images/wikistat.jpg\" style=\"max-width: 250px; display: inline\"  alt=\"Wikistat\"/></a>\n",
    "\n",
    "<a href=\"http://www.math.univ-toulouse.fr/\" ><img src=\"http://www.math.univ-toulouse.fr/~besse/Wikistat/Images/logo_imt.jpg\" style=\"float:right; max-width: 250px; display: inline\" alt=\"IMT\"/> </a>\n",
    "</center>"
   ]
  },
  {
   "cell_type": "markdown",
   "metadata": {},
   "source": [
    "# [Scénarios d'Exploration Statistique](https://github.com/wikistat/Exploration)"
   ]
  },
  {
   "cell_type": "markdown",
   "metadata": {},
   "source": [
    "# Initiation à l'AFC avec <a href=\"https://cran.r-project.org/\"><img src=\"https://cran.r-project.org/Rlogo.svg\" style=\"max-width: 40px; display: inline\" alt=\"R\"/></a>\n",
    "# de la SVD à l'AFC - exemple élémentaire\n",
    "#### Résumé \n",
    "Décomposition en valeurs singulières [SVD](http://wikistat.fr/pdf/st-m-explo-alglin.pdf) d'une matrice rectangulaire comme introduction à l'[Analyse Factorielle des Correspondances](http://wikistat.fr/pdf/st-m-explo-afc.pdf) (AFC); illustration sur des données élémentaires avec R puis avec le package [`FactoMineR`](http://factominer.free.fr/)."
   ]
  },
  {
   "cell_type": "markdown",
   "metadata": {},
   "source": [
    "#### Avertissement\n",
    "Les différents travaux et analyses proposés tout au long de ces documents sont largement explicités. Les commandes en R ou Python toutes fournies. L'important n'est pas de trouver la bonne syntaxe des commandes ni de finir au plus vite mais de réfléchir sur les méthodes, leurs conditions d'applications, les résultats obtenus. L'apprentissage de ces logiciels et de leur programmation est dispensés dans d'autres tutoriels.\n",
    "\n",
    "Répondre aux questions **Q** tout au long de la réalisation."
   ]
  },
  {
   "cell_type": "markdown",
   "metadata": {},
   "source": [
    "## 1 Données\n",
    "Les données sont une table de contingence croisant une variable de catégorie socioprofessionnelle avec un type d'hébergement en vacances mais sous une forme particulière car archivée en trois colonnes. La première contient l'effectif conjoint des modalités contenus dans les colonnes suivantes. La deuxième colonne est le code de catégorie socioprofessionnelle et la 3ème  le code correspondant à un type d'hébergement.\n",
    "\n",
    "### Lecture, description des données\n",
    "Les donnéees sont dans le fichier `vaccsp.dat`. Attention , les données ne sont pas sous une forme adaptée à la fonction `table`; il faut utiliser la fonction `xtab` pour définir la table de contingence associée."
   ]
  },
  {
   "cell_type": "code",
   "execution_count": 1,
   "metadata": {},
   "outputs": [
    {
     "data": {
      "text/plain": [
       "    effectif        CSP     heber  \n",
       " Min.   :  16.0   cadm:7   AUTR:7  \n",
       " 1st Qu.: 269.0   empl:7   CAMP:7  \n",
       " Median : 462.0   esag:7   HOTE:7  \n",
       " Mean   : 622.1   inac:7   IRPP:7  \n",
       " 3rd Qu.: 727.0   libe:7   IRSC:7  \n",
       " Max.   :3647.0   oups:7   LOCA:7  \n",
       "                  paic:7   RESS:7  "
      ]
     },
     "metadata": {},
     "output_type": "display_data"
    }
   ],
   "source": [
    "vaccsp=read.table(\"Data/vaccsp.dat\",col.names=c(\"effectif\",\"CSP\",\"heber\"))\n",
    "summary(vaccsp)"
   ]
  },
  {
   "cell_type": "code",
   "execution_count": 2,
   "metadata": {
    "collapsed": true
   },
   "outputs": [],
   "source": [
    "# construire la table de contingence\n",
    "T=xtabs(effectif~CSP+heber,vaccsp)"
   ]
  },
  {
   "cell_type": "code",
   "execution_count": 3,
   "metadata": {},
   "outputs": [
    {
     "data": {
      "image/png": "[encoded data removed]",
      "text/plain": [
       "Plot with title “T”"
      ]
     },
     "metadata": {},
     "output_type": "display_data"
    }
   ],
   "source": [
    "# graphe associé\n",
    "mosaicplot(T)"
   ]
  },
  {
   "cell_type": "markdown",
   "metadata": {},
   "source": [
    "**Q** Quel est ce graphique? Est-il facile à interpréter?"
   ]
  },
  {
   "cell_type": "code",
   "execution_count": 4,
   "metadata": {},
   "outputs": [
    {
     "data": {
      "text/plain": [
       "\n",
       "\tPearson's Chi-squared test\n",
       "\n",
       "data:  T\n",
       "X-squared = 2628.7, df = 36, p-value < 2.2e-16\n"
      ]
     },
     "metadata": {},
     "output_type": "display_data"
    }
   ],
   "source": [
    "# test du chi2\n",
    "chisq.test(T)"
   ]
  },
  {
   "cell_type": "markdown",
   "metadata": {},
   "source": [
    "**Q** Conclusion sur la description de ces variables, de leur liaison."
   ]
  },
  {
   "cell_type": "markdown",
   "metadata": {},
   "source": [
    "## 2 AFC pas à pas\n",
    "### 2.1 Calcul des marges, métriques et profils."
   ]
  },
  {
   "cell_type": "code",
   "execution_count": 5,
   "metadata": {
    "collapsed": true
   },
   "outputs": [],
   "source": [
    "# Fréquences marginales ou barycentres\n",
    "n=sum(T); gc=apply(T,2,sum)/n; gr=apply(T,1,sum)/n"
   ]
  },
  {
   "cell_type": "code",
   "execution_count": 6,
   "metadata": {
    "collapsed": true
   },
   "outputs": [],
   "source": [
    "# Métriques\n",
    "Dr=diag(gr); Dc=diag(gc)\n",
    "Dr1=diag(1/gr); Dc1=diag(1/gc)"
   ]
  },
  {
   "cell_type": "code",
   "execution_count": 7,
   "metadata": {
    "collapsed": true
   },
   "outputs": [],
   "source": [
    "# Profils lignes et colonnes\n",
    "A=t(T)%*%Dr1/n; B= T%*%Dc1/n"
   ]
  },
  {
   "cell_type": "markdown",
   "metadata": {},
   "source": [
    "**Q** COmmenter les résultats ci-dessous. Quel vecteur propre associé à quelle valeur propre?"
   ]
  },
  {
   "cell_type": "code",
   "execution_count": 8,
   "metadata": {},
   "outputs": [
    {
     "data": {
      "text/html": [
       "<table>\n",
       "<tbody>\n",
       "\t<tr><th scope=row>AUTR</th><td>0.000000e+00</td></tr>\n",
       "\t<tr><th scope=row>CAMP</th><td>0.000000e+00</td></tr>\n",
       "\t<tr><th scope=row>HOTE</th><td>0.000000e+00</td></tr>\n",
       "\t<tr><th scope=row>IRPP</th><td>5.551115e-17</td></tr>\n",
       "\t<tr><th scope=row>IRSC</th><td>1.387779e-17</td></tr>\n",
       "\t<tr><th scope=row>LOCA</th><td>0.000000e+00</td></tr>\n",
       "\t<tr><th scope=row>RESS</th><td>0.000000e+00</td></tr>\n",
       "</tbody>\n",
       "</table>\n"
      ],
      "text/latex": [
       "\\begin{tabular}{r|l}\n",
       "\tAUTR & 0.000000e+00\\\\\n",
       "\tCAMP & 0.000000e+00\\\\\n",
       "\tHOTE & 0.000000e+00\\\\\n",
       "\tIRPP & 5.551115e-17\\\\\n",
       "\tIRSC & 1.387779e-17\\\\\n",
       "\tLOCA & 0.000000e+00\\\\\n",
       "\tRESS & 0.000000e+00\\\\\n",
       "\\end{tabular}\n"
      ],
      "text/markdown": [
       "\n",
       "| AUTR | 0.000000e+00 | \n",
       "| CAMP | 0.000000e+00 | \n",
       "| HOTE | 0.000000e+00 | \n",
       "| IRPP | 5.551115e-17 | \n",
       "| IRSC | 1.387779e-17 | \n",
       "| LOCA | 0.000000e+00 | \n",
       "| RESS | 0.000000e+00 | \n",
       "\n",
       "\n"
      ],
      "text/plain": [
       "      \n",
       "heber  [,1]        \n",
       "  AUTR 0.000000e+00\n",
       "  CAMP 0.000000e+00\n",
       "  HOTE 0.000000e+00\n",
       "  IRPP 5.551115e-17\n",
       "  IRSC 1.387779e-17\n",
       "  LOCA 0.000000e+00\n",
       "  RESS 0.000000e+00"
      ]
     },
     "metadata": {},
     "output_type": "display_data"
    }
   ],
   "source": [
    "A%*%B%*%gc-gc"
   ]
  },
  {
   "cell_type": "code",
   "execution_count": 9,
   "metadata": {},
   "outputs": [
    {
     "data": {
      "text/html": [
       "<table>\n",
       "<tbody>\n",
       "\t<tr><th scope=row>cadm</th><td>-2.775558e-17</td></tr>\n",
       "\t<tr><th scope=row>empl</th><td>-1.387779e-17</td></tr>\n",
       "\t<tr><th scope=row>esag</th><td> 0.000000e+00</td></tr>\n",
       "\t<tr><th scope=row>inac</th><td> 0.000000e+00</td></tr>\n",
       "\t<tr><th scope=row>libe</th><td> 2.775558e-17</td></tr>\n",
       "\t<tr><th scope=row>oups</th><td> 5.551115e-17</td></tr>\n",
       "\t<tr><th scope=row>paic</th><td> 0.000000e+00</td></tr>\n",
       "</tbody>\n",
       "</table>\n"
      ],
      "text/latex": [
       "\\begin{tabular}{r|l}\n",
       "\tcadm & -2.775558e-17\\\\\n",
       "\templ & -1.387779e-17\\\\\n",
       "\tesag &  0.000000e+00\\\\\n",
       "\tinac &  0.000000e+00\\\\\n",
       "\tlibe &  2.775558e-17\\\\\n",
       "\toups &  5.551115e-17\\\\\n",
       "\tpaic &  0.000000e+00\\\\\n",
       "\\end{tabular}\n"
      ],
      "text/markdown": [
       "\n",
       "| cadm | -2.775558e-17 | \n",
       "| empl | -1.387779e-17 | \n",
       "| esag |  0.000000e+00 | \n",
       "| inac |  0.000000e+00 | \n",
       "| libe |  2.775558e-17 | \n",
       "| oups |  5.551115e-17 | \n",
       "| paic |  0.000000e+00 | \n",
       "\n",
       "\n"
      ],
      "text/plain": [
       "      \n",
       "CSP    [,1]         \n",
       "  cadm -2.775558e-17\n",
       "  empl -1.387779e-17\n",
       "  esag  0.000000e+00\n",
       "  inac  0.000000e+00\n",
       "  libe  2.775558e-17\n",
       "  oups  5.551115e-17\n",
       "  paic  0.000000e+00"
      ]
     },
     "metadata": {},
     "output_type": "display_data"
    }
   ],
   "source": [
    "B%*%A%*%gr-gr"
   ]
  },
  {
   "cell_type": "markdown",
   "metadata": {},
   "source": [
    "### 2.2 AFC et double ACP\n",
    "\n",
    "**Q** Quelles sont les ACPs qui définissent l'AFC?\n",
    "\n",
    "**Q** De quelles matrices faut-il alors calculer la SVD et par rapport à quelles métriques? \n",
    "\n",
    "**Attention**, la SVD est dite *généralisée* car calculée par rapport à des métriques spécifiques différentes de celle usuelle (matrice identité). Se reporter au [scénario précédent]() pour plus d'explications. Il n'est pas possible d'utiliser directement une fonction comme par exemple `prcomp` ou `princomp` pour calculer les ACPs conduisnat à l'AFC à cause de ce changement de métrique. Attention dans la construction des matrices, la matrice `T` est dans cet exemple carrée (autant de modalités lignes que colonnes) mais il ne faut pas confondre le rôle des métriques. "
   ]
  },
  {
   "cell_type": "code",
   "execution_count": 10,
   "metadata": {},
   "outputs": [
    {
     "data": {
      "text/html": [
       "<ol class=list-inline>\n",
       "\t<li>1</li>\n",
       "\t<li>0.255722558227069</li>\n",
       "\t<li>0.116005248719334</li>\n",
       "\t<li>0.0621800007307412</li>\n",
       "\t<li>0.0553355739370104</li>\n",
       "\t<li>0.0197079681964263</li>\n",
       "\t<li>0.00772671471668828</li>\n",
       "</ol>\n"
      ],
      "text/latex": [
       "\\begin{enumerate*}\n",
       "\\item 1\n",
       "\\item 0.255722558227069\n",
       "\\item 0.116005248719334\n",
       "\\item 0.0621800007307412\n",
       "\\item 0.0553355739370104\n",
       "\\item 0.0197079681964263\n",
       "\\item 0.00772671471668828\n",
       "\\end{enumerate*}\n"
      ],
      "text/markdown": [
       "1. 1\n",
       "2. 0.255722558227069\n",
       "3. 0.116005248719334\n",
       "4. 0.0621800007307412\n",
       "5. 0.0553355739370104\n",
       "6. 0.0197079681964263\n",
       "7. 0.00772671471668828\n",
       "\n",
       "\n"
      ],
      "text/plain": [
       "[1] 1.000000000 0.255722558 0.116005249 0.062180001 0.055335574 0.019707968\n",
       "[7] 0.007726715"
      ]
     },
     "metadata": {},
     "output_type": "display_data"
    }
   ],
   "source": [
    "# SVD de 1/nT relative à Dr-1 et Dc-1\n",
    "Drm12=diag(1/sqrt(gr));Dcm12=diag(1/sqrt(gc))\n",
    "res=svd(Drm12%*%T%*%Dcm12/n)\n",
    "res$d  "
   ]
  },
  {
   "cell_type": "markdown",
   "metadata": {},
   "source": [
    "**Q** Pourquoi en AFC, centrer les matrices revient à éliminer la valeur propre 1 et le vecteur propre associé?"
   ]
  },
  {
   "cell_type": "code",
   "execution_count": 11,
   "metadata": {
    "collapsed": true
   },
   "outputs": [],
   "source": [
    "L=res$d[-1]"
   ]
  },
  {
   "cell_type": "code",
   "execution_count": 12,
   "metadata": {
    "collapsed": true
   },
   "outputs": [],
   "source": [
    "# Rechangement de métrique\n",
    "U=diag(sqrt(gr))%*%res$u[,-1]\n",
    "V=diag(sqrt(gc))%*%res$v[,-1]"
   ]
  },
  {
   "cell_type": "code",
   "execution_count": 13,
   "metadata": {},
   "outputs": [
    {
     "data": {
      "text/html": [
       "<table>\n",
       "<tbody>\n",
       "\t<tr><td> 1.000000e+00</td><td> 4.857226e-17</td><td>-2.498002e-16</td><td> 3.122502e-17</td><td> 4.996004e-16</td><td>-2.775558e-17</td></tr>\n",
       "\t<tr><td> 6.245005e-17</td><td> 1.000000e+00</td><td> 0.000000e+00</td><td>-1.873501e-16</td><td>-1.249001e-16</td><td>-1.387779e-16</td></tr>\n",
       "\t<tr><td>-1.665335e-16</td><td> 0.000000e+00</td><td> 1.000000e+00</td><td> 4.024558e-16</td><td>-1.387779e-16</td><td> 0.000000e+00</td></tr>\n",
       "\t<tr><td> 3.122502e-17</td><td>-1.873501e-16</td><td> 3.885781e-16</td><td> 1.000000e+00</td><td>-2.220446e-16</td><td>-5.551115e-17</td></tr>\n",
       "\t<tr><td> 5.065393e-16</td><td>-7.632783e-17</td><td>-1.665335e-16</td><td>-2.220446e-16</td><td> 1.000000e+00</td><td> 8.326673e-17</td></tr>\n",
       "\t<tr><td> 6.938894e-18</td><td>-1.249001e-16</td><td> 5.551115e-17</td><td>-4.163336e-17</td><td> 4.163336e-17</td><td> 1.000000e+00</td></tr>\n",
       "</tbody>\n",
       "</table>\n"
      ],
      "text/latex": [
       "\\begin{tabular}{llllll}\n",
       "\t  1.000000e+00 &  4.857226e-17 & -2.498002e-16 &  3.122502e-17 &  4.996004e-16 & -2.775558e-17\\\\\n",
       "\t  6.245005e-17 &  1.000000e+00 &  0.000000e+00 & -1.873501e-16 & -1.249001e-16 & -1.387779e-16\\\\\n",
       "\t -1.665335e-16 &  0.000000e+00 &  1.000000e+00 &  4.024558e-16 & -1.387779e-16 &  0.000000e+00\\\\\n",
       "\t  3.122502e-17 & -1.873501e-16 &  3.885781e-16 &  1.000000e+00 & -2.220446e-16 & -5.551115e-17\\\\\n",
       "\t  5.065393e-16 & -7.632783e-17 & -1.665335e-16 & -2.220446e-16 &  1.000000e+00 &  8.326673e-17\\\\\n",
       "\t  6.938894e-18 & -1.249001e-16 &  5.551115e-17 & -4.163336e-17 &  4.163336e-17 &  1.000000e+00\\\\\n",
       "\\end{tabular}\n"
      ],
      "text/markdown": [
       "\n",
       "|  1.000000e+00 |  4.857226e-17 | -2.498002e-16 |  3.122502e-17 |  4.996004e-16 | -2.775558e-17 | \n",
       "|  6.245005e-17 |  1.000000e+00 |  0.000000e+00 | -1.873501e-16 | -1.249001e-16 | -1.387779e-16 | \n",
       "| -1.665335e-16 |  0.000000e+00 |  1.000000e+00 |  4.024558e-16 | -1.387779e-16 |  0.000000e+00 | \n",
       "|  3.122502e-17 | -1.873501e-16 |  3.885781e-16 |  1.000000e+00 | -2.220446e-16 | -5.551115e-17 | \n",
       "|  5.065393e-16 | -7.632783e-17 | -1.665335e-16 | -2.220446e-16 |  1.000000e+00 |  8.326673e-17 | \n",
       "|  6.938894e-18 | -1.249001e-16 |  5.551115e-17 | -4.163336e-17 |  4.163336e-17 |  1.000000e+00 | \n",
       "\n",
       "\n"
      ],
      "text/plain": [
       "     [,1]          [,2]          [,3]          [,4]          [,5]         \n",
       "[1,]  1.000000e+00  4.857226e-17 -2.498002e-16  3.122502e-17  4.996004e-16\n",
       "[2,]  6.245005e-17  1.000000e+00  0.000000e+00 -1.873501e-16 -1.249001e-16\n",
       "[3,] -1.665335e-16  0.000000e+00  1.000000e+00  4.024558e-16 -1.387779e-16\n",
       "[4,]  3.122502e-17 -1.873501e-16  3.885781e-16  1.000000e+00 -2.220446e-16\n",
       "[5,]  5.065393e-16 -7.632783e-17 -1.665335e-16 -2.220446e-16  1.000000e+00\n",
       "[6,]  6.938894e-18 -1.249001e-16  5.551115e-17 -4.163336e-17  4.163336e-17\n",
       "     [,6]         \n",
       "[1,] -2.775558e-17\n",
       "[2,] -1.387779e-16\n",
       "[3,]  0.000000e+00\n",
       "[4,] -5.551115e-17\n",
       "[5,]  8.326673e-17\n",
       "[6,]  1.000000e+00"
      ]
     },
     "metadata": {},
     "output_type": "display_data"
    }
   ],
   "source": [
    "# Vérifications de la chi2-orthonormalité\n",
    "t(U)%*%Dr1%*%U"
   ]
  },
  {
   "cell_type": "code",
   "execution_count": 14,
   "metadata": {},
   "outputs": [
    {
     "data": {
      "text/html": [
       "<table>\n",
       "<tbody>\n",
       "\t<tr><td> 1.000000e+00</td><td>-1.179612e-16</td><td> 4.163336e-17</td><td> 8.326673e-17</td><td> 2.671474e-16</td><td> 1.387779e-16</td></tr>\n",
       "\t<tr><td>-2.255141e-16</td><td> 1.000000e+00</td><td>-4.284767e-16</td><td> 1.249001e-16</td><td>-1.604619e-16</td><td>-5.551115e-17</td></tr>\n",
       "\t<tr><td>-6.938894e-18</td><td>-4.284767e-16</td><td> 1.000000e+00</td><td> 0.000000e+00</td><td> 5.724587e-17</td><td>-8.326673e-17</td></tr>\n",
       "\t<tr><td> 1.110223e-16</td><td> 1.595946e-16</td><td>-1.387779e-17</td><td> 1.000000e+00</td><td> 5.551115e-17</td><td>-2.220446e-16</td></tr>\n",
       "\t<tr><td> 2.046974e-16</td><td>-1.604619e-16</td><td> 1.110223e-16</td><td> 6.938894e-18</td><td> 1.000000e+00</td><td> 9.020562e-17</td></tr>\n",
       "\t<tr><td> 1.387779e-16</td><td> 1.387779e-17</td><td>-5.551115e-17</td><td>-2.775558e-16</td><td> 6.245005e-17</td><td> 1.000000e+00</td></tr>\n",
       "</tbody>\n",
       "</table>\n"
      ],
      "text/latex": [
       "\\begin{tabular}{llllll}\n",
       "\t  1.000000e+00 & -1.179612e-16 &  4.163336e-17 &  8.326673e-17 &  2.671474e-16 &  1.387779e-16\\\\\n",
       "\t -2.255141e-16 &  1.000000e+00 & -4.284767e-16 &  1.249001e-16 & -1.604619e-16 & -5.551115e-17\\\\\n",
       "\t -6.938894e-18 & -4.284767e-16 &  1.000000e+00 &  0.000000e+00 &  5.724587e-17 & -8.326673e-17\\\\\n",
       "\t  1.110223e-16 &  1.595946e-16 & -1.387779e-17 &  1.000000e+00 &  5.551115e-17 & -2.220446e-16\\\\\n",
       "\t  2.046974e-16 & -1.604619e-16 &  1.110223e-16 &  6.938894e-18 &  1.000000e+00 &  9.020562e-17\\\\\n",
       "\t  1.387779e-16 &  1.387779e-17 & -5.551115e-17 & -2.775558e-16 &  6.245005e-17 &  1.000000e+00\\\\\n",
       "\\end{tabular}\n"
      ],
      "text/markdown": [
       "\n",
       "|  1.000000e+00 | -1.179612e-16 |  4.163336e-17 |  8.326673e-17 |  2.671474e-16 |  1.387779e-16 | \n",
       "| -2.255141e-16 |  1.000000e+00 | -4.284767e-16 |  1.249001e-16 | -1.604619e-16 | -5.551115e-17 | \n",
       "| -6.938894e-18 | -4.284767e-16 |  1.000000e+00 |  0.000000e+00 |  5.724587e-17 | -8.326673e-17 | \n",
       "|  1.110223e-16 |  1.595946e-16 | -1.387779e-17 |  1.000000e+00 |  5.551115e-17 | -2.220446e-16 | \n",
       "|  2.046974e-16 | -1.604619e-16 |  1.110223e-16 |  6.938894e-18 |  1.000000e+00 |  9.020562e-17 | \n",
       "|  1.387779e-16 |  1.387779e-17 | -5.551115e-17 | -2.775558e-16 |  6.245005e-17 |  1.000000e+00 | \n",
       "\n",
       "\n"
      ],
      "text/plain": [
       "     [,1]          [,2]          [,3]          [,4]          [,5]         \n",
       "[1,]  1.000000e+00 -1.179612e-16  4.163336e-17  8.326673e-17  2.671474e-16\n",
       "[2,] -2.255141e-16  1.000000e+00 -4.284767e-16  1.249001e-16 -1.604619e-16\n",
       "[3,] -6.938894e-18 -4.284767e-16  1.000000e+00  0.000000e+00  5.724587e-17\n",
       "[4,]  1.110223e-16  1.595946e-16 -1.387779e-17  1.000000e+00  5.551115e-17\n",
       "[5,]  2.046974e-16 -1.604619e-16  1.110223e-16  6.938894e-18  1.000000e+00\n",
       "[6,]  1.387779e-16  1.387779e-17 -5.551115e-17 -2.775558e-16  6.245005e-17\n",
       "     [,6]         \n",
       "[1,]  1.387779e-16\n",
       "[2,] -5.551115e-17\n",
       "[3,] -8.326673e-17\n",
       "[4,] -2.220446e-16\n",
       "[5,]  9.020562e-17\n",
       "[6,]  1.000000e+00"
      ]
     },
     "metadata": {},
     "output_type": "display_data"
    }
   ],
   "source": [
    "t(V)%*%Dc1%*%V"
   ]
  },
  {
   "cell_type": "markdown",
   "metadata": {},
   "source": [
    "### 2.3 Calcul des composantes et graphiques\n",
    "\n",
    "**Q** Quelles sont les composantes calculées ci-dessous?"
   ]
  },
  {
   "cell_type": "code",
   "execution_count": 15,
   "metadata": {
    "collapsed": true
   },
   "outputs": [],
   "source": [
    "Cr=Dr1%*%U%*%diag(L)\n",
    "Cc=Dc1%*%V%*%diag(L)"
   ]
  },
  {
   "cell_type": "code",
   "execution_count": 16,
   "metadata": {},
   "outputs": [
    {
     "data": {
      "image/png": "[encoded data removed]",
      "text/plain": [
       "plot without title"
      ]
     },
     "metadata": {},
     "output_type": "display_data"
    }
   ],
   "source": [
    "# représentations graphiques\n",
    "plot(Cc, type=\"n\")\n",
    "text(Cc, colnames(T))\n",
    "abline(h=0,v=0)"
   ]
  },
  {
   "cell_type": "markdown",
   "metadata": {},
   "source": [
    "**Q** Comment interpréter le graphique ci-dessus?"
   ]
  },
  {
   "cell_type": "code",
   "execution_count": 17,
   "metadata": {},
   "outputs": [
    {
     "data": {
      "image/png": "[encoded data removed]",
      "text/plain": [
       "plot without title"
      ]
     },
     "metadata": {},
     "output_type": "display_data"
    }
   ],
   "source": [
    "plot(Cr, type=\"n\")\n",
    "text(Cr, rownames(T))\n",
    "abline(h=0,v=0)"
   ]
  },
  {
   "cell_type": "markdown",
   "metadata": {},
   "source": [
    "**Q** Comment interpréter le graphique ci-dessus?\n",
    "\n",
    "## 3 Avec `FactoMineR`\n",
    "Rien de bien compliqué dans ces instructions mais autant utiliser une librairie qui propose directement des graphiques de meilleure qualité avec une offre détaillée d'options."
   ]
  },
  {
   "cell_type": "code",
   "execution_count": 18,
   "metadata": {},
   "outputs": [
    {
     "name": "stdout",
     "output_type": "stream",
     "text": [
      "\n",
      "Call:\n",
      "CA(X = T, graph = F) \n",
      "\n",
      "The chi square of independence between the two variables is equal to 2628.652 (p-value =  0 ).\n",
      "\n",
      "Eigenvalues\n",
      "                       Dim.1   Dim.2   Dim.3   Dim.4   Dim.5   Dim.6\n",
      "Variance               0.065   0.013   0.004   0.003   0.000   0.000\n",
      "% of var.             75.839  15.607   4.484   3.551   0.450   0.069\n",
      "Cumulative % of var.  75.839  91.445  95.929  99.480  99.931 100.000\n",
      "\n",
      "Rows\n",
      "       Iner*1000    Dim.1    ctr   cos2    Dim.2    ctr   cos2    Dim.3    ctr\n",
      "cadm |     1.932 |  0.032  0.316  0.107 |  0.087 11.409  0.795 | -0.021  2.385\n",
      "empl |     3.504 |  0.023  0.074  0.014 |  0.098  6.505  0.250 |  0.045  4.808\n",
      "esag |     1.755 | -0.199  1.136  0.423 | -0.132  2.436  0.187 | -0.139  9.440\n",
      "inac |    22.030 |  0.335 22.568  0.670 | -0.227 50.561  0.309 |  0.060 12.065\n",
      "libe |    18.086 |  0.312 22.130  0.800 |  0.144 22.990  0.171 |  0.018  1.191\n",
      "oups |    33.583 | -0.310 50.599  0.985 | -0.029  2.177  0.009 |  0.015  1.948\n",
      "paic |     5.339 |  0.185  3.176  0.389 | -0.093  3.923  0.099 | -0.208 68.163\n",
      "       cos2  \n",
      "cadm  0.048 |\n",
      "empl  0.053 |\n",
      "esag  0.208 |\n",
      "inac  0.021 |\n",
      "libe  0.003 |\n",
      "oups  0.002 |\n",
      "paic  0.494 |\n",
      "\n",
      "Columns\n",
      "       Iner*1000    Dim.1    ctr   cos2    Dim.2    ctr   cos2    Dim.3    ctr\n",
      "AUTR |     3.352 |  0.072  0.582  0.114 |  0.140 10.701  0.430 |  0.102 19.810\n",
      "CAMP |    29.215 | -0.364 43.189  0.967 |  0.027  1.154  0.005 | -0.048 12.666\n",
      "HOTE |    20.489 |  0.339 22.835  0.729 | -0.195 36.842  0.242 | -0.062 12.932\n",
      "IRPP |     6.205 | -0.104  4.944  0.521 | -0.076 12.849  0.279 |  0.062 29.644\n",
      "IRSC |    13.943 |  0.395 15.655  0.734 |  0.232 26.227  0.253 |  0.011  0.219\n",
      "LOCA |     3.719 |  0.066  0.946  0.166 |  0.106 11.896  0.430 | -0.078 22.395\n",
      "RESS |     9.303 |  0.324 11.849  0.833 |  0.025  0.331  0.005 |  0.035  2.334\n",
      "       cos2  \n",
      "AUTR  0.228 |\n",
      "CAMP  0.017 |\n",
      "HOTE  0.024 |\n",
      "IRPP  0.185 |\n",
      "IRSC  0.001 |\n",
      "LOCA  0.233 |\n",
      "RESS  0.010 |\n"
     ]
    }
   ],
   "source": [
    "# Charger la librairie\n",
    "library(FactoMineR)\n",
    "# Analyse des correspondances\n",
    "afc=CA(T, graph=F)\n",
    "summary(afc)"
   ]
  },
  {
   "cell_type": "markdown",
   "metadata": {},
   "source": [
    "Comparer les résultats avec ceux précédemment obtenus."
   ]
  },
  {
   "cell_type": "code",
   "execution_count": 19,
   "metadata": {},
   "outputs": [
    {
     "data": {
      "image/png": "[encoded data removed]",
      "text/plain": [
       "Plot with title “CA factor map”"
      ]
     },
     "metadata": {},
     "output_type": "display_data"
    }
   ],
   "source": [
    "plot(afc)"
   ]
  },
  {
   "cell_type": "markdown",
   "metadata": {},
   "source": [
    "**Q** Comment se justifie la double représentation des modalités lignes et colonnes sur le même graphique?\n",
    "\n",
    "**Q** Quelle interprétation en faire?"
   ]
  }
 ],
 "metadata": {
  "kernelspec": {
   "display_name": "R",
   "language": "R",
   "name": "ir"
  },
  "language_info": {
   "codemirror_mode": "r",
   "file_extension": ".r",
   "mimetype": "text/x-r-source",
   "name": "R",
   "pygments_lexer": "r",
   "version": "3.4.1"
  }
 },
 "nbformat": 4,
 "nbformat_minor": 1
}
