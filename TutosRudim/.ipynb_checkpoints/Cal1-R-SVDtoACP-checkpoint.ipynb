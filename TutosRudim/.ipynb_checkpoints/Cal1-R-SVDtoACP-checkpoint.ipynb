{
 "cells": [
  {
   "cell_type": "markdown",
   "metadata": {},
   "source": [
    "<center>\n",
    "<a href=\"http://www.insa-toulouse.fr/\" ><img src=\"http://www.math.univ-toulouse.fr/~besse/Wikistat/Images/Logo_INSAvilletoulouse-RVB.png\" style=\"float:left; max-width: 120px; display: inline\" alt=\"INSA\"/></a> \n",
    "\n",
    "<a href=\"http://wikistat.fr/\" ><img src=\"http://www.math.univ-toulouse.fr/~besse/Wikistat/Images/wikistat.jpg\" style=\"max-width: 250px; display: inline\"  alt=\"Wikistat\"/></a>\n",
    "\n",
    "<a href=\"http://www.math.univ-toulouse.fr/\" ><img src=\"http://www.math.univ-toulouse.fr/~besse/Wikistat/Images/logo_imt.jpg\" style=\"float:right; max-width: 250px; display: inline\" alt=\"IMT\"/> </a>\n",
    "</center>"
   ]
  },
  {
   "cell_type": "markdown",
   "metadata": {},
   "source": [
    "# [Scénarios d'Exploration Statistique](https://github.com/wikistat/Exploration)"
   ]
  },
  {
   "cell_type": "markdown",
   "metadata": {},
   "source": [
    "# Initiation à l'ACP avec <a href=\"https://cran.r-project.org/\"><img src=\"https://cran.r-project.org/Rlogo.svg\" style=\"max-width: 40px; display: inline\" alt=\"R\"/></a>\n",
    "# de la SVD à l'ACP - exemples élémentaires\n",
    "#### Résumé \n",
    "Décomposition en valeurs singulières [SVD](http://wikistat.fr/pdf/st-m-explo-alglin.pdf) d'une matrice rectangulaire comme introduction à l'[Analyse en Composantes Principales](http://wikistat.fr/pdf/st-m-explo-acp.pdf) (ACP); illustration sur des données fictives avec R puis avec le package [`FactoMineR`](http://factominer.free.fr/); application à des données élémentaires: courbes annuelles de températures moyennes mensuelles de 36 villes françaises."
   ]
  },
  {
   "cell_type": "markdown",
   "metadata": {},
   "source": [
    "#### Avertissement\n",
    "Les différents travaux et analyses proposés tout au long de ces documents sont largement explicités. Les commandes en R ou Python toutes fournies. L'important n'est pas de trouver la bonne syntaxe des commandes ni de finir au plus vite mais de réfléchir sur les méthodes, leurs conditions d'applications, les résultats obtenus. L'apprentissage de ces logiciels et de leur programmation est dispensés dans d'autres tutoriels.\n",
    "\n",
    "Répondre aux questions **Q** tout au long de la réalisation."
   ]
  },
  {
   "cell_type": "markdown",
   "metadata": {},
   "source": [
    "## 1 SVD et recherche d'éléments propres\n",
    "Cette section se propose d'illustrer les principaux résultats d'[algèbre linéaire](http://wikistat.fr/pdf/st-m-explo-alglin.pdf) utiles en exploration statistique multidimensionnelle. Ceci concerne les valeurs et vecteurs propres de matrices symétriques en lien avec la décomposition en valeur singulière ou SVD d'une matrice rectangulaire $n\\times p$ pour en faire une approximation par une matrice de mêmes dimensions mais de rang inférieur.\n",
    "### 1.1 SVD avec métrique usuelle\n",
    "Décomposition en valeurs singulières d'une matrice rectangulaire relativement à des métriques classiques définies par la matrice identité.\n",
    "\n",
    "**Q** Ecrire la formule de la décomposition en valeurs singulières d'une matrice rectangulaire. \n",
    "\n",
    "**Q** De quelles matrice les vecteurs singuliers sont vecteurs propres?"
   ]
  },
  {
   "cell_type": "code",
   "execution_count": 2,
   "metadata": {},
   "outputs": [
    {
     "data": {
      "text/html": [
       "<ol class=list-inline>\n",
       "\t<li>5.33810966422603</li>\n",
       "\t<li>1.69151030725439</li>\n",
       "\t<li>1.34607806052976</li>\n",
       "\t<li>1.20256993274676</li>\n",
       "\t<li>1.00356266336749</li>\n",
       "</ol>\n"
      ],
      "text/latex": [
       "\\begin{enumerate*}\n",
       "\\item 5.33810966422603\n",
       "\\item 1.69151030725439\n",
       "\\item 1.34607806052976\n",
       "\\item 1.20256993274676\n",
       "\\item 1.00356266336749\n",
       "\\end{enumerate*}\n"
      ],
      "text/markdown": [
       "1. 5.33810966422603\n",
       "2. 1.69151030725439\n",
       "3. 1.34607806052976\n",
       "4. 1.20256993274676\n",
       "5. 1.00356266336749\n",
       "\n",
       "\n"
      ],
      "text/plain": [
       "[1] 5.338110 1.691510 1.346078 1.202570 1.003563"
      ]
     },
     "metadata": {},
     "output_type": "display_data"
    },
    {
     "data": {
      "text/html": [
       "<dl>\n",
       "\t<dt>$d</dt>\n",
       "\t\t<dd><ol class=list-inline>\n",
       "\t<li>5.33810966422603</li>\n",
       "\t<li>1.69151030725439</li>\n",
       "\t<li>1.34607806052976</li>\n",
       "\t<li>1.20256993274676</li>\n",
       "\t<li>1.00356266336749</li>\n",
       "</ol>\n",
       "</dd>\n",
       "\t<dt>$u</dt>\n",
       "\t\t<dd><table>\n",
       "<tbody>\n",
       "\t<tr><td>-0.23551760 </td><td> 0.221035700</td><td> 0.23558692 </td><td>-0.060487604</td><td> 0.347131211</td></tr>\n",
       "\t<tr><td>-0.16883963 </td><td> 0.196937443</td><td> 0.07776271 </td><td> 0.006299908</td><td> 0.500122083</td></tr>\n",
       "\t<tr><td>-0.18812435 </td><td> 0.107204111</td><td>-0.26496824 </td><td>-0.384112115</td><td>-0.103191783</td></tr>\n",
       "\t<tr><td>-0.21538984 </td><td> 0.295014795</td><td> 0.23391224 </td><td> 0.336942601</td><td>-0.101680131</td></tr>\n",
       "\t<tr><td>-0.25843592 </td><td>-0.153712415</td><td>-0.05652094 </td><td>-0.149801638</td><td>-0.068649796</td></tr>\n",
       "\t<tr><td>-0.25541827 </td><td>-0.299696078</td><td>-0.19427188 </td><td> 0.266090739</td><td> 0.230155134</td></tr>\n",
       "\t<tr><td>-0.17240900 </td><td> 0.004374677</td><td> 0.26887785 </td><td>-0.137413892</td><td> 0.277300384</td></tr>\n",
       "\t<tr><td>-0.23654789 </td><td> 0.010320207</td><td>-0.24276535 </td><td> 0.477897397</td><td>-0.163412984</td></tr>\n",
       "\t<tr><td>-0.18425065 </td><td>-0.082048351</td><td> 0.50838257 </td><td>-0.086504576</td><td>-0.307591147</td></tr>\n",
       "\t<tr><td>-0.24076365 </td><td> 0.286440117</td><td>-0.24937475 </td><td>-0.069233608</td><td>-0.103977944</td></tr>\n",
       "\t<tr><td>-0.17670707 </td><td>-0.347056139</td><td>-0.06788213 </td><td> 0.029242501</td><td> 0.127654257</td></tr>\n",
       "\t<tr><td>-0.26512446 </td><td>-0.228774202</td><td> 0.23328325 </td><td> 0.107505568</td><td>-0.400017145</td></tr>\n",
       "\t<tr><td>-0.08983476 </td><td> 0.089999856</td><td>-0.22522432 </td><td> 0.250083069</td><td>-0.059828944</td></tr>\n",
       "\t<tr><td>-0.12326137 </td><td> 0.167924513</td><td>-0.12169956 </td><td>-0.155059213</td><td> 0.139170100</td></tr>\n",
       "\t<tr><td>-0.20901704 </td><td>-0.253952636</td><td> 0.13383719 </td><td>-0.173851833</td><td>-0.052040669</td></tr>\n",
       "\t<tr><td>-0.34167713 </td><td>-0.023859463</td><td>-0.01775816 </td><td> 0.161768802</td><td> 0.005253553</td></tr>\n",
       "\t<tr><td>-0.20088675 </td><td> 0.212765545</td><td>-0.10641305 </td><td>-0.419192772</td><td>-0.300108817</td></tr>\n",
       "\t<tr><td>-0.22702883 </td><td>-0.455033814</td><td>-0.21305763 </td><td>-0.225703933</td><td> 0.170229404</td></tr>\n",
       "\t<tr><td>-0.29434299 </td><td> 0.145757363</td><td> 0.23489253 </td><td> 0.019404285</td><td> 0.109144855</td></tr>\n",
       "\t<tr><td>-0.24672147 </td><td> 0.252519427</td><td>-0.25697506 </td><td> 0.002651839</td><td>-0.093457430</td></tr>\n",
       "</tbody>\n",
       "</table>\n",
       "</dd>\n",
       "\t<dt>$v</dt>\n",
       "\t\t<dd><table>\n",
       "<tbody>\n",
       "\t<tr><td>-0.4097325 </td><td> 0.4109737 </td><td>-0.12792546</td><td> 0.7865584 </td><td> 0.1678716 </td></tr>\n",
       "\t<tr><td>-0.4851133 </td><td>-0.6803737 </td><td> 0.45793596</td><td> 0.1175733 </td><td> 0.2796925 </td></tr>\n",
       "\t<tr><td>-0.4840136 </td><td> 0.4169160 </td><td>-0.04776868</td><td>-0.5841164 </td><td> 0.4984357 </td></tr>\n",
       "\t<tr><td>-0.4096763 </td><td> 0.2740287 </td><td> 0.45281933</td><td>-0.1266905 </td><td>-0.7321050 </td></tr>\n",
       "\t<tr><td>-0.4412262 </td><td>-0.3453716 </td><td>-0.75273006</td><td>-0.1012917 </td><td>-0.3304169 </td></tr>\n",
       "</tbody>\n",
       "</table>\n",
       "</dd>\n",
       "</dl>\n"
      ],
      "text/latex": [
       "\\begin{description}\n",
       "\\item[\\$d] \\begin{enumerate*}\n",
       "\\item 5.33810966422603\n",
       "\\item 1.69151030725439\n",
       "\\item 1.34607806052976\n",
       "\\item 1.20256993274676\n",
       "\\item 1.00356266336749\n",
       "\\end{enumerate*}\n",
       "\n",
       "\\item[\\$u] \\begin{tabular}{lllll}\n",
       "\t -0.23551760  &  0.221035700 &  0.23558692  & -0.060487604 &  0.347131211\\\\\n",
       "\t -0.16883963  &  0.196937443 &  0.07776271  &  0.006299908 &  0.500122083\\\\\n",
       "\t -0.18812435  &  0.107204111 & -0.26496824  & -0.384112115 & -0.103191783\\\\\n",
       "\t -0.21538984  &  0.295014795 &  0.23391224  &  0.336942601 & -0.101680131\\\\\n",
       "\t -0.25843592  & -0.153712415 & -0.05652094  & -0.149801638 & -0.068649796\\\\\n",
       "\t -0.25541827  & -0.299696078 & -0.19427188  &  0.266090739 &  0.230155134\\\\\n",
       "\t -0.17240900  &  0.004374677 &  0.26887785  & -0.137413892 &  0.277300384\\\\\n",
       "\t -0.23654789  &  0.010320207 & -0.24276535  &  0.477897397 & -0.163412984\\\\\n",
       "\t -0.18425065  & -0.082048351 &  0.50838257  & -0.086504576 & -0.307591147\\\\\n",
       "\t -0.24076365  &  0.286440117 & -0.24937475  & -0.069233608 & -0.103977944\\\\\n",
       "\t -0.17670707  & -0.347056139 & -0.06788213  &  0.029242501 &  0.127654257\\\\\n",
       "\t -0.26512446  & -0.228774202 &  0.23328325  &  0.107505568 & -0.400017145\\\\\n",
       "\t -0.08983476  &  0.089999856 & -0.22522432  &  0.250083069 & -0.059828944\\\\\n",
       "\t -0.12326137  &  0.167924513 & -0.12169956  & -0.155059213 &  0.139170100\\\\\n",
       "\t -0.20901704  & -0.253952636 &  0.13383719  & -0.173851833 & -0.052040669\\\\\n",
       "\t -0.34167713  & -0.023859463 & -0.01775816  &  0.161768802 &  0.005253553\\\\\n",
       "\t -0.20088675  &  0.212765545 & -0.10641305  & -0.419192772 & -0.300108817\\\\\n",
       "\t -0.22702883  & -0.455033814 & -0.21305763  & -0.225703933 &  0.170229404\\\\\n",
       "\t -0.29434299  &  0.145757363 &  0.23489253  &  0.019404285 &  0.109144855\\\\\n",
       "\t -0.24672147  &  0.252519427 & -0.25697506  &  0.002651839 & -0.093457430\\\\\n",
       "\\end{tabular}\n",
       "\n",
       "\\item[\\$v] \\begin{tabular}{lllll}\n",
       "\t -0.4097325  &  0.4109737  & -0.12792546 &  0.7865584  &  0.1678716 \\\\\n",
       "\t -0.4851133  & -0.6803737  &  0.45793596 &  0.1175733  &  0.2796925 \\\\\n",
       "\t -0.4840136  &  0.4169160  & -0.04776868 & -0.5841164  &  0.4984357 \\\\\n",
       "\t -0.4096763  &  0.2740287  &  0.45281933 & -0.1266905  & -0.7321050 \\\\\n",
       "\t -0.4412262  & -0.3453716  & -0.75273006 & -0.1012917  & -0.3304169 \\\\\n",
       "\\end{tabular}\n",
       "\n",
       "\\end{description}\n"
      ],
      "text/markdown": [
       "$d\n",
       ":   1. 5.33810966422603\n",
       "2. 1.69151030725439\n",
       "3. 1.34607806052976\n",
       "4. 1.20256993274676\n",
       "5. 1.00356266336749\n",
       "\n",
       "\n",
       "\n",
       "$u\n",
       ":   \n",
       "| -0.23551760  |  0.221035700 |  0.23558692  | -0.060487604 |  0.347131211 | \n",
       "| -0.16883963  |  0.196937443 |  0.07776271  |  0.006299908 |  0.500122083 | \n",
       "| -0.18812435  |  0.107204111 | -0.26496824  | -0.384112115 | -0.103191783 | \n",
       "| -0.21538984  |  0.295014795 |  0.23391224  |  0.336942601 | -0.101680131 | \n",
       "| -0.25843592  | -0.153712415 | -0.05652094  | -0.149801638 | -0.068649796 | \n",
       "| -0.25541827  | -0.299696078 | -0.19427188  |  0.266090739 |  0.230155134 | \n",
       "| -0.17240900  |  0.004374677 |  0.26887785  | -0.137413892 |  0.277300384 | \n",
       "| -0.23654789  |  0.010320207 | -0.24276535  |  0.477897397 | -0.163412984 | \n",
       "| -0.18425065  | -0.082048351 |  0.50838257  | -0.086504576 | -0.307591147 | \n",
       "| -0.24076365  |  0.286440117 | -0.24937475  | -0.069233608 | -0.103977944 | \n",
       "| -0.17670707  | -0.347056139 | -0.06788213  |  0.029242501 |  0.127654257 | \n",
       "| -0.26512446  | -0.228774202 |  0.23328325  |  0.107505568 | -0.400017145 | \n",
       "| -0.08983476  |  0.089999856 | -0.22522432  |  0.250083069 | -0.059828944 | \n",
       "| -0.12326137  |  0.167924513 | -0.12169956  | -0.155059213 |  0.139170100 | \n",
       "| -0.20901704  | -0.253952636 |  0.13383719  | -0.173851833 | -0.052040669 | \n",
       "| -0.34167713  | -0.023859463 | -0.01775816  |  0.161768802 |  0.005253553 | \n",
       "| -0.20088675  |  0.212765545 | -0.10641305  | -0.419192772 | -0.300108817 | \n",
       "| -0.22702883  | -0.455033814 | -0.21305763  | -0.225703933 |  0.170229404 | \n",
       "| -0.29434299  |  0.145757363 |  0.23489253  |  0.019404285 |  0.109144855 | \n",
       "| -0.24672147  |  0.252519427 | -0.25697506  |  0.002651839 | -0.093457430 | \n",
       "\n",
       "\n",
       "\n",
       "$v\n",
       ":   \n",
       "| -0.4097325  |  0.4109737  | -0.12792546 |  0.7865584  |  0.1678716  | \n",
       "| -0.4851133  | -0.6803737  |  0.45793596 |  0.1175733  |  0.2796925  | \n",
       "| -0.4840136  |  0.4169160  | -0.04776868 | -0.5841164  |  0.4984357  | \n",
       "| -0.4096763  |  0.2740287  |  0.45281933 | -0.1266905  | -0.7321050  | \n",
       "| -0.4412262  | -0.3453716  | -0.75273006 | -0.1012917  | -0.3304169  | \n",
       "\n",
       "\n",
       "\n",
       "\n",
       "\n"
      ],
      "text/plain": [
       "$d\n",
       "[1] 5.338110 1.691510 1.346078 1.202570 1.003563\n",
       "\n",
       "$u\n",
       "             [,1]         [,2]        [,3]         [,4]         [,5]\n",
       " [1,] -0.23551760  0.221035700  0.23558692 -0.060487604  0.347131211\n",
       " [2,] -0.16883963  0.196937443  0.07776271  0.006299908  0.500122083\n",
       " [3,] -0.18812435  0.107204111 -0.26496824 -0.384112115 -0.103191783\n",
       " [4,] -0.21538984  0.295014795  0.23391224  0.336942601 -0.101680131\n",
       " [5,] -0.25843592 -0.153712415 -0.05652094 -0.149801638 -0.068649796\n",
       " [6,] -0.25541827 -0.299696078 -0.19427188  0.266090739  0.230155134\n",
       " [7,] -0.17240900  0.004374677  0.26887785 -0.137413892  0.277300384\n",
       " [8,] -0.23654789  0.010320207 -0.24276535  0.477897397 -0.163412984\n",
       " [9,] -0.18425065 -0.082048351  0.50838257 -0.086504576 -0.307591147\n",
       "[10,] -0.24076365  0.286440117 -0.24937475 -0.069233608 -0.103977944\n",
       "[11,] -0.17670707 -0.347056139 -0.06788213  0.029242501  0.127654257\n",
       "[12,] -0.26512446 -0.228774202  0.23328325  0.107505568 -0.400017145\n",
       "[13,] -0.08983476  0.089999856 -0.22522432  0.250083069 -0.059828944\n",
       "[14,] -0.12326137  0.167924513 -0.12169956 -0.155059213  0.139170100\n",
       "[15,] -0.20901704 -0.253952636  0.13383719 -0.173851833 -0.052040669\n",
       "[16,] -0.34167713 -0.023859463 -0.01775816  0.161768802  0.005253553\n",
       "[17,] -0.20088675  0.212765545 -0.10641305 -0.419192772 -0.300108817\n",
       "[18,] -0.22702883 -0.455033814 -0.21305763 -0.225703933  0.170229404\n",
       "[19,] -0.29434299  0.145757363  0.23489253  0.019404285  0.109144855\n",
       "[20,] -0.24672147  0.252519427 -0.25697506  0.002651839 -0.093457430\n",
       "\n",
       "$v\n",
       "           [,1]       [,2]        [,3]       [,4]       [,5]\n",
       "[1,] -0.4097325  0.4109737 -0.12792546  0.7865584  0.1678716\n",
       "[2,] -0.4851133 -0.6803737  0.45793596  0.1175733  0.2796925\n",
       "[3,] -0.4840136  0.4169160 -0.04776868 -0.5841164  0.4984357\n",
       "[4,] -0.4096763  0.2740287  0.45281933 -0.1266905 -0.7321050\n",
       "[5,] -0.4412262 -0.3453716 -0.75273006 -0.1012917 -0.3304169\n"
      ]
     },
     "metadata": {},
     "output_type": "display_data"
    }
   ],
   "source": [
    "# Génération d'un matrice n x p\n",
    "X=matrix(runif(100),20,5)\n",
    "# SVD\n",
    "res=svd(X)\n",
    "# Valeurs singulières\n",
    "res$d\n",
    "res"
   ]
  },
  {
   "cell_type": "code",
   "execution_count": 3,
   "metadata": {},
   "outputs": [
    {
     "data": {
      "text/html": [
       "<table>\n",
       "<tbody>\n",
       "\t<tr><td> 1.000000e+00</td><td>-3.538836e-16</td><td> 5.551115e-17</td><td>-2.019869e-16</td><td>-1.110223e-16</td></tr>\n",
       "\t<tr><td>-3.538836e-16</td><td> 1.000000e+00</td><td> 2.775558e-17</td><td>-9.578926e-16</td><td>-2.151057e-16</td></tr>\n",
       "\t<tr><td> 5.551115e-17</td><td> 2.775558e-17</td><td> 1.000000e+00</td><td>-1.951564e-18</td><td> 1.769418e-16</td></tr>\n",
       "\t<tr><td>-2.019869e-16</td><td>-9.578926e-16</td><td>-1.951564e-18</td><td> 1.000000e+00</td><td> 1.076071e-16</td></tr>\n",
       "\t<tr><td>-1.110223e-16</td><td>-2.151057e-16</td><td> 1.769418e-16</td><td> 1.076071e-16</td><td> 1.000000e+00</td></tr>\n",
       "</tbody>\n",
       "</table>\n"
      ],
      "text/latex": [
       "\\begin{tabular}{lllll}\n",
       "\t  1.000000e+00 & -3.538836e-16 &  5.551115e-17 & -2.019869e-16 & -1.110223e-16\\\\\n",
       "\t -3.538836e-16 &  1.000000e+00 &  2.775558e-17 & -9.578926e-16 & -2.151057e-16\\\\\n",
       "\t  5.551115e-17 &  2.775558e-17 &  1.000000e+00 & -1.951564e-18 &  1.769418e-16\\\\\n",
       "\t -2.019869e-16 & -9.578926e-16 & -1.951564e-18 &  1.000000e+00 &  1.076071e-16\\\\\n",
       "\t -1.110223e-16 & -2.151057e-16 &  1.769418e-16 &  1.076071e-16 &  1.000000e+00\\\\\n",
       "\\end{tabular}\n"
      ],
      "text/markdown": [
       "\n",
       "|  1.000000e+00 | -3.538836e-16 |  5.551115e-17 | -2.019869e-16 | -1.110223e-16 | \n",
       "| -3.538836e-16 |  1.000000e+00 |  2.775558e-17 | -9.578926e-16 | -2.151057e-16 | \n",
       "|  5.551115e-17 |  2.775558e-17 |  1.000000e+00 | -1.951564e-18 |  1.769418e-16 | \n",
       "| -2.019869e-16 | -9.578926e-16 | -1.951564e-18 |  1.000000e+00 |  1.076071e-16 | \n",
       "| -1.110223e-16 | -2.151057e-16 |  1.769418e-16 |  1.076071e-16 |  1.000000e+00 | \n",
       "\n",
       "\n"
      ],
      "text/plain": [
       "     [,1]          [,2]          [,3]          [,4]          [,5]         \n",
       "[1,]  1.000000e+00 -3.538836e-16  5.551115e-17 -2.019869e-16 -1.110223e-16\n",
       "[2,] -3.538836e-16  1.000000e+00  2.775558e-17 -9.578926e-16 -2.151057e-16\n",
       "[3,]  5.551115e-17  2.775558e-17  1.000000e+00 -1.951564e-18  1.769418e-16\n",
       "[4,] -2.019869e-16 -9.578926e-16 -1.951564e-18  1.000000e+00  1.076071e-16\n",
       "[5,] -1.110223e-16 -2.151057e-16  1.769418e-16  1.076071e-16  1.000000e+00"
      ]
     },
     "metadata": {},
     "output_type": "display_data"
    }
   ],
   "source": [
    "# Vérifier l'orthonormalité des vecteurs: Ok\n",
    "#Contrairement au cours, U n'est pas une matrice carrée 20*20 mais plutôt de taille 20*5\n",
    "#Par contre est carrée 5*5\n",
    "t(res$u)%*%res$u"
   ]
  },
  {
   "cell_type": "code",
   "execution_count": 4,
   "metadata": {},
   "outputs": [
    {
     "data": {
      "text/html": [
       "<table>\n",
       "<tbody>\n",
       "\t<tr><td> 1.000000e+00</td><td>-2.220446e-16</td><td> 1.665335e-16</td><td> 2.081668e-17</td><td>-5.551115e-17</td></tr>\n",
       "\t<tr><td>-2.220446e-16</td><td> 1.000000e+00</td><td> 1.110223e-16</td><td>-2.498002e-16</td><td>-8.326673e-17</td></tr>\n",
       "\t<tr><td> 1.665335e-16</td><td> 1.110223e-16</td><td> 1.000000e+00</td><td>-5.551115e-17</td><td>-1.110223e-16</td></tr>\n",
       "\t<tr><td> 2.081668e-17</td><td>-2.498002e-16</td><td>-5.551115e-17</td><td> 1.000000e+00</td><td> 1.734723e-16</td></tr>\n",
       "\t<tr><td>-5.551115e-17</td><td>-8.326673e-17</td><td>-1.110223e-16</td><td> 1.734723e-16</td><td> 1.000000e+00</td></tr>\n",
       "</tbody>\n",
       "</table>\n"
      ],
      "text/latex": [
       "\\begin{tabular}{lllll}\n",
       "\t  1.000000e+00 & -2.220446e-16 &  1.665335e-16 &  2.081668e-17 & -5.551115e-17\\\\\n",
       "\t -2.220446e-16 &  1.000000e+00 &  1.110223e-16 & -2.498002e-16 & -8.326673e-17\\\\\n",
       "\t  1.665335e-16 &  1.110223e-16 &  1.000000e+00 & -5.551115e-17 & -1.110223e-16\\\\\n",
       "\t  2.081668e-17 & -2.498002e-16 & -5.551115e-17 &  1.000000e+00 &  1.734723e-16\\\\\n",
       "\t -5.551115e-17 & -8.326673e-17 & -1.110223e-16 &  1.734723e-16 &  1.000000e+00\\\\\n",
       "\\end{tabular}\n"
      ],
      "text/markdown": [
       "\n",
       "|  1.000000e+00 | -2.220446e-16 |  1.665335e-16 |  2.081668e-17 | -5.551115e-17 | \n",
       "| -2.220446e-16 |  1.000000e+00 |  1.110223e-16 | -2.498002e-16 | -8.326673e-17 | \n",
       "|  1.665335e-16 |  1.110223e-16 |  1.000000e+00 | -5.551115e-17 | -1.110223e-16 | \n",
       "|  2.081668e-17 | -2.498002e-16 | -5.551115e-17 |  1.000000e+00 |  1.734723e-16 | \n",
       "| -5.551115e-17 | -8.326673e-17 | -1.110223e-16 |  1.734723e-16 |  1.000000e+00 | \n",
       "\n",
       "\n"
      ],
      "text/plain": [
       "     [,1]          [,2]          [,3]          [,4]          [,5]         \n",
       "[1,]  1.000000e+00 -2.220446e-16  1.665335e-16  2.081668e-17 -5.551115e-17\n",
       "[2,] -2.220446e-16  1.000000e+00  1.110223e-16 -2.498002e-16 -8.326673e-17\n",
       "[3,]  1.665335e-16  1.110223e-16  1.000000e+00 -5.551115e-17 -1.110223e-16\n",
       "[4,]  2.081668e-17 -2.498002e-16 -5.551115e-17  1.000000e+00  1.734723e-16\n",
       "[5,] -5.551115e-17 -8.326673e-17 -1.110223e-16  1.734723e-16  1.000000e+00"
      ]
     },
     "metadata": {},
     "output_type": "display_data"
    }
   ],
   "source": [
    "t(res$v)%*%res$v"
   ]
  },
  {
   "cell_type": "code",
   "execution_count": 8,
   "metadata": {},
   "outputs": [
    {
     "ename": "ERROR",
     "evalue": "Error in parse(text = x, srcfile = src): <text>:4:7: unexpected symbol\n3: Err = X-res$u%*%diag(res$d)%*%t(res$v)\n4: print maxima\n         ^\n",
     "output_type": "error",
     "traceback": [
      "Error in parse(text = x, srcfile = src): <text>:4:7: unexpected symbol\n3: Err = X-res$u%*%diag(res$d)%*%t(res$v)\n4: print maxima\n         ^\nTraceback:\n"
     ]
    }
   ],
   "source": [
    "# Vérifier la reconstruction de X\n",
    "# à l'erreur machine près\n",
    "X-res$u%*%diag(res$d)%*%t(res$v)"
   ]
  },
  {
   "cell_type": "markdown",
   "metadata": {},
   "source": [
    "**Q** Comparer ci-dessous les valeurs propres des matrices **X'X** et **XX'**. Que dire des dimensions, du rang de ces matrices, de la multiplicité de la valeur propre nulle? \n",
    "\n",
    "**Q** Comparer avec les valeurs propres et les valeurs singulières de **X**."
   ]
  },
  {
   "cell_type": "code",
   "execution_count": null,
   "metadata": {},
   "outputs": [],
   "source": [
    "# Valeurs et vecteurs propres\n",
    "dec1=eigen(t(X)%*%X)\n",
    "dec2=eigen(X%*%t(X))\n",
    "dec1$values"
   ]
  },
  {
   "cell_type": "code",
   "execution_count": null,
   "metadata": {},
   "outputs": [],
   "source": [
    "dec2$values"
   ]
  },
  {
   "cell_type": "code",
   "execution_count": null,
   "metadata": {},
   "outputs": [],
   "source": [
    "sqrt(dec1$values)"
   ]
  },
  {
   "cell_type": "code",
   "execution_count": null,
   "metadata": {},
   "outputs": [],
   "source": [
    "U=dec2$vectors\n",
    "V=dec1$vectors\n",
    "# Orthonormalité des vecteurs\n",
    "t(V)%*%V"
   ]
  },
  {
   "cell_type": "code",
   "execution_count": null,
   "metadata": {},
   "outputs": [],
   "source": [
    "t(U)%*%U"
   ]
  },
  {
   "cell_type": "markdown",
   "metadata": {},
   "source": [
    "**Q** Vérifier la bonne cohérence des dimensions de ces vecteurs puis comparer les vecteurs singuliers à droite et à gauche de **X** avec les vecteurs propres de ces matrices. D'où viennent les différences ?"
   ]
  },
  {
   "cell_type": "code",
   "execution_count": null,
   "metadata": {},
   "outputs": [],
   "source": [
    "V-res$v"
   ]
  },
  {
   "cell_type": "code",
   "execution_count": null,
   "metadata": {},
   "outputs": [],
   "source": [
    "U[,1:5]-res$u"
   ]
  },
  {
   "cell_type": "markdown",
   "metadata": {},
   "source": [
    "**Q** Vérifier que les premiers termes de la SVD sont la meilleure approximation de **X** par une matrice de rang inférieure."
   ]
  },
  {
   "cell_type": "code",
   "execution_count": null,
   "metadata": {},
   "outputs": [],
   "source": [
    "# approximation de rang 4\n",
    "Xhat=res$u[,1:4]%*%diag(res$d[1:4])%*%t(res$v[,1:4])\n",
    "# calcul de la norme ||X-Xhat||^2 \n",
    "sum((X-Xhat)**2)"
   ]
  },
  {
   "cell_type": "markdown",
   "metadata": {},
   "source": [
    "**Q** Comparer cette norme avec les carrés des valeurs singulières, que vaudrait cette norme avec une approximation de rang 3?\n",
    "\n",
    "\n",
    "**Q** Retrouver ci-dessous la matrice des vecteurs singuliers à droite à partir de celle des vecteurs singuliers à gauche et réciproquement."
   ]
  },
  {
   "cell_type": "code",
   "execution_count": null,
   "metadata": {},
   "outputs": [],
   "source": [
    "# Vecteurs singuliers à gauche: \n",
    "Ug=res$u\n",
    "# vecteurs singuliers à droites \n",
    "# calculés à partir de U\n",
    "Vd=t(X)%*%Ug\n",
    "# Vérifier l'orthogonalité\n",
    "t(Vd)%*%Vd"
   ]
  },
  {
   "cell_type": "markdown",
   "metadata": {},
   "source": [
    "mais pas l'orthonormalité\n",
    "\n",
    "**Q** Que vaut la diagonale ?"
   ]
  },
  {
   "cell_type": "code",
   "execution_count": null,
   "metadata": {},
   "outputs": [],
   "source": [
    "diag(t(Vd)%*%Vd)-res$d**2"
   ]
  },
  {
   "cell_type": "markdown",
   "metadata": {},
   "source": [
    "Il est nécessaire de normer les vecteurs."
   ]
  },
  {
   "cell_type": "code",
   "execution_count": null,
   "metadata": {},
   "outputs": [],
   "source": [
    "Vd=Vd%*%diag(1/res$d)\n",
    "t(Vd)%*%Vd"
   ]
  },
  {
   "cell_type": "code",
   "execution_count": null,
   "metadata": {},
   "outputs": [],
   "source": [
    "# Vérifier\n",
    "Vd-res$v"
   ]
  },
  {
   "cell_type": "markdown",
   "metadata": {},
   "source": [
    "**Q** Retrouver de façon analogue les vecteurs singuliers `Ug` à partir de ceux `Vd` en prémultipliant par la matrice `X`.\n",
    "\n",
    "### 1.2 SVD généralisée\n",
    "Les calculs précédents concernent des matrices (applications linéaires) dans des espaces euclidiens munis de métriques usuelles définies par les matrices identités. Pour calculer une SVD généralisée par rapport à des métriques quelconques, celà nécessite d'introduire des changements de métriques car la SVCD généralisée n'est pas prévue dans les logiciels. \n",
    "\n",
    "Comme en ACP, on considère une métrique dans l'espace vectoriel $\\boldsymbol{R}^p (p=5)$ définie par une matrice $\\boldsymbol{M}$ symétrique définie positive et une métrique de matrice diagonale $\\boldsymbol{D}$ sur l'expace  vectoriel $\\boldsymbol{R}^n (n=20)$. La SVD de $\\boldsymbol{X}$ relativement à $\\boldsymbol{M}$ et $\\boldsymbol{D}$ est calculée à partir de celle classique de $\\boldsymbol{D}^{1/2}\\boldsymbol{X}\\boldsymbol{M}^{1/2}$ relativement aux métriques de matrice identité;  $\\boldsymbol{M}^{1/2}$ est la racine carrée de $\\boldsymbol{M}$. \n",
    "\n",
    "En effet, si $\\boldsymbol{D}^{1/2}\\boldsymbol{X}\\boldsymbol{M}^{1/2}=\\boldsymbol{U}\\boldsymbol{\\Lambda}\\boldsymbol{V}' \\quad \\text{avec} \\quad \\boldsymbol{U'U}=\\boldsymbol{I} \\quad \\text{et} \\quad \\boldsymbol{V'V}=\\boldsymbol{I}$\n",
    "\n",
    "alors en prémultipliant à gauche et multipliant à droite:\n",
    "\n",
    "$\n",
    "\\boldsymbol{X}=\\boldsymbol{D}^{-1/2}\\boldsymbol{U}\\boldsymbol{\\Lambda}\\boldsymbol{V}'\\boldsymbol{M}^{-1/2} =  \\left(\\boldsymbol{D}^{-1/2}\\boldsymbol{U}\\right)\\boldsymbol{\\Lambda}\\left(\\boldsymbol{M}^{-1/2}\\boldsymbol{V}\\right)'\n",
    "$\n",
    "\n",
    "et $\\boldsymbol{D}^{-1/2}\\boldsymbol{U}$ définit les vecteurs $\\boldsymbol{D}$-orthonormés singuliers à gauche  et $\\boldsymbol{M}^{-1/2}\\boldsymbol{V}$ ceux à droite de la SVD$(\\boldsymbol{X,M,D})$\n",
    "car ils vérifient bien:\n",
    "$\n",
    "\\left(\\boldsymbol{D}^{-1/2}\\boldsymbol{U}\\right)'\\boldsymbol{D}\\left(\\boldsymbol{D}^{-1/2}\\boldsymbol{U}\\right)=\\boldsymbol{I} \\quad\\text{et}\\quad \\left(\\boldsymbol{M}^{-1/2}\\boldsymbol{V}\\right)'\\boldsymbol{M}\\left(\\boldsymbol{M}^{-1/2}\\boldsymbol{V}\\right)=\\boldsymbol{I}.\n",
    "$\n",
    "\n",
    "Construction des différentes matrices."
   ]
  },
  {
   "cell_type": "code",
   "execution_count": null,
   "metadata": {},
   "outputs": [],
   "source": [
    "# Matrice M symétrique définie positive\n",
    "H=matrix(rnorm(25),5,5)\n",
    "M=t(H)%*%H\n",
    "# Décompostion de M\n",
    "s=eigen(M);l=s$values;v=s$vectors\n",
    "l; v"
   ]
  },
  {
   "cell_type": "code",
   "execution_count": null,
   "metadata": {},
   "outputs": [],
   "source": [
    "# Racine de M \n",
    "Mr=v%*%diag(sqrt(l))%*%t(v)\n",
    "# Inverse de racine de M\n",
    "Mi=v%*%diag(1/sqrt(l))%*%t(v)\n",
    "# vérifications\n",
    "Mr%*%Mi;M-Mr%*%Mr"
   ]
  },
  {
   "cell_type": "code",
   "execution_count": null,
   "metadata": {
    "collapsed": true
   },
   "outputs": [],
   "source": [
    "# Construction de D\n",
    "w=runif(20); w=w/sum(w)\n",
    "D=diag(w)\n",
    "Dr=diag(sqrt(w)); Di=diag(1/sqrt(w))"
   ]
  },
  {
   "cell_type": "markdown",
   "metadata": {},
   "source": [
    "Construction de la SVD$(\\boldsymbol{X,M,D})$ et vérifications."
   ]
  },
  {
   "cell_type": "code",
   "execution_count": null,
   "metadata": {},
   "outputs": [],
   "source": [
    "# SVD de l'image de X (changement de métrique)\n",
    "s=svd(Dr%*%X%*%Mr)\n",
    "U=s$u;L=s$d;V=s$v\n",
    "# Nouveaux vecteurs singuliers\n",
    "Ud=Di%*%U\n",
    "Vm=Mi%*%V\n",
    "# Vérifications\n",
    "t(Vm)%*%M%*%Vm"
   ]
  },
  {
   "cell_type": "code",
   "execution_count": null,
   "metadata": {},
   "outputs": [],
   "source": [
    "t(Ud)%*%D%*%Ud\n",
    "X-Ud%*%diag(L)%*%t(Vm)"
   ]
  },
  {
   "cell_type": "markdown",
   "metadata": {},
   "source": [
    "## 2 Application de la SVD à l'ACP\n",
    "L'objectif est de bien comprendre quels sont les résultats / matrices produites par les différentes façons d'aborder l'analyse en composantes principales.\n",
    "### 2.1 Données\n",
    "Les données sont celles de l'exemple [introduction à l'ACP](http://wikistat.fr/pdf/st-l-des-multi): les notes en maths, français, physique et anglais de 9 lycéens virtuels."
   ]
  },
  {
   "cell_type": "code",
   "execution_count": null,
   "metadata": {},
   "outputs": [],
   "source": [
    "# Matrice des données\n",
    "note=matrix(c(6,6,5,5.5,8,8,8,8,\n",
    "6,7,11,9.5,14.5,14.5,15.5,15,\n",
    "14,14,12,12.5,11,10,5.5,7,\n",
    "5.5,7,14,11.5,13,12.5,8.5,9.5,\n",
    "9,9.5,12.5,12),nrow=9,byrow=TRUE)\n",
    "note=data.frame(note)\n",
    "nomi=c(\"jean\",\"alai\",\"anni\",\"moni\",\n",
    " \"didi\",\"andr\",\"pier\",\"brig\",\"evel\")\n",
    "nomv=c(\"Math\",\"Phys\",\"Fran\",\"Angl\")\n",
    "dimnames(note)[[1]]=nomi\n",
    "dimnames(note)[[2]]=nomv\n",
    "# Vérification\n",
    "note"
   ]
  },
  {
   "cell_type": "markdown",
   "metadata": {},
   "source": [
    "Statistiques élémentaires : "
   ]
  },
  {
   "cell_type": "code",
   "execution_count": null,
   "metadata": {},
   "outputs": [],
   "source": [
    "summary(note)\n",
    "options(repr.plot.width=5, repr.plot.height=3)\n",
    "boxplot(note)"
   ]
  },
  {
   "cell_type": "code",
   "execution_count": null,
   "metadata": {},
   "outputs": [],
   "source": [
    "X=as.matrix(note)\n",
    "# Matrice des variances covariances\n",
    "var(X)"
   ]
  },
  {
   "cell_type": "code",
   "execution_count": null,
   "metadata": {},
   "outputs": [],
   "source": [
    "# Matrice des corrélations\n",
    "cor(X)"
   ]
  },
  {
   "cell_type": "markdown",
   "metadata": {},
   "source": [
    "**Q** Commenter la matrice des corrélations ci-dessus.\n",
    "### 2.2 ACP pas à pas\n",
    "Tout langage matricielle permet de construire très facilement une ACP. Attention, la formule de variance utilise $(n-1)$ au lieu de $n$ comme diviseur afin de retrouver les résultats des fonctions R. Un logiciel ``français'' peut donc fournir des résultats légèrement différents. "
   ]
  },
  {
   "cell_type": "code",
   "execution_count": null,
   "metadata": {},
   "outputs": [],
   "source": [
    "# Matrice centrée\n",
    "Xb=scale(X,scale=F)\n",
    "Xb"
   ]
  },
  {
   "cell_type": "code",
   "execution_count": null,
   "metadata": {},
   "outputs": [],
   "source": [
    "# Covariance\n",
    "S=t(Xb)%*%Xb/8\n",
    "# SVD\n",
    "res=svd(Xb)\n",
    "# Matrices des vecteurs propres\n",
    "U=res$u;V=res$v\n",
    "# Valeurs propres\n",
    "L=res$d*res$d/8; pct=L/sum(L)\n",
    "L;pct"
   ]
  },
  {
   "cell_type": "markdown",
   "metadata": {},
   "source": [
    "**Q** Quelle signification statistique donner aux valeurs propres?"
   ]
  },
  {
   "cell_type": "code",
   "execution_count": null,
   "metadata": {
    "collapsed": true
   },
   "outputs": [],
   "source": [
    "# Composantes principales\n",
    "C=Xb%*%V"
   ]
  },
  {
   "cell_type": "markdown",
   "metadata": {},
   "source": [
    "Construction de représentations graphiques rudimentaires. \n",
    "\n",
    "**Q** Quel est le raphe ci-dessous? Quelle conclusion en tirer?"
   ]
  },
  {
   "cell_type": "code",
   "execution_count": null,
   "metadata": {},
   "outputs": [],
   "source": [
    "boxplot(as.data.frame(C))"
   ]
  },
  {
   "cell_type": "code",
   "execution_count": null,
   "metadata": {},
   "outputs": [],
   "source": [
    "# Coordonnées \"isométriques lignes\"\n",
    "options(repr.plot.width=5, repr.plot.height=4)\n",
    "plot(C,type=\"n\")\n",
    "text(C,nomi)\n",
    "abline(h=0,v=0)"
   ]
  },
  {
   "cell_type": "markdown",
   "metadata": {},
   "source": [
    "**Q** Quelle insuffisance présente ce graphique? Quel choix d'`options` tente de la corriger?"
   ]
  },
  {
   "cell_type": "code",
   "execution_count": null,
   "metadata": {},
   "outputs": [],
   "source": [
    "# Coordonnées \"isométriques colonnes\"\n",
    "plot(V[,1]*sqrt(L[1]),V[,2]*sqrt(L[2]),type=\"n\")\n",
    "text(V[,1]*sqrt(L[1]),V[,2]*sqrt(L[2]),nomv)\n",
    "abline(h=0,v=0)"
   ]
  },
  {
   "cell_type": "markdown",
   "metadata": {},
   "source": [
    "### 2.4 Fonctions R spécifiques\n",
    "Plus d'effort est nécessaire pour produire des graphiques lisibles. Autant utiliser les fonctions R adaptées. D'abord avec la fonction `princomp`. "
   ]
  },
  {
   "cell_type": "code",
   "execution_count": null,
   "metadata": {},
   "outputs": [],
   "source": [
    "res1.acp=princomp(note)\n",
    "summary(res1.acp)\n",
    "plot(res1.acp)"
   ]
  },
  {
   "cell_type": "code",
   "execution_count": null,
   "metadata": {},
   "outputs": [],
   "source": [
    "biplot(res1.acp)"
   ]
  },
  {
   "cell_type": "markdown",
   "metadata": {},
   "source": [
    "**Q** Comment se justifie la superposition des individus et variables dans le même graphique (*biplot*)? \n",
    "\n",
    "**Q** Inerprétation des axes.\n",
    "\n",
    "Puis avec la fonction `prcomp`. "
   ]
  },
  {
   "cell_type": "code",
   "execution_count": null,
   "metadata": {},
   "outputs": [],
   "source": [
    "res2.acp=prcomp(note)\n",
    "summary(res2.acp)"
   ]
  },
  {
   "cell_type": "code",
   "execution_count": null,
   "metadata": {},
   "outputs": [],
   "source": [
    "plot(res2.acp)"
   ]
  },
  {
   "cell_type": "code",
   "execution_count": null,
   "metadata": {},
   "outputs": [],
   "source": [
    "biplot(res2.acp)"
   ]
  },
  {
   "cell_type": "markdown",
   "metadata": {},
   "source": [
    "**Q** Comparer les aides de ces fonctions pour comprendre d'où viennent les différences. Attention pour `princomp`, le nombre de lignes ($n$) doit être plus grand que le nombre de colonnes $p$; ce n'est pas une contrainte pour `prcomp`.\n",
    "\n",
    "**Q** Que sont les différents résultats de ces deux fonctions : `sdev` `rotation` `center` `scale` `x` de `prcomp` et `sdev` `loadings` `center` `scores` de `princomp` par rapport aux matrices `U, V, L, C` précédentes. "
   ]
  },
  {
   "cell_type": "markdown",
   "metadata": {},
   "source": [
    "### 2.5 Package FactoMineR\n",
    "Ce package donne accès à la plupart des méthodes factorielles et de classification non supervisée multidimensionnelles. Son utilisation nécessite, si ce n'est déjà fait, une installation préalable par la commande `install.packages(\"FactoMineR\")` ou par l'utilisation des menus de la fenêtre inférieure droite de RStudio."
   ]
  },
  {
   "cell_type": "code",
   "execution_count": null,
   "metadata": {},
   "outputs": [],
   "source": [
    "library(FactoMineR)\n",
    "acp=PCA(note, graph=FALSE)"
   ]
  },
  {
   "cell_type": "markdown",
   "metadata": {},
   "source": [
    "Ce package fournit de très (un peu trop) nombreux résultats et des graphiques dont le flux n'est pas pas compatible avec jupyter. Il est préférable de commander chaque résultat ou graphique dans cet environnement."
   ]
  },
  {
   "cell_type": "code",
   "execution_count": null,
   "metadata": {},
   "outputs": [],
   "source": [
    "print(acp)"
   ]
  },
  {
   "cell_type": "code",
   "execution_count": null,
   "metadata": {},
   "outputs": [],
   "source": [
    "plot(acp,title=\"\")"
   ]
  },
  {
   "cell_type": "code",
   "execution_count": null,
   "metadata": {},
   "outputs": [],
   "source": [
    "plot(acp, choix=\"var\",title=\"\")"
   ]
  },
  {
   "cell_type": "markdown",
   "metadata": {},
   "source": [
    "**Q** Quel est le cercle qui apparaît sur ce graphique. Quelle interprétation en tirer?\n",
    "## 3 ACP de courbes de températures\n",
    "Les données étudiées sont celles du fichier `tempR.dat` disponibles dans le même dépôt que ce calepin.  Il  contient les moyennes, entre 1931 et 1960, des températures mensuelles moyennes de 36 villes françaises. La première variable correspond au nom de la ville (4 caractères), les 12 suivantes représentent chacune un mois de l'année (source : Mémorial de la Météorologie nationale). Une moyenne journalière est la moyenne des températures min et max permettant ensuite de calculer la moyenne mensuelle. Moyenner ensuite sur 10 ces valeurs conduit à des courbes relativement régulières.\n",
    "### 3.1 Exploration élémentaire"
   ]
  },
  {
   "cell_type": "code",
   "execution_count": null,
   "metadata": {},
   "outputs": [],
   "source": [
    "# lire les données dans R\n",
    "temp=read.table(\"Data/tempR.dat\")\n",
    "# vérification et stat élémentaires\n",
    "summary(temp)"
   ]
  },
  {
   "cell_type": "code",
   "execution_count": null,
   "metadata": {},
   "outputs": [],
   "source": [
    "# Ensemble des courbes\n",
    "options(repr.plot.width=4, repr.plot.height=4)\n",
    "ts.plot(t(temp),col=\"blue\")"
   ]
  },
  {
   "cell_type": "code",
   "execution_count": null,
   "metadata": {},
   "outputs": [],
   "source": [
    "# toutes les distributions\n",
    "boxplot(temp)"
   ]
  },
  {
   "cell_type": "markdown",
   "metadata": {},
   "source": [
    "**Q** Que dire des dispersions, de l'homogénéité des unités et des variances?\n",
    "\n",
    "**Q** Conséquence pour l'ACP?"
   ]
  },
  {
   "cell_type": "code",
   "execution_count": null,
   "metadata": {},
   "outputs": [],
   "source": [
    "# Corrélations\n",
    "cor(temp)"
   ]
  },
  {
   "cell_type": "code",
   "execution_count": null,
   "metadata": {},
   "outputs": [],
   "source": [
    "plot(temp$janv,temp$fevr)"
   ]
  },
  {
   "cell_type": "code",
   "execution_count": null,
   "metadata": {},
   "outputs": [],
   "source": [
    "plot(temp$janv,temp$juin)"
   ]
  },
  {
   "cell_type": "code",
   "execution_count": null,
   "metadata": {},
   "outputs": [],
   "source": [
    "options(repr.plot.width=8, repr.plot.height=8)\n",
    "pairs(temp)"
   ]
  },
  {
   "cell_type": "markdown",
   "metadata": {},
   "source": [
    "**Q** Commenter la structure particulière de corrélation entre les variables.\n",
    "### 3.2 Analyse en composantes principales avec R"
   ]
  },
  {
   "cell_type": "code",
   "execution_count": null,
   "metadata": {},
   "outputs": [],
   "source": [
    "acp=princomp(temp)\n",
    "summary(acp)\n",
    "options(repr.plot.width=4, repr.plot.height=3)\n",
    "plot(acp)"
   ]
  },
  {
   "cell_type": "code",
   "execution_count": null,
   "metadata": {},
   "outputs": [],
   "source": [
    "boxplot(data.frame(acp$scores)) "
   ]
  },
  {
   "cell_type": "code",
   "execution_count": null,
   "metadata": {},
   "outputs": [],
   "source": [
    "options(repr.plot.width=6, repr.plot.height=6)\n",
    "biplot(acp)"
   ]
  },
  {
   "cell_type": "markdown",
   "metadata": {},
   "source": [
    "**Q** Analyser les échelles des axes.\n",
    "\n",
    "**Q** Expliciter le choix entre ACP réduite ou non, comparer les différences. \n",
    "\n",
    "**Q** Combien d'axes faut-il retenir ? Justifier.  \n",
    "\n",
    "**Q** Identifier la ville atypique de l'axe 2. Que faire ?\n",
    "\n",
    "**Q** Interprétation des axes.\n",
    "\n",
    "**Q** Commenter la position d'Embrun sur les graphiques.\n",
    "\n",
    "Les données sont ici très particulières, des courbes fonction du temps. En conséquence, les vecteurs propres le sont également et les courbes sont décomposées sur cette base de fonctions discrétisées. \n",
    "\n",
    "Vecteurs ou plutôt fonctions propres de l'ACP."
   ]
  },
  {
   "cell_type": "code",
   "execution_count": null,
   "metadata": {},
   "outputs": [],
   "source": [
    "options(repr.plot.width=5, repr.plot.height=5)\n",
    "plot.ts(acp$loadings[,1:6], main=\"Fonctions propres\")"
   ]
  },
  {
   "cell_type": "markdown",
   "metadata": {},
   "source": [
    "### 3.3 Librairie FactoMineR\n",
    "Cette librairie  apporte des compléments intéressants (qualité et options des graphiques, gestion des variables manquantes) et surtout elle vient particulièrement compléter les fonctions de base de R pour l'analyse des variables qualitatives. Voici les principaux résultats de l'ACP.\n",
    "\n",
    "**Q** Comparer avec les résultats numériques précédemment obtenus."
   ]
  },
  {
   "cell_type": "code",
   "execution_count": null,
   "metadata": {},
   "outputs": [],
   "source": [
    "library(FactoMineR)\n",
    "acp=PCA(temp, scale.unit=FALSE,ncp=12,graph=F)\n",
    "options(repr.plot.width=4, repr.plot.height=3)\n",
    "barplot(acp$eig[,1])"
   ]
  },
  {
   "cell_type": "code",
   "execution_count": null,
   "metadata": {},
   "outputs": [],
   "source": [
    "boxplot(acp$ind$coord)"
   ]
  },
  {
   "cell_type": "code",
   "execution_count": null,
   "metadata": {},
   "outputs": [],
   "source": [
    "acp$svd$V"
   ]
  },
  {
   "cell_type": "code",
   "execution_count": null,
   "metadata": {},
   "outputs": [],
   "source": [
    "dimdesc(acp,axes=c(1,2))"
   ]
  },
  {
   "cell_type": "markdown",
   "metadata": {},
   "source": [
    "**Attention** Cette librairie ajoute à ces techniques exploratoires des résultats d'inférence statistique: *p*-valeurs de test, ellipse de confiance... supposant implicitement un modèle probabiliste: distributions gaussiennes multidimensionnelles; ils sont à utiliser avec grande prudence, plus comme des indicateurs que comme des aides formelles à la décision."
   ]
  },
  {
   "cell_type": "code",
   "execution_count": null,
   "metadata": {},
   "outputs": [],
   "source": [
    "options(repr.plot.width=5, repr.plot.height=5)\n",
    "plot(acp)"
   ]
  },
  {
   "cell_type": "code",
   "execution_count": null,
   "metadata": {},
   "outputs": [],
   "source": [
    "plot(acp,choix=\"var\")"
   ]
  },
  {
   "cell_type": "code",
   "execution_count": null,
   "metadata": {},
   "outputs": [],
   "source": [
    "acp=PCA(temp, scale.unit=TRUE,ncp=12,graph=F)\n",
    "plot(acp,choix=\"var\")"
   ]
  },
  {
   "cell_type": "markdown",
   "metadata": {},
   "source": [
    "**Q** Quelle différence entre les deux graphiques? Quelle différence entre les eux ACP? \n",
    "\n",
    "**Q** Pourquoi les deux réprésentations sont-elles finalement très similaires?"
   ]
  },
  {
   "cell_type": "markdown",
   "metadata": {},
   "source": [
    "Il s'agit également de résoudre la question concernant l'observation atypique sur l'axe 2. Faut-il la conserver? Cette question est abordée en considérant deux ACPs, celle avec et sans ce point afin de s'assurer que sa suppression ne perturbe pas trop les premiers axes, notamment le 2ème. \n",
    "\n",
    "**Q** Comment l'observation atypique et-elle exclue?"
   ]
  },
  {
   "cell_type": "code",
   "execution_count": null,
   "metadata": {},
   "outputs": [],
   "source": [
    "acp=PCA(temp, scale.unit=TRUE,ncp=12,graph=F,ind.sup=8)\n",
    "plot(acp,choix=\"var\")"
   ]
  },
  {
   "cell_type": "markdown",
   "metadata": {},
   "source": [
    "**Q** L'interprétation des axes a-t-elle été modifiée? Que faire de l'observation atypique?"
   ]
  }
 ],
 "metadata": {
  "kernelspec": {
   "display_name": "R",
   "language": "R",
   "name": "ir"
  },
  "language_info": {
   "codemirror_mode": "r",
   "file_extension": ".r",
   "mimetype": "text/x-r-source",
   "name": "R",
   "pygments_lexer": "r",
   "version": "3.4.1"
  }
 },
 "nbformat": 4,
 "nbformat_minor": 1
}
