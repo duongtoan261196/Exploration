{
 "cells": [
  {
   "cell_type": "markdown",
   "metadata": {},
   "source": [
    "### Exo: SVD et ACP selon `prcomp`, `princomp` et `PCA` de FactoMineR\n",
    "#### Les données\n",
    "\n",
    "Les données sont celles de l'exemple [introduction à l'ACP](http://wikistat.fr/pdf/st-l-des-multi): les notes en maths, français, physique et anglais de 9 lycéens virtuels."
   ]
  },
  {
   "cell_type": "code",
   "execution_count": 61,
   "metadata": {},
   "outputs": [
    {
     "data": {
      "text/html": [
       "<table>\n",
       "<thead><tr><th></th><th scope=col>Math</th><th scope=col>Phys</th><th scope=col>Fran</th><th scope=col>Angl</th></tr></thead>\n",
       "<tbody>\n",
       "\t<tr><th scope=row>jean</th><td> 6.0</td><td> 6.0</td><td> 5.0</td><td> 5.5</td></tr>\n",
       "\t<tr><th scope=row>alai</th><td> 8.0</td><td> 8.0</td><td> 8.0</td><td> 8.0</td></tr>\n",
       "\t<tr><th scope=row>anni</th><td> 6.0</td><td> 7.0</td><td>11.0</td><td> 9.5</td></tr>\n",
       "\t<tr><th scope=row>moni</th><td>14.5</td><td>14.5</td><td>15.5</td><td>15.0</td></tr>\n",
       "\t<tr><th scope=row>didi</th><td>14.0</td><td>14.0</td><td>12.0</td><td>12.5</td></tr>\n",
       "\t<tr><th scope=row>andr</th><td>11.0</td><td>10.0</td><td> 5.5</td><td> 7.0</td></tr>\n",
       "\t<tr><th scope=row>pier</th><td> 5.5</td><td> 7.0</td><td>14.0</td><td>11.5</td></tr>\n",
       "\t<tr><th scope=row>brig</th><td>13.0</td><td>12.5</td><td> 8.5</td><td> 9.5</td></tr>\n",
       "\t<tr><th scope=row>evel</th><td> 9.0</td><td> 9.5</td><td>12.5</td><td>12.0</td></tr>\n",
       "</tbody>\n",
       "</table>\n"
      ],
      "text/latex": [
       "\\begin{tabular}{r|llll}\n",
       "  & Math & Phys & Fran & Angl\\\\\n",
       "\\hline\n",
       "\tjean &  6.0 &  6.0 &  5.0 &  5.5\\\\\n",
       "\talai &  8.0 &  8.0 &  8.0 &  8.0\\\\\n",
       "\tanni &  6.0 &  7.0 & 11.0 &  9.5\\\\\n",
       "\tmoni & 14.5 & 14.5 & 15.5 & 15.0\\\\\n",
       "\tdidi & 14.0 & 14.0 & 12.0 & 12.5\\\\\n",
       "\tandr & 11.0 & 10.0 &  5.5 &  7.0\\\\\n",
       "\tpier &  5.5 &  7.0 & 14.0 & 11.5\\\\\n",
       "\tbrig & 13.0 & 12.5 &  8.5 &  9.5\\\\\n",
       "\tevel &  9.0 &  9.5 & 12.5 & 12.0\\\\\n",
       "\\end{tabular}\n"
      ],
      "text/markdown": [
       "\n",
       "| <!--/--> | Math | Phys | Fran | Angl | \n",
       "|---|---|---|---|---|---|---|---|---|\n",
       "| jean |  6.0 |  6.0 |  5.0 |  5.5 | \n",
       "| alai |  8.0 |  8.0 |  8.0 |  8.0 | \n",
       "| anni |  6.0 |  7.0 | 11.0 |  9.5 | \n",
       "| moni | 14.5 | 14.5 | 15.5 | 15.0 | \n",
       "| didi | 14.0 | 14.0 | 12.0 | 12.5 | \n",
       "| andr | 11.0 | 10.0 |  5.5 |  7.0 | \n",
       "| pier |  5.5 |  7.0 | 14.0 | 11.5 | \n",
       "| brig | 13.0 | 12.5 |  8.5 |  9.5 | \n",
       "| evel |  9.0 |  9.5 | 12.5 | 12.0 | \n",
       "\n",
       "\n"
      ],
      "text/plain": [
       "     Math Phys Fran Angl\n",
       "jean  6.0  6.0  5.0  5.5\n",
       "alai  8.0  8.0  8.0  8.0\n",
       "anni  6.0  7.0 11.0  9.5\n",
       "moni 14.5 14.5 15.5 15.0\n",
       "didi 14.0 14.0 12.0 12.5\n",
       "andr 11.0 10.0  5.5  7.0\n",
       "pier  5.5  7.0 14.0 11.5\n",
       "brig 13.0 12.5  8.5  9.5\n",
       "evel  9.0  9.5 12.5 12.0"
      ]
     },
     "metadata": {},
     "output_type": "display_data"
    }
   ],
   "source": [
    "# Matrice des données\n",
    "note=matrix(c(6,6,5,5.5,8,8,8,8,\n",
    "6,7,11,9.5,14.5,14.5,15.5,15,\n",
    "14,14,12,12.5,11,10,5.5,7,\n",
    "5.5,7,14,11.5,13,12.5,8.5,9.5,\n",
    "9,9.5,12.5,12),nrow=9,byrow=TRUE)\n",
    "note=data.frame(note)\n",
    "nomi=c(\"jean\",\"alai\",\"anni\",\"moni\",\n",
    " \"didi\",\"andr\",\"pier\",\"brig\",\"evel\")\n",
    "nomv=c(\"Math\",\"Phys\",\"Fran\",\"Angl\")\n",
    "dimnames(note)[[1]]=nomi\n",
    "dimnames(note)[[2]]=nomv\n",
    "# Vérification\n",
    "note"
   ]
  },
  {
   "cell_type": "code",
   "execution_count": 62,
   "metadata": {
    "scrolled": true
   },
   "outputs": [],
   "source": [
    "# Matrice centrée\n",
    "Xb=scale(note,scale=F)"
   ]
  },
  {
   "cell_type": "markdown",
   "metadata": {},
   "source": [
    "#### SVD de la matrice centrée"
   ]
  },
  {
   "cell_type": "code",
   "execution_count": 63,
   "metadata": {},
   "outputs": [],
   "source": [
    "# Covariance\n",
    "S=t(Xb)%*%Xb/8\n",
    "# SVD\n",
    "res=svd(Xb)\n",
    "# Matrices des vecteurs propres\n",
    "U=res$u;V=res$v\n",
    "# Valeurs singulières\n",
    "vs=res$d"
   ]
  },
  {
   "cell_type": "markdown",
   "metadata": {},
   "source": [
    "Valeurs singulières de $(\\bar{X}, I_p, I_n)$"
   ]
  },
  {
   "cell_type": "code",
   "execution_count": 64,
   "metadata": {},
   "outputs": [
    {
     "data": {
      "text/html": [
       "<ol class=list-inline>\n",
       "\t<li>15.9409485582483</li>\n",
       "\t<li>10.4055232684781</li>\n",
       "\t<li>0.541929995108652</li>\n",
       "\t<li>0.308762417759038</li>\n",
       "</ol>\n"
      ],
      "text/latex": [
       "\\begin{enumerate*}\n",
       "\\item 15.9409485582483\n",
       "\\item 10.4055232684781\n",
       "\\item 0.541929995108652\n",
       "\\item 0.308762417759038\n",
       "\\end{enumerate*}\n"
      ],
      "text/markdown": [
       "1. 15.9409485582483\n",
       "2. 10.4055232684781\n",
       "3. 0.541929995108652\n",
       "4. 0.308762417759038\n",
       "\n",
       "\n"
      ],
      "text/plain": [
       "[1] 15.9409486 10.4055233  0.5419300  0.3087624"
      ]
     },
     "metadata": {},
     "output_type": "display_data"
    }
   ],
   "source": [
    "vs"
   ]
  },
  {
   "cell_type": "markdown",
   "metadata": {},
   "source": [
    "Valeurs singulières de $(\\bar{X}, I_p, \\frac{1}{n-1}I_n)$"
   ]
  },
  {
   "cell_type": "code",
   "execution_count": 65,
   "metadata": {},
   "outputs": [
    {
     "data": {
      "text/html": [
       "<ol class=list-inline>\n",
       "\t<li>5.63597641204166</li>\n",
       "\t<li>3.67890803246763</li>\n",
       "\t<li>0.19160118723486</li>\n",
       "\t<li>0.109163999686485</li>\n",
       "</ol>\n"
      ],
      "text/latex": [
       "\\begin{enumerate*}\n",
       "\\item 5.63597641204166\n",
       "\\item 3.67890803246763\n",
       "\\item 0.19160118723486\n",
       "\\item 0.109163999686485\n",
       "\\end{enumerate*}\n"
      ],
      "text/markdown": [
       "1. 5.63597641204166\n",
       "2. 3.67890803246763\n",
       "3. 0.19160118723486\n",
       "4. 0.109163999686485\n",
       "\n",
       "\n"
      ],
      "text/plain": [
       "[1] 5.6359764 3.6789080 0.1916012 0.1091640"
      ]
     },
     "metadata": {},
     "output_type": "display_data"
    }
   ],
   "source": [
    "vs/sqrt(8)"
   ]
  },
  {
   "cell_type": "markdown",
   "metadata": {},
   "source": [
    "Valeurs propres avec $n-1$ comme diviseur"
   ]
  },
  {
   "cell_type": "code",
   "execution_count": 66,
   "metadata": {},
   "outputs": [
    {
     "data": {
      "text/html": [
       "<ol class=list-inline>\n",
       "\t<li>31.76423011709</li>\n",
       "\t<li>13.5343643113549</li>\n",
       "\t<li>0.036711014949808</li>\n",
       "\t<li>0.0119167788275509</li>\n",
       "</ol>\n"
      ],
      "text/latex": [
       "\\begin{enumerate*}\n",
       "\\item 31.76423011709\n",
       "\\item 13.5343643113549\n",
       "\\item 0.036711014949808\n",
       "\\item 0.0119167788275509\n",
       "\\end{enumerate*}\n"
      ],
      "text/markdown": [
       "1. 31.76423011709\n",
       "2. 13.5343643113549\n",
       "3. 0.036711014949808\n",
       "4. 0.0119167788275509\n",
       "\n",
       "\n"
      ],
      "text/plain": [
       "[1] 31.76423012 13.53436431  0.03671101  0.01191678"
      ]
     },
     "metadata": {},
     "output_type": "display_data"
    }
   ],
   "source": [
    "(vs**2)/8"
   ]
  },
  {
   "cell_type": "markdown",
   "metadata": {},
   "source": [
    "Valeurs singulères avec $n$ comme diviseur"
   ]
  },
  {
   "cell_type": "code",
   "execution_count": 67,
   "metadata": {},
   "outputs": [
    {
     "data": {
      "text/html": [
       "<ol class=list-inline>\n",
       "\t<li>5.31364951941612</li>\n",
       "\t<li>3.46850775615936</li>\n",
       "\t<li>0.180643331702884</li>\n",
       "\t<li>0.102920805919679</li>\n",
       "</ol>\n"
      ],
      "text/latex": [
       "\\begin{enumerate*}\n",
       "\\item 5.31364951941612\n",
       "\\item 3.46850775615936\n",
       "\\item 0.180643331702884\n",
       "\\item 0.102920805919679\n",
       "\\end{enumerate*}\n"
      ],
      "text/markdown": [
       "1. 5.31364951941612\n",
       "2. 3.46850775615936\n",
       "3. 0.180643331702884\n",
       "4. 0.102920805919679\n",
       "\n",
       "\n"
      ],
      "text/plain": [
       "[1] 5.3136495 3.4685078 0.1806433 0.1029208"
      ]
     },
     "metadata": {},
     "output_type": "display_data"
    }
   ],
   "source": [
    "vs/3"
   ]
  },
  {
   "cell_type": "markdown",
   "metadata": {},
   "source": [
    "Valeurs propres avec $n$ comme diviseur"
   ]
  },
  {
   "cell_type": "code",
   "execution_count": 68,
   "metadata": {},
   "outputs": [
    {
     "data": {
      "text/html": [
       "<ol class=list-inline>\n",
       "\t<li>28.2348712151911</li>\n",
       "\t<li>12.0305460545376</li>\n",
       "\t<li>0.0326320132887182</li>\n",
       "\t<li>0.0105926922911563</li>\n",
       "</ol>\n"
      ],
      "text/latex": [
       "\\begin{enumerate*}\n",
       "\\item 28.2348712151911\n",
       "\\item 12.0305460545376\n",
       "\\item 0.0326320132887182\n",
       "\\item 0.0105926922911563\n",
       "\\end{enumerate*}\n"
      ],
      "text/markdown": [
       "1. 28.2348712151911\n",
       "2. 12.0305460545376\n",
       "3. 0.0326320132887182\n",
       "4. 0.0105926922911563\n",
       "\n",
       "\n"
      ],
      "text/plain": [
       "[1] 28.23487122 12.03054605  0.03263201  0.01059269"
      ]
     },
     "metadata": {},
     "output_type": "display_data"
    }
   ],
   "source": [
    "(vs**2)/9"
   ]
  },
  {
   "cell_type": "markdown",
   "metadata": {},
   "source": [
    "Vecteurs propres de $\\bar{X}'\\bar{X}/n$ ou vecteurs singuliers à droite de $\\bar{X}$"
   ]
  },
  {
   "cell_type": "code",
   "execution_count": 69,
   "metadata": {},
   "outputs": [
    {
     "data": {
      "text/html": [
       "<table>\n",
       "<tbody>\n",
       "\t<tr><td>0.5151694 </td><td> 0.5686517</td><td>-0.1852853</td><td>-0.6139259</td></tr>\n",
       "\t<tr><td>0.5076129 </td><td> 0.3712665</td><td> 0.4499844</td><td> 0.6340381</td></tr>\n",
       "\t<tr><td>0.4922789 </td><td>-0.6581534</td><td> 0.4603842</td><td>-0.3354728</td></tr>\n",
       "\t<tr><td>0.4843461 </td><td>-0.3250085</td><td>-0.7424485</td><td> 0.3294671</td></tr>\n",
       "</tbody>\n",
       "</table>\n"
      ],
      "text/latex": [
       "\\begin{tabular}{llll}\n",
       "\t 0.5151694  &  0.5686517 & -0.1852853 & -0.6139259\\\\\n",
       "\t 0.5076129  &  0.3712665 &  0.4499844 &  0.6340381\\\\\n",
       "\t 0.4922789  & -0.6581534 &  0.4603842 & -0.3354728\\\\\n",
       "\t 0.4843461  & -0.3250085 & -0.7424485 &  0.3294671\\\\\n",
       "\\end{tabular}\n"
      ],
      "text/markdown": [
       "\n",
       "| 0.5151694  |  0.5686517 | -0.1852853 | -0.6139259 | \n",
       "| 0.5076129  |  0.3712665 |  0.4499844 |  0.6340381 | \n",
       "| 0.4922789  | -0.6581534 |  0.4603842 | -0.3354728 | \n",
       "| 0.4843461  | -0.3250085 | -0.7424485 |  0.3294671 | \n",
       "\n",
       "\n"
      ],
      "text/plain": [
       "     [,1]      [,2]       [,3]       [,4]      \n",
       "[1,] 0.5151694  0.5686517 -0.1852853 -0.6139259\n",
       "[2,] 0.5076129  0.3712665  0.4499844  0.6340381\n",
       "[3,] 0.4922789 -0.6581534  0.4603842 -0.3354728\n",
       "[4,] 0.4843461 -0.3250085 -0.7424485  0.3294671"
      ]
     },
     "metadata": {},
     "output_type": "display_data"
    }
   ],
   "source": [
    "V"
   ]
  },
  {
   "cell_type": "markdown",
   "metadata": {},
   "source": [
    "#### ACP avec  `princomp`; Le diviseur de la variance est $n$"
   ]
  },
  {
   "cell_type": "code",
   "execution_count": 70,
   "metadata": {},
   "outputs": [
    {
     "data": {
      "text/plain": [
       "Importance of components:\n",
       "                          Comp.1    Comp.2       Comp.3       Comp.4\n",
       "Standard deviation     5.3136495 3.4685078 0.1806433317 0.1029208059\n",
       "Proportion of Variance 0.7004669 0.2984607 0.0008095538 0.0002627896\n",
       "Cumulative Proportion  0.7004669 0.9989277 0.9997372104 1.0000000000"
      ]
     },
     "metadata": {},
     "output_type": "display_data"
    }
   ],
   "source": [
    "res1.acp=princomp(note,score=FALSE)\n",
    "summary(res1.acp)"
   ]
  },
  {
   "cell_type": "code",
   "execution_count": 71,
   "metadata": {},
   "outputs": [
    {
     "data": {
      "text/html": [
       "<dl>\n",
       "\t<dt>$names</dt>\n",
       "\t\t<dd><ol class=list-inline>\n",
       "\t<li>'sdev'</li>\n",
       "\t<li>'loadings'</li>\n",
       "\t<li>'center'</li>\n",
       "\t<li>'scale'</li>\n",
       "\t<li>'n.obs'</li>\n",
       "\t<li>'scores'</li>\n",
       "\t<li>'call'</li>\n",
       "</ol>\n",
       "</dd>\n",
       "\t<dt>$class</dt>\n",
       "\t\t<dd>'princomp'</dd>\n",
       "</dl>\n"
      ],
      "text/latex": [
       "\\begin{description}\n",
       "\\item[\\$names] \\begin{enumerate*}\n",
       "\\item 'sdev'\n",
       "\\item 'loadings'\n",
       "\\item 'center'\n",
       "\\item 'scale'\n",
       "\\item 'n.obs'\n",
       "\\item 'scores'\n",
       "\\item 'call'\n",
       "\\end{enumerate*}\n",
       "\n",
       "\\item[\\$class] 'princomp'\n",
       "\\end{description}\n"
      ],
      "text/markdown": [
       "$names\n",
       ":   1. 'sdev'\n",
       "2. 'loadings'\n",
       "3. 'center'\n",
       "4. 'scale'\n",
       "5. 'n.obs'\n",
       "6. 'scores'\n",
       "7. 'call'\n",
       "\n",
       "\n",
       "\n",
       "$class\n",
       ":   'princomp'\n",
       "\n",
       "\n"
      ],
      "text/plain": [
       "$names\n",
       "[1] \"sdev\"     \"loadings\" \"center\"   \"scale\"    \"n.obs\"    \"scores\"   \"call\"    \n",
       "\n",
       "$class\n",
       "[1] \"princomp\"\n"
      ]
     },
     "metadata": {},
     "output_type": "display_data"
    }
   ],
   "source": [
    "attributes(res1.acp)"
   ]
  },
  {
   "cell_type": "code",
   "execution_count": 72,
   "metadata": {},
   "outputs": [
    {
     "data": {
      "text/html": [
       "<dl class=dl-horizontal>\n",
       "\t<dt>Comp.1</dt>\n",
       "\t\t<dd>5.31364951941611</dd>\n",
       "\t<dt>Comp.2</dt>\n",
       "\t\t<dd>3.46850775615936</dd>\n",
       "\t<dt>Comp.3</dt>\n",
       "\t\t<dd>0.180643331702888</dd>\n",
       "\t<dt>Comp.4</dt>\n",
       "\t\t<dd>0.102920805919683</dd>\n",
       "</dl>\n"
      ],
      "text/latex": [
       "\\begin{description*}\n",
       "\\item[Comp.1] 5.31364951941611\n",
       "\\item[Comp.2] 3.46850775615936\n",
       "\\item[Comp.3] 0.180643331702888\n",
       "\\item[Comp.4] 0.102920805919683\n",
       "\\end{description*}\n"
      ],
      "text/markdown": [
       "Comp.1\n",
       ":   5.31364951941611Comp.2\n",
       ":   3.46850775615936Comp.3\n",
       ":   0.180643331702888Comp.4\n",
       ":   0.102920805919683\n",
       "\n"
      ],
      "text/plain": [
       "   Comp.1    Comp.2    Comp.3    Comp.4 \n",
       "5.3136495 3.4685078 0.1806433 0.1029208 "
      ]
     },
     "metadata": {},
     "output_type": "display_data"
    }
   ],
   "source": [
    "res1.acp$sdev"
   ]
  },
  {
   "cell_type": "markdown",
   "metadata": {},
   "source": [
    "Vecteurs propres au signe près"
   ]
  },
  {
   "cell_type": "code",
   "execution_count": 73,
   "metadata": {},
   "outputs": [
    {
     "data": {
      "text/plain": [
       "\n",
       "Loadings:\n",
       "     Comp.1 Comp.2 Comp.3 Comp.4\n",
       "Math  0.515  0.569  0.185  0.614\n",
       "Phys  0.508  0.371 -0.450 -0.634\n",
       "Fran  0.492 -0.658 -0.460  0.335\n",
       "Angl  0.484 -0.325  0.742 -0.329\n",
       "\n",
       "               Comp.1 Comp.2 Comp.3 Comp.4\n",
       "SS loadings      1.00   1.00   1.00   1.00\n",
       "Proportion Var   0.25   0.25   0.25   0.25\n",
       "Cumulative Var   0.25   0.50   0.75   1.00"
      ]
     },
     "metadata": {},
     "output_type": "display_data"
    }
   ],
   "source": [
    "res1.acp$loadings"
   ]
  },
  {
   "cell_type": "markdown",
   "metadata": {},
   "source": [
    "#### ACP avec `prcomp`; le diviseur est $n-1$"
   ]
  },
  {
   "cell_type": "code",
   "execution_count": 74,
   "metadata": {
    "scrolled": true
   },
   "outputs": [
    {
     "data": {
      "text/plain": [
       "Importance of components:\n",
       "                          PC1    PC2     PC3     PC4\n",
       "Standard deviation     5.6360 3.6789 0.19160 0.10916\n",
       "Proportion of Variance 0.7005 0.2985 0.00081 0.00026\n",
       "Cumulative Proportion  0.7005 0.9989 0.99974 1.00000"
      ]
     },
     "metadata": {},
     "output_type": "display_data"
    }
   ],
   "source": [
    "res2.acp=prcomp(note)\n",
    "summary(res2.acp)"
   ]
  },
  {
   "cell_type": "code",
   "execution_count": 75,
   "metadata": {},
   "outputs": [
    {
     "data": {
      "text/html": [
       "<dl>\n",
       "\t<dt>$names</dt>\n",
       "\t\t<dd><ol class=list-inline>\n",
       "\t<li>'sdev'</li>\n",
       "\t<li>'rotation'</li>\n",
       "\t<li>'center'</li>\n",
       "\t<li>'scale'</li>\n",
       "\t<li>'x'</li>\n",
       "</ol>\n",
       "</dd>\n",
       "\t<dt>$class</dt>\n",
       "\t\t<dd>'prcomp'</dd>\n",
       "</dl>\n"
      ],
      "text/latex": [
       "\\begin{description}\n",
       "\\item[\\$names] \\begin{enumerate*}\n",
       "\\item 'sdev'\n",
       "\\item 'rotation'\n",
       "\\item 'center'\n",
       "\\item 'scale'\n",
       "\\item 'x'\n",
       "\\end{enumerate*}\n",
       "\n",
       "\\item[\\$class] 'prcomp'\n",
       "\\end{description}\n"
      ],
      "text/markdown": [
       "$names\n",
       ":   1. 'sdev'\n",
       "2. 'rotation'\n",
       "3. 'center'\n",
       "4. 'scale'\n",
       "5. 'x'\n",
       "\n",
       "\n",
       "\n",
       "$class\n",
       ":   'prcomp'\n",
       "\n",
       "\n"
      ],
      "text/plain": [
       "$names\n",
       "[1] \"sdev\"     \"rotation\" \"center\"   \"scale\"    \"x\"       \n",
       "\n",
       "$class\n",
       "[1] \"prcomp\"\n"
      ]
     },
     "metadata": {},
     "output_type": "display_data"
    }
   ],
   "source": [
    "attributes(res2.acp)"
   ]
  },
  {
   "cell_type": "code",
   "execution_count": 76,
   "metadata": {},
   "outputs": [
    {
     "data": {
      "text/html": [
       "<ol class=list-inline>\n",
       "\t<li>31.76423011709</li>\n",
       "\t<li>13.5343643113548</li>\n",
       "\t<li>0.036711014949808</li>\n",
       "\t<li>0.0119167788275509</li>\n",
       "</ol>\n"
      ],
      "text/latex": [
       "\\begin{enumerate*}\n",
       "\\item 31.76423011709\n",
       "\\item 13.5343643113548\n",
       "\\item 0.036711014949808\n",
       "\\item 0.0119167788275509\n",
       "\\end{enumerate*}\n"
      ],
      "text/markdown": [
       "1. 31.76423011709\n",
       "2. 13.5343643113548\n",
       "3. 0.036711014949808\n",
       "4. 0.0119167788275509\n",
       "\n",
       "\n"
      ],
      "text/plain": [
       "[1] 31.76423012 13.53436431  0.03671101  0.01191678"
      ]
     },
     "metadata": {},
     "output_type": "display_data"
    }
   ],
   "source": [
    "res2.acp$sdev**2"
   ]
  },
  {
   "cell_type": "code",
   "execution_count": 77,
   "metadata": {},
   "outputs": [
    {
     "data": {
      "text/html": [
       "<table>\n",
       "<thead><tr><th></th><th scope=col>PC1</th><th scope=col>PC2</th><th scope=col>PC3</th><th scope=col>PC4</th></tr></thead>\n",
       "<tbody>\n",
       "\t<tr><th scope=row>Math</th><td>0.5151694 </td><td> 0.5686517</td><td>-0.1852853</td><td>-0.6139259</td></tr>\n",
       "\t<tr><th scope=row>Phys</th><td>0.5076129 </td><td> 0.3712665</td><td> 0.4499844</td><td> 0.6340381</td></tr>\n",
       "\t<tr><th scope=row>Fran</th><td>0.4922789 </td><td>-0.6581534</td><td> 0.4603842</td><td>-0.3354728</td></tr>\n",
       "\t<tr><th scope=row>Angl</th><td>0.4843461 </td><td>-0.3250085</td><td>-0.7424485</td><td> 0.3294671</td></tr>\n",
       "</tbody>\n",
       "</table>\n"
      ],
      "text/latex": [
       "\\begin{tabular}{r|llll}\n",
       "  & PC1 & PC2 & PC3 & PC4\\\\\n",
       "\\hline\n",
       "\tMath & 0.5151694  &  0.5686517 & -0.1852853 & -0.6139259\\\\\n",
       "\tPhys & 0.5076129  &  0.3712665 &  0.4499844 &  0.6340381\\\\\n",
       "\tFran & 0.4922789  & -0.6581534 &  0.4603842 & -0.3354728\\\\\n",
       "\tAngl & 0.4843461  & -0.3250085 & -0.7424485 &  0.3294671\\\\\n",
       "\\end{tabular}\n"
      ],
      "text/markdown": [
       "\n",
       "| <!--/--> | PC1 | PC2 | PC3 | PC4 | \n",
       "|---|---|---|---|\n",
       "| Math | 0.5151694  |  0.5686517 | -0.1852853 | -0.6139259 | \n",
       "| Phys | 0.5076129  |  0.3712665 |  0.4499844 |  0.6340381 | \n",
       "| Fran | 0.4922789  | -0.6581534 |  0.4603842 | -0.3354728 | \n",
       "| Angl | 0.4843461  | -0.3250085 | -0.7424485 |  0.3294671 | \n",
       "\n",
       "\n"
      ],
      "text/plain": [
       "     PC1       PC2        PC3        PC4       \n",
       "Math 0.5151694  0.5686517 -0.1852853 -0.6139259\n",
       "Phys 0.5076129  0.3712665  0.4499844  0.6340381\n",
       "Fran 0.4922789 -0.6581534  0.4603842 -0.3354728\n",
       "Angl 0.4843461 -0.3250085 -0.7424485  0.3294671"
      ]
     },
     "metadata": {},
     "output_type": "display_data"
    }
   ],
   "source": [
    "res2.acp$rotation"
   ]
  },
  {
   "cell_type": "markdown",
   "metadata": {},
   "source": [
    "#### ACP avec `PCA` de FactoMineR"
   ]
  },
  {
   "cell_type": "code",
   "execution_count": 78,
   "metadata": {},
   "outputs": [],
   "source": [
    "library(FactoMineR)\n",
    "res3.acp=PCA(note, graph=FALSE,scale.unit=FALSE)"
   ]
  },
  {
   "cell_type": "code",
   "execution_count": 79,
   "metadata": {},
   "outputs": [
    {
     "name": "stdout",
     "output_type": "stream",
     "text": [
      "**Results for the Principal Component Analysis (PCA)**\n",
      "The analysis was performed on 9 individuals, described by 4 variables\n",
      "*The results are available in the following objects:\n",
      "\n",
      "   name               description                          \n",
      "1  \"$eig\"             \"eigenvalues\"                        \n",
      "2  \"$var\"             \"results for the variables\"          \n",
      "3  \"$var$coord\"       \"coord. for the variables\"           \n",
      "4  \"$var$cor\"         \"correlations variables - dimensions\"\n",
      "5  \"$var$cos2\"        \"cos2 for the variables\"             \n",
      "6  \"$var$contrib\"     \"contributions of the variables\"     \n",
      "7  \"$ind\"             \"results for the individuals\"        \n",
      "8  \"$ind$coord\"       \"coord. for the individuals\"         \n",
      "9  \"$ind$cos2\"        \"cos2 for the individuals\"           \n",
      "10 \"$ind$contrib\"     \"contributions of the individuals\"   \n",
      "11 \"$call\"            \"summary statistics\"                 \n",
      "12 \"$call$centre\"     \"mean of the variables\"              \n",
      "13 \"$call$ecart.type\" \"standard error of the variables\"    \n",
      "14 \"$call$row.w\"      \"weights for the individuals\"        \n",
      "15 \"$call$col.w\"      \"weights for the variables\"          \n"
     ]
    }
   ],
   "source": [
    "print(res3.acp)"
   ]
  },
  {
   "cell_type": "code",
   "execution_count": 80,
   "metadata": {},
   "outputs": [
    {
     "data": {
      "text/html": [
       "<table>\n",
       "<thead><tr><th></th><th scope=col>eigenvalue</th><th scope=col>percentage of variance</th><th scope=col>cumulative percentage of variance</th></tr></thead>\n",
       "<tbody>\n",
       "\t<tr><th scope=row>comp 1</th><td>28.23487122</td><td>70.04669429</td><td> 70.04669  </td></tr>\n",
       "\t<tr><th scope=row>comp 2</th><td>12.03054605</td><td>29.84607138</td><td> 99.89277  </td></tr>\n",
       "\t<tr><th scope=row>comp 3</th><td> 0.03263201</td><td> 0.08095538</td><td> 99.97372  </td></tr>\n",
       "\t<tr><th scope=row>comp 4</th><td> 0.01059269</td><td> 0.02627896</td><td>100.00000  </td></tr>\n",
       "</tbody>\n",
       "</table>\n"
      ],
      "text/latex": [
       "\\begin{tabular}{r|lll}\n",
       "  & eigenvalue & percentage of variance & cumulative percentage of variance\\\\\n",
       "\\hline\n",
       "\tcomp 1 & 28.23487122 & 70.04669429 &  70.04669  \\\\\n",
       "\tcomp 2 & 12.03054605 & 29.84607138 &  99.89277  \\\\\n",
       "\tcomp 3 &  0.03263201 &  0.08095538 &  99.97372  \\\\\n",
       "\tcomp 4 &  0.01059269 &  0.02627896 & 100.00000  \\\\\n",
       "\\end{tabular}\n"
      ],
      "text/markdown": [
       "\n",
       "| <!--/--> | eigenvalue | percentage of variance | cumulative percentage of variance | \n",
       "|---|---|---|---|\n",
       "| comp 1 | 28.23487122 | 70.04669429 |  70.04669   | \n",
       "| comp 2 | 12.03054605 | 29.84607138 |  99.89277   | \n",
       "| comp 3 |  0.03263201 |  0.08095538 |  99.97372   | \n",
       "| comp 4 |  0.01059269 |  0.02627896 | 100.00000   | \n",
       "\n",
       "\n"
      ],
      "text/plain": [
       "       eigenvalue  percentage of variance cumulative percentage of variance\n",
       "comp 1 28.23487122 70.04669429             70.04669                        \n",
       "comp 2 12.03054605 29.84607138             99.89277                        \n",
       "comp 3  0.03263201  0.08095538             99.97372                        \n",
       "comp 4  0.01059269  0.02627896            100.00000                        "
      ]
     },
     "metadata": {},
     "output_type": "display_data"
    }
   ],
   "source": [
    "res3.acp$eig"
   ]
  },
  {
   "cell_type": "code",
   "execution_count": 81,
   "metadata": {},
   "outputs": [
    {
     "data": {
      "text/html": [
       "<ol class=list-inline>\n",
       "\t<li>5.31364951941612</li>\n",
       "\t<li>3.46850775615936</li>\n",
       "\t<li>0.180643331702884</li>\n",
       "\t<li>0.10292080591968</li>\n",
       "</ol>\n"
      ],
      "text/latex": [
       "\\begin{enumerate*}\n",
       "\\item 5.31364951941612\n",
       "\\item 3.46850775615936\n",
       "\\item 0.180643331702884\n",
       "\\item 0.10292080591968\n",
       "\\end{enumerate*}\n"
      ],
      "text/markdown": [
       "1. 5.31364951941612\n",
       "2. 3.46850775615936\n",
       "3. 0.180643331702884\n",
       "4. 0.10292080591968\n",
       "\n",
       "\n"
      ],
      "text/plain": [
       "[1] 5.3136495 3.4685078 0.1806433 0.1029208"
      ]
     },
     "metadata": {},
     "output_type": "display_data"
    }
   ],
   "source": [
    "res3.acp$svd$vs"
   ]
  },
  {
   "cell_type": "code",
   "execution_count": 82,
   "metadata": {},
   "outputs": [
    {
     "data": {
      "text/html": [
       "<ol class=list-inline>\n",
       "\t<li>28.2348712151911</li>\n",
       "\t<li>12.0305460545376</li>\n",
       "\t<li>0.0326320132887182</li>\n",
       "\t<li>0.0105926922911564</li>\n",
       "</ol>\n"
      ],
      "text/latex": [
       "\\begin{enumerate*}\n",
       "\\item 28.2348712151911\n",
       "\\item 12.0305460545376\n",
       "\\item 0.0326320132887182\n",
       "\\item 0.0105926922911564\n",
       "\\end{enumerate*}\n"
      ],
      "text/markdown": [
       "1. 28.2348712151911\n",
       "2. 12.0305460545376\n",
       "3. 0.0326320132887182\n",
       "4. 0.0105926922911564\n",
       "\n",
       "\n"
      ],
      "text/plain": [
       "[1] 28.23487122 12.03054605  0.03263201  0.01059269"
      ]
     },
     "metadata": {},
     "output_type": "display_data"
    }
   ],
   "source": [
    "res3.acp$svd$vs**2"
   ]
  },
  {
   "cell_type": "markdown",
   "metadata": {},
   "source": [
    "**Q** Comment retrouver la matrice $V$ des vecteus propres à partir des coordonnées des variables."
   ]
  },
  {
   "cell_type": "code",
   "execution_count": 83,
   "metadata": {},
   "outputs": [
    {
     "data": {
      "text/html": [
       "<table>\n",
       "<tbody>\n",
       "\t<tr><th scope=row>Math</th><td>0.5151694 </td><td>-0.5686517</td><td> 0.1852853</td><td>-0.6139259</td></tr>\n",
       "\t<tr><th scope=row>Phys</th><td>0.5076129 </td><td>-0.3712665</td><td>-0.4499844</td><td> 0.6340381</td></tr>\n",
       "\t<tr><th scope=row>Fran</th><td>0.4922789 </td><td> 0.6581534</td><td>-0.4603842</td><td>-0.3354728</td></tr>\n",
       "\t<tr><th scope=row>Angl</th><td>0.4843461 </td><td> 0.3250085</td><td> 0.7424485</td><td> 0.3294671</td></tr>\n",
       "</tbody>\n",
       "</table>\n"
      ],
      "text/latex": [
       "\\begin{tabular}{r|llll}\n",
       "\tMath & 0.5151694  & -0.5686517 &  0.1852853 & -0.6139259\\\\\n",
       "\tPhys & 0.5076129  & -0.3712665 & -0.4499844 &  0.6340381\\\\\n",
       "\tFran & 0.4922789  &  0.6581534 & -0.4603842 & -0.3354728\\\\\n",
       "\tAngl & 0.4843461  &  0.3250085 &  0.7424485 &  0.3294671\\\\\n",
       "\\end{tabular}\n"
      ],
      "text/markdown": [
       "\n",
       "| Math | 0.5151694  | -0.5686517 |  0.1852853 | -0.6139259 | \n",
       "| Phys | 0.5076129  | -0.3712665 | -0.4499844 |  0.6340381 | \n",
       "| Fran | 0.4922789  |  0.6581534 | -0.4603842 | -0.3354728 | \n",
       "| Angl | 0.4843461  |  0.3250085 |  0.7424485 |  0.3294671 | \n",
       "\n",
       "\n"
      ],
      "text/plain": [
       "     [,1]      [,2]       [,3]       [,4]      \n",
       "Math 0.5151694 -0.5686517  0.1852853 -0.6139259\n",
       "Phys 0.5076129 -0.3712665 -0.4499844  0.6340381\n",
       "Fran 0.4922789  0.6581534 -0.4603842 -0.3354728\n",
       "Angl 0.4843461  0.3250085  0.7424485  0.3294671"
      ]
     },
     "metadata": {},
     "output_type": "display_data"
    }
   ],
   "source": [
    "res3.acp$var$coord%*%diag(1/res3.acp$svd$vs)"
   ]
  },
  {
   "cell_type": "markdown",
   "metadata": {},
   "source": [
    "**En résumé**: le diviseur de la variance dans `princomp` et `PCA` de `FactoMineR` est $n$, celui de `prcomp` est $n-1$. La fonction `PCA` réduit par défaut mais pas `princomp` ni `prcomp`.\n",
    "\n",
    "Les valeurs singulières de `PCA` sont bien les racines carrées des valeurs propres. "
   ]
  }
 ],
 "metadata": {
  "kernelspec": {
   "display_name": "R",
   "language": "R",
   "name": "ir"
  },
  "language_info": {
   "codemirror_mode": "r",
   "file_extension": ".r",
   "mimetype": "text/x-r-source",
   "name": "R",
   "pygments_lexer": "r",
   "version": "3.4.1"
  }
 },
 "nbformat": 4,
 "nbformat_minor": 1
}
