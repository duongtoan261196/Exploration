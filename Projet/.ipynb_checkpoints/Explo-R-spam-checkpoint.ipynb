{
 "cells": [
  {
   "cell_type": "markdown",
   "metadata": {},
   "source": [
    "<center>\n",
    "<a href=\"http://www.insa-toulouse.fr/\" ><img src=\"http://www.math.univ-toulouse.fr/~besse/Wikistat/Images/logo-insa.jpg\" style=\"float:left; max-width: 120px; display: inline\" alt=\"INSA\"/></a> \n",
    "\n",
    "<a href=\"http://wikistat.fr/\" ><img src=\"http://www.math.univ-toulouse.fr/~besse/Wikistat/Images/wikistat.jpg\" style=\"max-width: 250px; display: inline\"  alt=\"Wikistat\"/></a>\n",
    "\n",
    "<a href=\"http://www.math.univ-toulouse.fr/\" ><img src=\"http://www.math.univ-toulouse.fr/~besse/Wikistat/Images/logo_imt.jpg\" style=\"float:right; max-width: 250px; display: inline\" alt=\"IMT\"/> </a>\n",
    "</center>"
   ]
  },
  {
   "cell_type": "markdown",
   "metadata": {},
   "source": [
    "# [Scénarios d'Exploration Statistique](https://github.com/wikistat/Exploration)"
   ]
  },
  {
   "cell_type": "markdown",
   "metadata": {},
   "source": [
    "# Exploration et caractérisation de pourriels avec <a href=\"https://cran.r-project.org/\"><img src=\"https://cran.r-project.org/Rlogo.svg\" style=\"max-width: 40px; display: inline\" alt=\"R\"/></a>"
   ]
  },
  {
   "cell_type": "markdown",
   "metadata": {},
   "source": [
    "#### Résumé \n",
    "Exploration statistique  d'un ensemble de données textuelles afin de définir les caractéristiques des pourriels (spam). Cette analyse nécessite la mise en \\oe uvre successive et donc l'apprentissage approfondi des principales méthodes de statistique mutidimensionnelle: [ACP](http://wikistat.fr/pdf/st-m-explo-acp.pdf), [AFC](http://wikistat.fr/pdf/st-m-explo-afcm.pdf), [MDS](http://wikistat.fr/pdf/st-m-explo-mds.pdf), [classification](http://wikistat.fr/pdf/st-m-explo-classif.pdf) non supervisée. Le scénario d'analyse proposé vise à la représentation la plus explicite des données étudiées et teste également une approché spécifique pour la fouille de texte et les matrices très creuses, la factorisation d'une matrice non-négative ([NMF](http://wikistat.fr/pdf/st-m-explo-nmf.pdf)).\n",
    "\n",
    "\n",
    "## Introduction\n",
    "### Objectif\n",
    "Cette étude est un exemple d'*analyse textuelle* d'un corpus de documents, ici des courriels. Une telle analyse est classiquement basée sur la fréquence d'une sélection de mots. L'objectif est de mieux appréhender la structure particulière de ces données avant d'aborder un autre objectif de discrimination ou classification supervisée pour construire un *détecteur de pourriels* (*spams*)} personnalisé c'est-à-dire adapté au contenu spécifique de la boîte d'un internaute. Il s'agit en fait d'un modèle susceptible de prévoir la *qualité* d'un message reçu en fonction de son contenu. Le déroulement de cette étude est évidemment marqué par le type particulier des données mais celle-ci peut facilement se transposer à d'autres types de données textuelles  ou analyse du contenu: livres, pages web, discours politiques, réponses ouvertes dans des questionnaires... les exemples sont nombreux en sciences humaines, marketing lorsqu'il s'agit d'estimer des scores, par exemple, de satisfaction de clientèle. Les données se caractérisent généralement par des matrices très creuses c'est-à-dire comportant beaucoup de *0*s.\n",
    "\n",
    "### Données\n",
    "George, ingénieur chez HP dans le département *Computer Science* a recueilli un échantillon de messages électroniques dans chacun desquels il a évalué le nombre d'occurrences d'une sélection de mots et caractères. Les variables considérées sont, dans une première partie, des rapports: nombre d'occurrences d'un mot spécifique sur le nombre total de mots ou nombre d'occurrences d'un caractère sur le nombre de caractères du message avant d'être, dans une deuxième partie, des indicatrices ou facteurs: présence / absence de mots ou ensemble de caractères. Il a également considéré trois variables prenant en compte la casse (majuscule / minuscule) des caractères et une dernière qualitative binaire indiquant le classement qu'il a fait de chaque message : `spam` ou `Nsp`. Les variables d'occurrences sont décrites dans le tableau 1, celles associées à la casse dans le tableau 2. Ces données sont publiques, elles servent régulièrement de *benchmark* pour la comparaison de méthodes d'apprentissage machine:\n",
    "\n",
    "Frank A., Asuncion A. (2010). [UCI Machine Learning Repository](http://archive.ics.uci.edu/ml). Irvine, CA: University of California, School of Information and Computer Science.\n",
    "\n",
    "Ce sont donc finalement 58 variables qui sont observées sur 4601 messages dont 1813 pourriels (spams). La variable binaire `Spam` est présente à titre illustratif, elle est toujours considérée en supplémentaire dans ce travail exploratoire préliminaire. \n",
    "\n",
    "\n",
    "Le tableau ci-dessous liste 54 variables exprimant soit:\n",
    "- le rapport du nombre d'occurrence d'un mot (resp. de caractères) sur le nombre total de mots (de caractères) dans un message,\n",
    "- soit la présence ou non de ce mot (resp. caractère) dans le message, \n",
    "- des numéros (85...) qui sont ceux de bureau, téléphone, code postal de George.\n",
    "\n",
    "\n",
    "*Tableau 1:  Les colonnes contiennent successivement le libellé de la variable, le mot ou ensemble de caractères concernés, le libellé des modalités Présence / Absence utilisées après recodage.*\n",
    "\n",
    "Variable   | Mot ou Carac |    Modalités P/A   | Variable   | Mot ou Carac. |   Modalités  \n",
    "  --|-- --|-- --|-- --|-- --|--               \n",
    "make |    make |   make / Nmk|    X650 |   650 |   650 / N65 \n",
    "address |   address |   addr / Nad |   lab |   lab |   lab / Nlb\n",
    "all |   all |   all / Nal |   labs |   labs |   labs / Nls \n",
    "X3d |   3d |   3d / N3d |   telnet |   telnet |   teln / Ntl \n",
    "our |   our |   our / Nou |   X857 |   857 |   857 / N87 \n",
    "over |   over |   over / Nov |   data |   data |   data / Nda  \n",
    "remove |   remove |   remo / Nrm |   X415 |   415   | 415 / N41 \n",
    "internet |   internet |   inte / Nin |   X85 |   85 |   85 / N85 \n",
    "order |   order |   orde / Nor |   technology |   technology |   tech / Ntc \n",
    "mail |   mail |   mail / Nma |   X1999 |   1999 |   1999/ N19 \n",
    "receive |   receive |   rece / Nrc |   parts |   parts |   part / Npr \n",
    "will |   will |   will / Nwi |   pm |   pm |   pm / Npm \n",
    "people |   people |   peop / Npp |   direct |   direct |   dire / Ndr \n",
    "report |   report |   repo / Nrp |   cs |   cs |   cs / Ncs \n",
    "addresses |   addresses   | adds / Nas |   meeting |   meeting |   meet/Nmt \n",
    "free |   free |   free / Nfr |   original |   original |   orig / or \n",
    "business |   business |   busi / Nbs |   project |   project |   proj / Npj \n",
    "email |   email |   emai / Nem |   re |   re |   re / Nre \n",
    "you |   you |   you / Nyo |   edu |   edu |   edu / Ned \n",
    "credit |   credit |   cred / Ncr |   table    | table |   tabl / Ntb \n",
    "your |   your |   your / Nyr |   conference |   conferenc |e   conf / Ncf \n",
    "font |   order |   font / Nft |   CsemiCol |   ; |   Cscl / NCs \n",
    "X000 |   000 |   000 / N00 |   Cpar |   (    | Cpar / NCp \n",
    "money |   money |   mone/ Nmn |   Ccroch |   [    | Ccro / NCc \n",
    "hp |   hp |   hp / Nhp |   Cexclam |    ! |   Cexc / NCe \n",
    "hpl |   hpl |   hpl / Nhl |   Cdollar |   \\$ |   Cdol / NCd  \n",
    "george |   george |   geor / Nge |   Cdiese | # |   Cdie / NCi  \n",
    "\n",
    "\n",
    "\n",
    "Un deuxième tableau liste 4 variables dont celle dénombrant le nombre de lettres majuscules.\n",
    "\n",
    "\n",
    "*Tableau 2:Liste de 4 variables, de leur libellé et des modalités après recodage.*\n",
    "\n",
    "Code variable | Libellé | Modalités\n",
    "--|-- --|--\n",
    "Spam | Type de message pourriel ou non |  Spam / Nsp\n",
    "CapLM |\tNombre moyen de capitales par mot |  Mm1 / Mm2 / Mm3\n",
    "CapLsup\t| Nombre max de capitales par mot | Ms1 / Ms2 / Ms3 \n",
    "CapLtot\t| Nombre totale de lettres capitales |\tMt1 / Mt2 / Mt3 \n"
   ]
  },
  {
   "cell_type": "markdown",
   "metadata": {},
   "source": [
    "## Préparation des données \n",
    "### Lecture\n",
    "Les données, déjà bien nettoyées et préparées à partir des messages bruts sont disponibles le fichier `spam.dat` chargé avec ce calepin dans le même répertoire .\n",
    " Les lire avec les commandes suivantes: "
   ]
  },
  {
   "cell_type": "code",
   "execution_count": 1,
   "metadata": {
    "scrolled": true
   },
   "outputs": [
    {
     "data": {
      "text/plain": [
       " spam          make           address            all              X3d          \n",
       " 0:2788   Min.   :0.0000   Min.   : 0.000   Min.   :0.0000   Min.   : 0.00000  \n",
       " 1:1813   1st Qu.:0.0000   1st Qu.: 0.000   1st Qu.:0.0000   1st Qu.: 0.00000  \n",
       "          Median :0.0000   Median : 0.000   Median :0.0000   Median : 0.00000  \n",
       "          Mean   :0.1046   Mean   : 0.213   Mean   :0.2807   Mean   : 0.06542  \n",
       "          3rd Qu.:0.0000   3rd Qu.: 0.000   3rd Qu.:0.4200   3rd Qu.: 0.00000  \n",
       "          Max.   :4.5400   Max.   :14.280   Max.   :5.1000   Max.   :42.81000  \n",
       "      our               over            remove          internet      \n",
       " Min.   : 0.0000   Min.   :0.0000   Min.   :0.0000   Min.   : 0.0000  \n",
       " 1st Qu.: 0.0000   1st Qu.:0.0000   1st Qu.:0.0000   1st Qu.: 0.0000  \n",
       " Median : 0.0000   Median :0.0000   Median :0.0000   Median : 0.0000  \n",
       " Mean   : 0.3122   Mean   :0.0959   Mean   :0.1142   Mean   : 0.1053  \n",
       " 3rd Qu.: 0.3800   3rd Qu.:0.0000   3rd Qu.:0.0000   3rd Qu.: 0.0000  \n",
       " Max.   :10.0000   Max.   :5.8800   Max.   :7.2700   Max.   :11.1100  \n",
       "     order              mail            receive             will       \n",
       " Min.   :0.00000   Min.   : 0.0000   Min.   :0.00000   Min.   :0.0000  \n",
       " 1st Qu.:0.00000   1st Qu.: 0.0000   1st Qu.:0.00000   1st Qu.:0.0000  \n",
       " Median :0.00000   Median : 0.0000   Median :0.00000   Median :0.1000  \n",
       " Mean   :0.09007   Mean   : 0.2394   Mean   :0.05982   Mean   :0.5417  \n",
       " 3rd Qu.:0.00000   3rd Qu.: 0.1600   3rd Qu.:0.00000   3rd Qu.:0.8000  \n",
       " Max.   :5.26000   Max.   :18.1800   Max.   :2.61000   Max.   :9.6700  \n",
       "     people            report           addresses           free        \n",
       " Min.   :0.00000   Min.   : 0.00000   Min.   :0.0000   Min.   : 0.0000  \n",
       " 1st Qu.:0.00000   1st Qu.: 0.00000   1st Qu.:0.0000   1st Qu.: 0.0000  \n",
       " Median :0.00000   Median : 0.00000   Median :0.0000   Median : 0.0000  \n",
       " Mean   :0.09393   Mean   : 0.05863   Mean   :0.0492   Mean   : 0.2488  \n",
       " 3rd Qu.:0.00000   3rd Qu.: 0.00000   3rd Qu.:0.0000   3rd Qu.: 0.1000  \n",
       " Max.   :5.55000   Max.   :10.00000   Max.   :4.4100   Max.   :20.0000  \n",
       "    business          email             you             credit        \n",
       " Min.   :0.0000   Min.   :0.0000   Min.   : 0.000   Min.   : 0.00000  \n",
       " 1st Qu.:0.0000   1st Qu.:0.0000   1st Qu.: 0.000   1st Qu.: 0.00000  \n",
       " Median :0.0000   Median :0.0000   Median : 1.310   Median : 0.00000  \n",
       " Mean   :0.1426   Mean   :0.1847   Mean   : 1.662   Mean   : 0.08558  \n",
       " 3rd Qu.:0.0000   3rd Qu.:0.0000   3rd Qu.: 2.640   3rd Qu.: 0.00000  \n",
       " Max.   :7.1400   Max.   :9.0900   Max.   :18.750   Max.   :18.18000  \n",
       "      your              font              X000            money         \n",
       " Min.   : 0.0000   Min.   : 0.0000   Min.   :0.0000   Min.   : 0.00000  \n",
       " 1st Qu.: 0.0000   1st Qu.: 0.0000   1st Qu.:0.0000   1st Qu.: 0.00000  \n",
       " Median : 0.2200   Median : 0.0000   Median :0.0000   Median : 0.00000  \n",
       " Mean   : 0.8098   Mean   : 0.1212   Mean   :0.1016   Mean   : 0.09427  \n",
       " 3rd Qu.: 1.2700   3rd Qu.: 0.0000   3rd Qu.:0.0000   3rd Qu.: 0.00000  \n",
       " Max.   :11.1100   Max.   :17.1000   Max.   :5.4500   Max.   :12.50000  \n",
       "       hp               hpl              george             X650       \n",
       " Min.   : 0.0000   Min.   : 0.0000   Min.   : 0.0000   Min.   :0.0000  \n",
       " 1st Qu.: 0.0000   1st Qu.: 0.0000   1st Qu.: 0.0000   1st Qu.:0.0000  \n",
       " Median : 0.0000   Median : 0.0000   Median : 0.0000   Median :0.0000  \n",
       " Mean   : 0.5495   Mean   : 0.2654   Mean   : 0.7673   Mean   :0.1248  \n",
       " 3rd Qu.: 0.0000   3rd Qu.: 0.0000   3rd Qu.: 0.0000   3rd Qu.:0.0000  \n",
       " Max.   :20.8300   Max.   :16.6600   Max.   :33.3300   Max.   :9.0900  \n",
       "      lab                labs            telnet              X857        \n",
       " Min.   : 0.00000   Min.   :0.0000   Min.   : 0.00000   Min.   :0.00000  \n",
       " 1st Qu.: 0.00000   1st Qu.:0.0000   1st Qu.: 0.00000   1st Qu.:0.00000  \n",
       " Median : 0.00000   Median :0.0000   Median : 0.00000   Median :0.00000  \n",
       " Mean   : 0.09892   Mean   :0.1029   Mean   : 0.06475   Mean   :0.04705  \n",
       " 3rd Qu.: 0.00000   3rd Qu.:0.0000   3rd Qu.: 0.00000   3rd Qu.:0.00000  \n",
       " Max.   :14.28000   Max.   :5.8800   Max.   :12.50000   Max.   :4.76000  \n",
       "      data               X415              X85            technology     \n",
       " Min.   : 0.00000   Min.   :0.00000   Min.   : 0.0000   Min.   :0.00000  \n",
       " 1st Qu.: 0.00000   1st Qu.:0.00000   1st Qu.: 0.0000   1st Qu.:0.00000  \n",
       " Median : 0.00000   Median :0.00000   Median : 0.0000   Median :0.00000  \n",
       " Mean   : 0.09723   Mean   :0.04784   Mean   : 0.1054   Mean   :0.09748  \n",
       " 3rd Qu.: 0.00000   3rd Qu.:0.00000   3rd Qu.: 0.0000   3rd Qu.:0.00000  \n",
       " Max.   :18.18000   Max.   :4.76000   Max.   :20.0000   Max.   :7.69000  \n",
       "     X1999           parts              pm               direct       \n",
       " Min.   :0.000   Min.   :0.0000   Min.   : 0.00000   Min.   :0.00000  \n",
       " 1st Qu.:0.000   1st Qu.:0.0000   1st Qu.: 0.00000   1st Qu.:0.00000  \n",
       " Median :0.000   Median :0.0000   Median : 0.00000   Median :0.00000  \n",
       " Mean   :0.137   Mean   :0.0132   Mean   : 0.07863   Mean   :0.06483  \n",
       " 3rd Qu.:0.000   3rd Qu.:0.0000   3rd Qu.: 0.00000   3rd Qu.:0.00000  \n",
       " Max.   :6.890   Max.   :8.3300   Max.   :11.11000   Max.   :4.76000  \n",
       "       cs             meeting           original         project       \n",
       " Min.   :0.00000   Min.   : 0.0000   Min.   :0.0000   Min.   : 0.0000  \n",
       " 1st Qu.:0.00000   1st Qu.: 0.0000   1st Qu.:0.0000   1st Qu.: 0.0000  \n",
       " Median :0.00000   Median : 0.0000   Median :0.0000   Median : 0.0000  \n",
       " Mean   :0.04367   Mean   : 0.1323   Mean   :0.0461   Mean   : 0.0792  \n",
       " 3rd Qu.:0.00000   3rd Qu.: 0.0000   3rd Qu.:0.0000   3rd Qu.: 0.0000  \n",
       " Max.   :7.14000   Max.   :14.2800   Max.   :3.5700   Max.   :20.0000  \n",
       "       re               edu              table            conference      \n",
       " Min.   : 0.0000   Min.   : 0.0000   Min.   :0.000000   Min.   : 0.00000  \n",
       " 1st Qu.: 0.0000   1st Qu.: 0.0000   1st Qu.:0.000000   1st Qu.: 0.00000  \n",
       " Median : 0.0000   Median : 0.0000   Median :0.000000   Median : 0.00000  \n",
       " Mean   : 0.3012   Mean   : 0.1798   Mean   :0.005444   Mean   : 0.03187  \n",
       " 3rd Qu.: 0.1100   3rd Qu.: 0.0000   3rd Qu.:0.000000   3rd Qu.: 0.00000  \n",
       " Max.   :21.4200   Max.   :22.0500   Max.   :2.170000   Max.   :10.00000  \n",
       "    CsemiCol            Cpar           Ccroch           Cexclam       \n",
       " Min.   :0.00000   Min.   :0.000   Min.   :0.00000   Min.   : 0.0000  \n",
       " 1st Qu.:0.00000   1st Qu.:0.000   1st Qu.:0.00000   1st Qu.: 0.0000  \n",
       " Median :0.00000   Median :0.065   Median :0.00000   Median : 0.0000  \n",
       " Mean   :0.03857   Mean   :0.139   Mean   :0.01698   Mean   : 0.2691  \n",
       " 3rd Qu.:0.00000   3rd Qu.:0.188   3rd Qu.:0.00000   3rd Qu.: 0.3150  \n",
       " Max.   :4.38500   Max.   :9.752   Max.   :4.08100   Max.   :32.4780  \n",
       "    Cdollar            Cdiese             CapLM             CapLsup       \n",
       " Min.   :0.00000   Min.   : 0.00000   Min.   :   1.000   Min.   :   1.00  \n",
       " 1st Qu.:0.00000   1st Qu.: 0.00000   1st Qu.:   1.588   1st Qu.:   6.00  \n",
       " Median :0.00000   Median : 0.00000   Median :   2.276   Median :  15.00  \n",
       " Mean   :0.07581   Mean   : 0.04424   Mean   :   5.191   Mean   :  52.17  \n",
       " 3rd Qu.:0.05200   3rd Qu.: 0.00000   3rd Qu.:   3.706   3rd Qu.:  43.00  \n",
       " Max.   :6.00300   Max.   :19.82900   Max.   :1102.500   Max.   :9989.00  \n",
       "    CapLtot       \n",
       " Min.   :    1.0  \n",
       " 1st Qu.:   35.0  \n",
       " Median :   95.0  \n",
       " Mean   :  283.3  \n",
       " 3rd Qu.:  266.0  \n",
       " Max.   :15841.0  "
      ]
     },
     "metadata": {},
     "output_type": "display_data"
    }
   ],
   "source": [
    "spam=read.table(\"spam.dat\",header=TRUE)\n",
    "\n",
    "#pour que la variable soit interpretée comme une variable qualitative\n",
    "spam[,1]=as.factor(spam[,1])\n",
    "\n",
    "#description statistique élémentaire\n",
    "summary(spam)"
   ]
  },
  {
   "cell_type": "code",
   "execution_count": 2,
   "metadata": {
    "scrolled": true
   },
   "outputs": [
    {
     "data": {
      "text/html": [
       "<ol class=list-inline>\n",
       "\t<li>4601</li>\n",
       "\t<li>58</li>\n",
       "</ol>\n"
      ],
      "text/latex": [
       "\\begin{enumerate*}\n",
       "\\item 4601\n",
       "\\item 58\n",
       "\\end{enumerate*}\n"
      ],
      "text/markdown": [
       "1. 4601\n",
       "2. 58\n",
       "\n",
       "\n"
      ],
      "text/plain": [
       "[1] 4601   58"
      ]
     },
     "metadata": {},
     "output_type": "display_data"
    }
   ],
   "source": [
    "#4601 entrées et 58 variables statistiques\n",
    "dim(spam)"
   ]
  },
  {
   "cell_type": "markdown",
   "metadata": {},
   "source": [
    "### Description élémentaire\n",
    "**Q** Commenter les distributions des variables (symmétrie, nombre de \"0\"). Quelle est la principale catractéristique de la matrice étudiée? \n",
    "\n",
    "Caractéristique très généralement rencontrée en *text mining*.\n",
    "> Asymmétrie, nombre important de \"0\". Il s'agit d'une matrice creuse."
   ]
  },
  {
   "cell_type": "code",
   "execution_count": 3,
   "metadata": {
    "scrolled": true
   },
   "outputs": [
    {
     "data": {
      "image/png": "[encoded data removed]",
      "text/plain": [
       "Plot with title “”"
      ]
     },
     "metadata": {},
     "output_type": "display_data"
    }
   ],
   "source": [
    "#2 figures dans un même plot\n",
    "par(mfrow=c(1,2))\n",
    "options(repr.plot.width=5, repr.plot.height=3)\n",
    "boxplot(spam[,\"all\"]);hist(spam[,\"all\"],main=\"\")"
   ]
  },
  {
   "cell_type": "code",
   "execution_count": null,
   "metadata": {
    "scrolled": true
   },
   "outputs": [],
   "source": [
    "par(mfrow=c(1,2))\n",
    "#Boxplot et histogramme de la var CapLtot\n",
    "boxplot(spam[,\"CapLtot\"]); hist(spam[,\"CapLtot\"],main=\"\",xlab=\"\")"
   ]
  },
  {
   "cell_type": "code",
   "execution_count": null,
   "metadata": {
    "scrolled": true
   },
   "outputs": [],
   "source": [
    "#boxplot des variables du tableau 1\n",
    "boxplot(spam[,2:55])"
   ]
  },
  {
   "cell_type": "code",
   "execution_count": null,
   "metadata": {},
   "outputs": [],
   "source": [
    "#Boxplot des variables du tableau 2\n",
    "boxplot(spam[,56:58])"
   ]
  },
  {
   "cell_type": "markdown",
   "metadata": {},
   "source": [
    "**Q** Commenter le choix de la transformation.\n",
    "> On remarque une asymmétrie (gauche) des données. Ceci nous suggère la log-normalité des données. La transformation effectuée permet alors de se ramener à des données suivant une tendance normale."
   ]
  },
  {
   "cell_type": "code",
   "execution_count": null,
   "metadata": {
    "scrolled": true
   },
   "outputs": [],
   "source": [
    "par(mfrow=c(1,2))\n",
    "#transformation log-normal -> normal\n",
    "boxplot(log(1+spam[,\"CapLtot\"]));hist(log(1+spam[,\"CapLtot\"]),main=\"\",xlab=\"\")"
   ]
  },
  {
   "cell_type": "code",
   "execution_count": 8,
   "metadata": {
    "collapsed": true,
    "scrolled": true
   },
   "outputs": [],
   "source": [
    "#même transformation, on se ramène à une dataframe\n",
    "Lspam=data.frame(\"spam\"=spam[,1],log(1+spam[,2:58]))"
   ]
  },
  {
   "cell_type": "markdown",
   "metadata": {},
   "source": [
    "## Approche \"quantitative\"\n",
    "### [Analyse en composantes principales](http://wikistat.fr/pdf/st-m-explo-acp.pdf)\n",
    "Ce sont d'abord les variables quantitatives (nombres d'occurences) qui sont étudiées pour tenter de caractériser les spams. Ces variables sont toutes transformées selon les remarques de la première partie. \n",
    "\n",
    "Une première ACP est calculée."
   ]
  },
  {
   "cell_type": "code",
   "execution_count": 9,
   "metadata": {},
   "outputs": [
    {
     "data": {
      "image/png": "[encoded data removed]",
      "text/plain": [
       "Plot with title \"Variables factor map (PCA)\""
      ]
     },
     "metadata": {},
     "output_type": "display_data"
    }
   ],
   "source": [
    "library(FactoMineR)\n",
    "#ACP centrée et non-réduite\n",
    "res.pca=PCA(Lspam,scale.unit = FALSE,quali.sup=1, graph=F)\n",
    "options(repr.plot.width=5, repr.plot.height=5)\n",
    "plot(res.pca,choix=\"var\")"
   ]
  },
  {
   "cell_type": "markdown",
   "metadata": {},
   "source": [
    "**Q** Que dire de cette représentation? Quel est le problème rencontré? Quelle est la matrice diagonalisée? Que serait-il préférable de faire?\n",
    "> Non lisible. La composante 1 est portée principalement par les variables CapLtot et CapLsup qui présentent des de grandes valeurs. Nous avons effectué une ACP centrée non reduite, c'est la matrice de variance-covariance qui a donc été diagonalisée. Il faudrait plutôt penser à reduire les données (faire une ACP centrée et réduite).\n",
    "\n",
    "En conséquence, une autre ACP est calculée fournissant un début de tableau ci-dessous. "
   ]
  },
  {
   "cell_type": "code",
   "execution_count": 10,
   "metadata": {
    "scrolled": true
   },
   "outputs": [
    {
     "name": "stdout",
     "output_type": "stream",
     "text": [
      "\n",
      "Call:\n",
      "PCA(X = Lspam, scale.unit = TRUE, quali.sup = 1, graph = F) \n",
      "\n",
      "\n",
      "Eigenvalues\n",
      "                       Dim.1   Dim.2   Dim.3   Dim.4   Dim.5   Dim.6   Dim.7\n",
      "Variance               7.628   5.146   2.256   1.823   1.633   1.462   1.409\n",
      "% of var.             13.383   9.028   3.957   3.199   2.865   2.566   2.473\n",
      "Cumulative % of var.  13.383  22.411  26.368  29.567  32.432  34.998  37.471\n",
      "                       Dim.8   Dim.9  Dim.10  Dim.11  Dim.12  Dim.13  Dim.14\n",
      "Variance               1.365   1.328   1.235   1.205   1.170   1.081   1.063\n",
      "% of var.              2.394   2.330   2.167   2.114   2.053   1.896   1.865\n",
      "Cumulative % of var.  39.865  42.195  44.362  46.476  48.528  50.425  52.289\n",
      "                      Dim.15  Dim.16  Dim.17  Dim.18  Dim.19  Dim.20  Dim.21\n",
      "Variance               1.035   1.030   1.008   0.990   0.977   0.948   0.938\n",
      "% of var.              1.816   1.807   1.769   1.738   1.714   1.663   1.646\n",
      "Cumulative % of var.  54.105  55.913  57.682  59.419  61.133  62.796  64.442\n",
      "                      Dim.22  Dim.23  Dim.24  Dim.25  Dim.26  Dim.27  Dim.28\n",
      "Variance               0.902   0.900   0.873   0.847   0.832   0.825   0.812\n",
      "% of var.              1.582   1.579   1.531   1.487   1.459   1.448   1.425\n",
      "Cumulative % of var.  66.024  67.603  69.134  70.621  72.080  73.529  74.954\n",
      "                      Dim.29  Dim.30  Dim.31  Dim.32  Dim.33  Dim.34  Dim.35\n",
      "Variance               0.799   0.779   0.744   0.733   0.713   0.696   0.686\n",
      "% of var.              1.401   1.366   1.306   1.286   1.250   1.221   1.204\n",
      "Cumulative % of var.  76.355  77.721  79.027  80.313  81.563  82.785  83.988\n",
      "                      Dim.36  Dim.37  Dim.38  Dim.39  Dim.40  Dim.41  Dim.42\n",
      "Variance               0.663   0.657   0.644   0.612   0.602   0.555   0.547\n",
      "% of var.              1.164   1.152   1.129   1.074   1.056   0.974   0.960\n",
      "Cumulative % of var.  85.152  86.304  87.433  88.507  89.563  90.537  91.497\n",
      "                      Dim.43  Dim.44  Dim.45  Dim.46  Dim.47  Dim.48  Dim.49\n",
      "Variance               0.529   0.485   0.446   0.437   0.416   0.394   0.383\n",
      "% of var.              0.928   0.850   0.782   0.766   0.731   0.691   0.672\n",
      "Cumulative % of var.  92.425  93.275  94.057  94.823  95.554  96.245  96.916\n",
      "                      Dim.50  Dim.51  Dim.52  Dim.53  Dim.54  Dim.55  Dim.56\n",
      "Variance               0.371   0.302   0.276   0.265   0.239   0.218   0.077\n",
      "% of var.              0.651   0.530   0.484   0.465   0.420   0.383   0.134\n",
      "Cumulative % of var.  97.567  98.098  98.582  99.047  99.467  99.850  99.984\n",
      "                      Dim.57\n",
      "Variance               0.009\n",
      "% of var.              0.016\n",
      "Cumulative % of var. 100.000\n",
      "\n",
      "Individuals (the 10 first)\n",
      "               Dist    Dim.1    ctr   cos2    Dim.2    ctr   cos2    Dim.3\n",
      "1          |  4.211 | -1.463  0.006  0.121 |  0.542  0.001  0.017 | -0.501\n",
      "2          |  5.275 | -2.659  0.020  0.254 |  3.077  0.040  0.340 | -0.095\n",
      "3          |  9.493 | -3.195  0.029  0.113 |  5.153  0.112  0.295 |  1.217\n",
      "4          |  4.200 | -1.478  0.006  0.124 |  0.843  0.003  0.040 | -0.277\n",
      "5          |  4.200 | -1.479  0.006  0.124 |  0.841  0.003  0.040 | -0.278\n",
      "6          |  6.093 | -0.420  0.001  0.005 | -0.857  0.003  0.020 | -0.238\n",
      "7          |  6.302 | -1.512  0.007  0.058 |  0.361  0.001  0.003 | -1.668\n",
      "8          |  6.151 | -0.384  0.000  0.004 | -1.009  0.004  0.027 | -0.387\n",
      "9          |  9.965 | -2.793  0.022  0.079 |  4.464  0.084  0.201 |  1.567\n",
      "10         |  3.396 | -1.511  0.007  0.198 |  0.660  0.002  0.038 | -0.220\n",
      "              ctr   cos2  \n",
      "1           0.002  0.014 |\n",
      "2           0.000  0.000 |\n",
      "3           0.014  0.016 |\n",
      "4           0.001  0.004 |\n",
      "5           0.001  0.004 |\n",
      "6           0.001  0.002 |\n",
      "7           0.027  0.070 |\n",
      "8           0.001  0.004 |\n",
      "9           0.024  0.025 |\n",
      "10          0.000  0.004 |\n",
      "\n",
      "Variables (the 10 first)\n",
      "              Dim.1    ctr   cos2    Dim.2    ctr   cos2    Dim.3    ctr   cos2\n",
      "make       | -0.209  0.575  0.044 |  0.275  1.472  0.076 | -0.090  0.358  0.008\n",
      "address    | -0.111  0.161  0.012 |  0.102  0.203  0.010 | -0.029  0.038  0.001\n",
      "all        | -0.247  0.801  0.061 |  0.316  1.943  0.100 | -0.081  0.294  0.007\n",
      "X3d        | -0.041  0.022  0.002 |  0.047  0.044  0.002 |  0.064  0.181  0.004\n",
      "our        | -0.214  0.600  0.046 |  0.271  1.432  0.074 | -0.164  1.192  0.027\n",
      "over       | -0.232  0.705  0.054 |  0.289  1.620  0.083 | -0.065  0.188  0.004\n",
      "remove     | -0.250  0.818  0.062 |  0.272  1.439  0.074 | -0.135  0.803  0.018\n",
      "internet   | -0.197  0.511  0.039 |  0.275  1.464  0.075 | -0.039  0.066  0.001\n",
      "order      | -0.247  0.800  0.061 |  0.419  3.404  0.175 |  0.150  0.995  0.022\n",
      "mail       | -0.156  0.318  0.024 |  0.371  2.682  0.138 |  0.118  0.621  0.014\n",
      "            \n",
      "make       |\n",
      "address    |\n",
      "all        |\n",
      "X3d        |\n",
      "our        |\n",
      "over       |\n",
      "remove     |\n",
      "internet   |\n",
      "order      |\n",
      "mail       |\n",
      "\n",
      "Supplementary categories\n",
      "                Dist     Dim.1    cos2  v.test     Dim.2    cos2  v.test  \n",
      "0          |   1.551 |   1.153   0.553  35.104 |  -0.986   0.404 -36.557 |\n",
      "1          |   2.385 |  -1.773   0.553 -35.104 |   1.516   0.404  36.557 |\n",
      "             Dim.3    cos2  v.test  \n",
      "0            0.174   0.013   9.756 |\n",
      "1           -0.268   0.013  -9.756 |\n"
     ]
    }
   ],
   "source": [
    "#ACP centrée et reduite\n",
    "res.pca=PCA(Lspam,scale.unit = TRUE,quali.sup=1, graph=F)\n",
    "\n",
    "#valeurs propres et contributions\n",
    "summary(res.pca)"
   ]
  },
  {
   "cell_type": "markdown",
   "metadata": {},
   "source": [
    "**Q** Comment s'interprètent les *eignevalues*? Quel choix de dimension ou nombre de composantes retenues, donnerait la règle dite de Kaiser? Cette règle est-elle raisonnablement applicable?\n",
    "> 1. Elles representent l'information (inertie axiale) associée aux vecteurs propres. C'est l'information pouvant être expliquée par l'axe.\n",
    "2. Le nombre de composantes à retenir doit être choisi de sorte à expliquer une grande partie (environ 90%) de l'information.\n",
    "\n",
    "**Q** Que sont les graphiques ci-dessous? Quel choix de dimension suggèrent-ils?\n",
    "> Ces graphiques donnent l'apport de chaque vecteur propre (à savoir la variable propre associée).\n",
    "On remarque une rupture claire entre les 2è et 3è vecteurs propres. On pourrait alors ne retenir que deux ou trois dimensions."
   ]
  },
  {
   "cell_type": "code",
   "execution_count": 11,
   "metadata": {
    "scrolled": true
   },
   "outputs": [
    {
     "data": {
      "image/png": "[encoded data removed]",
      "text/plain": [
       "Plot with title \"Eigenvalues\""
      ]
     },
     "metadata": {},
     "output_type": "display_data"
    }
   ],
   "source": [
    "par(mfrow=c(1,2))\n",
    "options(repr.plot.width=8, repr.plot.height=3)\n",
    "#contribution des vecteurs propres\n",
    "barplot(res.pca$eig[,1],main=\"Eigenvalues\",names.arg=1:nrow(res.pca$eig))\n",
    "#boxplot des vecteurs propres\n",
    "boxplot(res.pca$ind$coord)"
   ]
  },
  {
   "cell_type": "markdown",
   "metadata": {},
   "source": [
    "**Q** Le graphique ci-dessous des variables est difficile à lire. Identifier néanmoins quelques variables permettant une première interprétation élémentaire des axes.\n",
    "> Le premier facteur semble être porté principalement par les variables: direct, technology, X857, X650 ...\n",
    "et le deuxième par CapLsup, CapLfot, CapLM. La deuxième composante representerait alors (globalement) le nombre de lettres capitales présentes dans le mail, tandis que la première porte essentiellement sur le nombre d'occurence de certains mots."
   ]
  },
  {
   "cell_type": "code",
   "execution_count": 12,
   "metadata": {},
   "outputs": [
    {
     "data": {
      "image/png": "[encoded data removed]",
      "text/plain": [
       "Plot with title \"Variables factor map (PCA)\""
      ]
     },
     "metadata": {},
     "output_type": "display_data"
    }
   ],
   "source": [
    "options(repr.plot.width=5, repr.plot.height=5)\n",
    "#Cercle des corrélations\n",
    "plot(res.pca,choix=\"var\",cex=0.6)"
   ]
  },
  {
   "cell_type": "markdown",
   "metadata": {},
   "source": [
    "**Q** Le graphique suivant représente les \"individus\"; les points rouges identifient les pourriels. Caractérisez sommairement les deux types de messages. A la vue de ce graphique, pensez vous facile de discriminer linéairement les deux groupes?\n",
    "> Les pourriels sont caracterisés par une forte présence des lettres majuscules.\n",
    "La courbe des points n'étant pas une droite, une discrimination linéaire semble difficile."
   ]
  },
  {
   "cell_type": "code",
   "execution_count": 13,
   "metadata": {
    "scrolled": false
   },
   "outputs": [
    {
     "data": {
      "image/png": "[encoded data removed]",
      "text/plain": [
       "Plot with title \"Individuals factor map (PCA)\""
      ]
     },
     "metadata": {},
     "output_type": "display_data"
    }
   ],
   "source": [
    "plot(res.pca,choix=\"ind\",habillage=1,cex=0.3)"
   ]
  },
  {
   "cell_type": "markdown",
   "metadata": {},
   "source": [
    "**Q** Complétrer l'interprétation des axes et la caractérisation des variables vis-à-vis du type de message.\n",
    ">1. Axe 2: CapLtot (0.9604), CapLsup (0.9566), CapLM (0.7268)  et Axe 1: hp, hpl, technology ...\n",
    "2. C'est l'axe 2 qui caractérise surtout les pourriels."
   ]
  },
  {
   "cell_type": "code",
   "execution_count": 14,
   "metadata": {
    "collapsed": true,
    "scrolled": true
   },
   "outputs": [],
   "source": [
    "#ACP centrée, non réduite\n",
    "res.pca=PCA(Lspam,scale.unit = FALSE, quali.sup=1, graph=F)"
   ]
  },
  {
   "cell_type": "code",
   "execution_count": null,
   "metadata": {},
   "outputs": [],
   "source": [
    "dimdesc(res.pca,axes=c(1,2))"
   ]
  },
  {
   "cell_type": "markdown",
   "metadata": {},
   "source": [
    "### Classification des variables\n",
    "Ces résultat ne sont pas satisfaisants, notamment à cause du nombre de variables. Une classification de celles-ci pourrait aider à l'interprétation.\n",
    "#### [Classification ascendante hiérarchique](http://wikistat.fr/pdf/st-m-explo-classif.pdf)\n",
    "\n",
    "**Q** Quelles est, ci-dessous, la distance calculée entre les \"variables\"? Est-elle euclidienne? Quelle autre distance aurait pu être utilisée?"
   ]
  },
  {
   "cell_type": "code",
   "execution_count": 16,
   "metadata": {
    "collapsed": true,
    "scrolled": true
   },
   "outputs": [],
   "source": [
    "dist.var<-as.dist(1-cor(Lspam[2:58])**2)"
   ]
  },
  {
   "cell_type": "markdown",
   "metadata": {},
   "source": [
    "**Q** Quelle est la méthode utilisée ci-dessous et avec quelle option? Quelles autres options sont disponibles?"
   ]
  },
  {
   "cell_type": "code",
   "execution_count": 17,
   "metadata": {
    "collapsed": true,
    "scrolled": true
   },
   "outputs": [],
   "source": [
    "clas.var<-hclust(dist.var,method=\"ward.D\")"
   ]
  },
  {
   "cell_type": "markdown",
   "metadata": {},
   "source": [
    "**Q** Comment choisir le nombre de classes? Jusifier."
   ]
  },
  {
   "cell_type": "code",
   "execution_count": null,
   "metadata": {},
   "outputs": [],
   "source": [
    "options(repr.plot.width=3, repr.plot.height=3)\n",
    "plot(clas.var$height[56:40])"
   ]
  },
  {
   "cell_type": "markdown",
   "metadata": {},
   "source": [
    "**Q** Comment sont mesurées les distances entre sous-groupes de variables ? Retrouvez dans le dendrogramme les deux classes de variables les plus explicites pour caractériser les messages."
   ]
  },
  {
   "cell_type": "code",
   "execution_count": null,
   "metadata": {},
   "outputs": [],
   "source": [
    "options(repr.plot.width=8, repr.plot.height=5)\n",
    "plot(clas.var)"
   ]
  },
  {
   "cell_type": "markdown",
   "metadata": {},
   "source": [
    "#### Repésentation par positionnement multidimensionnel ([MDS](http://wikistat.fr/pdf/st-m-explo-mds.pdf))\n",
    "\n",
    "Représentation des classes dans le premier plan du MDS. \n",
    "\n",
    "**Q** La représentation obtenue ci-dessous est assez similaire à celle de l’ACP. Pourquoi selon-vous ?\n",
    "> L'explication des axes reste similaire."
   ]
  },
  {
   "cell_type": "code",
   "execution_count": null,
   "metadata": {},
   "outputs": [],
   "source": [
    "rS = cor(Lspam[2:58])\n",
    "dS2=sqrt(1-rS**2)\n",
    "dN=dimnames(Lspam[2:58])[[2]]\n",
    "mdspam= cmdscale(dS2, k=2)\n",
    "options(repr.plot.width=6, repr.plot.height=6)\n",
    "plot(mdspam, type=\"n\", xlab=\"\", ylab=\"\",main=\"\")\n",
    "text(mdspam,dN)\n",
    "abline(v=0,h=0)"
   ]
  },
  {
   "cell_type": "markdown",
   "metadata": {},
   "source": [
    "Représentation de 4 classes de variables dans les coordonnées du MDS"
   ]
  },
  {
   "cell_type": "code",
   "execution_count": null,
   "metadata": {},
   "outputs": [],
   "source": [
    "classes <- cutree(clas.var,k=4)\n",
    "#sort(classes)\n",
    "names(classes[classes==2]) #variables de la classe 2\n",
    "coul = classes\n",
    "plot(mdspam, type=\"n\", xlab=\"Dimension 1\",ylab=\"Dimension 2\", main=\"CAH euclid\")\n",
    "text(mdspam,dN,col=coul)"
   ]
  },
  {
   "cell_type": "markdown",
   "metadata": {},
   "source": [
    "**Q** Retrouve-t-on des éléments d'interprétation des variables dans l'ACP?\n",
    "> L'interprétation des axes ne change pas."
   ]
  },
  {
   "cell_type": "markdown",
   "metadata": {},
   "source": [
    "## Approche \"qualitative\" par Analyse des Correspondances Multiple ([AFCM](http://wikistat.fr/pdf/st-m-explo-afcm.pdf))\n",
    "Les distributions des variables les rendent peu adaptées à une ACP. La matrice des données est en fait très creuse (beaucoup de 0). Une autre piste est suivie en considérant les variables qualitatives : présence / absence, d’un mot ou caractère. \n",
    "### Recodage\n",
    "C'est souvent la partie la plus fastidieuse du travail: recoder en classe, c'est-à-dire transformer en facteur, chaque variable. Le point important est de donner à chaque modalité un identificateur suffisamment explicite pour que les sorties graphiques soient lisibles et ce d'autant plus qu'il y a de variables à traiter. \n",
    "\n",
    "Les commandes suivantes on été utilisées pour l'obtention du fichier `spamq.dat`. Elles sont données à titre d'exemple.\n",
    "\n",
    "Recodage en présence / absence des variables ou mots."
   ]
  },
  {
   "cell_type": "markdown",
   "metadata": {
    "collapsed": true
   },
   "source": [
    "`spamq=data.frame(matrix(as.factor(as.matrix(spam[,2:55]>0)),ncol=54))`"
   ]
  },
  {
   "cell_type": "markdown",
   "metadata": {},
   "source": [
    "Les niveaux des facteurs sont renommés. Voici un exemple désignant la présente`make` et sont absence `Nmk` de la variable `make`.\n",
    "\n",
    "`make=factor(spamq[,\"make\"], c(TRUE, FALSE),labels=c(\"make\", \"Nmk\"))`\n",
    " \n",
    "Les variales dénombrant les lesttres majuscules sont traitées à part avec la commande suivante. \n",
    "\n",
    "**Q** Quelles sont les bornes des classes, que peut-on dire des effectifs de chacune d’elles ?\n",
    "\n",
    "``` \n",
    "CapLMq=cut(spam[,\"CapLM\"],breaks=quantile\n",
    "      (spam[,\"CapLM\"], probs = seq(0, 1, 1/3)), \n",
    "      labels = c(\"Mm1\",\"Mm2\",\"Mm3\"),\n",
    "      include.lowest = TRUE)\n",
    "```\n",
    "Enfin, toutes variables sont regoupées dans la même base et sauvegardées. \n",
    "\n",
    "Il suffit de relire le fichier:"
   ]
  },
  {
   "cell_type": "code",
   "execution_count": 23,
   "metadata": {
    "scrolled": false
   },
   "outputs": [
    {
     "data": {
      "text/plain": [
       "   make      address      all        X3d        our         over     \n",
       " make:1053   addr: 898   all:1888   3d :  47   Nou:2853   Nov :3602  \n",
       " Nmk :3548   Nad :3703   Nal:2713   N3d:4554   our:1748   over: 999  \n",
       "                                                                     \n",
       "  remove     internet     order        mail      receive       will     \n",
       " Nrm :3794   inte: 824   Nor :3828   mail:1302   Nrc :3892   Nwi :2276  \n",
       " remo: 807   Nin :3777   orde: 773   Nma :3299   rece: 709   will:2325  \n",
       "                                                                        \n",
       "  people      report     addresses     free      business     email     \n",
       " Npp :3749   Nrp :4244   adds: 336   free:1241   busi: 963   emai:1038  \n",
       " peop: 852   repo: 357   Nas :4265   Nfr :3360   Nbs :3638   Nem :3563  \n",
       "                                                                        \n",
       "  you        credit       your        font       X000       money     \n",
       " Nyo:1374   cred: 424   Nyr :2178   font: 773   000: 679   mone: 735  \n",
       " you:3227   Ncr :4177   your:2423   Nft :3828   N00:3922   Nmn :3866  \n",
       "                                                                      \n",
       "   hp        hpl        george      X650       lab         labs     \n",
       " hp :1090   hpl: 811   geor: 780   650: 463   lab: 372   labs: 469  \n",
       " Nhp:3511   Nhl:3790   Nge :3821   N65:4138   Nlb:4229   Nls :4132  \n",
       "                                                                    \n",
       "  telnet      X857        data       X415       X85       technology \n",
       " Ntl :4308   857: 205   data: 405   415: 215   85 : 485   Ntc :4002  \n",
       " teln: 293   N87:4396   Nda :4196   N41:4386   N85:4116   tech: 599  \n",
       "                                                                     \n",
       "  X1999       parts        pm        direct       cs       meeting    \n",
       " 1999: 829   Npr :4518   Npm:4217   dire: 453   cs : 148   meet: 341  \n",
       " N19 :3772   part:  83   pm : 384   Ndr :4148   Ncs:4453   Nmt :4260  \n",
       "                                                                      \n",
       " original    project       re        edu        table      conference \n",
       " or  :4226   Npj :4274   Nre:3290   edu: 517   Ntb :4538   conf: 203  \n",
       " orig: 375   proj: 327   re :1311   Ned:4084   tabl:  63   Ncf :4398  \n",
       "                                                                      \n",
       " CsemiCol      Cpar       Ccroch     Cexclam     Cdollar      Cdiese    \n",
       " Cscl: 790   Cpar:2715   Ccro: 529   Cexc:2258   Cdol:1400   Cdie: 750  \n",
       " NCs :3811   NCp :1886   NCc :4072   NCe :2343   NCd :3201   NCi :3851  \n",
       "                                                                        \n",
       " CapLMq     CapLsupq   CapLtotq    spamf     \n",
       " Mm1:1534   Ms1:1650   Mt1:1537   Nsp :2788  \n",
       " Mm2:1534   Ms2:1456   Mt2:1530   spam:1813  \n",
       " Mm3:1533   Ms3:1495   Mt3:1534              "
      ]
     },
     "metadata": {},
     "output_type": "display_data"
    }
   ],
   "source": [
    "spam.quali=read.table(\"spamq.dat\")\n",
    "summary(spam.quali)\n",
    "\n",
    "#make: nombre -> make et no_make"
   ]
  },
  {
   "cell_type": "markdown",
   "metadata": {},
   "source": [
    "### [Analyse Factorielle des Correspondances Multiple](http://wikistat.fr/pdf/st-m-explo-afcm.pdf)\n",
    "Après le calcul de l'AFCM, une kyrielle de graphiques peuvent être construits. Certains sont proposés mais d'autres sont sans doute plus pertinents pour arriver à représenter au mieux la structure des données et expliquer les caractéristiques des spams.\n",
    "\n",
    "**Q** L’analyse factorielle des correspondances multiple est exécutée dans FactoMineR avec la commande suivante. Que signifie l’option quali.sup ?"
   ]
  },
  {
   "cell_type": "code",
   "execution_count": null,
   "metadata": {
    "scrolled": false
   },
   "outputs": [],
   "source": [
    "afc=MCA(spam.quali,quali.sup=c(32,34,58))\n",
    "summary(afc)"
   ]
  },
  {
   "cell_type": "markdown",
   "metadata": {},
   "source": [
    "**Q** Que sont les *eigenvalues* du tableau précédents? Comment s'interprètent ces valeurs ?\n",
    "\n",
    "**Q** Quelle AFC a été calculée ou quelle tableau a été décomposé (SVD) pour obtenir le graphe ci-dessous? Que dire de la représentation des individus de l’AFC par rapport à celle de l’ACP ?"
   ]
  },
  {
   "cell_type": "code",
   "execution_count": 27,
   "metadata": {
    "scrolled": true
   },
   "outputs": [
    {
     "data": {
      "image/png": "[encoded data removed]",
      "text/plain": [
       "plot without title"
      ]
     },
     "metadata": {},
     "output_type": "display_data"
    }
   ],
   "source": [
    "options(repr.plot.width=5, repr.plot.height=5)\n",
    "plot(afc$ind$coord,type=\"p\",pch=\".\",cex=2,col=as.integer(spam.quali[,58]))"
   ]
  },
  {
   "cell_type": "markdown",
   "metadata": {},
   "source": [
    "**Q** Comment le graphique de droite ci-dessous a-t-il été obtenu à partir de celui de gauche? En quoi celui-ci aide-t-il à caractériser un peu mieux les pourriels des autres messages ?\n",
    "> On pourrait fixer un seuil sur la deuxième variable en dessous de laquelle, le message sera interpreté comme pourriels."
   ]
  },
  {
   "cell_type": "code",
   "execution_count": null,
   "metadata": {
    "scrolled": true
   },
   "outputs": [],
   "source": [
    "par(mfrow=c(1,2))\n",
    "options(repr.plot.width=10, repr.plot.height=5)\n",
    "plot.MCA(afc,invisible=c(\"ind\"),col.var=\"blue\",cex=0.6)\n",
    "plot.MCA(afc,invisible=c(\"ind\"),col.var=\"blue\",xlim=c(-1,1),ylim=c(-1,1),cex=0.6)"
   ]
  },
  {
   "cell_type": "markdown",
   "metadata": {},
   "source": [
    "La dispersion des message est plus encourageante qu'avec l'ACP mais que dire d'une possible discrimination linéaire entre pourriels et courriels?\n",
    "\n",
    "### Classification des modalités\n",
    "Comme les modalités sont très nombreuses, une classification de celles-ci va aider à l'interprétation.\n",
    "#### Par CAH puis [*k-means*](http://wikistat.fr/pdf/st-m-explo-classif.pdf)\n",
    "**Q** Quelle est la matrice qui est construite ci-dessous ? A partir de quelles \"composantes\"?"
   ]
  },
  {
   "cell_type": "code",
   "execution_count": 29,
   "metadata": {
    "collapsed": true,
    "scrolled": true
   },
   "outputs": [],
   "source": [
    "dist.mod=dist(afc$var$coord, method=\"euclidean\")"
   ]
  },
  {
   "cell_type": "markdown",
   "metadata": {},
   "source": [
    "**Q** La fonction R produit le graphe ci-dessous. Justifier le nombre de classes à retenir (4)."
   ]
  },
  {
   "cell_type": "code",
   "execution_count": 30,
   "metadata": {
    "collapsed": true
   },
   "outputs": [
    {
     "data": {
      "image/png": "[encoded data removed]",
      "text/plain": [
       "plot without title"
      ]
     },
     "metadata": {},
     "output_type": "display_data"
    }
   ],
   "source": [
    "hclusmod=hclust(dist.mod,method=\"ward.D\")\n",
    "options(repr.plot.width=4, repr.plot.height=4)\n",
    "plot(hclusmod$height[112:100])"
   ]
  },
  {
   "cell_type": "code",
   "execution_count": 31,
   "metadata": {
    "scrolled": true
   },
   "outputs": [
    {
     "data": {
      "image/png": "[encoded data removed]",
      "text/plain": [
       "Plot with title \"Cluster Dendrogram\""
      ]
     },
     "metadata": {},
     "output_type": "display_data"
    }
   ],
   "source": [
    "options(repr.plot.width=12, repr.plot.height=4)\n",
    "plot(hclusmod)"
   ]
  },
  {
   "cell_type": "code",
   "execution_count": 32,
   "metadata": {
    "scrolled": true
   },
   "outputs": [
    {
     "data": {
      "text/plain": [
       "        kclasmod\n",
       "hclasmod  1  2  3  4\n",
       "       1  0  2 29  0\n",
       "       2  0 58  0  0\n",
       "       3  0  0  0 10\n",
       "       4 11  1  0  2"
      ]
     },
     "metadata": {},
     "output_type": "display_data"
    }
   ],
   "source": [
    "hclasmod = cutree(hclusmod,k=4)\n",
    "clas.mod=kmeans(afc$var$coord, 4)\n",
    "kclasmod=clas.mod$cluster\n",
    "# comparaison des classes entre CAH et k-means\n",
    "table(hclasmod,kclasmod)"
   ]
  },
  {
   "cell_type": "markdown",
   "metadata": {},
   "source": [
    "**Q** Quel autre algorithme est utilisé ci-dessus? Que fournit-il comme résultat ? Que dire des deux classifications obtenues et donc de leur \"robustesse\"? \n",
    "#### Représentation des classes dans l'[AFCM](http://wikistat.fr/pdf/st-m-explo-afcm.pdf)\n",
    "\n",
    "**Q** Comment le graphe ci-dessous a-t-il été obtenu?"
   ]
  },
  {
   "cell_type": "code",
   "execution_count": 33,
   "metadata": {
    "scrolled": true
   },
   "outputs": [
    {
     "data": {
      "image/png": "[encoded data removed]",
      "text/plain": [
       "Plot with title \"MCA factor map\""
      ]
     },
     "metadata": {},
     "output_type": "display_data"
    }
   ],
   "source": [
    "options(repr.plot.width=6, repr.plot.height=6)\n",
    "plot.MCA(afc,invisible=c(\"ind\"),col.var=as.integer(clas.mod$cluster),cex=0.6)"
   ]
  },
  {
   "cell_type": "markdown",
   "metadata": {},
   "source": [
    "Lister les modalités des variables par classe. "
   ]
  },
  {
   "cell_type": "code",
   "execution_count": 34,
   "metadata": {
    "scrolled": true
   },
   "outputs": [
    {
     "data": {
      "text/html": [
       "<ol class=list-inline>\n",
       "\t<li>'make'</li>\n",
       "\t<li>'addr'</li>\n",
       "\t<li>'all'</li>\n",
       "\t<li>'3d'</li>\n",
       "\t<li>'our'</li>\n",
       "\t<li>'over'</li>\n",
       "\t<li>'remo'</li>\n",
       "\t<li>'inte'</li>\n",
       "\t<li>'orde'</li>\n",
       "\t<li>'mail'</li>\n",
       "\t<li>'rece'</li>\n",
       "\t<li>'will'</li>\n",
       "\t<li>'peop'</li>\n",
       "\t<li>'repo'</li>\n",
       "\t<li>'adds'</li>\n",
       "\t<li>'free'</li>\n",
       "\t<li>'busi'</li>\n",
       "\t<li>'emai'</li>\n",
       "\t<li>'you'</li>\n",
       "\t<li>'cred'</li>\n",
       "\t<li>'your'</li>\n",
       "\t<li>'font'</li>\n",
       "\t<li>'000'</li>\n",
       "\t<li>'mone'</li>\n",
       "\t<li>'Cpar'</li>\n",
       "\t<li>'Cexc'</li>\n",
       "\t<li>'Cdol'</li>\n",
       "\t<li>'Cdie'</li>\n",
       "\t<li>'Mm3'</li>\n",
       "\t<li>'Ms3'</li>\n",
       "\t<li>'Mt3'</li>\n",
       "</ol>\n"
      ],
      "text/latex": [
       "\\begin{enumerate*}\n",
       "\\item 'make'\n",
       "\\item 'addr'\n",
       "\\item 'all'\n",
       "\\item '3d'\n",
       "\\item 'our'\n",
       "\\item 'over'\n",
       "\\item 'remo'\n",
       "\\item 'inte'\n",
       "\\item 'orde'\n",
       "\\item 'mail'\n",
       "\\item 'rece'\n",
       "\\item 'will'\n",
       "\\item 'peop'\n",
       "\\item 'repo'\n",
       "\\item 'adds'\n",
       "\\item 'free'\n",
       "\\item 'busi'\n",
       "\\item 'emai'\n",
       "\\item 'you'\n",
       "\\item 'cred'\n",
       "\\item 'your'\n",
       "\\item 'font'\n",
       "\\item '000'\n",
       "\\item 'mone'\n",
       "\\item 'Cpar'\n",
       "\\item 'Cexc'\n",
       "\\item 'Cdol'\n",
       "\\item 'Cdie'\n",
       "\\item 'Mm3'\n",
       "\\item 'Ms3'\n",
       "\\item 'Mt3'\n",
       "\\end{enumerate*}\n"
      ],
      "text/markdown": [
       "1. 'make'\n",
       "2. 'addr'\n",
       "3. 'all'\n",
       "4. '3d'\n",
       "5. 'our'\n",
       "6. 'over'\n",
       "7. 'remo'\n",
       "8. 'inte'\n",
       "9. 'orde'\n",
       "10. 'mail'\n",
       "11. 'rece'\n",
       "12. 'will'\n",
       "13. 'peop'\n",
       "14. 'repo'\n",
       "15. 'adds'\n",
       "16. 'free'\n",
       "17. 'busi'\n",
       "18. 'emai'\n",
       "19. 'you'\n",
       "20. 'cred'\n",
       "21. 'your'\n",
       "22. 'font'\n",
       "23. '000'\n",
       "24. 'mone'\n",
       "25. 'Cpar'\n",
       "26. 'Cexc'\n",
       "27. 'Cdol'\n",
       "28. 'Cdie'\n",
       "29. 'Mm3'\n",
       "30. 'Ms3'\n",
       "31. 'Mt3'\n",
       "\n",
       "\n"
      ],
      "text/plain": [
       " [1] \"make\" \"addr\" \"all\"  \"3d\"   \"our\"  \"over\" \"remo\" \"inte\" \"orde\" \"mail\"\n",
       "[11] \"rece\" \"will\" \"peop\" \"repo\" \"adds\" \"free\" \"busi\" \"emai\" \"you\"  \"cred\"\n",
       "[21] \"your\" \"font\" \"000\"  \"mone\" \"Cpar\" \"Cexc\" \"Cdol\" \"Cdie\" \"Mm3\"  \"Ms3\" \n",
       "[31] \"Mt3\" "
      ]
     },
     "metadata": {},
     "output_type": "display_data"
    },
    {
     "data": {
      "text/html": [
       "<ol class=list-inline>\n",
       "\t<li>'Nmk'</li>\n",
       "\t<li>'Nad'</li>\n",
       "\t<li>'Nal'</li>\n",
       "\t<li>'N3d'</li>\n",
       "\t<li>'Nou'</li>\n",
       "\t<li>'Nov'</li>\n",
       "\t<li>'Nrm'</li>\n",
       "\t<li>'Nin'</li>\n",
       "\t<li>'Nor'</li>\n",
       "\t<li>'Nma'</li>\n",
       "\t<li>'Nrc'</li>\n",
       "\t<li>'Nwi'</li>\n",
       "\t<li>'Npp'</li>\n",
       "\t<li>'Nrp'</li>\n",
       "\t<li>'Nas'</li>\n",
       "\t<li>'Nfr'</li>\n",
       "\t<li>'Nbs'</li>\n",
       "\t<li>'Nem'</li>\n",
       "\t<li>'Nyo'</li>\n",
       "\t<li>'Ncr'</li>\n",
       "\t<li>'Nyr'</li>\n",
       "\t<li>'Nft'</li>\n",
       "\t<li>'N00'</li>\n",
       "\t<li>'Nmn'</li>\n",
       "\t<li>'Nhp'</li>\n",
       "\t<li>'Nhl'</li>\n",
       "\t<li>'Nge'</li>\n",
       "\t<li>'N65'</li>\n",
       "\t<li>'Nlb'</li>\n",
       "\t<li>'Nls'</li>\n",
       "\t<li>'Ntl'</li>\n",
       "\t<li>'Nda'</li>\n",
       "\t<li>'N85'</li>\n",
       "\t<li>'Ntc'</li>\n",
       "\t<li>'N19'</li>\n",
       "\t<li>'Npr'</li>\n",
       "\t<li>'Npm'</li>\n",
       "\t<li>'Ndr'</li>\n",
       "\t<li>'Ncs'</li>\n",
       "\t<li>'Nmt'</li>\n",
       "\t<li>'or'</li>\n",
       "\t<li>'Npj'</li>\n",
       "\t<li>'Nre'</li>\n",
       "\t<li>'Ned'</li>\n",
       "\t<li>'Ntb'</li>\n",
       "\t<li>'Ncf'</li>\n",
       "\t<li>'NCs'</li>\n",
       "\t<li>'NCp'</li>\n",
       "\t<li>'NCc'</li>\n",
       "\t<li>'NCe'</li>\n",
       "\t<li>'NCd'</li>\n",
       "\t<li>'NCi'</li>\n",
       "\t<li>'Mm1'</li>\n",
       "\t<li>'Mm2'</li>\n",
       "\t<li>'Ms1'</li>\n",
       "\t<li>'Ms2'</li>\n",
       "\t<li>'Mt1'</li>\n",
       "\t<li>'Mt2'</li>\n",
       "</ol>\n"
      ],
      "text/latex": [
       "\\begin{enumerate*}\n",
       "\\item 'Nmk'\n",
       "\\item 'Nad'\n",
       "\\item 'Nal'\n",
       "\\item 'N3d'\n",
       "\\item 'Nou'\n",
       "\\item 'Nov'\n",
       "\\item 'Nrm'\n",
       "\\item 'Nin'\n",
       "\\item 'Nor'\n",
       "\\item 'Nma'\n",
       "\\item 'Nrc'\n",
       "\\item 'Nwi'\n",
       "\\item 'Npp'\n",
       "\\item 'Nrp'\n",
       "\\item 'Nas'\n",
       "\\item 'Nfr'\n",
       "\\item 'Nbs'\n",
       "\\item 'Nem'\n",
       "\\item 'Nyo'\n",
       "\\item 'Ncr'\n",
       "\\item 'Nyr'\n",
       "\\item 'Nft'\n",
       "\\item 'N00'\n",
       "\\item 'Nmn'\n",
       "\\item 'Nhp'\n",
       "\\item 'Nhl'\n",
       "\\item 'Nge'\n",
       "\\item 'N65'\n",
       "\\item 'Nlb'\n",
       "\\item 'Nls'\n",
       "\\item 'Ntl'\n",
       "\\item 'Nda'\n",
       "\\item 'N85'\n",
       "\\item 'Ntc'\n",
       "\\item 'N19'\n",
       "\\item 'Npr'\n",
       "\\item 'Npm'\n",
       "\\item 'Ndr'\n",
       "\\item 'Ncs'\n",
       "\\item 'Nmt'\n",
       "\\item 'or'\n",
       "\\item 'Npj'\n",
       "\\item 'Nre'\n",
       "\\item 'Ned'\n",
       "\\item 'Ntb'\n",
       "\\item 'Ncf'\n",
       "\\item 'NCs'\n",
       "\\item 'NCp'\n",
       "\\item 'NCc'\n",
       "\\item 'NCe'\n",
       "\\item 'NCd'\n",
       "\\item 'NCi'\n",
       "\\item 'Mm1'\n",
       "\\item 'Mm2'\n",
       "\\item 'Ms1'\n",
       "\\item 'Ms2'\n",
       "\\item 'Mt1'\n",
       "\\item 'Mt2'\n",
       "\\end{enumerate*}\n"
      ],
      "text/markdown": [
       "1. 'Nmk'\n",
       "2. 'Nad'\n",
       "3. 'Nal'\n",
       "4. 'N3d'\n",
       "5. 'Nou'\n",
       "6. 'Nov'\n",
       "7. 'Nrm'\n",
       "8. 'Nin'\n",
       "9. 'Nor'\n",
       "10. 'Nma'\n",
       "11. 'Nrc'\n",
       "12. 'Nwi'\n",
       "13. 'Npp'\n",
       "14. 'Nrp'\n",
       "15. 'Nas'\n",
       "16. 'Nfr'\n",
       "17. 'Nbs'\n",
       "18. 'Nem'\n",
       "19. 'Nyo'\n",
       "20. 'Ncr'\n",
       "21. 'Nyr'\n",
       "22. 'Nft'\n",
       "23. 'N00'\n",
       "24. 'Nmn'\n",
       "25. 'Nhp'\n",
       "26. 'Nhl'\n",
       "27. 'Nge'\n",
       "28. 'N65'\n",
       "29. 'Nlb'\n",
       "30. 'Nls'\n",
       "31. 'Ntl'\n",
       "32. 'Nda'\n",
       "33. 'N85'\n",
       "34. 'Ntc'\n",
       "35. 'N19'\n",
       "36. 'Npr'\n",
       "37. 'Npm'\n",
       "38. 'Ndr'\n",
       "39. 'Ncs'\n",
       "40. 'Nmt'\n",
       "41. 'or'\n",
       "42. 'Npj'\n",
       "43. 'Nre'\n",
       "44. 'Ned'\n",
       "45. 'Ntb'\n",
       "46. 'Ncf'\n",
       "47. 'NCs'\n",
       "48. 'NCp'\n",
       "49. 'NCc'\n",
       "50. 'NCe'\n",
       "51. 'NCd'\n",
       "52. 'NCi'\n",
       "53. 'Mm1'\n",
       "54. 'Mm2'\n",
       "55. 'Ms1'\n",
       "56. 'Ms2'\n",
       "57. 'Mt1'\n",
       "58. 'Mt2'\n",
       "\n",
       "\n"
      ],
      "text/plain": [
       " [1] \"Nmk\" \"Nad\" \"Nal\" \"N3d\" \"Nou\" \"Nov\" \"Nrm\" \"Nin\" \"Nor\" \"Nma\" \"Nrc\" \"Nwi\"\n",
       "[13] \"Npp\" \"Nrp\" \"Nas\" \"Nfr\" \"Nbs\" \"Nem\" \"Nyo\" \"Ncr\" \"Nyr\" \"Nft\" \"N00\" \"Nmn\"\n",
       "[25] \"Nhp\" \"Nhl\" \"Nge\" \"N65\" \"Nlb\" \"Nls\" \"Ntl\" \"Nda\" \"N85\" \"Ntc\" \"N19\" \"Npr\"\n",
       "[37] \"Npm\" \"Ndr\" \"Ncs\" \"Nmt\" \"or\"  \"Npj\" \"Nre\" \"Ned\" \"Ntb\" \"Ncf\" \"NCs\" \"NCp\"\n",
       "[49] \"NCc\" \"NCe\" \"NCd\" \"NCi\" \"Mm1\" \"Mm2\" \"Ms1\" \"Ms2\" \"Mt1\" \"Mt2\""
      ]
     },
     "metadata": {},
     "output_type": "display_data"
    },
    {
     "data": {
      "text/html": [
       "<ol class=list-inline>\n",
       "\t<li>'hp'</li>\n",
       "\t<li>'hpl'</li>\n",
       "\t<li>'geor'</li>\n",
       "\t<li>'650'</li>\n",
       "\t<li>'lab'</li>\n",
       "\t<li>'labs'</li>\n",
       "\t<li>'teln'</li>\n",
       "\t<li>'85'</li>\n",
       "\t<li>'tech'</li>\n",
       "\t<li>'dire'</li>\n",
       "</ol>\n"
      ],
      "text/latex": [
       "\\begin{enumerate*}\n",
       "\\item 'hp'\n",
       "\\item 'hpl'\n",
       "\\item 'geor'\n",
       "\\item '650'\n",
       "\\item 'lab'\n",
       "\\item 'labs'\n",
       "\\item 'teln'\n",
       "\\item '85'\n",
       "\\item 'tech'\n",
       "\\item 'dire'\n",
       "\\end{enumerate*}\n"
      ],
      "text/markdown": [
       "1. 'hp'\n",
       "2. 'hpl'\n",
       "3. 'geor'\n",
       "4. '650'\n",
       "5. 'lab'\n",
       "6. 'labs'\n",
       "7. 'teln'\n",
       "8. '85'\n",
       "9. 'tech'\n",
       "10. 'dire'\n",
       "\n",
       "\n"
      ],
      "text/plain": [
       " [1] \"hp\"   \"hpl\"  \"geor\" \"650\"  \"lab\"  \"labs\" \"teln\" \"85\"   \"tech\" \"dire\""
      ]
     },
     "metadata": {},
     "output_type": "display_data"
    },
    {
     "data": {
      "text/html": [
       "<ol class=list-inline>\n",
       "\t<li>'data'</li>\n",
       "\t<li>'1999'</li>\n",
       "\t<li>'part'</li>\n",
       "\t<li>'pm'</li>\n",
       "\t<li>'cs'</li>\n",
       "\t<li>'meet'</li>\n",
       "\t<li>'orig'</li>\n",
       "\t<li>'proj'</li>\n",
       "\t<li>'re'</li>\n",
       "\t<li>'edu'</li>\n",
       "\t<li>'tabl'</li>\n",
       "\t<li>'conf'</li>\n",
       "\t<li>'Cscl'</li>\n",
       "\t<li>'Ccro'</li>\n",
       "</ol>\n"
      ],
      "text/latex": [
       "\\begin{enumerate*}\n",
       "\\item 'data'\n",
       "\\item '1999'\n",
       "\\item 'part'\n",
       "\\item 'pm'\n",
       "\\item 'cs'\n",
       "\\item 'meet'\n",
       "\\item 'orig'\n",
       "\\item 'proj'\n",
       "\\item 're'\n",
       "\\item 'edu'\n",
       "\\item 'tabl'\n",
       "\\item 'conf'\n",
       "\\item 'Cscl'\n",
       "\\item 'Ccro'\n",
       "\\end{enumerate*}\n"
      ],
      "text/markdown": [
       "1. 'data'\n",
       "2. '1999'\n",
       "3. 'part'\n",
       "4. 'pm'\n",
       "5. 'cs'\n",
       "6. 'meet'\n",
       "7. 'orig'\n",
       "8. 'proj'\n",
       "9. 're'\n",
       "10. 'edu'\n",
       "11. 'tabl'\n",
       "12. 'conf'\n",
       "13. 'Cscl'\n",
       "14. 'Ccro'\n",
       "\n",
       "\n"
      ],
      "text/plain": [
       " [1] \"data\" \"1999\" \"part\" \"pm\"   \"cs\"   \"meet\" \"orig\" \"proj\" \"re\"   \"edu\" \n",
       "[11] \"tabl\" \"conf\" \"Cscl\" \"Ccro\""
      ]
     },
     "metadata": {},
     "output_type": "display_data"
    }
   ],
   "source": [
    "names(hclasmod)[hclasmod==1]\n",
    "names(hclasmod)[hclasmod==2]\n",
    "names(hclasmod)[hclasmod==3]\n",
    "names(hclasmod)[hclasmod==4]"
   ]
  },
  {
   "cell_type": "markdown",
   "metadata": {},
   "source": [
    "**Q** Quelles co-occurrences de quels mots/caractères caractérisent principalement les spams? \n",
    "\n",
    "**Q** Quels sont les messages indifférentiables? Que suggérer à Georges pour améliorer son détecteur de pourriel? "
   ]
  },
  {
   "cell_type": "markdown",
   "metadata": {},
   "source": [
    "## Approche par [Factorisation non négative](http://wikistat.fr/pdf/st-m-explo-nmf.pdf)\n",
    "Les données quantitatives sont reconsidérées mais en intégrant le caractère essentiellement non négatif de la matrice des données ainsi que sa parcinomie (matrice très creuse). Cette situation couramment répandue a suscité une nouvelle forme d'analyse dite Non Negativ Matrix Factorization ([NMF](http://wikistat.fr/pdf/st-m-explo-nmf.pdf)) dont le principe est de rechercher deux matrices de faible rang *r* de telle sorte que leur produit approche au mieux les valeurs observées. Cette méthode très utilisée pour la recommandation de produits par filtrage collaboratif est illustré sur ces données.\n",
    "\n",
    "**Q** Quelles différences majeurs entre une NMF et une SVD?\n",
    "\n",
    "Les matrices de faible rang ou les facteurs ne permettent plus de représentation comme en ACP mais au moins une classification non supervisée des objets lignes et colonnes de la matrice décomposée.\n",
    "\n",
    "Cette approche est testée sur les données de spam pour en comparer les résultats obtenus. \n",
    "\n",
    "### `NMF` de R\n",
    "La librairie `NMF` ([Gaujoux et Seoighe, 2010](https://bmcbioinformatics.biomedcentral.com/articles/10.1186/1471-2105-11-367)) de R propose plusieurs versions de l'algorithme de factorisation dont principalement *Multiplicative update algorithms* et *Alternate least Square* (ALS), adaptées à deux fonctions perte possibles: divergence de Kullback-Leibler (KL) ou moindres carrés. \n",
    "\n",
    "**Attention**, les choix: fonction objectif, algorithme, rang des matrices, influencent fortement les résultats obtenus qui se résument principalement à des classifications construites sur les facteurs de la décomposition. "
   ]
  },
  {
   "cell_type": "code",
   "execution_count": null,
   "metadata": {
    "scrolled": true
   },
   "outputs": [],
   "source": [
    "library(NMF)\n",
    "nmfAlgorithm()"
   ]
  },
  {
   "cell_type": "markdown",
   "metadata": {},
   "source": [
    "**Q** Identifier les algorithmes disponibles ainsi que la fonction objectif associée. . Plusieurs initialisation sont possibles; seule celle aléatoire est utilisée."
   ]
  },
  {
   "cell_type": "code",
   "execution_count": null,
   "metadata": {
    "scrolled": true
   },
   "outputs": [],
   "source": [
    "nmfAlgorithm(\"brunet\")"
   ]
  },
  {
   "cell_type": "code",
   "execution_count": null,
   "metadata": {
    "scrolled": true
   },
   "outputs": [],
   "source": [
    "nmfAlgorithm(\"lee\")"
   ]
  },
  {
   "cell_type": "code",
   "execution_count": null,
   "metadata": {
    "scrolled": true
   },
   "outputs": [],
   "source": [
    "nmfAlgorithm(\"snmf/l\")"
   ]
  },
  {
   "cell_type": "code",
   "execution_count": null,
   "metadata": {
    "scrolled": true
   },
   "outputs": [],
   "source": [
    "nmfAlgorithm(\"snmf/r\")"
   ]
  },
  {
   "cell_type": "markdown",
   "metadata": {},
   "source": [
    "Les données quantitatives initiales (comptages \"non négatifs\") sont reprises en compte. \n",
    "\n",
    "**Attention**, les données sont bien creuses et non négatives, mais les variables s'expriment dans des unités et donc avec des variances très différentes. Une forme de normalisation est nécessaire. "
   ]
  },
  {
   "cell_type": "code",
   "execution_count": null,
   "metadata": {
    "scrolled": true
   },
   "outputs": [],
   "source": [
    "summary(spam)"
   ]
  },
  {
   "cell_type": "markdown",
   "metadata": {},
   "source": [
    "Les données doivent être sous la forme d'une matyrice non négative:"
   ]
  },
  {
   "cell_type": "code",
   "execution_count": null,
   "metadata": {
    "collapsed": true,
    "scrolled": true
   },
   "outputs": [],
   "source": [
    "creux=as.matrix(spam[,2:58])\n",
    "classe=spam[,1]"
   ]
  },
  {
   "cell_type": "markdown",
   "metadata": {},
   "source": [
    "**Q** Justifiez la transformaiton suivante:"
   ]
  },
  {
   "cell_type": "code",
   "execution_count": null,
   "metadata": {
    "scrolled": true
   },
   "outputs": [],
   "source": [
    "creux=cbind(log(1+creux[,1:54]),log(creux[,55:57])/2)\n",
    "boxplot(creux)"
   ]
  },
  {
   "cell_type": "markdown",
   "metadata": {},
   "source": [
    "Souci: quelques lignes (messages) se trouvent avec uniquement des 0; Celles-ci sont supprimées. "
   ]
  },
  {
   "cell_type": "code",
   "execution_count": null,
   "metadata": {
    "scrolled": true
   },
   "outputs": [],
   "source": [
    "sum(apply(creux,1,sum)==0)\n",
    "# 3 messages sont devenus tout à 0\n",
    "# suppression\n",
    "ident=apply(creux,1,sum)!=0\n",
    "creux=creux[ident,]\n",
    "classe=classe[ident]"
   ]
  },
  {
   "cell_type": "markdown",
   "metadata": {},
   "source": [
    "Recherche d'une \"meilleure\" méthode en exécutant, pour chacune d'entre elles, 10 factorisations de rang 5. Les exécutions sont répétées car la convergence locale dépend de l'initialisation aléatoire."
   ]
  },
  {
   "cell_type": "code",
   "execution_count": null,
   "metadata": {
    "collapsed": true,
    "scrolled": true
   },
   "outputs": [],
   "source": [
    "res.multi.method=nmf(creux, 5,nrun=10,list(\"brunet\",\"lee\",\"snmf/l\",\"snmf/r\"),seed = 111, .options =\"t\")\n",
    "compare(res.multi.method)"
   ]
  },
  {
   "cell_type": "markdown",
   "metadata": {},
   "source": [
    "**Q** Les comparaisons sont reproduites dans le graphe ci-dessous. Expliquer comment est obtenu ce graphe. Quelle méthode retenir."
   ]
  },
  {
   "cell_type": "code",
   "execution_count": null,
   "metadata": {
    "scrolled": true
   },
   "outputs": [],
   "source": [
    "consensusmap(res.multi.method,hclustfun=\"ward\") "
   ]
  },
  {
   "cell_type": "markdown",
   "metadata": {},
   "source": [
    "De façon analogue, plusieurs 10 décompositons sont calculées pour défférentes valeurs de rang."
   ]
  },
  {
   "cell_type": "code",
   "execution_count": null,
   "metadata": {
    "scrolled": true
   },
   "outputs": [],
   "source": [
    "estim.r=nmf(creux,2:7,method=\"snmf/l\",nrun=10,seed=111)\n",
    "plot(estim.r)  "
   ]
  },
  {
   "cell_type": "code",
   "execution_count": null,
   "metadata": {
    "scrolled": true
   },
   "outputs": [],
   "source": [
    "consensusmap(estim.r) "
   ]
  },
  {
   "cell_type": "markdown",
   "metadata": {},
   "source": [
    "**Q** Utiliser les résultats précédents pour justifier le choix d'un rang \"optimal\". \n",
    "\n",
    "Une fois méthode et rang déterminés, itérer plusieurs fois l'exécution (30) pour en déterminer une \"meilleure\". "
   ]
  },
  {
   "cell_type": "code",
   "execution_count": null,
   "metadata": {
    "collapsed": true,
    "scrolled": true
   },
   "outputs": [],
   "source": [
    "nmf.spam=nmf(creux,5,method=\"snmf/l\",nrun=30,seed=111)"
   ]
  },
  {
   "cell_type": "markdown",
   "metadata": {},
   "source": [
    "Remarquer la complexité de la procédure mise en oeuvre et le temps de calcul nettemnte supérieurs à la recherche d'une simple décomposition en valeurs singulières. (SVD)\n",
    "\n",
    "Extraction des résulats numériques."
   ]
  },
  {
   "cell_type": "code",
   "execution_count": null,
   "metadata": {
    "scrolled": true
   },
   "outputs": [],
   "source": [
    "summary(nmf.spam)"
   ]
  },
  {
   "cell_type": "markdown",
   "metadata": {},
   "source": [
    "Extraction des matrices de la décompositon."
   ]
  },
  {
   "cell_type": "code",
   "execution_count": null,
   "metadata": {
    "collapsed": true,
    "scrolled": true
   },
   "outputs": [],
   "source": [
    "w=basis(nmf.spam)\n",
    "h=coef(nmf.spam)"
   ]
  },
  {
   "cell_type": "markdown",
   "metadata": {},
   "source": [
    "Production des graphiques associés aux matrices `w` et `h` de la factorisation. La classe des messages (spam ou pas spam) est ajoutée dans la représentation des lignes: couleur de la première colonne de légende X2 (0 ou 1). La deuxième colone (basis) indique le numéro du facteur qui représente le mieux le message ou le mot."
   ]
  },
  {
   "cell_type": "code",
   "execution_count": null,
   "metadata": {
    "scrolled": true
   },
   "outputs": [],
   "source": [
    "basismap(nmf.spam,annRow=classe,hclustfun=\"ward\")"
   ]
  },
  {
   "cell_type": "code",
   "execution_count": null,
   "metadata": {
    "scrolled": true
   },
   "outputs": [],
   "source": [
    "coefmap(nmf.spam,hclustfun=\"ward\")"
   ]
  },
  {
   "cell_type": "markdown",
   "metadata": {},
   "source": [
    "Remarquer la plus ou moins bonne séparation des pourriels et courriels dans les classes de la CAH ainsi que les regropements de mots / variables.\n",
    "\n",
    "Il est possible de calculer des distances entre lignes (messages) d'une part et entre colonnes (mots) d'autres part à partir de chacune des matrices `w` et `h` puis de faire des représentations de chacun de ces ensembles par un positionnement multidiemnsionnel (MDS) comme dans la section ACP. Mais, il n'est pas possible, comme en comme en ACP ou AFCM de mettre en relation les deux représentations des lignes et colonnes, individus et variables de la matrice factorisée. \n",
    "\n",
    "Cela peut être fait de façon détournée à l'aide d'une *heatmap* qui représente la matrice des données initiales en permutant lignes et colonnes comme conséquence des classifications hiérarchiques. La librairie `NMF` (Gaujoux et Seoighe, 2010) a été réalisée et publiée avec pour premier objectif le traitement des données génomiques dans l'environnement de Bioconductor, donc de la Bioinformatique. C'est sans doute ce qui explique l'utilisation systématique de la classification ascendante hiérarchique et des représentations graphiques par *heatmap*."
   ]
  },
  {
   "cell_type": "code",
   "execution_count": null,
   "metadata": {
    "scrolled": true
   },
   "outputs": [],
   "source": [
    "dist.mod=dist(scale(w), method=\"euclidean\")\n",
    "hclusmod.w=hclust(dist.mod,method=\"ward\")\n",
    "dist.mod=dist(t(h), method=\"euclidean\")\n",
    "hclusmod.h=hclust(dist.mod,method=\"ward\")\n",
    "plot(hclusmod.h)\n",
    "\n",
    "aheatmap(creux,Rowv=hclusmod.w,Colv=hclusmod.h,annRow=classe)"
   ]
  },
  {
   "cell_type": "markdown",
   "metadata": {},
   "source": [
    "Repérer où se concentrent les pourriels en relation avec le plus d'occurences de certains mots ou caractères.\n",
    "\n",
    "**Q** Quelle stratégie: ACP, AFCM ou NMF vous permet de mieux analyser les caractéristiques des pourriels?"
   ]
  }
 ],
 "metadata": {
  "kernelspec": {
   "display_name": "R",
   "language": "R",
   "name": "ir"
  },
  "language_info": {
   "codemirror_mode": "r",
   "file_extension": ".r",
   "mimetype": "text/x-r-source",
   "name": "R",
   "pygments_lexer": "r",
   "version": "3.4.1"
  }
 },
 "nbformat": 4,
 "nbformat_minor": 1
}
